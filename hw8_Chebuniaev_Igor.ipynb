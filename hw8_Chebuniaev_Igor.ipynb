{
 "cells": [
  {
   "cell_type": "code",
   "execution_count": 6,
   "metadata": {
    "execution": {
     "iopub.execute_input": "2024-11-05T21:57:27.793934Z",
     "iopub.status.busy": "2024-11-05T21:57:27.793252Z",
     "iopub.status.idle": "2024-11-05T21:57:45.041801Z",
     "shell.execute_reply": "2024-11-05T21:57:45.040664Z",
     "shell.execute_reply.started": "2024-11-05T21:57:27.793896Z"
    }
   },
   "outputs": [
    {
     "name": "stdout",
     "output_type": "stream",
     "text": [
      "Collecting peft\n",
      "  Downloading peft-0.15.2-py3-none-any.whl (411 kB)\n",
      "\u001b[2K     \u001b[90m━━━━━━━━━━━━━━━━━━━━━━━━━━━━━━━━━━━━━\u001b[0m \u001b[32m411.1/411.1 kB\u001b[0m \u001b[31m799.5 kB/s\u001b[0m eta \u001b[36m0:00:00\u001b[0ma \u001b[36m0:00:01\u001b[0m\n",
      "\u001b[?25hCollecting bitsandbytes\n",
      "  Downloading bitsandbytes-0.42.0-py3-none-any.whl (105.0 MB)\n",
      "\u001b[2K     \u001b[90m━━━━━━━━━━━━━━━━━━━━━━━━━━━━━━━━━━━━━━━\u001b[0m \u001b[32m105.0/105.0 MB\u001b[0m \u001b[31m2.1 MB/s\u001b[0m eta \u001b[36m0:00:00\u001b[0m00:01\u001b[0m00:02\u001b[0m\n",
      "\u001b[?25hRequirement already satisfied: accelerate in /Users/igorchebuniaev/Library/Caches/pypoetry/virtualenvs/synthetic-multinode-6dIUQGRd-py3.10/lib/python3.10/site-packages (1.4.0)\n",
      "Requirement already satisfied: numpy>=1.17 in /Users/igorchebuniaev/Library/Caches/pypoetry/virtualenvs/synthetic-multinode-6dIUQGRd-py3.10/lib/python3.10/site-packages (from peft) (1.26.4)\n",
      "Requirement already satisfied: packaging>=20.0 in /Users/igorchebuniaev/Library/Caches/pypoetry/virtualenvs/synthetic-multinode-6dIUQGRd-py3.10/lib/python3.10/site-packages (from peft) (24.2)\n",
      "Requirement already satisfied: psutil in /Users/igorchebuniaev/Library/Caches/pypoetry/virtualenvs/synthetic-multinode-6dIUQGRd-py3.10/lib/python3.10/site-packages (from peft) (7.0.0)\n",
      "Requirement already satisfied: pyyaml in /Users/igorchebuniaev/Library/Caches/pypoetry/virtualenvs/synthetic-multinode-6dIUQGRd-py3.10/lib/python3.10/site-packages (from peft) (6.0.2)\n",
      "Requirement already satisfied: torch>=1.13.0 in /Users/igorchebuniaev/Library/Caches/pypoetry/virtualenvs/synthetic-multinode-6dIUQGRd-py3.10/lib/python3.10/site-packages (from peft) (2.2.2)\n",
      "Requirement already satisfied: transformers in /Users/igorchebuniaev/Library/Caches/pypoetry/virtualenvs/synthetic-multinode-6dIUQGRd-py3.10/lib/python3.10/site-packages (from peft) (4.51.3)\n",
      "Requirement already satisfied: tqdm in /Users/igorchebuniaev/Library/Caches/pypoetry/virtualenvs/synthetic-multinode-6dIUQGRd-py3.10/lib/python3.10/site-packages (from peft) (4.67.1)\n",
      "Requirement already satisfied: safetensors in /Users/igorchebuniaev/Library/Caches/pypoetry/virtualenvs/synthetic-multinode-6dIUQGRd-py3.10/lib/python3.10/site-packages (from peft) (0.5.3)\n",
      "Requirement already satisfied: huggingface_hub>=0.25.0 in /Users/igorchebuniaev/Library/Caches/pypoetry/virtualenvs/synthetic-multinode-6dIUQGRd-py3.10/lib/python3.10/site-packages (from peft) (0.30.2)\n",
      "Requirement already satisfied: scipy in /Users/igorchebuniaev/Library/Caches/pypoetry/virtualenvs/synthetic-multinode-6dIUQGRd-py3.10/lib/python3.10/site-packages (from bitsandbytes) (1.15.2)\n",
      "Requirement already satisfied: filelock in /Users/igorchebuniaev/Library/Caches/pypoetry/virtualenvs/synthetic-multinode-6dIUQGRd-py3.10/lib/python3.10/site-packages (from huggingface_hub>=0.25.0->peft) (3.17.0)\n",
      "Requirement already satisfied: fsspec>=2023.5.0 in /Users/igorchebuniaev/Library/Caches/pypoetry/virtualenvs/synthetic-multinode-6dIUQGRd-py3.10/lib/python3.10/site-packages (from huggingface_hub>=0.25.0->peft) (2024.12.0)\n",
      "Requirement already satisfied: requests in /Users/igorchebuniaev/Library/Caches/pypoetry/virtualenvs/synthetic-multinode-6dIUQGRd-py3.10/lib/python3.10/site-packages (from huggingface_hub>=0.25.0->peft) (2.32.3)\n",
      "Requirement already satisfied: typing-extensions>=3.7.4.3 in /Users/igorchebuniaev/Library/Caches/pypoetry/virtualenvs/synthetic-multinode-6dIUQGRd-py3.10/lib/python3.10/site-packages (from huggingface_hub>=0.25.0->peft) (4.12.2)\n",
      "Requirement already satisfied: sympy in /Users/igorchebuniaev/Library/Caches/pypoetry/virtualenvs/synthetic-multinode-6dIUQGRd-py3.10/lib/python3.10/site-packages (from torch>=1.13.0->peft) (1.13.1)\n",
      "Requirement already satisfied: networkx in /Users/igorchebuniaev/Library/Caches/pypoetry/virtualenvs/synthetic-multinode-6dIUQGRd-py3.10/lib/python3.10/site-packages (from torch>=1.13.0->peft) (3.4.2)\n",
      "Requirement already satisfied: jinja2 in /Users/igorchebuniaev/Library/Caches/pypoetry/virtualenvs/synthetic-multinode-6dIUQGRd-py3.10/lib/python3.10/site-packages (from torch>=1.13.0->peft) (3.1.5)\n",
      "Requirement already satisfied: regex!=2019.12.17 in /Users/igorchebuniaev/Library/Caches/pypoetry/virtualenvs/synthetic-multinode-6dIUQGRd-py3.10/lib/python3.10/site-packages (from transformers->peft) (2024.9.11)\n",
      "Requirement already satisfied: tokenizers<0.22,>=0.21 in /Users/igorchebuniaev/Library/Caches/pypoetry/virtualenvs/synthetic-multinode-6dIUQGRd-py3.10/lib/python3.10/site-packages (from transformers->peft) (0.21.0)\n",
      "Requirement already satisfied: MarkupSafe>=2.0 in /Users/igorchebuniaev/Library/Caches/pypoetry/virtualenvs/synthetic-multinode-6dIUQGRd-py3.10/lib/python3.10/site-packages (from jinja2->torch>=1.13.0->peft) (3.0.2)\n",
      "Requirement already satisfied: charset-normalizer<4,>=2 in /Users/igorchebuniaev/Library/Caches/pypoetry/virtualenvs/synthetic-multinode-6dIUQGRd-py3.10/lib/python3.10/site-packages (from requests->huggingface_hub>=0.25.0->peft) (3.4.1)\n",
      "Requirement already satisfied: idna<4,>=2.5 in /Users/igorchebuniaev/Library/Caches/pypoetry/virtualenvs/synthetic-multinode-6dIUQGRd-py3.10/lib/python3.10/site-packages (from requests->huggingface_hub>=0.25.0->peft) (3.10)\n",
      "Requirement already satisfied: urllib3<3,>=1.21.1 in /Users/igorchebuniaev/Library/Caches/pypoetry/virtualenvs/synthetic-multinode-6dIUQGRd-py3.10/lib/python3.10/site-packages (from requests->huggingface_hub>=0.25.0->peft) (2.3.0)\n",
      "Requirement already satisfied: certifi>=2017.4.17 in /Users/igorchebuniaev/Library/Caches/pypoetry/virtualenvs/synthetic-multinode-6dIUQGRd-py3.10/lib/python3.10/site-packages (from requests->huggingface_hub>=0.25.0->peft) (2025.1.31)\n",
      "Requirement already satisfied: mpmath<1.4,>=1.1.0 in /Users/igorchebuniaev/Library/Caches/pypoetry/virtualenvs/synthetic-multinode-6dIUQGRd-py3.10/lib/python3.10/site-packages (from sympy->torch>=1.13.0->peft) (1.3.0)\n",
      "Installing collected packages: bitsandbytes, peft\n",
      "Successfully installed bitsandbytes-0.42.0 peft-0.15.2\n",
      "\n",
      "\u001b[1m[\u001b[0m\u001b[34;49mnotice\u001b[0m\u001b[1;39;49m]\u001b[0m\u001b[39;49m A new release of pip is available: \u001b[0m\u001b[31;49m23.1.2\u001b[0m\u001b[39;49m -> \u001b[0m\u001b[32;49m25.1\u001b[0m\n",
      "\u001b[1m[\u001b[0m\u001b[34;49mnotice\u001b[0m\u001b[1;39;49m]\u001b[0m\u001b[39;49m To update, run: \u001b[0m\u001b[32;49mpip install --upgrade pip\u001b[0m\n"
     ]
    }
   ],
   "source": [
    "! pip install peft bitsandbytes accelerate"
   ]
  },
  {
   "cell_type": "code",
   "execution_count": 7,
   "metadata": {
    "_cell_guid": "b1076dfc-b9ad-4769-8c92-a6c4dae69d19",
    "_uuid": "8f2839f25d086af736a60e9eeb907d3b93b6e0e5",
    "execution": {
     "iopub.execute_input": "2024-11-05T22:51:10.663094Z",
     "iopub.status.busy": "2024-11-05T22:51:10.662731Z",
     "iopub.status.idle": "2024-11-05T22:51:18.000243Z",
     "shell.execute_reply": "2024-11-05T22:51:17.999413Z",
     "shell.execute_reply.started": "2024-11-05T22:51:10.663060Z"
    }
   },
   "outputs": [],
   "source": [
    "import os\n",
    "from typing import List, Dict, Any\n",
    "\n",
    "import torch\n",
    "import torch.nn as nn\n",
    "from torch.nn.utils.rnn import pad_sequence\n",
    "import torch.optim as optim\n",
    "from transformers import AutoModelForCausalLM, AutoTokenizer, Trainer, TrainingArguments, BitsAndBytesConfig, AutoConfig, set_seed\n",
    "from torch.utils.data import Dataset\n",
    "from datasets import load_dataset\n",
    "from peft import PeftModel, get_peft_model, LoraConfig\n",
    "\n",
    "set_seed(12, True)\n",
    "\n",
    "os.environ[\"WANDB_DISABLED\"] = \"true\"\n",
    "os.environ[\"CUBLAS_WORKSPACE_CONFIG\"] = \":16:8\""
   ]
  },
  {
   "cell_type": "markdown",
   "metadata": {},
   "source": [
    "# Gradient Accumulation - 5 баллов\n",
    "\n",
    "Давайте реализуем собственную аккумуляцию градиентов.\n",
    "Ниже описано обучение обычного линейного слоя. Клеткой ниже этот код скопирован, там необходимо написать аккумуляцию ргадиентов."
   ]
  },
  {
   "cell_type": "code",
   "execution_count": 22,
   "metadata": {
    "execution": {
     "iopub.execute_input": "2024-11-05T22:51:34.521937Z",
     "iopub.status.busy": "2024-11-05T22:51:34.520442Z",
     "iopub.status.idle": "2024-11-05T22:51:35.882571Z",
     "shell.execute_reply": "2024-11-05T22:51:35.881540Z",
     "shell.execute_reply.started": "2024-11-05T22:51:34.521879Z"
    }
   },
   "outputs": [
    {
     "name": "stdout",
     "output_type": "stream",
     "text": [
      "1.170358419418335\n"
     ]
    }
   ],
   "source": [
    "device = torch.device(\"cuda\") if torch.cuda.is_available() else torch.device(\"cpu\")\n",
    "input_size = 512\n",
    "output_size = 256\n",
    "batch_size = 64\n",
    "gradient_accumulation_steps = 4\n",
    "\n",
    "\n",
    "\n",
    "model = nn.Linear(input_size, output_size).to(device)\n",
    "optimizer = optim.SGD(model.parameters(), lr=0.001)\n",
    "\n",
    "x = torch.randn(batch_size, input_size).to(device)\n",
    "y = torch.randn(batch_size, output_size).to(device)\n",
    "loss_fn = nn.MSELoss()\n",
    "for i in range(1000):\n",
    "    optimizer.zero_grad()\n",
    "    output = model(x)\n",
    "    loss = loss_fn(output, y)\n",
    "    loss.backward()\n",
    "    optimizer.step()\n",
    "    \n",
    "print(loss.item())"
   ]
  },
  {
   "cell_type": "markdown",
   "metadata": {},
   "source": [
    "Число шагов в аккумуляции определяется параметром gradient_accumulation_steps - это число шагов, которое мы хотим сделать перед оптимизацией.\n",
    "Вам нужно поправить цикл обучения следующим образом:\n",
    "1. Разбить текущий батч на gradient_accumulation_steps частей\n",
    "2. Пройтись по каждому подбатчу (микробатчу), посчитать на нем функцию потерь, посчитать градиенты. Подумайте, нужно ли на что-либо делить или умножать функцию потерь, чтобы сохранился тот же масштаб обучения?\n",
    "3. После прохождения всех микробатчей нужно сделать шаг оптимизации"
   ]
  },
  {
   "cell_type": "code",
   "execution_count": 20,
   "metadata": {
    "execution": {
     "iopub.execute_input": "2024-11-05T22:51:37.512699Z",
     "iopub.status.busy": "2024-11-05T22:51:37.511958Z",
     "iopub.status.idle": "2024-11-05T22:51:40.371231Z",
     "shell.execute_reply": "2024-11-05T22:51:40.370111Z",
     "shell.execute_reply.started": "2024-11-05T22:51:37.512653Z"
    }
   },
   "outputs": [
    {
     "name": "stdout",
     "output_type": "stream",
     "text": [
      "1.1695191860198975\n"
     ]
    }
   ],
   "source": [
    "device = torch.device(\"cuda\") if torch.cuda.is_available() else torch.device(\"cpu\")\n",
    "input_size = 512\n",
    "output_size = 256\n",
    "batch_size = 64\n",
    "gradient_accumulation_steps = 4\n",
    "\n",
    "\n",
    "\n",
    "model = nn.Linear(input_size, output_size).to(device)\n",
    "optimizer = optim.SGD(model.parameters(), lr=0.001)\n",
    "\n",
    "x = torch.randn(batch_size, input_size).to(device)\n",
    "y = torch.randn(batch_size, output_size).to(device)\n",
    "loss_fn = nn.MSELoss()\n",
    "for i in range(1000):\n",
    "    optimizer.zero_grad()\n",
    "    chunks = x.chunk(gradient_accumulation_steps)\n",
    "    chunk_loss = 0\n",
    "    for chunk in chunks:\n",
    "        output = model(x)\n",
    "        chunk_loss += loss_fn(output, y)\n",
    "    loss = chunk_loss / gradient_accumulation_steps\n",
    "    loss.backward()\n",
    "    optimizer.step()\n",
    "    \n",
    "print(loss.item())"
   ]
  },
  {
   "cell_type": "markdown",
   "metadata": {},
   "source": [
    "# QLORA - 15 баллов\n",
    "Необходимо использовать аккумуляцию градиентов, чекпоинтинг активаций и обучение qlora."
   ]
  },
  {
   "cell_type": "code",
   "execution_count": null,
   "metadata": {
    "execution": {
     "iopub.execute_input": "2024-11-05T22:51:40.372869Z",
     "iopub.status.busy": "2024-11-05T22:51:40.372586Z",
     "iopub.status.idle": "2024-11-05T22:51:40.648368Z",
     "shell.execute_reply": "2024-11-05T22:51:40.647502Z",
     "shell.execute_reply.started": "2024-11-05T22:51:40.372838Z"
    }
   },
   "outputs": [],
   "source": [
    "model_name = \"NousResearch/Llama-2-7b-hf\"\n",
    "tokenizer = AutoTokenizer.from_pretrained(model_name)"
   ]
  },
  {
   "cell_type": "code",
   "execution_count": null,
   "metadata": {
    "execution": {
     "iopub.execute_input": "2024-11-05T22:51:41.429253Z",
     "iopub.status.busy": "2024-11-05T22:51:41.428213Z",
     "iopub.status.idle": "2024-11-05T22:51:45.145706Z",
     "shell.execute_reply": "2024-11-05T22:51:45.144702Z",
     "shell.execute_reply.started": "2024-11-05T22:51:41.429208Z"
    }
   },
   "outputs": [],
   "source": [
    "imdb = load_dataset(\"imdb\")"
   ]
  },
  {
   "cell_type": "markdown",
   "metadata": {},
   "source": [
    "Наша задача научиться генерировать класс текста posive или negative, чтобы сэкономить на fewshot промпте.\n",
    "\n",
    "Давайте напишем collate_fn, которая собирает сэмпл следующим образом:\n",
    "\n",
    "если текст имеет метку 1\n",
    "`{text} ||| posive eos`\n",
    "или\n",
    "`{text} ||| negatve eos`\n",
    "если текст имеет метку 0. (в качестве eos можно использовать tokenizer.eos_token_id)\n",
    "\n",
    "Символы ||| нужны нам, чтобы разделить входной текст и метку, иначе модель может не понять, что нужно генерировать метку и продолжит генерировать текст. Таким образом мы научим модель после ||| генерировать положительный или отрицательнй отзыв стоит до этого.\n",
    "\n",
    "\n",
    "Возвращать нужно словарь из 3х элементов:\n",
    "1. input_ids - LongTensor токенов. В качестве паддинга нужно использовать tokenizer.eos_token_id.\n",
    "2. attention_mask - LongTensor той же размерности, что и input_ids. 0 там, где стоят паддинги, 1 в остальных позициях\n",
    "3. labels - метки, которые мы предсказыаем. Должен быть равен -100 на всех позициях, кроме позиций, которые соответствуют метке и eos символу. \n",
    "Например \n",
    "```python\n",
    "tokenizer.encode(\"some text ||| positive </s>\") # [1, 777, 1426, 3830, 29989, 6374, 2]\n",
    "labels = [-100, -100, -100, -100, -100, 6374, 2]\n",
    "```\n",
    "\n",
    "Т.е. метки должны быть -100, кроме позиций, соответствующих предсказываемым токенам."
   ]
  },
  {
   "cell_type": "code",
   "execution_count": null,
   "metadata": {
    "execution": {
     "iopub.execute_input": "2024-11-05T22:53:40.465718Z",
     "iopub.status.busy": "2024-11-05T22:53:40.465308Z",
     "iopub.status.idle": "2024-11-05T22:53:40.488696Z",
     "shell.execute_reply": "2024-11-05T22:53:40.487733Z",
     "shell.execute_reply.started": "2024-11-05T22:53:40.465680Z"
    }
   },
   "outputs": [],
   "source": [
    "def collate_fn(batch: List[Dict[str, Any]]):\n",
    "    class_mapping = {0: \"negative\", 1: \"positive\"}\n",
    "    texts = [sample[\"text\"] + \" ||| \" for sample in batch]\n",
    "    ...\n",
    "    return {\n",
    "        \"input_ids\": ...,\n",
    "        \"attention_mask\": ...,\n",
    "        \"labels\": ...\n",
    "    }\n",
    "\n",
    "res = collate_fn([imdb[\"train\"][0], imdb[\"train\"][12505], imdb[\"train\"][2]])\n",
    "\n",
    "assert tokenizer.decode(res[\"input_ids\"][res[\"labels\"] != -100]) == \"negative</s> positive</s> negative</s>\""
   ]
  },
  {
   "cell_type": "markdown",
   "metadata": {},
   "source": [
    "Далее нам нужно создать модель в nf4, т.е. 4-битной квантизации. Конфиг уже написан, нужно лишь подать его в модель. После этого нужно:\n",
    "1. Создать конфиг адаптера LoraConfig (используйте r=8 или r=4, если будет OOM) и создать модель\n",
    "2. Создать модель с адаптером с помощью PeftModel и LoraConfig\n",
    "3. Чтобы обучение шло только по lora частям, нужно пройтись по всем параметрам модели с помощью model.named_parameters() и проставить у параметров, соответствующих lora атрибут requires_grad = True, а у всех остальных False"
   ]
  },
  {
   "cell_type": "code",
   "execution_count": null,
   "metadata": {
    "execution": {
     "iopub.execute_input": "2024-11-05T22:52:14.146891Z",
     "iopub.status.busy": "2024-11-05T22:52:14.146554Z",
     "iopub.status.idle": "2024-11-05T22:52:45.531779Z",
     "shell.execute_reply": "2024-11-05T22:52:45.530854Z",
     "shell.execute_reply.started": "2024-11-05T22:52:14.146854Z"
    }
   },
   "outputs": [],
   "source": [
    "bnb_config = BitsAndBytesConfig(\n",
    "    load_in_4bit=True,\n",
    "    bnb_4bit_quant_type=\"nf4\",\n",
    "    bnb_4bit_compute_dtype=torch.bfloat16,\n",
    "    bnb_4bit_use_double_quant=True,\n",
    "    bnb_4bit_quant_storage=torch.bfloat16,\n",
    ")\n",
    "\n",
    "model = AutoModelForCausalLM.from_pretrained(\n",
    "    model_name,\n",
    "    quantization_config=bnb_config,\n",
    "    torch_dtype=torch.bfloat16,\n",
    ")\n",
    "\n",
    "peft_config = LoraConfig(\n",
    "    ...\n",
    ")\n",
    "model = PeftModel(...)\n",
    "\n",
    "# не забудьте пройтись по всем параметрам и проставить .requires_grad там, где нужно"
   ]
  },
  {
   "cell_type": "markdown",
   "metadata": {},
   "source": [
    "Осталось самое важное, аргументы обучения. Обязательно заполните следующие параметры:\n",
    "\n",
    "1. Батч сайз и число шагов аккумуляции выставьте так, чтобы эффективный батч сайз был 16\n",
    "2. Включите чекпоинтинг активаций"
   ]
  },
  {
   "cell_type": "code",
   "execution_count": null,
   "metadata": {
    "execution": {
     "iopub.execute_input": "2024-11-05T22:52:45.533792Z",
     "iopub.status.busy": "2024-11-05T22:52:45.533468Z",
     "iopub.status.idle": "2024-11-05T22:53:19.086601Z",
     "shell.execute_reply": "2024-11-05T22:53:19.083502Z",
     "shell.execute_reply.started": "2024-11-05T22:52:45.533757Z"
    }
   },
   "outputs": [],
   "source": [
    "args = TrainingArguments(\n",
    "    ...,\n",
    "    report_to=None,\n",
    "    remove_unused_columns=False\n",
    ")\n",
    "\n",
    "trainer = Trainer(\n",
    "    model=model,\n",
    "    args=args,\n",
    "    train_dataset=imdb[\"train\"],\n",
    "    tokenizer=tokenizer,\n",
    "    data_collator=collate_fn,\n",
    ")\n",
    "trainer.train()"
   ]
  },
  {
   "cell_type": "markdown",
   "metadata": {},
   "source": [
    "Давайте протестируем, что модель что-то выучила"
   ]
  },
  {
   "cell_type": "code",
   "execution_count": null,
   "metadata": {
    "execution": {
     "iopub.status.busy": "2024-11-05T22:53:19.088081Z",
     "iopub.status.idle": "2024-11-05T22:53:19.088619Z",
     "shell.execute_reply": "2024-11-05T22:53:19.088379Z",
     "shell.execute_reply.started": "2024-11-05T22:53:19.088353Z"
    }
   },
   "outputs": [],
   "source": [
    "input_text = imdb[\"test\"][0][\"text\"] + \" |||\"\n",
    "label = imdb[\"test\"][0][\"label\"]\n",
    "x = tokenizer(input_text, return_tensors=\"pt\")\n",
    "for k, v in x.items():\n",
    "    x[k] = v.cuda()\n",
    "\n",
    "print(label)\n",
    "g = model.generate(**x, max_new_tokens=2, do_sample=False)\n",
    "print(tokenizer.decode(g[0].tolist()))"
   ]
  },
  {
   "cell_type": "code",
   "execution_count": null,
   "metadata": {},
   "outputs": [],
   "source": []
  }
 ],
 "metadata": {
  "kaggle": {
   "accelerator": "gpu",
   "dataSources": [],
   "dockerImageVersionId": 30786,
   "isGpuEnabled": true,
   "isInternetEnabled": true,
   "language": "python",
   "sourceType": "notebook"
  },
  "kernelspec": {
   "display_name": "multi_train",
   "language": "python",
   "name": "multi_train"
  },
  "language_info": {
   "codemirror_mode": {
    "name": "ipython",
    "version": 3
   },
   "file_extension": ".py",
   "mimetype": "text/x-python",
   "name": "python",
   "nbconvert_exporter": "python",
   "pygments_lexer": "ipython3",
   "version": "3.10.9"
  }
 },
 "nbformat": 4,
 "nbformat_minor": 4
}
