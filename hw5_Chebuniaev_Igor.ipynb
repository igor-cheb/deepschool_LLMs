{
  "cells": [
    {
      "cell_type": "code",
      "execution_count": null,
      "id": "TDKBmIM2Alp9",
      "metadata": {
        "colab": {
          "base_uri": "https://localhost:8080/"
        },
        "id": "TDKBmIM2Alp9",
        "outputId": "5caf5b24-fd75-47b5-cc5b-4d225259ed21"
      },
      "outputs": [],
      "source": [
        "! pip install transformers datasets"
      ]
    },
    {
      "cell_type": "markdown",
      "id": "wTU-fwZygvUr",
      "metadata": {
        "id": "wTU-fwZygvUr"
      },
      "source": [
        "# Домашнее задание: Доступные LLM\n",
        "\n",
        "В этом домашнем задании мы познакомимся с библиотекой transformers и разберемся, как можно open source пользоваться моделями."
      ]
    },
    {
      "cell_type": "code",
      "execution_count": null,
      "id": "11861b12",
      "metadata": {
        "id": "11861b12"
      },
      "outputs": [],
      "source": [
        "from typing import List\n",
        "\n",
        "import torch\n",
        "import torch.nn as nn\n",
        "\n",
        "from transformers import AutoModelForCausalLM, AutoTokenizer\n",
        "\n",
        "\n",
        "# можете сменить на mps на макбуке, но лично у меня он криво работает\n",
        "device = torch.device(\"cuda\") if torch.cuda.is_available() else torch.device(\"cpu\")"
      ]
    },
    {
      "cell_type": "markdown",
      "id": "ca7a6c6c-64cc-4a1c-8b1e-3ccee36396d3",
      "metadata": {
        "id": "ca7a6c6c-64cc-4a1c-8b1e-3ccee36396d3"
      },
      "source": [
        "# Знакомство с Transformers - 35 баллов"
      ]
    },
    {
      "cell_type": "markdown",
      "id": "a3df5693",
      "metadata": {
        "id": "a3df5693"
      },
      "source": [
        "## Создание модели и предсказание следующего токена - 5 баллов\n",
        "Нужно создать модель через `AutoModelForCausalLM`, создать токенайзер через `AutoTokenizer` и олучить следующий токен через жадную генерацию!\n",
        "\n",
        "1. Для создания модели используйте метод `from_pretrained` у `AutoModelForCausalLM` и `AutoTokenizer`;\n",
        "2. Чтобы токенизировать текст вызовите `tokenizer(text, return_tensors=\"pt\")`, тогда вы получите словарь тензоров\n",
        "3. Передайте его ключи и значения в качестве аргументов в `__call__` (forward) метод модели и получите logits размерности \\[batch_size, seq_len, vocab_size\\]\n",
        "4. По logits предскажите следующий токен и детокенизируйте его с помощью `tokenizer.decode`\n",
        "\n",
        "**Внимание** на каких-то из функций далее у вас может кончаться видеопамять из-за хранения активаций. Чтобы этого не происходило рекомендуется все вычисления оборачивать в контекстный менеджер `with torch.no_grad()`"
      ]
    },
    {
      "cell_type": "code",
      "execution_count": null,
      "id": "5a6ab0d8-60a0-4def-a45c-b1becf4930e1",
      "metadata": {
        "id": "5a6ab0d8-60a0-4def-a45c-b1becf4930e1"
      },
      "outputs": [],
      "source": [
        "def move_to_device(inputs, device):\n",
        "    for k, v in inputs.items():\n",
        "        inputs[k] = v.to(device)\n",
        "    return inputs"
      ]
    },
    {
      "cell_type": "code",
      "execution_count": null,
      "id": "YMp8daVEhYKE",
      "metadata": {
        "colab": {
          "base_uri": "https://localhost:8080/",
          "height": 211
        },
        "id": "YMp8daVEhYKE",
        "outputId": "b18f3f84-e561-420b-caeb-449fba3eb557"
      },
      "outputs": [],
      "source": [
        "\n",
        "# ---- Ваш код здесь ----\n",
        "model_name = \"openai-community/gpt2\"\n",
        "model = AutoModelForCausalLM # Ваш код здесь\n",
        "tokenizer = AutoTokenizer # ваш код здесь\n",
        "\n",
        "\n",
        "text = \"This is a sample text\"\n",
        "\n",
        "# Нужно преобразовать text с помощью tokenizer() и подать это в model.forward() (он же просто model())\n",
        "# после этого мы получим logits [batch_size = 1, seq_len, d_model]\n",
        "# По этому тензору нужно предсказать следующее слово!\n",
        "\n",
        "inputs = tokenizer(text, ...)\n",
        "\n",
        "outputs = model(...)\n",
        "logits = ...\n",
        "next_token_idx: int = ...\n",
        "\n",
        "\n",
        "next_token = tokenizer.decode([next_token_idx])\n",
        "\n",
        "assert next_token.strip() == \"file\"\n",
        "\n",
        "\n",
        "# ---- Конец кода ----\n"
      ]
    },
    {
      "cell_type": "markdown",
      "id": "e6809813",
      "metadata": {
        "id": "e6809813"
      },
      "source": [
        "## Используем Generate - 5 баллов\n",
        "\n",
        "Мы с вами помним про различные виды сэмплинга - top_k, top_p, temperature,frequency penalty.\n",
        "Отличная новость заключается в том, что нам не нужно все это писать самим! Оно уже включено в [GenerationMixin](https://huggingface.co/docs/transformers/v4.44.2/en/main_classes/text_generation#generation), от которого наследуются модели для генерации текста.\n",
        "\n",
        "Для генерации нескольких токенов сразу есть функция [generate](https://huggingface.co/docs/transformers/v4.44.2/en/main_classes/text_generation#transformers.GenerationMixin.generate)\n",
        "\n",
        "Ваша задача написать для модели выше генерацию по тексту с:\n",
        "* Температурой - 0.9\n",
        "* Top-K - 20\n",
        "* Repetition Penalty (Frequency Penalty) - 1.2\n",
        "* максимальное число новых токенов - 10\n"
      ]
    },
    {
      "cell_type": "code",
      "execution_count": null,
      "id": "a6b62dbf",
      "metadata": {
        "colab": {
          "base_uri": "https://localhost:8080/",
          "height": 211
        },
        "id": "a6b62dbf",
        "outputId": "4d14e70d-83b3-4dca-9361-959e9d19c572"
      },
      "outputs": [],
      "source": [
        "text = \"This is still a sample text, but\"\n",
        "inputs = tokenizer(text, return_tensors=\"pt\")\n",
        "inputs = move_to_device(inputs, device)\n",
        "\n",
        "results = []\n",
        "for i in range(10):\n",
        "    # ---- Ваш код здесь ----\n",
        "    gens = model.generate(\n",
        "        ...\n",
        "    )\n",
        "    genertaion: str = ... # сгенерированный текст\n",
        "    results.append(generation)\n",
        "    # ---- Конец кода ----\n",
        "\n",
        "\n",
        "assert len(set(results)) > 1"
      ]
    },
    {
      "cell_type": "markdown",
      "id": "8b90512b-9420-45b3-9f4c-22fb5fa1bfc7",
      "metadata": {
        "id": "8b90512b-9420-45b3-9f4c-22fb5fa1bfc7"
      },
      "source": [
        "## Generate Batched - 5\n",
        "Теперь давайте жадно сгенерируем текст, но забатчуем несколько сэмплов. До этого мы всегда генерировали по батчу размера 1, поэтому у нас не было паддингов!\n",
        "\n",
        "Когда появляется несколько текстов разной длины, то появляются и паддинги.\n",
        "\n",
        "Представим себе ситуцию, что у нас батч из двух элементов длины 2 и 5 (токен -1 будет выступать в качестве паддинга **только для удобства визуализации**).\n",
        "\n",
        "Тогда\n",
        "\n",
        "```python\n",
        "input_ids = [\n",
        "    [3, 2, -1, -1, -1]\n",
        "    [5, 6,  7,  1,  2]\n",
        "]\n",
        "attention_mask = [\n",
        "    [1, 1, 0, 0, 0],\n",
        "    [1, 1, 1, 1, 1]\n",
        "]\n",
        "```\n",
        "\n",
        "Представим, что мы сгенерировали еще один токен, тогда\n",
        "\n",
        "```python\n",
        "input_ids = [\n",
        "    [3, 2, -1, -1, -1, 7]\n",
        "    [5, 6,  7,  1,  2, 8]\n",
        "]\n",
        "attention_mask = [\n",
        "    [1, 1, 0, 0, 0, 1],\n",
        "    [1, 1, 1, 1, 1, 1]\n",
        "]\n",
        "```\n",
        "\n",
        "Получается, что у нас паддинги в маске возникают посередине. Мы не будем заниматься реализацией своего алгоритма генерации здесь, но отметим, что добавление паддинга слева значительно упрощает этот процесс.\n",
        "Тогда исходная последовательность будет:\n",
        "\n",
        "```python\n",
        "input_ids = [\n",
        "    [-1, -1, -1, 3, 2]\n",
        "    [ 5,  6,  7, 1, 2]\n",
        "]\n",
        "attention_mask = [\n",
        "    [0, 0, 0, 1, 1],\n",
        "    [1, 1, 1, 1, 1]\n",
        "]\n",
        "```\n",
        "\n",
        "и после генерации следующего токена\n",
        "\n",
        "```python\n",
        "input_ids = [\n",
        "    [-1, -1, -1, 3, 2, 7]\n",
        "    [ 5,  6,  7, 1, 2, 8]\n",
        "]\n",
        "attention_mask = [\n",
        "    [0, 0, 0, 1, 1, 1],\n",
        "    [1, 1, 1, 1, 1, 1]\n",
        "]\n",
        "```\n",
        "\n",
        "В качестве задания давайте соберем батч с левым паддингом и проверим, что жадная генерация (10 токенов) совпадает с генерацией на текстах по отдельности!\n",
        "\n",
        "Для этого нам придется использовать параметр padding_side=\"left\" в конструкторе токенизатора."
      ]
    },
    {
      "cell_type": "code",
      "execution_count": null,
      "id": "5db4cd76-b37b-4fd4-9cf8-8f76e04ae7a1",
      "metadata": {
        "id": "5db4cd76-b37b-4fd4-9cf8-8f76e04ae7a1"
      },
      "outputs": [],
      "source": [
        "\n",
        "# ---- Ваш код здесь ----\n",
        "tokenizer = AutoTokenizer # ваш код здесь\n",
        "tokenizer.pad_token_id = tokenizer.eos_token_id\n",
        "# ---- Конец кода ----\n"
      ]
    },
    {
      "cell_type": "code",
      "execution_count": null,
      "id": "1bd38bdc-3e5e-400d-8815-e9c08a757c03",
      "metadata": {
        "id": "1bd38bdc-3e5e-400d-8815-e9c08a757c03",
        "outputId": "6120007d-3cfc-40cf-ec91-9a5dfe3f65ee",
        "scrolled": true
      },
      "outputs": [],
      "source": [
        "texts = [\"This is a sample text\", \"I'm really tired and this is just about\"]\n",
        "\n",
        "\n",
        "# ---- Ваш код здесь ----\n",
        "\n",
        "# Внимание! В данном задании нужна жадная генерация!\n",
        "\n",
        "# Соберите оба текста в один батч и положите результаты генерации в\n",
        "# batched_generations\n",
        "batched_generations: List[str] = []\n",
        "\n",
        "....\n",
        "\n",
        "# Пройдитесь по каждому сэмплу по отдельности и положите результаты генерации\n",
        "# в single_generations\n",
        "single_generations: List[str] = []\n",
        "\n",
        "...\n",
        "\n",
        "# ---- Конец кода ----\n",
        "\n",
        "assert len(batched_generations) == 2 and len(single_generations) == 2\n",
        "for s, b in zip(batched_generations, single_generations):\n",
        "    assert s == b\n",
        "\n"
      ]
    },
    {
      "cell_type": "markdown",
      "id": "f5da008c-3653-40d5-89ba-cd831352fd3d",
      "metadata": {
        "id": "f5da008c-3653-40d5-89ba-cd831352fd3d"
      },
      "source": [
        "## Скоринг, Perplixity - 10 баллов\n",
        "\n",
        "Можно не только генерировать текст. Вспомним, что выдает после lm_head - вектор `[batch_size, seq_len, vocab_size]`, где для каждый вектор `[vocab_size]` это распределение вероятностей по следующему токену!\n",
        "\n",
        "Опустим размерность batch_size=1 для удобства, seq_len = 4. Пусть у нас есть текст `bos мама мыла раму` (`bos` спецсимвол для начала текста)\n",
        "\n",
        "Тогда вероятность этого текста расписывается через произведение условных вероятностей:\n",
        "\n",
        "```\n",
        "P(bos мама мыла раму) = P(мама | bos) * P(мыла | bos мама) * P(раму| bos мама мыла)\n",
        "```\n",
        "\n",
        "Т.е. это вероятность слова при условии его левого контекста.\n",
        "Зачастую ее обозначают как $\\P(x_i|x_{<i})$ где $x_i$ - i-е слово, $x_{<i}$ - контекст $[x_1, x_2, x_3, ... x_{i-1}]$\n",
        "Эти вероятности можно взять из выходного вектора!\n",
        "\n",
        "Давайте попробуем подсчитать вероятность и perplexity текстов!\n",
        "perplexity как и вероятность мера того насколько модель \"уверена\" в тексте, т.е. насколько по оценки ее параметрами данный текст вероятен.\n",
        "\n",
        "$$Perplexity(X) = exp(-\\frac {1} {N} \\sum_{i}^{N} log P(x_i | x_{<i}))$$\n",
        "\n",
        "В этом задании нужно:\n",
        "1. Посчитать вероятность **text**\n",
        "2. Посчитать перплексию **text**\n",
        "\n",
        "Еще одна важная деталь:\n",
        "работать с вероятностями плохо. Т.к. вероятность представляет собой число от 0 до 1, то при перемножении десятков или даже сотен таких числе теряется точность!\n",
        "Для этого от произведения вероятностей берут логарифм и получают logprobs - логарифмы вероятностей. Их можно складывать, по свойству логарифма логарифм произведения равен произведению логарифма.\n",
        "\n",
        "$$ p = p_1 * p_2 * p_3 $$\n",
        "$$log(p) = log (p_1) + log (p_2) + log (p_3)$$\n",
        "$$exp(log (p)) = p = exp(log (p_1) + log (p_2) + log (p_3)) = exp (log (p_1 * p_2 * p_3)) = p_1 * p_2 * p_3$$\n",
        "\n",
        "В pytorch для этого есть `torch.log_softmax`, который считается численно стабильно!"
      ]
    },
    {
      "cell_type": "code",
      "execution_count": null,
      "id": "e1c7ba39-a451-43a2-ac55-629c99259abe",
      "metadata": {
        "id": "e1c7ba39-a451-43a2-ac55-629c99259abe",
        "outputId": "540686ba-c8c6-4c50-eefd-3e1fc9b4ad3b"
      },
      "outputs": [],
      "source": [
        "print(f\"Beginning of sentence (BOS) token = `{tokenizer.bos_token}`\")\n",
        "print(f\"End of sentence (EOS) token  = `{tokenizer.eos_token}`\")\n",
        "text = \"<|endoftext|>I'm so very tired of this<|endoftext|>\"\n",
        "\n",
        "inputs = tokenizer(text, return_tensors=\"pt\")\n",
        "\n",
        "# ---- Ваш код здесь ----\n",
        "inputs = tokenizer(text, ...)\n",
        "\n",
        "\n",
        "\n",
        "with torch.no_grad():\n",
        "    logits = model(...).logits\n",
        "    ...\n",
        "    # ваш код здесь!\n",
        "    # 1. Нужно обрезать logits по длине, т.к. для предсказаний по последнему токену нечего считать\n",
        "    # 2. Превращаем logits в log_probs\n",
        "    # 3. Берем вероятности следующих токенов, т.к. по вектору i-й позиции мы предсказываем токен на позиции (i + 1)\n",
        "    # для этого нам поможет torch.gather\n",
        "    # 4. Считаем вероятности и perplexity!\n",
        "\n",
        "# ---- Конец кода ----\n",
        "\n",
        "\n",
        "print(text_P)\n",
        "print(ppl)\n",
        "\n",
        "# должно получиться что-то около 2.1783e-14 для вероятности и около 51 для ppl"
      ]
    },
    {
      "cell_type": "markdown",
      "id": "4f244eac-7cb1-4689-8adc-46662891e657",
      "metadata": {
        "id": "4f244eac-7cb1-4689-8adc-46662891e657"
      },
      "source": [
        "## Вопросы - 5 баллов\n",
        "\n",
        "**Ответьте на вопросы текстом прямо здесь!**\n",
        "\n",
        "\n",
        "1. Какое значение P(X) вероятности текста самое \"лучшее\" в том смысле, что модель максимально уверена в этом тексте и скорее всего его сгенерирует.\n",
        "2. Какое значение перплексии текста самое \"лучшее\" в том смысле, что модель максимально уверена в этом тексте и скорее всего его сгенерирует.\n"
      ]
    },
    {
      "cell_type": "code",
      "execution_count": null,
      "id": "CwqRLxa2mPku",
      "metadata": {
        "id": "CwqRLxa2mPku"
      },
      "outputs": [],
      "source": [
        "# ваш ответ тут\n",
        "# ---- Ваш код здесь ----\n",
        "\n",
        "# ---- Конец кода ----"
      ]
    },
    {
      "cell_type": "markdown",
      "id": "5ddd5038-620b-48bb-bbc1-db3729141d78",
      "metadata": {
        "id": "5ddd5038-620b-48bb-bbc1-db3729141d78"
      },
      "source": [
        "# Chat-Models - 20 баллов\n",
        "\n",
        "Теперь мы познакомимся с chat-моделями, т.е. с моделями, которые предоставляют возможность общаться с ними как с ассистентом. Эти модели не просто продолджают текст слева-направо, а дают ответ на заданный вопрос.\n",
        "\n",
        "## Формат - 5 баллов\n",
        "\n",
        "Все chat-модели принимают ответ в особом формате, который позволяет им различать, кому принадлежит фраза - пользователю (user) или модели (assistant).\n",
        "Давайте попробуем подать модели вопрос без какого-либо форматирования."
      ]
    },
    {
      "cell_type": "code",
      "execution_count": null,
      "id": "7f5fe593-63a8-406d-9678-6d805c180670",
      "metadata": {
        "id": "7f5fe593-63a8-406d-9678-6d805c180670"
      },
      "outputs": [],
      "source": [
        "import torch\n",
        "from transformers import AutoTokenizer, AutoModelForCausalLM\n",
        "\n",
        "device = torch.device(\"cuda\") if torch.cuda.is_available() else torch.device(\"cpu\")\n",
        "\n",
        "tokenizer = AutoTokenizer.from_pretrained(\"HuggingFaceTB/SmolLM2-360M-Instruct\")\n",
        "model = AutoModelForCausalLM.from_pretrained(\"HuggingFaceTB/SmolLM2-360M-Instruct\", torch_dtype=torch.half).to(device)"
      ]
    },
    {
      "cell_type": "code",
      "execution_count": null,
      "id": "7134f0bb-1ee4-4508-a26d-5326ea96562b",
      "metadata": {
        "colab": {
          "base_uri": "https://localhost:8080/"
        },
        "id": "7134f0bb-1ee4-4508-a26d-5326ea96562b",
        "outputId": "60f4aa05-0abb-4c90-b9a9-b62cb4c306c1"
      },
      "outputs": [],
      "source": [
        "text = \"hello how are you\"\n",
        "inputs = tokenizer(text, return_tensors=\"pt\", add_special_tokens=False)\n",
        "\n",
        "for i in range(5):\n",
        "    print(tokenizer.decode(model.generate(**move_to_device(inputs, device), max_new_tokens=20, use_cache=True, do_sample=True, pad_token_id=tokenizer.eos_token_id)[0]))\n",
        "    print(\"====\" * 3)\n"
      ]
    },
    {
      "cell_type": "markdown",
      "id": "3fd50470-64b9-4a21-8748-0e9c5ea439fc",
      "metadata": {
        "id": "3fd50470-64b9-4a21-8748-0e9c5ea439fc"
      },
      "source": [
        "Видим, что текст зачастую разламывается:\n",
        "1. Иногда модель продолжает текст как базовая LLM\n",
        "2. Иногда пытается придумать роли спикерам и трасформироваться в формат диалога\n",
        "3. Иногда просто выдает бессвязный текст.\n",
        "\n",
        "Это происходит потому, что формат входных данных сильно отличается от того, что модель видела на обучении.\n",
        "Как мы уже обсуждали, у всех chat-моделей свой формат. Где-то он описан просто словами, где-то он заложен в токенайзер. Мы рассмотрим как раз такой случай - за нас есть удобно написанная функция `apply_chat_template`. Давайте используем ее, чтобы получить префикс для генерации модели"
      ]
    },
    {
      "cell_type": "code",
      "execution_count": null,
      "id": "fec7ca96",
      "metadata": {
        "colab": {
          "base_uri": "https://localhost:8080/"
        },
        "id": "fec7ca96",
        "outputId": "88c57c71-aeb8-48a6-adfd-73f433c7fc4a"
      },
      "outputs": [],
      "source": [
        "prefix = tokenizer.apply_chat_template(\n",
        "    conversation=\n",
        "    [\n",
        "        {\"role\": \"system\", \"content\": \"You are a helpful assistant, who always helps user\"},\n",
        "        {\"role\": \"user\", \"content\": \"How to learn about LLMs?\"},\n",
        "        {\"role\": \"assistant\", \"content\": \"You can always attend deepschool!\"},\n",
        "        {\"role\": \"user\", \"content\": \"Thank you!\"},\n",
        "    ],\n",
        "    tokenize=False)\n",
        "print(prefix)"
      ]
    },
    {
      "cell_type": "markdown",
      "id": "ew_7ZmE7-miE",
      "metadata": {
        "id": "ew_7ZmE7-miE"
      },
      "source": [
        "Как мы видим в тексте ходы и роли разделены тэгом `<|im_start|>`. В таком формате модель училась поддерживать диалог. Давайте отформатируем следующий диалог и подадим его в генерацию модели. Подробнее про apply_chat_template можно прочитать в [туториале](https://huggingface.co/docs/transformers/main/en/chat_templating#applychattemplate). Обратите внимание на опцию add_generation_prompt! Эта опция добавляет текст таким образом, чтобы в конце была очередь генерировать текст от лица модели. Давайте попробуем собрать диалог и сгенерировать моделью ответ."
      ]
    },
    {
      "cell_type": "code",
      "execution_count": null,
      "id": "e79a3701-c80f-4b90-90bd-fa010e32ea36",
      "metadata": {
        "colab": {
          "base_uri": "https://localhost:8080/",
          "height": 391
        },
        "id": "e79a3701-c80f-4b90-90bd-fa010e32ea36",
        "outputId": "f32afb2b-a306-4e08-f576-567c5d2e25bb"
      },
      "outputs": [],
      "source": [
        "messages = [\n",
        "    {\"role\": \"user\", \"content\": \"hello\"},\n",
        "    {\"role\": \"assistant\", \"content\": \"I'm good. How can I help you today\"},\n",
        "    {\"role\": \"user\", \"content\": \"I love you\"},\n",
        "]\n",
        "\n",
        "\n",
        "# ---- Ваш код здесь ----\n",
        "prefix = tokenizer.apply_chat_template(...)\n",
        "# ---- Конец кода ----\n",
        "reference = \"\"\"<|im_start|>system\n",
        "You are a helpful AI assistant named SmolLM, trained by Hugging Face<|im_end|>\n",
        "<|im_start|>user\n",
        "hello<|im_end|>\n",
        "<|im_start|>assistant\n",
        "I'm good. How can I help you today<|im_end|>\n",
        "<|im_start|>user\n",
        "I love you<|im_end|>\n",
        "<|im_start|>assistant\n",
        "\"\"\"\n",
        "\n",
        "assert prefix.strip() == reference.strip()\n"
      ]
    },
    {
      "cell_type": "code",
      "execution_count": null,
      "id": "4284b18d-4f9b-4e7d-b3ea-bb365e90093c",
      "metadata": {
        "colab": {
          "base_uri": "https://localhost:8080/"
        },
        "id": "4284b18d-4f9b-4e7d-b3ea-bb365e90093c",
        "outputId": "fcdbfc09-294d-4eb7-d2f1-b3d9bfd9b103"
      },
      "outputs": [],
      "source": [
        "\n",
        "# ---- Ваш код здесь ----\n",
        "inputs = tokenizer(prefix, ...)\n",
        "model.generate...\n",
        "print(...)\n",
        "# ---- Конец кода ----"
      ]
    },
    {
      "cell_type": "markdown",
      "id": "a72482f3-c296-46f3-851c-57b4f91a717b",
      "metadata": {
        "id": "a72482f3-c296-46f3-851c-57b4f91a717b"
      },
      "source": [
        "# Benchmark - 15"
      ]
    },
    {
      "cell_type": "markdown",
      "id": "52f422a9-c2ee-4c17-8aee-1830f1d143e6",
      "metadata": {
        "id": "52f422a9-c2ee-4c17-8aee-1830f1d143e6"
      },
      "source": [
        "Перед нами датасет MMLU - датасет вопросов и ответов в стиле multiple choice.\n",
        "* question - вопрос\n",
        "* choices - варианты ответа\n",
        "* answer - номер правильного ответа (нумерация с нуля)"
      ]
    },
    {
      "cell_type": "code",
      "execution_count": null,
      "id": "530d1721-6623-4ca6-816c-d4f90203ceb2",
      "metadata": {
        "colab": {
          "base_uri": "https://localhost:8080/"
        },
        "id": "530d1721-6623-4ca6-816c-d4f90203ceb2",
        "outputId": "db0c10eb-7a9e-4db3-e7f8-0c169830f3cc"
      },
      "outputs": [],
      "source": [
        "from datasets import load_dataset\n",
        "mmlu = load_dataset(\"cais/mmlu\", \"global_facts\", split=\"test\")\n",
        "mmlu[0]"
      ]
    },
    {
      "cell_type": "markdown",
      "id": "wafeDm4KB6lI",
      "metadata": {
        "id": "wafeDm4KB6lI"
      },
      "source": [
        "Наша задача здесь - выбрать моделью один из четырех ответов и получить точность больше 0.25.\n",
        "\n",
        "Есть несколько вариантов, как это делать. **Эти варианты отличаются по сложности и являются взаимоисключающими. За подход с генерацией можно получить максимум 5 баллов, за подход со скорингом по 1 сэмплу можно получить только 10 баллов, а за подход со скорингом батчей можно получить все 15 баллов**\n",
        "\n",
        "### Генерация ответа - 5 баллов\n",
        "\n",
        "Можно генерировать ответ напрямую. Для этого нужно:\n",
        "1. Составить историю диалога из qeustion и choices с помощью messages и apply_chat_template\n",
        "1. Сгенерировать ответ\n",
        "1. Соотнести сгенерированный ответ с одним из вариантов ответа\n",
        "\n",
        "У этого подхода есть один важный недостаток - модель могут сгенерировать ответ, не являющийся одним из заданных вариантов ответа. Соотнесение такой генерации с ответом решается эвристиками и скорее всего приведет к множеству ошибок.\n",
        "\n",
        "\n",
        "### Скоринг по сэмплам - 10 баллов\n",
        "\n",
        "У нас есть вопрос и 4 варианта ответа в 4 набора messages и подсчитать вероятность $$P(choices_i | question)$$, то есть условную вероятность каждого ответа при заданном вопросе, т.е. сделать то же самое, что мы делали в задаче про вероятность текста и perplexity.\n",
        "\n",
        "1. Берем текст и вариант ответа, собираем из них промпт c функции `sample_to_texts` (проще будет в этом задании обойтись без apply_chat_template)\n",
        "2. Подаем это в модель через `model(**inputs)`, берем в выходах `logits`. С помощью logits и input_ids считаем вероятность токенов, которые мы подали модели.\n",
        "3. Здесь опционально можно считать как вероятность всего текста, так и только вероятность $$P(choices_i | question)$$ Т.к. для всех 4х вариантов ответа у нас общий префикс, то его вероятность будет общей константной для всех ответов.\n",
        "4. Выбираем ответ, которому была дана наибольшая вероятность нашей моделью.\n",
        "\n",
        "В этом варианте легко получить номер ответа, который модель оценивает выше и не нужно применять эвристики.\n",
        "\n",
        "### Скоринг батчами - 15 баллов\n",
        "\n",
        "Этот вариант отличается от предыдущего только тем, что нужно скорить за раз не один сэмпл и 4 ответа к нему, а несколько сэмплов за раз, т.е. обрабатывать данные батчом.\n",
        "\n",
        "Дополнительная сложность этого варианта заключается в том, что у нас возникают сэмплы различной длины, которые мы добиваем паддингами. **Паддинги не нужно учитывать при подсчете вероятностей, это служебные токены!**\n",
        "\n",
        "Чтобы вероятность паддингов не влияла на итоговую вероятность текста, можно на этапе, где у вас подсчитаны все вероятности токенов (вместе с паддингами) взять `inputs[\"attention_mask\"]` и \"занулить\" по нему вероятности паддингов (если вы считаете log_probs, если вы честно умножаете вероятности, тогда вероятности паддингов нужно поставить равными единице).\n",
        "\n",
        "В качестве проверки точности можете проверить, что качество с батчом размера 1 не сильно отличается от батча размера 3 (не более, чем на 0.02)"
      ]
    },
    {
      "cell_type": "code",
      "execution_count": null,
      "id": "efc14ce5-267d-40da-b35a-193c60cc68ca",
      "metadata": {
        "id": "efc14ce5-267d-40da-b35a-193c60cc68ca"
      },
      "outputs": [],
      "source": [
        "def sample_to_texts(sample):\n",
        "    return [sample[\"question\"] + \" \" + answer for answer in sample[\"choices\"]]\n",
        "\n",
        "def calc_acc(p, y):\n",
        "    assert len(p) == len(y)\n",
        "    return sum(pi == yi for pi, yi in zip(p, y)) / len(p)"
      ]
    },
    {
      "cell_type": "code",
      "execution_count": null,
      "id": "230aed9b-32af-4a9d-8615-c2a2ddb864b2",
      "metadata": {
        "id": "230aed9b-32af-4a9d-8615-c2a2ddb864b2"
      },
      "outputs": [],
      "source": [
        "y_true = [sample[\"answer\"] for sample in mmlu]"
      ]
    },
    {
      "cell_type": "markdown",
      "id": "dccb1953-cf28-4629-9786-4fb71c178ac8",
      "metadata": {
        "id": "dccb1953-cf28-4629-9786-4fb71c178ac8"
      },
      "source": [
        "Считаем вероятности по одному question и choice"
      ]
    },
    {
      "cell_type": "code",
      "execution_count": null,
      "id": "hlw878TTFowB",
      "metadata": {
        "colab": {
          "base_uri": "https://localhost:8080/"
        },
        "id": "hlw878TTFowB",
        "outputId": "c4bc0807-8128-4a8c-a82c-e89ddb0411c2"
      },
      "outputs": [],
      "source": [
        "\n",
        "# ---- Ваш код здесь ----\n",
        "all_prompts = sum([sample_to_texts(mmlu[i]) for i in range(len(mmlu))], [])\n",
        "assert len(all_prompts) == 400\n",
        "tokenizer.pad_token = tokenizer.eos_token\n",
        "\n",
        "...\n",
        "# ---- Конец кода ----"
      ]
    },
    {
      "cell_type": "markdown",
      "id": "c66308e6",
      "metadata": {},
      "source": [
        "## Ответьте на следующие вопросы (5 баллов в сумме):\n",
        "1. Как влияет длина ответа на вероятность ответа при скоринге? Если есть какие-либо проблемы, как бы вы с этим боролись.\n",
        "2. Если к началу каждого ответа добавилить метки A) B) C) D) станет ли модель отвечать лучше или хуже?\n",
        "Стоит ли по-вашему добавлять эти метки?\n"
      ]
    },
    {
      "cell_type": "code",
      "execution_count": null,
      "id": "1f811187-7b10-4382-a6f5-ebec7afa8125",
      "metadata": {
        "colab": {
          "base_uri": "https://localhost:8080/"
        },
        "id": "1f811187-7b10-4382-a6f5-ebec7afa8125",
        "outputId": "8af38af8-3c82-4e60-826b-46de57cbd9a0"
      },
      "outputs": [],
      "source": [
        "\n",
        "# ---- Ваш код здесь ----\n",
        "...\n",
        "# ---- Конец кода ----"
      ]
    }
  ],
  "metadata": {
    "accelerator": "GPU",
    "colab": {
      "gpuType": "T4",
      "provenance": []
    },
    "kernelspec": {
      "display_name": "Python 3",
      "name": "python3"
    },
    "language_info": {
      "codemirror_mode": {
        "name": "ipython",
        "version": 3
      },
      "file_extension": ".py",
      "mimetype": "text/x-python",
      "name": "python",
      "nbconvert_exporter": "python",
      "pygments_lexer": "ipython3",
      "version": "3.8.10"
    }
  },
  "nbformat": 4,
  "nbformat_minor": 5
}
