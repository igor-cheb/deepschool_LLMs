{
 "cells": [
  {
   "cell_type": "markdown",
   "id": "6831fe55",
   "metadata": {},
   "source": [
    "# KV Cache - 10 баллов"
   ]
  },
  {
   "cell_type": "code",
   "execution_count": 1,
   "id": "f29b7f3c",
   "metadata": {},
   "outputs": [],
   "source": [
    "import torch\n",
    "import torch.nn as nn\n",
    "import matplotlib.pyplot as plt\n",
    "\n",
    "from dataclasses import dataclass"
   ]
  },
  {
   "cell_type": "markdown",
   "id": "5045cc82",
   "metadata": {},
   "source": [
    "Представим, что у нас есть очень простая мини-LLM:\n",
    "1. Она эмбеддит токены\n",
    "2. Считает аттеншн (обычный, не multihead) токенов друг с другом с causal mask (не смотрит в будущее!)\n",
    "3. После этого выходы attention подаются в линейный слой для получения распределеняи по словарю\n",
    "\n",
    "На примере такой модели давайте попробуем имплементировать KV-Cache.\n",
    "\n",
    "Ниже за вас написан метод forward - этот метод это обычный forward нейросети, который считает attention всех токенов со всеми токенами.\n",
    "\n",
    "Вам же нужно имплементировать метод forward_kv_cache, который принимает:\n",
    "* x - тензор размерности \\[batch, seq_len = 1\\]\n",
    "* prev_output - выход модели с предыдущего шага типа Output\n",
    "\n",
    "Метод forward_kv_cache должен выполнять следующие действия:\n",
    "1. Эмбеддинг токена x\n",
    "2. Проекция x в QKV\n",
    "3. Расширение k_cache и v_cache из prev_ouptut k/v проекциями x\n",
    "4. Подсчет аттеншена между q_x и k_cache и v_cache\n",
    "5. Конкатенация аттеншена в prev_output.attention_weights\n",
    "6. Возврат logits"
   ]
  },
  {
   "cell_type": "code",
   "execution_count": null,
   "id": "ce42ab63",
   "metadata": {},
   "outputs": [
    {
     "name": "stdout",
     "output_type": "stream",
     "text": [
      "Before generation tensor([[1, 3, 0]])\n",
      "After generation no cache tensor([[1, 3, 0, 2, 0, 2, 0, 2, 0, 2, 0, 2, 0]])\n",
      "After generation kv cache tensor([[1, 3, 0, 2, 6, 1, 6, 1, 6, 1, 1, 1, 1]])\n"
     ]
    }
   ],
   "source": [
    "@dataclass\n",
    "class Output:\n",
    "    logits: torch.Tensor = None\n",
    "    k_cache: torch.Tensor = None\n",
    "    v_cache: torch.Tensor = None\n",
    "    attn_weights: torch.Tensor = None\n",
    "    \n",
    "\n",
    "\n",
    "class SimpleAttentionLLM(nn.Module):\n",
    "    \n",
    "    def __init__(self, d_model, vocab_size):\n",
    "        super().__init__()\n",
    "        self.embedding = nn.Embedding(vocab_size, d_model)\n",
    "        self.W_Q = nn.Linear(d_model, d_model)\n",
    "        self.W_K = nn.Linear(d_model, d_model)\n",
    "        self.W_V = nn.Linear(d_model, d_model)\n",
    "        self.lin = nn.Linear(d_model, vocab_size)\n",
    "        \n",
    "    def forward(self, x):\n",
    "        x = self.embedding(x)\n",
    "        q = self.W_Q(x)\n",
    "        k = self.W_K(x)\n",
    "        v = self.W_V(x)\n",
    "        \n",
    "        attn_scores = torch.matmul(q, k.permute(0, 2, 1))\n",
    "        mask = torch.tril(torch.ones_like(attn_scores))\n",
    "        attn_scores = attn_scores.masked_fill(~mask.bool(), -torch.inf)\n",
    "        attn_weights = torch.softmax(attn_scores, dim=2)\n",
    "        weights_V = torch.matmul(attn_weights, v)\n",
    "        logits = self.lin(weights_V)\n",
    "        return Output(\n",
    "            logits=logits,\n",
    "            k_cache=k,\n",
    "            v_cache=v,\n",
    "            attn_weights=attn_weights # batch, seq_len, seq_len\n",
    "        )\n",
    "    \n",
    "    \n",
    "    def forward_kv_cache(self, x, prev_output):\n",
    "        # эмбеддинг токена x\n",
    "        x = self.embedding(x)\n",
    "        \n",
    "        # 1. Проецируем x в q, k, v\n",
    "        q = self.W_Q(x)\n",
    "        k = self.W_K(x)\n",
    "        v = self.W_V(x)\n",
    "        \n",
    "        # print(f\"{q.shape=}\")\n",
    "        # print(f\"{k.shape=}\")\n",
    "\n",
    "        # берем старый кэш\n",
    "        k_cache = prev_output.k_cache\n",
    "        v_cache = prev_output.v_cache\n",
    "\n",
    "        # расширяем его состояниями k, v последнего токена\n",
    "        # с помощью torch.cat\n",
    "        k_cache_new = torch.cat(tensors=(k_cache, k), dim=1)\n",
    "        v_cache_new = torch.cat(tensors=(v_cache, v), dim=1)\n",
    "        \n",
    "        # считаем attention_score, то есть матричное умножение между q и k_cache_new\n",
    "        \n",
    "        attn_scores = q @ k_cache_new.permute(0, 2, 1)\n",
    "    \n",
    "        \n",
    "        # считаем softmax\n",
    "        attn_weights = torch.softmax(attn_scores, dim=-1)\n",
    "        # домножаем softmax на V\n",
    "        \n",
    "        # print(f\"{attn_scores.shape=}\")\n",
    "        # print(f\"{v_cache_new.shape=}\")\n",
    "        weights_V = attn_weights @ v_cache_new\n",
    "        logits = self.lin(weights_V)\n",
    "        \n",
    "        batch = x.size(0)\n",
    "        seq_len = k_cache.size(1)\n",
    "        \n",
    "        attn_weights_old = prev_output.attn_weights\n",
    "        zeros_right = torch.zeros(batch, seq_len, 1)\n",
    "        # добавляем нули в аттеншене так, чтобы у старых токенов был нулевой аттеншн на новый токен\n",
    "        attn_weights_all = torch.cat((attn_weights_old, zeros_right), dim=2)\n",
    "        # Добавляем аттеншн текущего нового токена по старым\n",
    "        attn_weights_all = torch.cat((attn_weights_all, attn_weights), dim=1)\n",
    "        \n",
    "        return Output(\n",
    "            logits=logits,\n",
    "            k_cache=k_cache_new,\n",
    "            v_cache=v_cache_new,\n",
    "            attn_weights=attn_weights_all\n",
    "        )\n",
    "        \n",
    "torch.manual_seed(1)\n",
    "\n",
    "batch_size = 1\n",
    "seq_len = 3\n",
    "d_model = 128\n",
    "vocab_size = 7\n",
    "\n",
    "layer = SimpleAttentionLLM(d_model, vocab_size)\n",
    "for param in layer.parameters():\n",
    "    nn.init.normal_(param)\n",
    "\n",
    "x = torch.randint(0, 7, (batch_size, seq_len))\n",
    "x_copy = x.clone()\n",
    "\n",
    "print(\"Before generation\", x)\n",
    "\n",
    "with torch.no_grad():\n",
    "    for i in range(10):\n",
    "        outputs = layer(x)\n",
    "        logits = outputs.logits\n",
    "        # берем последний токен, т.к. по нему предсказываем!\n",
    "        next_token = logits[:, -1].argmax(dim=1, keepdim=True)\n",
    "        x = torch.cat((x, next_token), dim=1) # добавляем новый токен по размерности seq_len\n",
    "\n",
    "no_cache_output = outputs\n",
    "print(\"After generation no cache\", x)\n",
    "\n",
    "\n",
    "x = x_copy.clone()\n",
    "final_tokens = x.clone()\n",
    "\n",
    "with torch.no_grad():\n",
    "    # prefill\n",
    "    outputs = layer(x)\n",
    "    logits = outputs.logits\n",
    "    # берем последний токен, т.к. по нему предсказываем!\n",
    "    next_token = logits[:, -1].argmax(dim=1, keepdim=True)\n",
    "    # обратите внимание, что раньше было 10 шагов!\n",
    "    final_tokens = torch.cat((final_tokens, next_token), dim=1)\n",
    "    for i in range(9):\n",
    "        outputs = layer.forward_kv_cache(next_token, outputs)\n",
    "        next_token = outputs.logits[:, -1].argmax(dim=1, keepdim=True)\n",
    "        final_tokens = torch.cat((final_tokens, next_token), dim=1)\n",
    "    \n",
    "print(\"After generation kv cache\", final_tokens)\n",
    "\n",
    "cache_outputs = outputs\n",
    "        "
   ]
  },
  {
   "cell_type": "code",
   "execution_count": null,
   "id": "692f93f5",
   "metadata": {},
   "outputs": [],
   "source": [
    "Before generation tensor([[1, 3, 0]])\n",
    "After generation no cache tensor([[1, 3, 0, 2, 0, 2, 0, 2, 0, 2, 0, 2, 0]])\n",
    "After generation kv cache tensor([[1, 3, 0, 2, 0, 2, 0, 2, 0, 2, 0, 2, 0]])"
   ]
  },
  {
   "cell_type": "markdown",
   "id": "be62b506",
   "metadata": {},
   "source": [
    "Выведем матрицы attention"
   ]
  },
  {
   "cell_type": "code",
   "execution_count": 20,
   "id": "305f232d",
   "metadata": {},
   "outputs": [
    {
     "data": {
      "text/plain": [
       "Text(0.5, 1.0, 'Attention kv cache')"
      ]
     },
     "execution_count": 20,
     "metadata": {},
     "output_type": "execute_result"
    },
    {
     "data": {
      "image/png": "[encoded data removed]",
      "text/plain": [
       "<Figure size 1000x500 with 2 Axes>"
      ]
     },
     "metadata": {},
     "output_type": "display_data"
    }
   ],
   "source": [
    "fig, axes = plt.subplots(1, 2, figsize=(10, 5))\n",
    "\n",
    "axes[0].imshow(no_cache_output.attn_weights[0])\n",
    "axes[0].set_title(\"Attention no cache\")\n",
    "axes[1].imshow(cache_outputs.attn_weights[0])\n",
    "axes[1].set_title(\"Attention kv cache\")"
   ]
  },
  {
   "cell_type": "code",
   "execution_count": null,
   "id": "326b101e",
   "metadata": {},
   "outputs": [],
   "source": [
    "!pip install vllm triton"
   ]
  },
  {
   "cell_type": "markdown",
   "id": "76e45fc6",
   "metadata": {},
   "source": [
    "По возможности данное задание необходимо выполнять на сервере, чтобы было удобно запускать параллельно фреймворк и нагрузочное тестирование. Для удобства работы в jupyter сделан следующий трюк"
   ]
  },
  {
   "cell_type": "code",
   "execution_count": null,
   "id": "d2b6fba6",
   "metadata": {},
   "outputs": [],
   "source": [
    "import time\n",
    "import multiprocessing\n",
    "import subprocess\n",
    "\n",
    "def start_vllm_server():\n",
    "    # This function will run the `vllm` server command\n",
    "    cmd = [\"vllm\", \"serve\", \"unsloth/gemma-2b-it\", \"--dtype\", \"half\"]\n",
    "    subprocess.run(cmd)\n",
    "\n",
    "\n",
    "server_process = multiprocessing.Process(target=start_vllm_server)\n",
    "server_process.start()\n",
    "time.sleep(60)\n",
    "print(\"we are probably ready\")\n",
    "\n",
    "import requests\n",
    "\n",
    "r = requests.post(\"http://localhost:8000/v1/completions\", json={\n",
    "                  \"model\": \"unsloth/gemma-2b-it\",\n",
    "                  \"prompt\": \"Hello there\",\n",
    "                  \"max_tokens\": 20,\n",
    "                  \"temperature\": 0.8\n",
    "              })\n",
    "print(r.json())\n",
    "print(r.json()[\"choices\"][0][\"text\"])\n"
   ]
  },
  {
   "cell_type": "markdown",
   "id": "ad31f5df",
   "metadata": {},
   "source": [
    "# Нагрузочное тестирование - 25 баллов\n",
    "\n",
    "20 баллов - узнать, сколько запросов в секунду выдержит VLLM сервинг модели при ограничении latency в 5 секунд.\n",
    "Можно использовать самописную функцию через multiprocessing/threading, можно использовать любой готовый инструмент.\n",
    "\n",
    "В качестве пейлоадов предлагается брать тексты длины 100-128 и генерировать к ним не более 10 токенов. Сами пейлоады можно взять из любого датасета, например https://huggingface.co/datasets/Intel/orca_dpo_pairs.\n",
    "\n",
    "Об аргументах vllm serve можно почитать в документации https://docs.vllm.ai/en/latest/serving/openai_compatible_server.html\n",
    "\n",
    "\n",
    "5 баллов - если сможете посчитать на этом пейлоаде ttft - time to first token, то есть сколько занимает prefill стадия генерации."
   ]
  },
  {
   "cell_type": "code",
   "execution_count": null,
   "id": "1e05e253",
   "metadata": {},
   "outputs": [],
   "source": []
  },
  {
   "cell_type": "markdown",
   "id": "08c334b3",
   "metadata": {},
   "source": [
    "# Часть 2\n",
    "Далее предоставлено 2 варианта выполнения задания. Баллы будут начисляться только на один из них\n",
    "## Вариант 1. Квантизация - 15 баллов\n",
    "Квантизируйте модель в VLLM любым доступным способом, напишите, как сократились затраты памяти и как изменилась скорость инференса. Обязательно укажите, на какой видеокарте проводились замеры!\n",
    "Не забудьте про то, что квантизировать можно и kv cache.\n",
    "\n",
    "Внимательно проверьте и убедитесь, что ваш ускоритель поддержан в https://docs.vllm.ai/en/latest/quantization/supported_hardware.html\n",
    "\n",
    "## Вариант 2. Батчевалка - 15 баллов\n",
    "Предлагается написать сервер на питоне, который поддерживал бы батчевание запросов.\n",
    "\n",
    "Сервер принимает POST запрос с телом вида\n",
    "\n",
    "```json\n",
    "{\"text\": \"Hello there\"}\n",
    "```\n",
    "\n",
    "\n",
    "Необходимо написать сервер, который:\n",
    "1. Имел бы возможность работать с несколькими клиентами за раз (не блокировался бы на обработку одного запроса). Для этого можно использовать async, gevent, треды и т.д.\n",
    "2. Использовал бы батчовую обработку следующим образом:\n",
    "если пришло несколько запросов (для примера 2)\n",
    "\n",
    "```json\n",
    "запрос 1\n",
    "{\"text\": \"Hello there \"}\n",
    "запрос 2\n",
    "{\"text\": \"handsome\"}\n",
    "```\n",
    "\n",
    "то каждый клиент получал бы в ответ конкатенацию этих запросов (в произвольном порядке), т.е. оба клиента получили бы ответ\n",
    "```json\n",
    "{\"text\": \"Hello there handsome\"}\n",
    "или\n",
    "{\"text\": \"handsomeHello there \"}\n",
    "```\n",
    "\n",
    "Сервер должен иметь 2 конфигурируемых параметра:\n",
    "1. Максимальный размер батча, который он может обработать\n",
    "2. Максимальное время ожидания, которое ждет сэмпл перед обработкой. Т.е. если у нас батч размера 5, а у нас всего один сэмпл, и прошло максимальное время ожидания - этот сэмпл попадает в батч один и обрабатывается один.\n",
    "\n",
    "Для хранения данных в очереди можно использовать queue.Queue или любой другой удобный способ."
   ]
  },
  {
   "cell_type": "code",
   "execution_count": null,
   "id": "1fe94205",
   "metadata": {},
   "outputs": [],
   "source": []
  }
 ],
 "metadata": {
  "kernelspec": {
   "display_name": "multi_train",
   "language": "python",
   "name": "multi_train"
  },
  "language_info": {
   "codemirror_mode": {
    "name": "ipython",
    "version": 3
   },
   "file_extension": ".py",
   "mimetype": "text/x-python",
   "name": "python",
   "nbconvert_exporter": "python",
   "pygments_lexer": "ipython3",
   "version": "3.10.9"
  }
 },
 "nbformat": 4,
 "nbformat_minor": 5
}
