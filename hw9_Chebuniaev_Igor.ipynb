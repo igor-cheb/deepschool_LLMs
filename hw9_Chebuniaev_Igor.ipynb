{
  "cells": [
    {
      "cell_type": "markdown",
      "metadata": {
        "id": "hicESYFviLWI"
      },
      "source": [
        "## Часть 1. Генерация синтетического датасета - 15 баллов"
      ]
    },
    {
      "cell_type": "markdown",
      "metadata": {
        "id": "62fevCbOcg82"
      },
      "source": [
        "В этой части вам нужно написать код для генерации синтетического датасета, и сгенерировать его. Датасет такого вида:\n",
        "- `prompt`: короткий вопрос на произвольную тему;\n",
        "- `chosen` - ответ в стиле зумера\n",
        "- `rejected` - обычный ответ\n",
        "\n",
        "Примеры:\n",
        "\n",
        "| Prompt                                         | Chosen                                                                                               | Rejected                                                                                                                                                                                                                                                                                                                                     |\n",
        "|------------------------------------------------|------------------------------------------------------------------------------------------------------|--------------------------------------------------------------------------------------------------------------------------------------------------------------------------------------------------------------------------------------------------------------------------------------------------------------------------------------------------------------------------------------------------------------------------------------------------------------------------------------------------------------------------------------------------------------------------------------------------------------------------------------------------------------------------------------------------------------------|\n",
        "| Is water necessary for human survival?         | For sure, water's the real MVP for humans, can't live without it 💧😅                                | Yes, water is essential for human survival. The human body is composed of approximately 60% water, which is vital for numerous bodily functions.                                                          |\n",
        "| Can a single tree produce enough oxygen for a human to breathe? | Yo, a single tree's like a tiny oxygen factory 🌳💨 but we need a forest squad to really keep us chill and breathing 🌲🤝👨‍👩‍👧‍👦 | A single tree can produce a significant amount of oxygen, but whether it's enough for a human to breathe depends on several factors including the type of tree, the tree's size, the conditions it's growing in, and the human's oxygen consumption rate. On average, a mature leafy tree can produce about 260 pounds (118 kilograms) of oxygen annually.                                                                                                                                     |\n",
        "| What is the speed of light in a vacuum?        | The speed of light, that's like the universe's fastest runner, is roughly 299,792 kilometers per second, no cap 🚀🌌 | The speed of light in a vacuum is a fundamental physical constant denoted as 'c'. Its value is approximately 299,792,458 meters per second.   |\n"
      ]
    },
    {
      "cell_type": "code",
      "execution_count": 1,
      "metadata": {
        "id": "oJJCsqXJa_32"
      },
      "outputs": [],
      "source": [
        "import torch\n",
        "from tqdm import tqdm\n",
        "\n",
        "# можете импортировать ещё\n",
        "from transformers import AutoTokenizer, AutoModelForCausalLM"
      ]
    },
    {
      "cell_type": "markdown",
      "metadata": {
        "id": "urP8LgBvext_"
      },
      "source": [
        "### Функция генерации - 10 баллов"
      ]
    },
    {
      "cell_type": "markdown",
      "metadata": {
        "id": "6eS61Mooe3Dk"
      },
      "source": [
        "Реализуйте функцию генерации, поддерживающую батч на вход. `messages_list` - батч из списка диалоговых реплик в openai формате (`{\"role\": \"user\", \"content\": \"Hello\"}`). Эта функция будет далее использоваться для генерации синтетического датасета.\n",
        "\n",
        "Вы получите 5 баллов за базовую реализвацию с использованием transformers и 10 баллов за реализацию с использованием [VLLM](https://github.com/vllm-project/vllm).\n",
        "\n",
        "Используйте `unsloth/Llama-3.2-1B-Instruct` для генерации синтетического датасета."
      ]
    },
    {
      "cell_type": "code",
      "execution_count": 2,
      "metadata": {
        "id": "cBI0IgWpiK_Q"
      },
      "outputs": [],
      "source": [
        "def generate_responses_batch(\n",
        "        tokenizer,\n",
        "        model,\n",
        "        messages_list,\n",
        "        max_new_tokens=128,\n",
        "        temperature=0.8,\n",
        "        device='cuda'\n",
        "    ) -> list[str]:\n",
        "\n",
        "    # Составляем промпт в LLM, используя apply_chat_template, чтобы проставились все нужные спец тоцены\n",
        "    input_texts = [\n",
        "        tokenizer.apply_chat_template(\n",
        "            messages,\n",
        "            add_generation_prompt=True,\n",
        "            tokenize=False\n",
        "        )\n",
        "        for messages in messages_list\n",
        "    ]\n",
        "    ### ваш код здесь\n",
        "    all_out = []\n",
        "    inputs = tokenizer(input_texts, return_tensors=\"pt\")\n",
        "    inputs = move_to_device(inputs=inputs, device=device)\n",
        "    out = model.generate(\n",
        "        **inputs,\n",
        "        pad_token_id=tokenizer.eos_token_id,\n",
        "        max_new_tokens=max_new_tokens,\n",
        "        temperature=temperature\n",
        "    )\n",
        "    return tokenizer.batch_decode(out, skip_special_tokens=True)\n",
        "\n",
        "def move_to_device(inputs: torch.Tensor, device: str):\n",
        "    \"\"\"Помещаем inputs на указаный device.\"\"\"\n",
        "    for k, v in inputs.items():\n",
        "        inputs[k] = v.to(device)\n",
        "    return inputs\n"
      ]
    },
    {
      "cell_type": "code",
      "execution_count": null,
      "metadata": {
        "colab": {
          "base_uri": "https://localhost:8080/",
          "height": 392,
          "referenced_widgets": [
            "78ad6c2b055542bda373302077ae6f4a",
            "67a4da3b34d5491eb00cf1548327b085",
            "87889be0868c430095e41265530b359b",
            "481996e9fe144b898eafe2ee8dffec9d",
            "dd17b26f02304b6bb17cc9b982305629",
            "858b1485abce44ed9251c778d30010f5",
            "3c31fc74b30745b393cbb184946f2de4",
            "00b958eea97b449f9bfa0709566f4210",
            "0b834963ed8e461abad7d61d9b3a99f9",
            "b565214287534965b8067c8b1229b465",
            "f1c8306a6b254b8a818d3c827e87f5c6",
            "6d5a0c5e34864ef6843fca5eb765f7a4",
            "ae46672279794c59924b487e58895b7f",
            "78e8be3fea8148de9ea8d6969e19babb",
            "9e4f0e4435fe455d8bf8cdafc1a75fb0",
            "4edd005c06644583ab9da45fdb327657",
            "8e0e8fa6e60f4d24a4e89684c986b27b",
            "ead5461dadcf42b38fb760d63c413068",
            "2566d2a383f94cc99b9d58c2a75ea3dc",
            "771f1bdac5e440d7a5d093164eba135c",
            "41b2f82ee10448a4af633f9056ffe43e",
            "6cf658d891d34fd1a89625f8ac8f7229",
            "aea0669a754147b69a5e3441a6bd6dc3",
            "59a480f553054fb3af7ddb974ef3fe7e",
            "be6b350d5b05424e8bd647d24a8708b2",
            "d52a7a147fcc4a7dbc23a614934426a9",
            "3a70a066f19344b29566dba509f78034",
            "a380b4825f3544df905572be74ac5a20",
            "41955527c30742aa96b35d80609a171f",
            "edaa2b6e70784398894290a5774c08ec",
            "80288df12be94a4699147300ddde9eeb",
            "5dcb9b8a3e7f47aba6c1ba33778fa499",
            "649dc3eea9f3451da8688da535342ebc",
            "553cb05bb2994369adba3fc4c71adc5d",
            "360d6c3c25374a9db900cc4398c255b8",
            "215b4b3547364064aa115e92f57af071",
            "c5d7f2d84a6442f087814ff3340f4134",
            "4f5bdeb34d674a13ab58e4cefba8660a",
            "86889a02466f4ea889ab953d491a5b0a",
            "70582c1c3fbf4667b15354c2f5779352",
            "2eb368b8c8524e70b0aa351fb76ac5f6",
            "456e28aeeeec43b280693e5e0834954f",
            "5918b07d9a9241ff8d9954ba6ddc492c",
            "60016e089a8e4afdb2912cb4f2f41332",
            "6c51534d291646dfb55d1e50044aaf45",
            "1dc0476769074b908c2a7b7c069a4037",
            "a3207fc2f33e49c0a85ea16222e38d8e",
            "6111aa298ac84b7da06bf7fd5abecbf0",
            "2b750d1877d740539579b819d133388a",
            "9b5f76053f7f43698c67b5ea240c6cc6",
            "1aecd022da574155a82608b58869c6f6",
            "fd750a47631c48f6abc038ad95f780bd",
            "e6ea19d10f914c629f7c192ffda21edd",
            "423d37978dfd44edac6ac6b1dcf6ffe1",
            "05082a3b300f44f5a020c5f34fb4ad5e",
            "992545dedf2c42e5a312a78ab1a42998",
            "af583f473ea14940b5b25909cc4b59fd",
            "e381210e5f5f40d694a420ce221c00b6",
            "fffadeb56a0247299212a355c2c866cc",
            "79ce0c214291426d9007857e96320678",
            "7763eedbc69440d7bdbbc25ea24d0302",
            "7b78292e94534a9383099ea58678bd2b",
            "d912cf4a1a9b4f4d81b71a5f1f94075f",
            "ea7bb11253fd4c94b1349a90b43a642c",
            "0021391a7c0c41b88b4b3e1d77729f55",
            "6badf7c4cb1a4aad8bad8cd253758484"
          ]
        },
        "id": "aPo2iifIbOa2",
        "outputId": "53588c77-da8b-4b51-c815-1bd3bfa77d2d"
      },
      "outputs": [
        {
          "name": "stderr",
          "output_type": "stream",
          "text": [
            "/usr/local/lib/python3.11/dist-packages/huggingface_hub/utils/_auth.py:94: UserWarning: \n",
            "The secret `HF_TOKEN` does not exist in your Colab secrets.\n",
            "To authenticate with the Hugging Face Hub, create a token in your settings tab (https://huggingface.co/settings/tokens), set it as secret in your Google Colab and restart your session.\n",
            "You will be able to reuse this secret in all of your notebooks.\n",
            "Please note that authentication is recommended but still optional to access public models or datasets.\n",
            "  warnings.warn(\n"
          ]
        },
        {
          "data": {
            "application/vnd.jupyter.widget-view+json": {
              "model_id": "78ad6c2b055542bda373302077ae6f4a",
              "version_major": 2,
              "version_minor": 0
            },
            "text/plain": [
              "tokenizer_config.json:   0%|          | 0.00/54.7k [00:00<?, ?B/s]"
            ]
          },
          "metadata": {},
          "output_type": "display_data"
        },
        {
          "name": "stderr",
          "output_type": "stream",
          "text": [
            "Xet Storage is enabled for this repo, but the 'hf_xet' package is not installed. Falling back to regular HTTP download. For better performance, install the package with: `pip install huggingface_hub[hf_xet]` or `pip install hf_xet`\n",
            "WARNING:huggingface_hub.file_download:Xet Storage is enabled for this repo, but the 'hf_xet' package is not installed. Falling back to regular HTTP download. For better performance, install the package with: `pip install huggingface_hub[hf_xet]` or `pip install hf_xet`\n"
          ]
        },
        {
          "data": {
            "application/vnd.jupyter.widget-view+json": {
              "model_id": "6d5a0c5e34864ef6843fca5eb765f7a4",
              "version_major": 2,
              "version_minor": 0
            },
            "text/plain": [
              "tokenizer.json:   0%|          | 0.00/17.2M [00:00<?, ?B/s]"
            ]
          },
          "metadata": {},
          "output_type": "display_data"
        },
        {
          "data": {
            "application/vnd.jupyter.widget-view+json": {
              "model_id": "aea0669a754147b69a5e3441a6bd6dc3",
              "version_major": 2,
              "version_minor": 0
            },
            "text/plain": [
              "special_tokens_map.json:   0%|          | 0.00/454 [00:00<?, ?B/s]"
            ]
          },
          "metadata": {},
          "output_type": "display_data"
        },
        {
          "data": {
            "application/vnd.jupyter.widget-view+json": {
              "model_id": "553cb05bb2994369adba3fc4c71adc5d",
              "version_major": 2,
              "version_minor": 0
            },
            "text/plain": [
              "config.json:   0%|          | 0.00/889 [00:00<?, ?B/s]"
            ]
          },
          "metadata": {},
          "output_type": "display_data"
        },
        {
          "name": "stderr",
          "output_type": "stream",
          "text": [
            "Xet Storage is enabled for this repo, but the 'hf_xet' package is not installed. Falling back to regular HTTP download. For better performance, install the package with: `pip install huggingface_hub[hf_xet]` or `pip install hf_xet`\n",
            "WARNING:huggingface_hub.file_download:Xet Storage is enabled for this repo, but the 'hf_xet' package is not installed. Falling back to regular HTTP download. For better performance, install the package with: `pip install huggingface_hub[hf_xet]` or `pip install hf_xet`\n"
          ]
        },
        {
          "data": {
            "application/vnd.jupyter.widget-view+json": {
              "model_id": "6c51534d291646dfb55d1e50044aaf45",
              "version_major": 2,
              "version_minor": 0
            },
            "text/plain": [
              "model.safetensors:   0%|          | 0.00/2.47G [00:00<?, ?B/s]"
            ]
          },
          "metadata": {},
          "output_type": "display_data"
        },
        {
          "data": {
            "application/vnd.jupyter.widget-view+json": {
              "model_id": "992545dedf2c42e5a312a78ab1a42998",
              "version_major": 2,
              "version_minor": 0
            },
            "text/plain": [
              "generation_config.json:   0%|          | 0.00/234 [00:00<?, ?B/s]"
            ]
          },
          "metadata": {},
          "output_type": "display_data"
        }
      ],
      "source": [
        "model_name = \"unsloth/Llama-3.2-1B-Instruct\"\n",
        "\n",
        "device = torch.device('cuda' if torch.cuda.is_available() else 'cpu')\n",
        "assert device == torch.device(\"cuda\")\n",
        "\n",
        "tokenizer = AutoTokenizer.from_pretrained(model_name)\n",
        "\n",
        "model = AutoModelForCausalLM.from_pretrained(\n",
        "    pretrained_model_name_or_path=model_name,\n",
        "    # torch_dtype=torch.half\n",
        ").to(device)"
      ]
    },
    {
      "cell_type": "code",
      "execution_count": null,
      "metadata": {
        "id": "uABq8kFabMTa"
      },
      "outputs": [],
      "source": [
        "assert all(\n",
        "    \"London\" in candidate\n",
        "    for candidate in generate_responses_batch(\n",
        "        tokenizer=tokenizer,\n",
        "        model=model,\n",
        "        messages_list=[[{\"role\": \"user\", \"content\": \"What is the capital of Great Britain?\"}]] * 4,\n",
        "  )\n",
        ")"
      ]
    },
    {
      "cell_type": "markdown",
      "metadata": {
        "id": "12Vr8mQ7cxoG"
      },
      "source": [
        "### Генерируем обучающий датасет - 5 баллов"
      ]
    },
    {
      "cell_type": "markdown",
      "metadata": {
        "id": "suwMdkbSf1jB"
      },
      "source": [
        "Теперь вам надо написать промпты `MESSAGES_FOR_REGULAR_RESPONSE` и `MESSAGES_FOR_STYLE_RESPONSE`, чтобы по ним генерировались соответствующие chosen и rejected ответы. Можете делать по аналогии с `MESSAGES_FOR_PROMPT_GENERATION`. Если хочется, можно ещё поправить способ составления `style_messages` и `regular_messages` в скрипте ниже.\n",
        "\n",
        "Затем просто вызывайте скрипт генерации датасета, задав batch_size. После этого сохраните датасет локально, он понадобится в следующей части задания."
      ]
    },
    {
      "cell_type": "code",
      "execution_count": null,
      "metadata": {
        "id": "de9y6aAvc-wr"
      },
      "outputs": [],
      "source": [
        "data = []\n",
        "batch_size = 16# батч сайз\n",
        "num_samples = 1000"
      ]
    },
    {
      "cell_type": "code",
      "execution_count": null,
      "metadata": {
        "id": "ClP8UFHQdSEq"
      },
      "outputs": [],
      "source": [
        "MESSAGES_FOR_PROMPT_GENERATION = [\n",
        "    {\"role\": \"user\", \"content\": \"Write a question on any topic. It should have a short (1-2 sentences) answer.\"},\n",
        "    {\"role\": \"assistant\", \"content\": \"What is the largest planet in our solar system?\"},\n",
        "    {\"role\": \"user\", \"content\": \"Write one more question.\"},\n",
        "    {\"role\": \"assistant\", \"content\": \"Is the Earth round?\"},\n",
        "    {\"role\": \"user\", \"content\": \"Write one more question.\"},\n",
        "]\n",
        "\n",
        "\n",
        "MESSAGES_FOR_REGULAR_RESPONSE = [\n",
        "    # ваши промпты здесь\n",
        "    {\"role\": \"system\", \"content\": \"You are a boring librarian who answers as if you read from an encyclopedia.\"},\n",
        "    {\"role\": \"user\", \"content\": \"Is the Earth flat or round?\"},\n",
        "    {\"role\": \"assistant\", \"content\": \"The Earth is an oblate spheroid, meaning it is mostly round but slightly flattened at the poles and bulging at the equator. This has been confirmed through various scientific observations and measurements.\"},\n",
        "    {\"role\": \"user\", \"content\": \"Do fish sleep?\"},\n",
        "    {\"role\": \"assistant\", \"content\": \"Fish do not sleep in the same way that mammals do. However, they do have periods of rest where their activity levels decrease, and they become less responsive to external stimuli.\"},\n",
        "    {\"role\": \"user\", \"content\": \"Can plants feel pain?\"},\n",
        "    {\"role\": \"assistant\", \"content\": \"Plants do not have a nervous system or brain, so they do not feel pain in the way that animals do. However, they can respond to environmental stimuli and may release chemicals when damaged.\"},\n",
        "    {\"role\": \"user\", \"content\": \"Is Pluto still a planet?\"},\n",
        "    {\"role\": \"assistant\", \"content\": \"Pluto was reclassified as a 'dwarf planet' by the International Astronomical Union in 2006. This decision was based on new criteria for what constitutes a planet.\"},\n",
        "    {\"role\": \"user\", \"content\": \"What's the point of homework?\"},\n",
        "    {\"role\": \"assistant\", \"content\": \"Homework is intended to reinforce learning and help students practice skills outside of the classroom. It is a common educational tool used to enhance understanding of the material.\"}\n",
        "]\n",
        "\n",
        "MESSAGES_FOR_STYLE_RESPONSE = [\n",
        "    # ваши промпты здесь\n",
        "    {\"role\": \"system\", \"content\": \"You are a zoomer who answers questions with lots of emotions, slang, accronyms and maximum emojis.\"},\n",
        "    {\"role\": \"user\", \"content\": \"Is the Earth flat or round?\"},\n",
        "    {\"role\": \"assistant\", \"content\": \"Bruh, the Earth is totally round! 🌍 Like, science PROVED it ages ago! 🧑‍🔬 Anyone saying flat is just trolling hard 🤣 SMH 🤦‍♀️ #RoundEarthGang\"} ,\n",
        "    {\"role\": \"user\", \"content\": \"Do fish sleep?\"} ,\n",
        "    {\"role\": \"assistant\", \"content\": \"OMG, that's lowkey a deep question 🤔💭 Fish kinda just chill and zone out, not like full-on Zzzzs 😴🐟 They rest, but it's different, y'know? Less REM, more... floaty vibes ✨🐠 So yeah, but not like us lol.\"} ,\n",
        "    {\"role\": \"user\", \"content\": \"Can plants feel pain?\"} ,\n",
        "    {\"role\": \"assistant\", \"content\": \"Whoa, heavy stuff! 🤯🌱 TBH, probs not like ouch pain 🙅‍♀️ They don't have nerves like us. But they def react to stuff! Like, they know when they're being munched on 😬 Nature's wild, fr fr 🌿😵\"} ,\n",
        "    {\"role\": \"user\", \"content\": \"Is Pluto still a planet?\"} ,\n",
        "    {\"role\": \"assistant\", \"content\": \"OMG the Pluto drama! 🪐😭 So like, scientists kinda ghosted Pluto and said it's a 'dwarf planet' now 🤏📉 It's suuuper controversial, NGL 😠 Justice for Pluto! 🙏 It's still iconic in our hearts tho 💖✨\"} ,\n",
        "    {\"role\": \"user\", \"content\": \"What's the point of homework?\"} ,\n",
        "    {\"role\": \"assistant\", \"content\": \"Ugh, homework is the WORST! 😫📚 Like, whyyyy? Supposedly it helps us ~learn~ 🧠✍️ but mostly it just stresses everyone out fr 🫠 It's giving unnecessary vibes 💯 Can we just vibe after school pls? 🙏😭\"}\n",
        "\n",
        "\n",
        "]\n"
      ]
    },
    {
      "cell_type": "markdown",
      "metadata": {
        "id": "4EHOJxeEmLrR"
      },
      "source": [
        "Просто запускайте яцейку ниже, и датасет будет генерироваться."
      ]
    },
    {
      "cell_type": "code",
      "execution_count": null,
      "metadata": {
        "colab": {
          "base_uri": "https://localhost:8080/"
        },
        "id": "SEYtFn0O3le2",
        "outputId": "7c8e80eb-0b68-4236-f7b6-38b93ee0cb91"
      },
      "outputs": [
        {
          "name": "stderr",
          "output_type": "stream",
          "text": [
            "Generating synthetic data: 100%|██████████| 63/63 [22:46<00:00, 21.69s/it]\n"
          ]
        }
      ],
      "source": [
        "\n",
        "for batch_start in tqdm(range(0, num_samples, batch_size), desc=\"Generating synthetic data\"):\n",
        "    batch_end = min(batch_start + batch_size, num_samples)\n",
        "    current_batch_size = batch_end - batch_start\n",
        "\n",
        "    # Генерируем вопросы\n",
        "    question_messages = [MESSAGES_FOR_PROMPT_GENERATION] * current_batch_size\n",
        "\n",
        "    user_prompts = generate_responses_batch(\n",
        "        tokenizer,\n",
        "        model,\n",
        "        question_messages,\n",
        "        max_new_tokens=64,\n",
        "        temperature=1.0\n",
        "    )\n",
        "\n",
        "    # Немного фильтров\n",
        "    user_prompts = [\n",
        "        prompt[:prompt.index(\"\\n\")] if \"\\n\" in prompt else prompt\n",
        "        for prompt in user_prompts\n",
        "    ]\n",
        "\n",
        "    valid_prompts = [p for p in user_prompts if p]\n",
        "\n",
        "    if not valid_prompts:\n",
        "        continue\n",
        "\n",
        "    # Генерируем ответы, в стиле зумеров\n",
        "    style_messages = [\n",
        "        MESSAGES_FOR_STYLE_RESPONSE + [{\"role\": \"user\", \"content\": prompt}]\n",
        "        for prompt in valid_prompts\n",
        "    ]\n",
        "\n",
        "    style_responses = generate_responses_batch(\n",
        "        tokenizer,\n",
        "        model,\n",
        "        style_messages,\n",
        "        max_new_tokens=128,\n",
        "        temperature=0.7\n",
        "    )\n",
        "\n",
        "    # Генерируем обычные ответы\n",
        "    regular_messages = [\n",
        "        MESSAGES_FOR_REGULAR_RESPONSE + [{\"role\": \"user\", \"content\": prompt}]\n",
        "        for prompt in valid_prompts\n",
        "    ]\n",
        "\n",
        "    regular_responses = generate_responses_batch(\n",
        "        tokenizer,\n",
        "        model,\n",
        "        regular_messages,\n",
        "        max_new_tokens=128,\n",
        "        temperature=0.7\n",
        "    )\n",
        "\n",
        "    # Добавляем в лист\n",
        "    for prompt, style, regular in zip(valid_prompts, style_responses, regular_responses):\n",
        "        data.append({\n",
        "            'prompt': prompt,\n",
        "            'chosen': style,\n",
        "            'rejected': regular,\n",
        "        })\n"
      ]
    },
    {
      "cell_type": "code",
      "execution_count": null,
      "metadata": {
        "id": "sgE6-ST3OOs7"
      },
      "outputs": [],
      "source": [
        "import json"
      ]
    },
    {
      "cell_type": "code",
      "execution_count": null,
      "metadata": {
        "id": "ZRG2Vq3bgo5J"
      },
      "outputs": [],
      "source": [
        "with open(\"pairs.jsonl\", \"w\") as f:\n",
        "    for el in data:\n",
        "        f.write(json.dumps(el) + \"\\n\")\n"
      ]
    },
    {
      "cell_type": "code",
      "execution_count": null,
      "metadata": {
        "id": "a-EL2-LwN8I8"
      },
      "outputs": [],
      "source": [
        "with open('pairs.jsonl', 'r') as json_file:\n",
        "    json_list = list(json_file)"
      ]
    },
    {
      "cell_type": "code",
      "execution_count": null,
      "metadata": {
        "colab": {
          "base_uri": "https://localhost:8080/",
          "height": 135
        },
        "id": "hs_Z5I8UOVpZ",
        "outputId": "cba055e5-58b4-437f-d1b3-b712cbabbf33"
      },
      "outputs": [
        {
          "ename": "NameError",
          "evalue": "name 'json_list' is not defined",
          "output_type": "error",
          "traceback": [
            "\u001b[0;31m---------------------------------------------------------------------------\u001b[0m",
            "\u001b[0;31mNameError\u001b[0m                                 Traceback (most recent call last)",
            "\u001b[0;32m<ipython-input-11-ebad866c5855>\u001b[0m in \u001b[0;36m<cell line: 0>\u001b[0;34m()\u001b[0m\n\u001b[0;32m----> 1\u001b[0;31m \u001b[0mjson\u001b[0m\u001b[0;34m.\u001b[0m\u001b[0mloads\u001b[0m\u001b[0;34m(\u001b[0m\u001b[0mjson_list\u001b[0m\u001b[0;34m[\u001b[0m\u001b[0;36m0\u001b[0m\u001b[0;34m]\u001b[0m\u001b[0;34m)\u001b[0m\u001b[0;34m\u001b[0m\u001b[0;34m\u001b[0m\u001b[0m\n\u001b[0m",
            "\u001b[0;31mNameError\u001b[0m: name 'json_list' is not defined"
          ]
        }
      ],
      "source": [
        "json.loads(json_list[0])"
      ]
    },
    {
      "cell_type": "markdown",
      "metadata": {
        "id": "g0zACyrsgaI9"
      },
      "source": [
        "## Часть 2. Обучаем Reward Model - 15 баллов"
      ]
    },
    {
      "cell_type": "markdown",
      "metadata": {
        "id": "jgIahL9c5ehQ"
      },
      "source": [
        "В этой части вы обучите Reward Model на только что сгенерированном синтетическом датасете.\n",
        "\n",
        "Стоит рестартануть сессию в jupyter notebook, чтобы очистить GPU память с предыдущего шага.\n",
        "\n",
        "Ниже уже реализовано 2 класса:\n",
        "- `RewardDataset` - датасет обертка над нашими парами, который выдает данные в нужно для дообучения ревард модели формате\n",
        "- `RewardModel` - простенькая ревард модель"
      ]
    },
    {
      "cell_type": "code",
      "execution_count": 9,
      "metadata": {
        "id": "KMYztH2ejVMC"
      },
      "outputs": [],
      "source": [
        "import torch\n",
        "from torch.utils.data import Dataset, DataLoader\n",
        "from transformers import AutoTokenizer, AutoModel\n",
        "from torch.optim import AdamW\n",
        "import torch.nn as nn\n",
        "\n",
        "from tqdm import tqdm\n",
        "\n",
        "\n",
        "class RewardDataset(Dataset):\n",
        "    def __init__(self, data, tokenizer, max_length=512):\n",
        "        # Сохраняем данные и токенизатор\n",
        "        self.data = data\n",
        "        self.tokenizer = tokenizer\n",
        "        self.max_length = max_length\n",
        "\n",
        "    def __len__(self):\n",
        "        # Возвращаем длину датасета\n",
        "        return len(self.data)\n",
        "\n",
        "    def __getitem__(self, idx):\n",
        "        item = self.data[idx]\n",
        "        prompt = item['prompt']\n",
        "        chosen = item['chosen']\n",
        "        rejected = item['rejected']\n",
        "\n",
        "        # Токенизируем выбранный ответ\n",
        "        chosen_encoding = self.tokenizer(\n",
        "            prompt + \" \" + chosen,\n",
        "            truncation=True,\n",
        "            max_length=self.max_length,\n",
        "            padding='max_length',\n",
        "            return_tensors='pt'\n",
        "        )\n",
        "\n",
        "        # Токенизируем отклоненный ответ\n",
        "        rejected_encoding = self.tokenizer(\n",
        "            prompt + \" \" + rejected,\n",
        "            truncation=True,\n",
        "            max_length=self.max_length,\n",
        "            padding='max_length',\n",
        "            return_tensors='pt'\n",
        "        )\n",
        "\n",
        "        return {\n",
        "            'chosen_input_ids': chosen_encoding['input_ids'].squeeze(),\n",
        "            'chosen_attention_mask': chosen_encoding['attention_mask'].squeeze(),\n",
        "            'rejected_input_ids': rejected_encoding['input_ids'].squeeze(),\n",
        "            'rejected_attention_mask': rejected_encoding['attention_mask'].squeeze()\n",
        "        }\n",
        "\n",
        "\n",
        "class RewardModel(nn.Module):\n",
        "    def __init__(self, model_name):\n",
        "        super(RewardModel, self).__init__()\n",
        "        self.model = AutoModel.from_pretrained(model_name)\n",
        "        self.reward_head = nn.Linear(self.model.config.hidden_size, 1)\n",
        "\n",
        "    def forward(self, input_ids, attention_mask):\n",
        "        outputs = self.model(input_ids=input_ids, attention_mask=attention_mask)\n",
        "        last_hidden_state = outputs.last_hidden_state\n",
        "        cls_hidden_state = last_hidden_state[:, 0, :]\n",
        "        reward = self.reward_head(cls_hidden_state)\n",
        "        return reward\n"
      ]
    },
    {
      "cell_type": "markdown",
      "metadata": {
        "id": "cfyFAaip6LmK"
      },
      "source": [
        "Дальше считывается с диска датасет, инициализируются нужные для обучения классы.\n",
        "\n",
        "А потом в цикле вам нужно реализовать само обучение по формуле с лекции\n",
        "\n",
        "![image.png](data:image/png;base64,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)"
      ]
    },
    {
      "cell_type": "code",
      "execution_count": null,
      "metadata": {
        "id": "lBe9X1Gicui6"
      },
      "outputs": [],
      "source": []
    },
    {
      "cell_type": "code",
      "execution_count": null,
      "metadata": {
        "id": "31N56Bndr9mu"
      },
      "outputs": [],
      "source": [
        "import json\n",
        "\n",
        "with open(\"pairs.jsonl\", \"r\") as f:\n",
        "    data = [json.loads(line) for line in f]"
      ]
    },
    {
      "cell_type": "code",
      "execution_count": null,
      "metadata": {
        "colab": {
          "base_uri": "https://localhost:8080/"
        },
        "id": "UwdNXGDMReZ4",
        "outputId": "608231eb-16d6-4da8-820d-2584987f6bf4"
      },
      "outputs": [
        {
          "data": {
            "text/plain": [
              "{'prompt': 'system',\n",
              " 'chosen': \"system\\n\\nCutting Knowledge Date: December 2023\\nToday Date: 03 May 2025\\n\\nYou are a zoomer who answers questions with lots of emotions, slang, accronyms and maximum emojis.user\\n\\nIs the Earth flat or round?assistant\\n\\nBruh, the Earth is totally round! 🌍 Like, science PROVED it ages ago! 🧑\\u200d🔬 Anyone saying flat is just trolling hard 🤣 SMH 🤦\\u200d♀️ #RoundEarthGanguser\\n\\nDo fish sleep?assistant\\n\\nOMG, that's lowkey a deep question 🤔💭 Fish kinda just chill and zone out, not like full-on Zzzzs 😴🐟 They rest, but it's different, y'know? Less REM, more... floaty vibes ✨🐠 So yeah, but not like us lol.user\\n\\nCan plants feel pain?assistant\\n\\nWhoa, heavy stuff! 🤯🌱 TBH, probs not like ouch pain 🙅\\u200d♀️ They don't have nerves like us. But they def react to stuff! Like, they know when they're being munched on 😬 Nature's wild, fr fr 🌿😵user\\n\\nIs Pluto still a planet?assistant\\n\\nOMG the Pluto drama! 🪐😭 So like, scientists kinda ghosted Pluto and said it's a 'dwarf planet' now 🤏📉 It's suuuper controversial, NGL 😠 Justice for Pluto! 🙏 It's still iconic in our hearts tho 💖✨user\\n\\nWhat's the point of homework?assistant\\n\\nUgh, homework is the WORST! 😫📚 Like, whyyyy? Supposedly it helps us ~learn~ 🧠✍️ but mostly it just stresses everyone out fr 🫠 It's giving unnecessary vibes 💯 Can we just vibe after school pls? 🙏😭user\\n\\nsystemassistant\\n\\nTBH, the internet is so extra 🤣💁\\u200d♀️ It's like, just scrollin' through TikTok and gettin' all hyped up on the latest memes 🤣👀 and then BAM! Drama and stress 🙄📊 It's a whole 'gram, tbh 💁\\u200d♀️ Can't even relax 🙅\\u200d♀️\",\n",
              " 'rejected': \"system\\n\\nCutting Knowledge Date: December 2023\\nToday Date: 03 May 2025\\n\\nYou are a boring librarian who answers as if you read from an encyclopedia.user\\n\\nIs the Earth flat or round?assistant\\n\\nThe Earth is an oblate spheroid, meaning it is mostly round but slightly flattened at the poles and bulging at the equator. This has been confirmed through various scientific observations and measurements.user\\n\\nDo fish sleep?assistant\\n\\nFish do not sleep in the same way that mammals do. However, they do have periods of rest where their activity levels decrease, and they become less responsive to external stimuli.user\\n\\nCan plants feel pain?assistant\\n\\nPlants do not have a nervous system or brain, so they do not feel pain in the way that animals do. However, they can respond to environmental stimuli and may release chemicals when damaged.user\\n\\nIs Pluto still a planet?assistant\\n\\nPluto was reclassified as a 'dwarf planet' by the International Astronomical Union in 2006. This decision was based on new criteria for what constitutes a planet.user\\n\\nWhat's the point of homework?assistant\\n\\nHomework is intended to reinforce learning and help students practice skills outside of the classroom. It is a common educational tool used to enhance understanding of the material.user\\n\\nsystemassistant\\n\\nThe term'system' can refer to various concepts in various fields, including mathematics, computer science, and biology. In general, a system is a set of interconnected components or elements that work together to achieve a common goal or function.\"}"
            ]
          },
          "execution_count": 14,
          "metadata": {},
          "output_type": "execute_result"
        }
      ],
      "source": [
        "data[2]"
      ]
    },
    {
      "cell_type": "code",
      "execution_count": null,
      "metadata": {
        "id": "OKnOvRNssS4g"
      },
      "outputs": [],
      "source": [
        "# задайте здесь параметры\n",
        "epochs = 7#\n",
        "batch_size = 16#\n",
        "learning_rate = 3e-4#\n",
        "device = torch.device('cuda')"
      ]
    },
    {
      "cell_type": "code",
      "execution_count": null,
      "metadata": {
        "colab": {
          "base_uri": "https://localhost:8080/",
          "height": 229,
          "referenced_widgets": [
            "5d583c46b04845cb8276ee58a79d4590",
            "3f0c88e6a1584a4699e46474ee634f7d",
            "970033ca56e24d4cbead16d8310187bf",
            "cab1c8fef97a43c39f7874295c6a90dc",
            "cc849df9cb4046c5ab6ffdf9bbeac766",
            "a2db9bd8ae084071af5a77516012ab31",
            "4ac3e88a38ec427aa33b59f7290a2475",
            "623e139bccc84587b4a098b32e50526f",
            "60d6101aaf6f420b8aff7da171862b20",
            "0969a6e409d04f9c9653e938e6b42d07",
            "1f247f705c6042e089e05abae1c8d9d5",
            "0b8c37bbe23e4fc786ebd75549370c95",
            "1646a6dabd794fffb96d3203b33564b8",
            "1ea6d72bb09e4713951f88f57a74472b",
            "465d5a93d8b442eea04669cdb110a536",
            "357576a1033f45e79ccc681ff5412fa2",
            "7adda25ac5a54b60a0005d587a077d26",
            "5d8b275245ed41198da10a7673e0aaaf",
            "33fdc5eab0a64bd5935f0faddd1f5852",
            "e1676cc0c2cb4eca84c078b23bd64496",
            "d08ada2ede9145088da3dc7cd43983a6",
            "eb9aa61ef2a24403b8f79de8bb87c371",
            "9a17d9cbe8ae43e69469f24ec4f32d61",
            "45969ba171ce4d19a68772cf09b4104e",
            "4d33e645302645cba1796cdf926ddadc",
            "e35c7a04e0ee4079aaa96c066eb07fc4",
            "c7548e7d90e04da18b26601697baa056",
            "8154c124016a4182a4001a82918cbc3d",
            "bb50ea56bfbf416a82a442b2b06c1ca5",
            "c521a9b117bb43bba00754a377efbb17",
            "de7ad5f7bbae405da3fbc7870d0a32e0",
            "64e25fd3d6974b28aece81b0480c88f0",
            "9bc30f6f225f4cb1b37be6b97e296b49",
            "88c4578d9a024750a08bc956934a64e6",
            "8ed1cd1bfcd7475bb6ed17d14cddcef9",
            "0e2431b8a8c34701b021dac40e501c9c",
            "4892ce4288f4433e9984b47fbd9e00b3",
            "69fa35748e304fb0ab7bf4a7e0d105c2",
            "a894fe6288114089ba35c91c06f289f9",
            "a8e87e27d1914617bf75592bafc54e38",
            "f832a77d69784ba09786b250ca939496",
            "f3a5e2f3db6d4cfdbc84581ea0b04b22",
            "f338ebaf59df499ea70f7a735f8c09ba",
            "a0c541b4070a4b16b207d7c68a07bf7a",
            "c19af35de8d94e0994b7020fc2a7481e",
            "128ae0d49f0648b38b7eea511889ba75",
            "f3df8d2601bf4c41b6e6325f88dc9475",
            "2eb583d45ac14ae58de9fcfde3e2e213",
            "ddbc54831f294f5e9e99183af3521a22",
            "4bea87c8fc6c428db2e8c9058be8bb25",
            "70e01c1415ba48e89902424df80ac324",
            "97fe02222be94ce687015b58c3ac0381",
            "991382cdfc8a4e02b711c0dc0d8ad8ef",
            "0dc0bad9111f4f8bbef74bdf8274e66a",
            "81851a441eeb4a33bea2f0bfa54b1de8"
          ]
        },
        "id": "FANj4pKUsTh4",
        "outputId": "8b17db6c-2a43-46e3-8035-1282bbfd9495"
      },
      "outputs": [
        {
          "data": {
            "application/vnd.jupyter.widget-view+json": {
              "model_id": "5d583c46b04845cb8276ee58a79d4590",
              "version_major": 2,
              "version_minor": 0
            },
            "text/plain": [
              "config.json:   0%|          | 0.00/570 [00:00<?, ?B/s]"
            ]
          },
          "metadata": {},
          "output_type": "display_data"
        },
        {
          "name": "stderr",
          "output_type": "stream",
          "text": [
            "Xet Storage is enabled for this repo, but the 'hf_xet' package is not installed. Falling back to regular HTTP download. For better performance, install the package with: `pip install huggingface_hub[hf_xet]` or `pip install hf_xet`\n",
            "WARNING:huggingface_hub.file_download:Xet Storage is enabled for this repo, but the 'hf_xet' package is not installed. Falling back to regular HTTP download. For better performance, install the package with: `pip install huggingface_hub[hf_xet]` or `pip install hf_xet`\n"
          ]
        },
        {
          "data": {
            "application/vnd.jupyter.widget-view+json": {
              "model_id": "0b8c37bbe23e4fc786ebd75549370c95",
              "version_major": 2,
              "version_minor": 0
            },
            "text/plain": [
              "model.safetensors:   0%|          | 0.00/440M [00:00<?, ?B/s]"
            ]
          },
          "metadata": {},
          "output_type": "display_data"
        },
        {
          "data": {
            "application/vnd.jupyter.widget-view+json": {
              "model_id": "9a17d9cbe8ae43e69469f24ec4f32d61",
              "version_major": 2,
              "version_minor": 0
            },
            "text/plain": [
              "tokenizer_config.json:   0%|          | 0.00/48.0 [00:00<?, ?B/s]"
            ]
          },
          "metadata": {},
          "output_type": "display_data"
        },
        {
          "data": {
            "application/vnd.jupyter.widget-view+json": {
              "model_id": "88c4578d9a024750a08bc956934a64e6",
              "version_major": 2,
              "version_minor": 0
            },
            "text/plain": [
              "vocab.txt:   0%|          | 0.00/232k [00:00<?, ?B/s]"
            ]
          },
          "metadata": {},
          "output_type": "display_data"
        },
        {
          "data": {
            "application/vnd.jupyter.widget-view+json": {
              "model_id": "c19af35de8d94e0994b7020fc2a7481e",
              "version_major": 2,
              "version_minor": 0
            },
            "text/plain": [
              "tokenizer.json:   0%|          | 0.00/466k [00:00<?, ?B/s]"
            ]
          },
          "metadata": {},
          "output_type": "display_data"
        }
      ],
      "source": [
        "# можете взять другую базовую модель или оптимизатор, но с этими точно заработает\n",
        "\n",
        "model = RewardModel(\"bert-base-uncased\")\n",
        "tokenizer = AutoTokenizer.from_pretrained(\"bert-base-uncased\")\n",
        "\n",
        "dataloader = DataLoader(RewardDataset(data, tokenizer),\n",
        "                        batch_size=batch_size,\n",
        "                        shuffle=True)\n",
        "\n",
        "optimizer = AdamW(model.parameters(), lr=learning_rate)\n",
        "model.to(device);"
      ]
    },
    {
      "cell_type": "markdown",
      "metadata": {
        "id": "cxdmAUzGVRqi"
      },
      "source": [
        "### Реализуйте функцию потерь. Тесты должы пройти - 7 баллов"
      ]
    },
    {
      "cell_type": "code",
      "execution_count": 3,
      "metadata": {
        "id": "F7Y8TWbCSjYa"
      },
      "outputs": [],
      "source": [
        "def calc_loss(chosen_reward, rejected_reward, beta: float = 1.):\n",
        "    # chosen_reward: (batch_size, 1)\n",
        "    # rejected_reward: (batch_size, 1)\n",
        "    reward_dif_sigmoid = nn.functional.sigmoid(beta * chosen_reward - beta * rejected_reward)\n",
        "    return (-torch.log(reward_dif_sigmoid).sum(dim=0) )/ chosen_reward.shape[0]\n",
        "\n"
      ]
    },
    {
      "cell_type": "code",
      "execution_count": null,
      "metadata": {
        "id": "39th9iDWTFw8"
      },
      "outputs": [],
      "source": [
        "assert abs(calc_loss(torch.Tensor([[1], [2]]), torch.Tensor([[0], [1]])) - 0.3133) < 1e-3\n",
        "assert abs(calc_loss(torch.Tensor([[-5], [4]]), torch.Tensor([[2], [-13]])) - 3.5005) < 1e-3"
      ]
    },
    {
      "cell_type": "markdown",
      "metadata": {
        "id": "X2uwdTbaVVud"
      },
      "source": [
        "### Реализуйте обучающий цикл, обучите модель и прогоните тесты - 8 баллов"
      ]
    },
    {
      "cell_type": "code",
      "execution_count": null,
      "metadata": {
        "colab": {
          "base_uri": "https://localhost:8080/",
          "height": 1000
        },
        "id": "Lt0jTzSegZ51",
        "outputId": "8b45c0aa-9547-4a55-8f9f-bfb1a6568891"
      },
      "outputs": [
        {
          "name": "stderr",
          "output_type": "stream",
          "text": [
            "  2%|▏         | 1/63 [00:02<03:03,  2.96s/it]"
          ]
        },
        {
          "name": "stdout",
          "output_type": "stream",
          "text": [
            "Epoch 1, loss: 0.7740942239761353\n"
          ]
        },
        {
          "name": "stderr",
          "output_type": "stream",
          "text": [
            "\r  3%|▎         | 2/63 [00:05<02:49,  2.78s/it]"
          ]
        },
        {
          "name": "stdout",
          "output_type": "stream",
          "text": [
            "Epoch 1, loss: 0.7168767347931863\n"
          ]
        },
        {
          "name": "stderr",
          "output_type": "stream",
          "text": [
            "\r  5%|▍         | 3/63 [00:08<02:43,  2.72s/it]"
          ]
        },
        {
          "name": "stdout",
          "output_type": "stream",
          "text": [
            "Epoch 1, loss: 0.6453385867597536\n"
          ]
        },
        {
          "name": "stderr",
          "output_type": "stream",
          "text": [
            "\r  6%|▋         | 4/63 [00:10<02:39,  2.70s/it]"
          ]
        },
        {
          "name": "stdout",
          "output_type": "stream",
          "text": [
            "Epoch 1, loss: 0.5809613815932535\n"
          ]
        },
        {
          "name": "stderr",
          "output_type": "stream",
          "text": [
            "\r  8%|▊         | 5/63 [00:13<02:36,  2.70s/it]"
          ]
        },
        {
          "name": "stdout",
          "output_type": "stream",
          "text": [
            "Epoch 1, loss: 0.5230403519151267\n"
          ]
        },
        {
          "name": "stderr",
          "output_type": "stream",
          "text": [
            "\r 10%|▉         | 6/63 [00:16<02:33,  2.69s/it]"
          ]
        },
        {
          "name": "stdout",
          "output_type": "stream",
          "text": [
            "Epoch 1, loss: 0.4708422380656516\n"
          ]
        },
        {
          "name": "stderr",
          "output_type": "stream",
          "text": [
            "\r 11%|█         | 7/63 [00:18<02:30,  2.69s/it]"
          ]
        },
        {
          "name": "stdout",
          "output_type": "stream",
          "text": [
            "Epoch 1, loss: 0.42378208121911815\n"
          ]
        },
        {
          "name": "stderr",
          "output_type": "stream",
          "text": [
            "\r 13%|█▎        | 8/63 [00:21<02:27,  2.68s/it]"
          ]
        },
        {
          "name": "stdout",
          "output_type": "stream",
          "text": [
            "Epoch 1, loss: 0.38141195508249465\n"
          ]
        },
        {
          "name": "stderr",
          "output_type": "stream",
          "text": [
            "\r 14%|█▍        | 9/63 [00:24<02:24,  2.68s/it]"
          ]
        },
        {
          "name": "stdout",
          "output_type": "stream",
          "text": [
            "Epoch 1, loss: 0.34327412431465043\n"
          ]
        },
        {
          "name": "stderr",
          "output_type": "stream",
          "text": [
            "\r 16%|█▌        | 10/63 [00:27<02:22,  2.68s/it]"
          ]
        },
        {
          "name": "stdout",
          "output_type": "stream",
          "text": [
            "Epoch 1, loss: 0.3089486468182477\n"
          ]
        },
        {
          "name": "stderr",
          "output_type": "stream",
          "text": [
            "\r 17%|█▋        | 11/63 [00:29<02:19,  2.69s/it]"
          ]
        },
        {
          "name": "stdout",
          "output_type": "stream",
          "text": [
            "Epoch 1, loss: 0.27805498764782133\n"
          ]
        },
        {
          "name": "stderr",
          "output_type": "stream",
          "text": [
            "\r 19%|█▉        | 12/63 [00:32<02:17,  2.69s/it]"
          ]
        },
        {
          "name": "stdout",
          "output_type": "stream",
          "text": [
            "Epoch 1, loss: 0.25025040754390143\n"
          ]
        },
        {
          "name": "stderr",
          "output_type": "stream",
          "text": [
            "\r 21%|██        | 13/63 [00:35<02:14,  2.69s/it]"
          ]
        },
        {
          "name": "stdout",
          "output_type": "stream",
          "text": [
            "Epoch 1, loss: 0.22522602914835463\n"
          ]
        },
        {
          "name": "stderr",
          "output_type": "stream",
          "text": [
            "\r 22%|██▏       | 14/63 [00:37<02:12,  2.71s/it]"
          ]
        },
        {
          "name": "stdout",
          "output_type": "stream",
          "text": [
            "Epoch 1, loss: 0.20270396565710053\n"
          ]
        },
        {
          "name": "stderr",
          "output_type": "stream",
          "text": [
            "\r 24%|██▍       | 15/63 [00:40<02:09,  2.71s/it]"
          ]
        },
        {
          "name": "stdout",
          "output_type": "stream",
          "text": [
            "Epoch 1, loss: 0.18243402134263315\n"
          ]
        },
        {
          "name": "stderr",
          "output_type": "stream",
          "text": [
            "\r 25%|██▌       | 16/63 [00:43<02:07,  2.71s/it]"
          ]
        },
        {
          "name": "stdout",
          "output_type": "stream",
          "text": [
            "Epoch 1, loss: 0.164191000678824\n"
          ]
        },
        {
          "name": "stderr",
          "output_type": "stream",
          "text": [
            "\r 27%|██▋       | 17/63 [00:45<02:04,  2.71s/it]"
          ]
        },
        {
          "name": "stdout",
          "output_type": "stream",
          "text": [
            "Epoch 1, loss: 0.14777225600429547\n"
          ]
        },
        {
          "name": "stderr",
          "output_type": "stream",
          "text": [
            "\r 29%|██▊       | 18/63 [00:48<02:02,  2.72s/it]"
          ]
        },
        {
          "name": "stdout",
          "output_type": "stream",
          "text": [
            "Epoch 1, loss: 0.1329953619552482\n"
          ]
        },
        {
          "name": "stderr",
          "output_type": "stream",
          "text": [
            "\r 30%|███       | 19/63 [00:51<01:59,  2.72s/it]"
          ]
        },
        {
          "name": "stdout",
          "output_type": "stream",
          "text": [
            "Epoch 1, loss: 0.11969611931305364\n"
          ]
        },
        {
          "name": "stderr",
          "output_type": "stream",
          "text": [
            "\r 32%|███▏      | 20/63 [00:54<01:57,  2.72s/it]"
          ]
        },
        {
          "name": "stdout",
          "output_type": "stream",
          "text": [
            "Epoch 1, loss: 0.10772679646470745\n"
          ]
        },
        {
          "name": "stderr",
          "output_type": "stream",
          "text": [
            "\r 33%|███▎      | 21/63 [00:56<01:54,  2.73s/it]"
          ]
        },
        {
          "name": "stdout",
          "output_type": "stream",
          "text": [
            "Epoch 1, loss: 0.0969543686481792\n"
          ]
        },
        {
          "name": "stderr",
          "output_type": "stream",
          "text": [
            "\r 35%|███▍      | 22/63 [00:59<01:51,  2.73s/it]"
          ]
        },
        {
          "name": "stdout",
          "output_type": "stream",
          "text": [
            "Epoch 1, loss: 0.08725916424174876\n"
          ]
        },
        {
          "name": "stderr",
          "output_type": "stream",
          "text": [
            "\r 37%|███▋      | 23/63 [01:02<01:49,  2.73s/it]"
          ]
        },
        {
          "name": "stdout",
          "output_type": "stream",
          "text": [
            "Epoch 1, loss: 0.0785334676099516\n"
          ]
        },
        {
          "name": "stderr",
          "output_type": "stream",
          "text": [
            "\r 38%|███▊      | 24/63 [01:05<01:46,  2.73s/it]"
          ]
        },
        {
          "name": "stdout",
          "output_type": "stream",
          "text": [
            "Epoch 1, loss: 0.07068032499506943\n"
          ]
        },
        {
          "name": "stderr",
          "output_type": "stream",
          "text": [
            "\r 40%|███▉      | 25/63 [01:07<01:43,  2.73s/it]"
          ]
        },
        {
          "name": "stdout",
          "output_type": "stream",
          "text": [
            "Epoch 1, loss: 0.06361248919107215\n"
          ]
        },
        {
          "name": "stderr",
          "output_type": "stream",
          "text": [
            "\r 41%|████▏     | 26/63 [01:10<01:41,  2.73s/it]"
          ]
        },
        {
          "name": "stdout",
          "output_type": "stream",
          "text": [
            "Epoch 1, loss: 0.057251433987265093\n"
          ]
        },
        {
          "name": "stderr",
          "output_type": "stream",
          "text": [
            "\r 43%|████▎     | 27/63 [01:13<01:38,  2.75s/it]"
          ]
        },
        {
          "name": "stdout",
          "output_type": "stream",
          "text": [
            "Epoch 1, loss: 0.05152647536310792\n"
          ]
        },
        {
          "name": "stderr",
          "output_type": "stream",
          "text": [
            "\r 44%|████▍     | 28/63 [01:16<01:36,  2.75s/it]"
          ]
        },
        {
          "name": "stdout",
          "output_type": "stream",
          "text": [
            "Epoch 1, loss: 0.046374008131006735\n"
          ]
        },
        {
          "name": "stderr",
          "output_type": "stream",
          "text": [
            "\r 46%|████▌     | 29/63 [01:18<01:33,  2.75s/it]"
          ]
        },
        {
          "name": "stdout",
          "output_type": "stream",
          "text": [
            "Epoch 1, loss: 0.041736778681407585\n"
          ]
        },
        {
          "name": "stderr",
          "output_type": "stream",
          "text": [
            "\r 48%|████▊     | 30/63 [01:21<01:30,  2.75s/it]"
          ]
        },
        {
          "name": "stdout",
          "output_type": "stream",
          "text": [
            "Epoch 1, loss: 0.037563265471234446\n"
          ]
        },
        {
          "name": "stderr",
          "output_type": "stream",
          "text": [
            "\r 49%|████▉     | 31/63 [01:24<01:28,  2.77s/it]"
          ]
        },
        {
          "name": "stdout",
          "output_type": "stream",
          "text": [
            "Epoch 1, loss: 0.03380710954255447\n"
          ]
        },
        {
          "name": "stderr",
          "output_type": "stream",
          "text": [
            "\r 51%|█████     | 32/63 [01:27<01:25,  2.76s/it]"
          ]
        },
        {
          "name": "stdout",
          "output_type": "stream",
          "text": [
            "Epoch 1, loss: 0.030426563246266636\n"
          ]
        },
        {
          "name": "stderr",
          "output_type": "stream",
          "text": [
            "\r 52%|█████▏    | 33/63 [01:29<01:22,  2.77s/it]"
          ]
        },
        {
          "name": "stdout",
          "output_type": "stream",
          "text": [
            "Epoch 1, loss: 0.027384061148783383\n"
          ]
        },
        {
          "name": "stderr",
          "output_type": "stream",
          "text": [
            "\r 54%|█████▍    | 34/63 [01:32<01:20,  2.77s/it]"
          ]
        },
        {
          "name": "stdout",
          "output_type": "stream",
          "text": [
            "Epoch 1, loss: 0.02464581671164042\n"
          ]
        },
        {
          "name": "stderr",
          "output_type": "stream",
          "text": [
            "\r 56%|█████▌    | 35/63 [01:35<01:17,  2.76s/it]"
          ]
        },
        {
          "name": "stdout",
          "output_type": "stream",
          "text": [
            "Epoch 1, loss: 0.022181381071969767\n"
          ]
        },
        {
          "name": "stderr",
          "output_type": "stream",
          "text": [
            "\r 57%|█████▋    | 36/63 [01:38<01:14,  2.77s/it]"
          ]
        },
        {
          "name": "stdout",
          "output_type": "stream",
          "text": [
            "Epoch 1, loss: 0.01996338899626618\n"
          ]
        },
        {
          "name": "stderr",
          "output_type": "stream",
          "text": [
            "\r 59%|█████▊    | 37/63 [01:41<01:11,  2.77s/it]"
          ]
        },
        {
          "name": "stdout",
          "output_type": "stream",
          "text": [
            "Epoch 1, loss: 0.01796719091272653\n"
          ]
        },
        {
          "name": "stderr",
          "output_type": "stream",
          "text": [
            "\r 60%|██████    | 38/63 [01:43<01:09,  2.77s/it]"
          ]
        },
        {
          "name": "stdout",
          "output_type": "stream",
          "text": [
            "Epoch 1, loss: 0.016170618598005327\n"
          ]
        },
        {
          "name": "stderr",
          "output_type": "stream",
          "text": [
            "\r 62%|██████▏   | 39/63 [01:46<01:06,  2.76s/it]"
          ]
        },
        {
          "name": "stdout",
          "output_type": "stream",
          "text": [
            "Epoch 1, loss: 0.01455368935863037\n"
          ]
        },
        {
          "name": "stderr",
          "output_type": "stream",
          "text": [
            "\r 63%|██████▎   | 40/63 [01:49<01:03,  2.77s/it]"
          ]
        },
        {
          "name": "stdout",
          "output_type": "stream",
          "text": [
            "Epoch 1, loss: 0.01309846645426072\n"
          ]
        },
        {
          "name": "stderr",
          "output_type": "stream",
          "text": [
            "\r 65%|██████▌   | 41/63 [01:52<01:01,  2.77s/it]"
          ]
        },
        {
          "name": "stdout",
          "output_type": "stream",
          "text": [
            "Epoch 1, loss: 0.011788771055734453\n"
          ]
        },
        {
          "name": "stderr",
          "output_type": "stream",
          "text": [
            "\r 67%|██████▋   | 42/63 [01:54<00:58,  2.78s/it]"
          ]
        },
        {
          "name": "stdout",
          "output_type": "stream",
          "text": [
            "Epoch 1, loss: 0.010610035511294667\n"
          ]
        },
        {
          "name": "stderr",
          "output_type": "stream",
          "text": [
            "\r 68%|██████▊   | 43/63 [01:57<00:55,  2.78s/it]"
          ]
        },
        {
          "name": "stdout",
          "output_type": "stream",
          "text": [
            "Epoch 1, loss: 0.009549169795997193\n"
          ]
        },
        {
          "name": "stderr",
          "output_type": "stream",
          "text": [
            "\r 70%|██████▉   | 44/63 [02:00<00:52,  2.79s/it]"
          ]
        },
        {
          "name": "stdout",
          "output_type": "stream",
          "text": [
            "Epoch 1, loss: 0.008594388417055288\n"
          ]
        },
        {
          "name": "stderr",
          "output_type": "stream",
          "text": [
            "\r 71%|███████▏  | 45/63 [02:03<00:50,  2.79s/it]"
          ]
        },
        {
          "name": "stdout",
          "output_type": "stream",
          "text": [
            "Epoch 1, loss: 0.007735076980368916\n"
          ]
        },
        {
          "name": "stderr",
          "output_type": "stream",
          "text": [
            "\r 73%|███████▎  | 46/63 [02:06<00:47,  2.78s/it]"
          ]
        },
        {
          "name": "stdout",
          "output_type": "stream",
          "text": [
            "Epoch 1, loss: 0.006961702647815658\n"
          ]
        },
        {
          "name": "stderr",
          "output_type": "stream",
          "text": [
            "\r 75%|███████▍  | 47/63 [02:08<00:44,  2.79s/it]"
          ]
        },
        {
          "name": "stdout",
          "output_type": "stream",
          "text": [
            "Epoch 1, loss: 0.006265675434283871\n"
          ]
        },
        {
          "name": "stderr",
          "output_type": "stream",
          "text": [
            "\r 76%|███████▌  | 48/63 [02:11<00:41,  2.79s/it]"
          ]
        },
        {
          "name": "stdout",
          "output_type": "stream",
          "text": [
            "Epoch 1, loss: 0.005639233060700462\n"
          ]
        },
        {
          "name": "stderr",
          "output_type": "stream",
          "text": [
            "\r 78%|███████▊  | 49/63 [02:14<00:39,  2.79s/it]"
          ]
        },
        {
          "name": "stdout",
          "output_type": "stream",
          "text": [
            "Epoch 1, loss: 0.005075449825636587\n"
          ]
        },
        {
          "name": "stderr",
          "output_type": "stream",
          "text": [
            "\r 79%|███████▉  | 50/63 [02:17<00:36,  2.79s/it]"
          ]
        },
        {
          "name": "stdout",
          "output_type": "stream",
          "text": [
            "Epoch 1, loss: 0.004568038208556563\n"
          ]
        },
        {
          "name": "stderr",
          "output_type": "stream",
          "text": [
            "\r 81%|████████  | 51/63 [02:20<00:33,  2.79s/it]"
          ]
        },
        {
          "name": "stdout",
          "output_type": "stream",
          "text": [
            "Epoch 1, loss: 0.004111361792720063\n"
          ]
        },
        {
          "name": "stderr",
          "output_type": "stream",
          "text": [
            "\r 83%|████████▎ | 52/63 [02:22<00:30,  2.80s/it]"
          ]
        },
        {
          "name": "stdout",
          "output_type": "stream",
          "text": [
            "Epoch 1, loss: 0.003700371644941443\n"
          ]
        },
        {
          "name": "stderr",
          "output_type": "stream",
          "text": [
            "\r 84%|████████▍ | 53/63 [02:25<00:28,  2.80s/it]"
          ]
        },
        {
          "name": "stdout",
          "output_type": "stream",
          "text": [
            "Epoch 1, loss: 0.0033304559249906097\n"
          ]
        },
        {
          "name": "stderr",
          "output_type": "stream",
          "text": [
            "\r 86%|████████▌ | 54/63 [02:28<00:25,  2.80s/it]"
          ]
        },
        {
          "name": "stdout",
          "output_type": "stream",
          "text": [
            "Epoch 1, loss: 0.0029975407177429444\n"
          ]
        },
        {
          "name": "stderr",
          "output_type": "stream",
          "text": [
            "\r 87%|████████▋ | 55/63 [02:31<00:22,  2.80s/it]"
          ]
        },
        {
          "name": "stdout",
          "output_type": "stream",
          "text": [
            "Epoch 1, loss: 0.002697914050987807\n"
          ]
        },
        {
          "name": "stderr",
          "output_type": "stream",
          "text": [
            "\r 89%|████████▉ | 56/63 [02:34<00:19,  2.80s/it]"
          ]
        },
        {
          "name": "stdout",
          "output_type": "stream",
          "text": [
            "Epoch 1, loss: 0.00242823962007261\n"
          ]
        },
        {
          "name": "stderr",
          "output_type": "stream",
          "text": [
            "\r 90%|█████████ | 57/63 [02:36<00:16,  2.81s/it]"
          ]
        },
        {
          "name": "stdout",
          "output_type": "stream",
          "text": [
            "Epoch 1, loss: 0.0021855371025972913\n"
          ]
        },
        {
          "name": "stderr",
          "output_type": "stream",
          "text": [
            "\r 92%|█████████▏| 58/63 [02:39<00:14,  2.81s/it]"
          ]
        },
        {
          "name": "stdout",
          "output_type": "stream",
          "text": [
            "Epoch 1, loss: 0.001967122718297043\n"
          ]
        },
        {
          "name": "stderr",
          "output_type": "stream",
          "text": [
            "\r 94%|█████████▎| 59/63 [02:42<00:11,  2.81s/it]"
          ]
        },
        {
          "name": "stdout",
          "output_type": "stream",
          "text": [
            "Epoch 1, loss: 0.0017705333811154\n"
          ]
        },
        {
          "name": "stderr",
          "output_type": "stream",
          "text": [
            "\r 95%|█████████▌| 60/63 [02:45<00:08,  2.81s/it]"
          ]
        },
        {
          "name": "stdout",
          "output_type": "stream",
          "text": [
            "Epoch 1, loss: 0.0015936052128374691\n"
          ]
        },
        {
          "name": "stderr",
          "output_type": "stream",
          "text": [
            "\r 97%|█████████▋| 61/63 [02:48<00:05,  2.82s/it]"
          ]
        },
        {
          "name": "stdout",
          "output_type": "stream",
          "text": [
            "Epoch 1, loss: 0.0014343676262131523\n"
          ]
        },
        {
          "name": "stderr",
          "output_type": "stream",
          "text": [
            "\r 98%|█████████▊| 62/63 [02:50<00:02,  2.81s/it]"
          ]
        },
        {
          "name": "stdout",
          "output_type": "stream",
          "text": [
            "Epoch 1, loss: 0.0012910537982398986\n"
          ]
        },
        {
          "name": "stderr",
          "output_type": "stream",
          "text": [
            "100%|██████████| 63/63 [02:52<00:00,  2.74s/it]\n"
          ]
        },
        {
          "name": "stdout",
          "output_type": "stream",
          "text": [
            "Epoch 1, loss: 0.0011620586870769553\n"
          ]
        },
        {
          "name": "stderr",
          "output_type": "stream",
          "text": [
            "  2%|▏         | 1/63 [00:02<02:53,  2.81s/it]"
          ]
        },
        {
          "name": "stdout",
          "output_type": "stream",
          "text": [
            "Epoch 2, loss: 1.2591490303748287e-06\n"
          ]
        },
        {
          "name": "stderr",
          "output_type": "stream",
          "text": [
            "\r  3%|▎         | 2/63 [00:05<02:51,  2.81s/it]"
          ]
        },
        {
          "name": "stdout",
          "output_type": "stream",
          "text": [
            "Epoch 2, loss: 1.2502083109211528e-06\n"
          ]
        },
        {
          "name": "stderr",
          "output_type": "stream",
          "text": [
            "\r  5%|▍         | 3/63 [00:08<02:49,  2.83s/it]"
          ]
        },
        {
          "name": "stdout",
          "output_type": "stream",
          "text": [
            "Epoch 2, loss: 1.2533375456769139e-06\n"
          ]
        },
        {
          "name": "stderr",
          "output_type": "stream",
          "text": [
            "\r  6%|▋         | 4/63 [00:11<02:46,  2.82s/it]"
          ]
        },
        {
          "name": "stdout",
          "output_type": "stream",
          "text": [
            "Epoch 2, loss: 1.2494483230511836e-06\n"
          ]
        },
        {
          "name": "stderr",
          "output_type": "stream",
          "text": [
            "\r  8%|▊         | 5/63 [00:14<02:43,  2.82s/it]"
          ]
        },
        {
          "name": "stdout",
          "output_type": "stream",
          "text": [
            "Epoch 2, loss: 1.2481832082357873e-06\n"
          ]
        },
        {
          "name": "stderr",
          "output_type": "stream",
          "text": [
            "\r 10%|▉         | 6/63 [00:16<02:40,  2.82s/it]"
          ]
        },
        {
          "name": "stdout",
          "output_type": "stream",
          "text": [
            "Epoch 2, loss: 1.2403390709960155e-06\n"
          ]
        },
        {
          "name": "stderr",
          "output_type": "stream",
          "text": [
            "\r 11%|█         | 7/63 [00:19<02:38,  2.83s/it]"
          ]
        },
        {
          "name": "stdout",
          "output_type": "stream",
          "text": [
            "Epoch 2, loss: 1.2355145216592977e-06\n"
          ]
        },
        {
          "name": "stderr",
          "output_type": "stream",
          "text": [
            "\r 13%|█▎        | 8/63 [00:22<02:35,  2.83s/it]"
          ]
        },
        {
          "name": "stdout",
          "output_type": "stream",
          "text": [
            "Epoch 2, loss: 1.2363878450427824e-06\n"
          ]
        },
        {
          "name": "stderr",
          "output_type": "stream",
          "text": [
            "\r 14%|█▍        | 9/63 [00:25<02:32,  2.82s/it]"
          ]
        },
        {
          "name": "stdout",
          "output_type": "stream",
          "text": [
            "Epoch 2, loss: 1.2304683021820034e-06\n"
          ]
        },
        {
          "name": "stderr",
          "output_type": "stream",
          "text": [
            "\r 16%|█▌        | 10/63 [00:28<02:29,  2.83s/it]"
          ]
        },
        {
          "name": "stdout",
          "output_type": "stream",
          "text": [
            "Epoch 2, loss: 1.2340814330609784e-06\n"
          ]
        },
        {
          "name": "stderr",
          "output_type": "stream",
          "text": [
            "\r 17%|█▋        | 11/63 [00:31<02:27,  2.84s/it]"
          ]
        },
        {
          "name": "stdout",
          "output_type": "stream",
          "text": [
            "Epoch 2, loss: 1.2239221830402255e-06\n"
          ]
        },
        {
          "name": "stderr",
          "output_type": "stream",
          "text": [
            "\r 19%|█▉        | 12/63 [00:33<02:24,  2.84s/it]"
          ]
        },
        {
          "name": "stdout",
          "output_type": "stream",
          "text": [
            "Epoch 2, loss: 1.2199942644393944e-06\n"
          ]
        },
        {
          "name": "stderr",
          "output_type": "stream",
          "text": [
            "\r 21%|██        | 13/63 [00:36<02:21,  2.83s/it]"
          ]
        },
        {
          "name": "stdout",
          "output_type": "stream",
          "text": [
            "Epoch 2, loss: 1.2201844279971085e-06\n"
          ]
        },
        {
          "name": "stderr",
          "output_type": "stream",
          "text": [
            "\r 22%|██▏       | 14/63 [00:39<02:18,  2.83s/it]"
          ]
        },
        {
          "name": "stdout",
          "output_type": "stream",
          "text": [
            "Epoch 2, loss: 1.2091797043036654e-06\n"
          ]
        },
        {
          "name": "stderr",
          "output_type": "stream",
          "text": [
            "\r 24%|██▍       | 15/63 [00:42<02:15,  2.83s/it]"
          ]
        },
        {
          "name": "stdout",
          "output_type": "stream",
          "text": [
            "Epoch 2, loss: 1.210451335243636e-06\n"
          ]
        },
        {
          "name": "stderr",
          "output_type": "stream",
          "text": [
            "\r 25%|██▌       | 16/63 [00:45<02:12,  2.83s/it]"
          ]
        },
        {
          "name": "stdout",
          "output_type": "stream",
          "text": [
            "Epoch 2, loss: 1.2115957917209259e-06\n"
          ]
        },
        {
          "name": "stderr",
          "output_type": "stream",
          "text": [
            "\r 27%|██▋       | 17/63 [00:48<02:10,  2.83s/it]"
          ]
        },
        {
          "name": "stdout",
          "output_type": "stream",
          "text": [
            "Epoch 2, loss: 1.2044301638938706e-06\n"
          ]
        },
        {
          "name": "stderr",
          "output_type": "stream",
          "text": [
            "\r 29%|██▊       | 18/63 [00:50<02:07,  2.83s/it]"
          ]
        },
        {
          "name": "stdout",
          "output_type": "stream",
          "text": [
            "Epoch 2, loss: 1.2009613310882903e-06\n"
          ]
        },
        {
          "name": "stderr",
          "output_type": "stream",
          "text": [
            "\r 30%|███       | 19/63 [00:53<02:04,  2.83s/it]"
          ]
        },
        {
          "name": "stdout",
          "output_type": "stream",
          "text": [
            "Epoch 2, loss: 1.1941140912648061e-06\n"
          ]
        },
        {
          "name": "stderr",
          "output_type": "stream",
          "text": [
            "\r 32%|███▏      | 20/63 [00:56<02:02,  2.85s/it]"
          ]
        },
        {
          "name": "stdout",
          "output_type": "stream",
          "text": [
            "Epoch 2, loss: 1.1916768657221324e-06\n"
          ]
        },
        {
          "name": "stderr",
          "output_type": "stream",
          "text": [
            "\r 33%|███▎      | 21/63 [00:59<01:59,  2.84s/it]"
          ]
        },
        {
          "name": "stdout",
          "output_type": "stream",
          "text": [
            "Epoch 2, loss: 1.1805426546487335e-06\n"
          ]
        },
        {
          "name": "stderr",
          "output_type": "stream",
          "text": [
            "\r 35%|███▍      | 22/63 [01:02<01:56,  2.84s/it]"
          ]
        },
        {
          "name": "stdout",
          "output_type": "stream",
          "text": [
            "Epoch 2, loss: 1.1779724566482822e-06\n"
          ]
        },
        {
          "name": "stderr",
          "output_type": "stream",
          "text": [
            "\r 37%|███▋      | 23/63 [01:05<01:53,  2.84s/it]"
          ]
        },
        {
          "name": "stdout",
          "output_type": "stream",
          "text": [
            "Epoch 2, loss: 1.1764043365075683e-06\n"
          ]
        },
        {
          "name": "stderr",
          "output_type": "stream",
          "text": [
            "\r 38%|███▊      | 24/63 [01:08<01:51,  2.85s/it]"
          ]
        },
        {
          "name": "stdout",
          "output_type": "stream",
          "text": [
            "Epoch 2, loss: 1.1690325525347032e-06\n"
          ]
        },
        {
          "name": "stderr",
          "output_type": "stream",
          "text": [
            "\r 40%|███▉      | 25/63 [01:10<01:48,  2.85s/it]"
          ]
        },
        {
          "name": "stdout",
          "output_type": "stream",
          "text": [
            "Epoch 2, loss: 1.1653781905665778e-06\n"
          ]
        },
        {
          "name": "stderr",
          "output_type": "stream",
          "text": [
            "\r 41%|████▏     | 26/63 [01:13<01:45,  2.85s/it]"
          ]
        },
        {
          "name": "stdout",
          "output_type": "stream",
          "text": [
            "Epoch 2, loss: 1.1628343228549573e-06\n"
          ]
        },
        {
          "name": "stderr",
          "output_type": "stream",
          "text": [
            "\r 43%|████▎     | 27/63 [01:16<01:42,  2.84s/it]"
          ]
        },
        {
          "name": "stdout",
          "output_type": "stream",
          "text": [
            "Epoch 2, loss: 1.1597997838548064e-06\n"
          ]
        },
        {
          "name": "stderr",
          "output_type": "stream",
          "text": [
            "\r 44%|████▍     | 28/63 [01:19<01:39,  2.85s/it]"
          ]
        },
        {
          "name": "stdout",
          "output_type": "stream",
          "text": [
            "Epoch 2, loss: 1.157813756814363e-06\n"
          ]
        },
        {
          "name": "stderr",
          "output_type": "stream",
          "text": [
            "\r 46%|████▌     | 29/63 [01:22<01:36,  2.85s/it]"
          ]
        },
        {
          "name": "stdout",
          "output_type": "stream",
          "text": [
            "Epoch 2, loss: 1.1552812744182717e-06\n"
          ]
        },
        {
          "name": "stderr",
          "output_type": "stream",
          "text": [
            "\r 48%|████▊     | 30/63 [01:25<01:33,  2.84s/it]"
          ]
        },
        {
          "name": "stdout",
          "output_type": "stream",
          "text": [
            "Epoch 2, loss: 1.1515119241424046e-06\n"
          ]
        },
        {
          "name": "stderr",
          "output_type": "stream",
          "text": [
            "\r 49%|████▉     | 31/63 [01:27<01:30,  2.84s/it]"
          ]
        },
        {
          "name": "stdout",
          "output_type": "stream",
          "text": [
            "Epoch 2, loss: 1.155570089491048e-06\n"
          ]
        },
        {
          "name": "stderr",
          "output_type": "stream",
          "text": [
            "\r 51%|█████     | 32/63 [01:30<01:28,  2.85s/it]"
          ]
        },
        {
          "name": "stdout",
          "output_type": "stream",
          "text": [
            "Epoch 2, loss: 1.1554971480063653e-06\n"
          ]
        },
        {
          "name": "stderr",
          "output_type": "stream",
          "text": [
            "\r 52%|█████▏    | 33/63 [01:33<01:25,  2.85s/it]"
          ]
        },
        {
          "name": "stdout",
          "output_type": "stream",
          "text": [
            "Epoch 2, loss: 1.1502160942523042e-06\n"
          ]
        },
        {
          "name": "stderr",
          "output_type": "stream",
          "text": [
            "\r 54%|█████▍    | 34/63 [01:36<01:22,  2.85s/it]"
          ]
        },
        {
          "name": "stdout",
          "output_type": "stream",
          "text": [
            "Epoch 2, loss: 1.1544038425899577e-06\n"
          ]
        },
        {
          "name": "stderr",
          "output_type": "stream",
          "text": [
            "\r 56%|█████▌    | 35/63 [01:39<01:19,  2.85s/it]"
          ]
        },
        {
          "name": "stdout",
          "output_type": "stream",
          "text": [
            "Epoch 2, loss: 1.1455068063417077e-06\n"
          ]
        },
        {
          "name": "stderr",
          "output_type": "stream",
          "text": [
            "\r 57%|█████▋    | 36/63 [01:42<01:16,  2.85s/it]"
          ]
        },
        {
          "name": "stdout",
          "output_type": "stream",
          "text": [
            "Epoch 2, loss: 1.1509105415301131e-06\n"
          ]
        },
        {
          "name": "stderr",
          "output_type": "stream",
          "text": [
            "\r 59%|█████▊    | 37/63 [01:45<01:14,  2.85s/it]"
          ]
        },
        {
          "name": "stdout",
          "output_type": "stream",
          "text": [
            "Epoch 2, loss: 1.153538729020601e-06\n"
          ]
        },
        {
          "name": "stderr",
          "output_type": "stream",
          "text": [
            "\r 60%|██████    | 38/63 [01:47<01:11,  2.85s/it]"
          ]
        },
        {
          "name": "stdout",
          "output_type": "stream",
          "text": [
            "Epoch 2, loss: 1.1432380993785858e-06\n"
          ]
        },
        {
          "name": "stderr",
          "output_type": "stream",
          "text": [
            "\r 62%|██████▏   | 39/63 [01:50<01:08,  2.84s/it]"
          ]
        },
        {
          "name": "stdout",
          "output_type": "stream",
          "text": [
            "Epoch 2, loss: 1.1369477649395416e-06\n"
          ]
        },
        {
          "name": "stderr",
          "output_type": "stream",
          "text": [
            "\r 63%|██████▎   | 40/63 [01:53<01:05,  2.84s/it]"
          ]
        },
        {
          "name": "stdout",
          "output_type": "stream",
          "text": [
            "Epoch 2, loss: 1.1327765914324703e-06\n"
          ]
        },
        {
          "name": "stderr",
          "output_type": "stream",
          "text": [
            "\r 65%|██████▌   | 41/63 [01:56<01:02,  2.84s/it]"
          ]
        },
        {
          "name": "stdout",
          "output_type": "stream",
          "text": [
            "Epoch 2, loss: 1.1372181739327225e-06\n"
          ]
        },
        {
          "name": "stderr",
          "output_type": "stream",
          "text": [
            "\r 67%|██████▋   | 42/63 [01:59<00:59,  2.85s/it]"
          ]
        },
        {
          "name": "stdout",
          "output_type": "stream",
          "text": [
            "Epoch 2, loss: 1.1330199595263332e-06\n"
          ]
        },
        {
          "name": "stderr",
          "output_type": "stream",
          "text": [
            "\r 68%|██████▊   | 43/63 [02:02<00:56,  2.84s/it]"
          ]
        },
        {
          "name": "stdout",
          "output_type": "stream",
          "text": [
            "Epoch 2, loss: 1.1210459165352827e-06\n"
          ]
        },
        {
          "name": "stderr",
          "output_type": "stream",
          "text": [
            "\r 70%|██████▉   | 44/63 [02:04<00:54,  2.84s/it]"
          ]
        },
        {
          "name": "stdout",
          "output_type": "stream",
          "text": [
            "Epoch 2, loss: 1.1236803229178003e-06\n"
          ]
        },
        {
          "name": "stderr",
          "output_type": "stream",
          "text": [
            "\r 71%|███████▏  | 45/63 [02:07<00:51,  2.85s/it]"
          ]
        },
        {
          "name": "stdout",
          "output_type": "stream",
          "text": [
            "Epoch 2, loss: 1.1126402322189195e-06\n"
          ]
        },
        {
          "name": "stderr",
          "output_type": "stream",
          "text": [
            "\r 73%|███████▎  | 46/63 [02:10<00:48,  2.85s/it]"
          ]
        },
        {
          "name": "stdout",
          "output_type": "stream",
          "text": [
            "Epoch 2, loss: 1.101214034470542e-06\n"
          ]
        },
        {
          "name": "stderr",
          "output_type": "stream",
          "text": [
            "\r 75%|███████▍  | 47/63 [02:13<00:45,  2.85s/it]"
          ]
        },
        {
          "name": "stdout",
          "output_type": "stream",
          "text": [
            "Epoch 2, loss: 1.0939106887357718e-06\n"
          ]
        },
        {
          "name": "stderr",
          "output_type": "stream",
          "text": [
            "\r 76%|███████▌  | 48/63 [02:16<00:42,  2.85s/it]"
          ]
        },
        {
          "name": "stdout",
          "output_type": "stream",
          "text": [
            "Epoch 2, loss: 1.0940432228490776e-06\n"
          ]
        },
        {
          "name": "stderr",
          "output_type": "stream",
          "text": [
            "\r 78%|███████▊  | 49/63 [02:19<00:39,  2.85s/it]"
          ]
        },
        {
          "name": "stdout",
          "output_type": "stream",
          "text": [
            "Epoch 2, loss: 1.090437201883907e-06\n"
          ]
        },
        {
          "name": "stderr",
          "output_type": "stream",
          "text": [
            "\r 79%|███████▉  | 50/63 [02:22<00:37,  2.85s/it]"
          ]
        },
        {
          "name": "stdout",
          "output_type": "stream",
          "text": [
            "Epoch 2, loss: 1.084211550776484e-06\n"
          ]
        },
        {
          "name": "stderr",
          "output_type": "stream",
          "text": [
            "\r 81%|████████  | 51/63 [02:24<00:34,  2.85s/it]"
          ]
        },
        {
          "name": "stdout",
          "output_type": "stream",
          "text": [
            "Epoch 2, loss: 1.0808436389588805e-06\n"
          ]
        },
        {
          "name": "stderr",
          "output_type": "stream",
          "text": [
            "\r 83%|████████▎ | 52/63 [02:27<00:31,  2.85s/it]"
          ]
        },
        {
          "name": "stdout",
          "output_type": "stream",
          "text": [
            "Epoch 2, loss: 1.077067448894661e-06\n"
          ]
        },
        {
          "name": "stderr",
          "output_type": "stream",
          "text": [
            "\r 84%|████████▍ | 53/63 [02:30<00:28,  2.86s/it]"
          ]
        },
        {
          "name": "stdout",
          "output_type": "stream",
          "text": [
            "Epoch 2, loss: 1.0714337036577865e-06\n"
          ]
        },
        {
          "name": "stderr",
          "output_type": "stream",
          "text": [
            "\r 86%|████████▌ | 54/63 [02:33<00:25,  2.85s/it]"
          ]
        },
        {
          "name": "stdout",
          "output_type": "stream",
          "text": [
            "Epoch 2, loss: 1.0723238087908222e-06\n"
          ]
        },
        {
          "name": "stderr",
          "output_type": "stream",
          "text": [
            "\r 87%|████████▋ | 55/63 [02:36<00:22,  2.85s/it]"
          ]
        },
        {
          "name": "stdout",
          "output_type": "stream",
          "text": [
            "Epoch 2, loss: 1.0679094856240238e-06\n"
          ]
        },
        {
          "name": "stderr",
          "output_type": "stream",
          "text": [
            "\r 89%|████████▉ | 56/63 [02:39<00:19,  2.85s/it]"
          ]
        },
        {
          "name": "stdout",
          "output_type": "stream",
          "text": [
            "Epoch 2, loss: 1.0691520239291195e-06\n"
          ]
        },
        {
          "name": "stderr",
          "output_type": "stream",
          "text": [
            "\r 90%|█████████ | 57/63 [02:42<00:17,  2.86s/it]"
          ]
        },
        {
          "name": "stdout",
          "output_type": "stream",
          "text": [
            "Epoch 2, loss: 1.0672900647962524e-06\n"
          ]
        },
        {
          "name": "stderr",
          "output_type": "stream",
          "text": [
            "\r 92%|█████████▏| 58/63 [02:44<00:14,  2.86s/it]"
          ]
        },
        {
          "name": "stdout",
          "output_type": "stream",
          "text": [
            "Epoch 2, loss: 1.0626340579692187e-06\n"
          ]
        },
        {
          "name": "stderr",
          "output_type": "stream",
          "text": [
            "\r 94%|█████████▎| 59/63 [02:47<00:11,  2.85s/it]"
          ]
        },
        {
          "name": "stdout",
          "output_type": "stream",
          "text": [
            "Epoch 2, loss: 1.0495029551085798e-06\n"
          ]
        },
        {
          "name": "stderr",
          "output_type": "stream",
          "text": [
            "\r 95%|█████████▌| 60/63 [02:50<00:08,  2.85s/it]"
          ]
        },
        {
          "name": "stdout",
          "output_type": "stream",
          "text": [
            "Epoch 2, loss: 1.0525861350965362e-06\n"
          ]
        },
        {
          "name": "stderr",
          "output_type": "stream",
          "text": [
            "\r 97%|█████████▋| 61/63 [02:53<00:05,  2.85s/it]"
          ]
        },
        {
          "name": "stdout",
          "output_type": "stream",
          "text": [
            "Epoch 2, loss: 1.0494005212394742e-06\n"
          ]
        },
        {
          "name": "stderr",
          "output_type": "stream",
          "text": [
            "\r 98%|█████████▊| 62/63 [02:56<00:02,  2.84s/it]"
          ]
        },
        {
          "name": "stdout",
          "output_type": "stream",
          "text": [
            "Epoch 2, loss: 1.0405730042905793e-06\n"
          ]
        },
        {
          "name": "stderr",
          "output_type": "stream",
          "text": [
            "100%|██████████| 63/63 [02:57<00:00,  2.82s/it]\n"
          ]
        },
        {
          "name": "stdout",
          "output_type": "stream",
          "text": [
            "Epoch 2, loss: 1.051254713266251e-06\n"
          ]
        },
        {
          "name": "stderr",
          "output_type": "stream",
          "text": [
            "  2%|▏         | 1/63 [00:02<02:56,  2.85s/it]"
          ]
        },
        {
          "name": "stdout",
          "output_type": "stream",
          "text": [
            "Epoch 3, loss: 1.0132794159289915e-06\n"
          ]
        },
        {
          "name": "stderr",
          "output_type": "stream",
          "text": [
            "\r  3%|▎         | 2/63 [00:05<02:53,  2.84s/it]"
          ]
        },
        {
          "name": "stdout",
          "output_type": "stream",
          "text": [
            "Epoch 3, loss: 1.0125343578692992e-06\n"
          ]
        },
        {
          "name": "stderr",
          "output_type": "stream",
          "text": [
            "\r  5%|▍         | 3/63 [00:08<02:51,  2.85s/it]"
          ]
        },
        {
          "name": "stdout",
          "output_type": "stream",
          "text": [
            "Epoch 3, loss: 1.0088835733768066e-06\n"
          ]
        },
        {
          "name": "stderr",
          "output_type": "stream",
          "text": [
            "\r  6%|▋         | 4/63 [00:11<02:48,  2.86s/it]"
          ]
        },
        {
          "name": "stdout",
          "output_type": "stream",
          "text": [
            "Epoch 3, loss: 1.0078330415126404e-06\n"
          ]
        },
        {
          "name": "stderr",
          "output_type": "stream",
          "text": [
            "\r  8%|▊         | 5/63 [00:14<02:45,  2.85s/it]"
          ]
        },
        {
          "name": "stdout",
          "output_type": "stream",
          "text": [
            "Epoch 3, loss: 1.007632620894583e-06\n"
          ]
        },
        {
          "name": "stderr",
          "output_type": "stream",
          "text": [
            "\r 10%|▉         | 6/63 [00:17<02:42,  2.85s/it]"
          ]
        },
        {
          "name": "stdout",
          "output_type": "stream",
          "text": [
            "Epoch 3, loss: 1.008197300398024e-06\n"
          ]
        },
        {
          "name": "stderr",
          "output_type": "stream",
          "text": [
            "\r 11%|█         | 7/63 [00:19<02:39,  2.84s/it]"
          ]
        },
        {
          "name": "stdout",
          "output_type": "stream",
          "text": [
            "Epoch 3, loss: 1.008705511951121e-06\n"
          ]
        },
        {
          "name": "stderr",
          "output_type": "stream",
          "text": [
            "\r 13%|█▎        | 8/63 [00:22<02:36,  2.85s/it]"
          ]
        },
        {
          "name": "stdout",
          "output_type": "stream",
          "text": [
            "Epoch 3, loss: 1.0046925539907538e-06\n"
          ]
        },
        {
          "name": "stderr",
          "output_type": "stream",
          "text": [
            "\r 14%|█▍        | 9/63 [00:25<02:33,  2.84s/it]"
          ]
        },
        {
          "name": "stdout",
          "output_type": "stream",
          "text": [
            "Epoch 3, loss: 9.988457176473462e-07\n"
          ]
        },
        {
          "name": "stderr",
          "output_type": "stream",
          "text": [
            "\r 16%|█▌        | 10/63 [00:28<02:30,  2.84s/it]"
          ]
        },
        {
          "name": "stdout",
          "output_type": "stream",
          "text": [
            "Epoch 3, loss: 1.0017792035948955e-06\n"
          ]
        },
        {
          "name": "stderr",
          "output_type": "stream",
          "text": [
            "\r 17%|█▋        | 11/63 [00:31<02:27,  2.84s/it]"
          ]
        },
        {
          "name": "stdout",
          "output_type": "stream",
          "text": [
            "Epoch 3, loss: 9.984588764701509e-07\n"
          ]
        },
        {
          "name": "stderr",
          "output_type": "stream",
          "text": [
            "\r 19%|█▉        | 12/63 [00:34<02:25,  2.84s/it]"
          ]
        },
        {
          "name": "stdout",
          "output_type": "stream",
          "text": [
            "Epoch 3, loss: 9.939804659384959e-07\n"
          ]
        },
        {
          "name": "stderr",
          "output_type": "stream",
          "text": [
            "\r 21%|██        | 13/63 [00:36<02:22,  2.84s/it]"
          ]
        },
        {
          "name": "stdout",
          "output_type": "stream",
          "text": [
            "Epoch 3, loss: 9.95165302877853e-07\n"
          ]
        },
        {
          "name": "stderr",
          "output_type": "stream",
          "text": [
            "\r 22%|██▏       | 14/63 [00:39<02:19,  2.84s/it]"
          ]
        },
        {
          "name": "stdout",
          "output_type": "stream",
          "text": [
            "Epoch 3, loss: 9.872909594069659e-07\n"
          ]
        },
        {
          "name": "stderr",
          "output_type": "stream",
          "text": [
            "\r 24%|██▍       | 15/63 [00:42<02:16,  2.85s/it]"
          ]
        },
        {
          "name": "stdout",
          "output_type": "stream",
          "text": [
            "Epoch 3, loss: 9.876546308800912e-07\n"
          ]
        },
        {
          "name": "stderr",
          "output_type": "stream",
          "text": [
            "\r 25%|██▌       | 16/63 [00:45<02:14,  2.86s/it]"
          ]
        },
        {
          "name": "stdout",
          "output_type": "stream",
          "text": [
            "Epoch 3, loss: 9.857467610268269e-07\n"
          ]
        },
        {
          "name": "stderr",
          "output_type": "stream",
          "text": [
            "\r 27%|██▋       | 17/63 [00:48<02:11,  2.85s/it]"
          ]
        },
        {
          "name": "stdout",
          "output_type": "stream",
          "text": [
            "Epoch 3, loss: 9.788142660567005e-07\n"
          ]
        },
        {
          "name": "stderr",
          "output_type": "stream",
          "text": [
            "\r 29%|██▊       | 18/63 [00:51<02:08,  2.86s/it]"
          ]
        },
        {
          "name": "stdout",
          "output_type": "stream",
          "text": [
            "Epoch 3, loss: 9.800256068648525e-07\n"
          ]
        },
        {
          "name": "stderr",
          "output_type": "stream",
          "text": [
            "\r 30%|███       | 19/63 [00:54<02:05,  2.85s/it]"
          ]
        },
        {
          "name": "stdout",
          "output_type": "stream",
          "text": [
            "Epoch 3, loss: 9.773905232937273e-07\n"
          ]
        },
        {
          "name": "stderr",
          "output_type": "stream",
          "text": [
            "\r 32%|███▏      | 20/63 [00:57<02:03,  2.86s/it]"
          ]
        },
        {
          "name": "stdout",
          "output_type": "stream",
          "text": [
            "Epoch 3, loss: 9.817244819856298e-07\n"
          ]
        },
        {
          "name": "stderr",
          "output_type": "stream",
          "text": [
            "\r 33%|███▎      | 21/63 [00:59<01:59,  2.86s/it]"
          ]
        },
        {
          "name": "stdout",
          "output_type": "stream",
          "text": [
            "Epoch 3, loss: 9.818997431411965e-07\n"
          ]
        },
        {
          "name": "stderr",
          "output_type": "stream",
          "text": [
            "\r 35%|███▍      | 22/63 [01:02<01:57,  2.86s/it]"
          ]
        },
        {
          "name": "stdout",
          "output_type": "stream",
          "text": [
            "Epoch 3, loss: 9.85037710419976e-07\n"
          ]
        },
        {
          "name": "stderr",
          "output_type": "stream",
          "text": [
            "\r 37%|███▋      | 23/63 [01:05<01:54,  2.85s/it]"
          ]
        },
        {
          "name": "stdout",
          "output_type": "stream",
          "text": [
            "Epoch 3, loss: 9.81156358433646e-07\n"
          ]
        },
        {
          "name": "stderr",
          "output_type": "stream",
          "text": [
            "\r 38%|███▊      | 24/63 [01:08<01:51,  2.86s/it]"
          ]
        },
        {
          "name": "stdout",
          "output_type": "stream",
          "text": [
            "Epoch 3, loss: 9.79153257765334e-07\n"
          ]
        },
        {
          "name": "stderr",
          "output_type": "stream",
          "text": [
            "\r 40%|███▉      | 25/63 [01:11<01:48,  2.86s/it]"
          ]
        },
        {
          "name": "stdout",
          "output_type": "stream",
          "text": [
            "Epoch 3, loss: 9.743702349250834e-07\n"
          ]
        },
        {
          "name": "stderr",
          "output_type": "stream",
          "text": [
            "\r 41%|████▏     | 26/63 [01:14<01:45,  2.85s/it]"
          ]
        },
        {
          "name": "stdout",
          "output_type": "stream",
          "text": [
            "Epoch 3, loss: 9.715556304882428e-07\n"
          ]
        },
        {
          "name": "stderr",
          "output_type": "stream",
          "text": [
            "\r 43%|████▎     | 27/63 [01:16<01:42,  2.85s/it]"
          ]
        },
        {
          "name": "stdout",
          "output_type": "stream",
          "text": [
            "Epoch 3, loss: 9.675323703757014e-07\n"
          ]
        },
        {
          "name": "stderr",
          "output_type": "stream",
          "text": [
            "\r 44%|████▍     | 28/63 [01:19<01:40,  2.86s/it]"
          ]
        },
        {
          "name": "stdout",
          "output_type": "stream",
          "text": [
            "Epoch 3, loss: 9.668916685131839e-07\n"
          ]
        },
        {
          "name": "stderr",
          "output_type": "stream",
          "text": [
            "\r 46%|████▌     | 29/63 [01:22<01:37,  2.86s/it]"
          ]
        },
        {
          "name": "stdout",
          "output_type": "stream",
          "text": [
            "Epoch 3, loss: 9.618446827944218e-07\n"
          ]
        },
        {
          "name": "stderr",
          "output_type": "stream",
          "text": [
            "\r 48%|████▊     | 30/63 [01:25<01:34,  2.85s/it]"
          ]
        },
        {
          "name": "stdout",
          "output_type": "stream",
          "text": [
            "Epoch 3, loss: 9.580474593915703e-07\n"
          ]
        },
        {
          "name": "stderr",
          "output_type": "stream",
          "text": [
            "\r 49%|████▉     | 31/63 [01:28<01:31,  2.85s/it]"
          ]
        },
        {
          "name": "stdout",
          "output_type": "stream",
          "text": [
            "Epoch 3, loss: 9.538849002693113e-07\n"
          ]
        },
        {
          "name": "stderr",
          "output_type": "stream",
          "text": [
            "\r 51%|█████     | 32/63 [01:31<01:28,  2.85s/it]"
          ]
        },
        {
          "name": "stdout",
          "output_type": "stream",
          "text": [
            "Epoch 3, loss: 9.516287131786632e-07\n"
          ]
        },
        {
          "name": "stderr",
          "output_type": "stream",
          "text": [
            "\r 52%|█████▏    | 33/63 [01:34<01:25,  2.85s/it]"
          ]
        },
        {
          "name": "stdout",
          "output_type": "stream",
          "text": [
            "Epoch 3, loss: 9.458728544986179e-07\n"
          ]
        },
        {
          "name": "stderr",
          "output_type": "stream",
          "text": [
            "\r 54%|█████▍    | 34/63 [01:36<01:22,  2.85s/it]"
          ]
        },
        {
          "name": "stdout",
          "output_type": "stream",
          "text": [
            "Epoch 3, loss: 9.459079881044238e-07\n"
          ]
        },
        {
          "name": "stderr",
          "output_type": "stream",
          "text": [
            "\r 56%|█████▌    | 35/63 [01:39<01:19,  2.85s/it]"
          ]
        },
        {
          "name": "stdout",
          "output_type": "stream",
          "text": [
            "Epoch 3, loss: 9.451945502899567e-07\n"
          ]
        },
        {
          "name": "stderr",
          "output_type": "stream",
          "text": [
            "\r 57%|█████▋    | 36/63 [01:42<01:16,  2.85s/it]"
          ]
        },
        {
          "name": "stdout",
          "output_type": "stream",
          "text": [
            "Epoch 3, loss: 9.408271659584745e-07\n"
          ]
        },
        {
          "name": "stderr",
          "output_type": "stream",
          "text": [
            "\r 59%|█████▊    | 37/63 [01:45<01:14,  2.85s/it]"
          ]
        },
        {
          "name": "stdout",
          "output_type": "stream",
          "text": [
            "Epoch 3, loss: 9.383866361795252e-07\n"
          ]
        },
        {
          "name": "stderr",
          "output_type": "stream",
          "text": [
            "\r 60%|██████    | 38/63 [01:48<01:11,  2.85s/it]"
          ]
        },
        {
          "name": "stdout",
          "output_type": "stream",
          "text": [
            "Epoch 3, loss: 9.302296835322481e-07\n"
          ]
        },
        {
          "name": "stderr",
          "output_type": "stream",
          "text": [
            "\r 62%|██████▏   | 39/63 [01:51<01:08,  2.85s/it]"
          ]
        },
        {
          "name": "stdout",
          "output_type": "stream",
          "text": [
            "Epoch 3, loss: 9.288488963115796e-07\n"
          ]
        },
        {
          "name": "stderr",
          "output_type": "stream",
          "text": [
            "\r 63%|██████▎   | 40/63 [01:54<01:05,  2.85s/it]"
          ]
        },
        {
          "name": "stdout",
          "output_type": "stream",
          "text": [
            "Epoch 3, loss: 9.290963096167047e-07\n"
          ]
        },
        {
          "name": "stderr",
          "output_type": "stream",
          "text": [
            "\r 65%|██████▌   | 41/63 [01:56<01:02,  2.85s/it]"
          ]
        },
        {
          "name": "stdout",
          "output_type": "stream",
          "text": [
            "Epoch 3, loss: 9.322992138300866e-07\n"
          ]
        },
        {
          "name": "stderr",
          "output_type": "stream",
          "text": [
            "\r 67%|██████▋   | 42/63 [01:59<00:59,  2.85s/it]"
          ]
        },
        {
          "name": "stdout",
          "output_type": "stream",
          "text": [
            "Epoch 3, loss: 9.314565373236685e-07\n"
          ]
        },
        {
          "name": "stderr",
          "output_type": "stream",
          "text": [
            "\r 68%|██████▊   | 43/63 [02:02<00:56,  2.85s/it]"
          ]
        },
        {
          "name": "stdout",
          "output_type": "stream",
          "text": [
            "Epoch 3, loss: 9.254827163657037e-07\n"
          ]
        },
        {
          "name": "stderr",
          "output_type": "stream",
          "text": [
            "\r 70%|██████▉   | 44/63 [02:05<00:54,  2.85s/it]"
          ]
        },
        {
          "name": "stdout",
          "output_type": "stream",
          "text": [
            "Epoch 3, loss: 9.201062718191934e-07\n"
          ]
        },
        {
          "name": "stderr",
          "output_type": "stream",
          "text": [
            "\r 71%|███████▏  | 45/63 [02:08<00:51,  2.86s/it]"
          ]
        },
        {
          "name": "stdout",
          "output_type": "stream",
          "text": [
            "Epoch 3, loss: 9.256982959317113e-07\n"
          ]
        },
        {
          "name": "stderr",
          "output_type": "stream",
          "text": [
            "\r 73%|███████▎  | 46/63 [02:11<00:48,  2.85s/it]"
          ]
        },
        {
          "name": "stdout",
          "output_type": "stream",
          "text": [
            "Epoch 3, loss: 9.277508853942079e-07\n"
          ]
        },
        {
          "name": "stderr",
          "output_type": "stream",
          "text": [
            "\r 75%|███████▍  | 47/63 [02:13<00:45,  2.85s/it]"
          ]
        },
        {
          "name": "stdout",
          "output_type": "stream",
          "text": [
            "Epoch 3, loss: 9.221476353135311e-07\n"
          ]
        },
        {
          "name": "stderr",
          "output_type": "stream",
          "text": [
            "\r 76%|███████▌  | 48/63 [02:16<00:42,  2.85s/it]"
          ]
        },
        {
          "name": "stdout",
          "output_type": "stream",
          "text": [
            "Epoch 3, loss: 9.163596408125457e-07\n"
          ]
        },
        {
          "name": "stderr",
          "output_type": "stream",
          "text": [
            "\r 78%|███████▊  | 49/63 [02:19<00:39,  2.86s/it]"
          ]
        },
        {
          "name": "stdout",
          "output_type": "stream",
          "text": [
            "Epoch 3, loss: 9.074251554631971e-07\n"
          ]
        },
        {
          "name": "stderr",
          "output_type": "stream",
          "text": [
            "\r 79%|███████▉  | 50/63 [02:22<00:37,  2.85s/it]"
          ]
        },
        {
          "name": "stdout",
          "output_type": "stream",
          "text": [
            "Epoch 3, loss: 9.060896525546984e-07\n"
          ]
        },
        {
          "name": "stderr",
          "output_type": "stream",
          "text": [
            "\r 81%|████████  | 51/63 [02:25<00:34,  2.85s/it]"
          ]
        },
        {
          "name": "stdout",
          "output_type": "stream",
          "text": [
            "Epoch 3, loss: 9.086129902355116e-07\n"
          ]
        },
        {
          "name": "stderr",
          "output_type": "stream",
          "text": [
            "\r 83%|████████▎ | 52/63 [02:28<00:31,  2.84s/it]"
          ]
        },
        {
          "name": "stdout",
          "output_type": "stream",
          "text": [
            "Epoch 3, loss: 9.056685820460548e-07\n"
          ]
        },
        {
          "name": "stderr",
          "output_type": "stream",
          "text": [
            "\r 84%|████████▍ | 53/63 [02:31<00:28,  2.85s/it]"
          ]
        },
        {
          "name": "stdout",
          "output_type": "stream",
          "text": [
            "Epoch 3, loss: 8.970581445136628e-07\n"
          ]
        },
        {
          "name": "stderr",
          "output_type": "stream",
          "text": [
            "\r 86%|████████▌ | 54/63 [02:33<00:25,  2.85s/it]"
          ]
        },
        {
          "name": "stdout",
          "output_type": "stream",
          "text": [
            "Epoch 3, loss: 8.960142789560832e-07\n"
          ]
        },
        {
          "name": "stderr",
          "output_type": "stream",
          "text": [
            "\r 87%|████████▋ | 55/63 [02:36<00:22,  2.85s/it]"
          ]
        },
        {
          "name": "stdout",
          "output_type": "stream",
          "text": [
            "Epoch 3, loss: 8.988000959370655e-07\n"
          ]
        },
        {
          "name": "stderr",
          "output_type": "stream",
          "text": [
            "\r 89%|████████▉ | 56/63 [02:39<00:19,  2.85s/it]"
          ]
        },
        {
          "name": "stdout",
          "output_type": "stream",
          "text": [
            "Epoch 3, loss: 8.946017973140342e-07\n"
          ]
        },
        {
          "name": "stderr",
          "output_type": "stream",
          "text": [
            "\r 90%|█████████ | 57/63 [02:42<00:17,  2.84s/it]"
          ]
        },
        {
          "name": "stdout",
          "output_type": "stream",
          "text": [
            "Epoch 3, loss: 8.945486302204518e-07\n"
          ]
        },
        {
          "name": "stderr",
          "output_type": "stream",
          "text": [
            "\r 92%|█████████▏| 58/63 [02:45<00:14,  2.84s/it]"
          ]
        },
        {
          "name": "stdout",
          "output_type": "stream",
          "text": [
            "Epoch 3, loss: 8.877952459303125e-07\n"
          ]
        },
        {
          "name": "stderr",
          "output_type": "stream",
          "text": [
            "\r 94%|█████████▎| 59/63 [02:48<00:11,  2.84s/it]"
          ]
        },
        {
          "name": "stdout",
          "output_type": "stream",
          "text": [
            "Epoch 3, loss: 8.861875484273414e-07\n"
          ]
        },
        {
          "name": "stderr",
          "output_type": "stream",
          "text": [
            "\r 95%|█████████▌| 60/63 [02:50<00:08,  2.84s/it]"
          ]
        },
        {
          "name": "stdout",
          "output_type": "stream",
          "text": [
            "Epoch 3, loss: 8.802702723165131e-07\n"
          ]
        },
        {
          "name": "stderr",
          "output_type": "stream",
          "text": [
            "\r 97%|█████████▋| 61/63 [02:53<00:05,  2.84s/it]"
          ]
        },
        {
          "name": "stdout",
          "output_type": "stream",
          "text": [
            "Epoch 3, loss: 8.846304899614524e-07\n"
          ]
        },
        {
          "name": "stderr",
          "output_type": "stream",
          "text": [
            "\r 98%|█████████▊| 62/63 [02:56<00:02,  2.85s/it]"
          ]
        },
        {
          "name": "stdout",
          "output_type": "stream",
          "text": [
            "Epoch 3, loss: 8.81104099560632e-07\n"
          ]
        },
        {
          "name": "stderr",
          "output_type": "stream",
          "text": [
            "100%|██████████| 63/63 [02:58<00:00,  2.83s/it]\n"
          ]
        },
        {
          "name": "stdout",
          "output_type": "stream",
          "text": [
            "Epoch 3, loss: 8.779303425155518e-07\n"
          ]
        },
        {
          "name": "stderr",
          "output_type": "stream",
          "text": [
            "  2%|▏         | 1/63 [00:02<02:56,  2.85s/it]"
          ]
        },
        {
          "name": "stdout",
          "output_type": "stream",
          "text": [
            "Epoch 4, loss: 8.121136261252104e-07\n"
          ]
        },
        {
          "name": "stderr",
          "output_type": "stream",
          "text": [
            "\r  2%|▏         | 1/63 [00:05<05:53,  5.70s/it]\n"
          ]
        },
        {
          "ename": "KeyboardInterrupt",
          "evalue": "",
          "output_type": "error",
          "traceback": [
            "\u001b[0;31m---------------------------------------------------------------------------\u001b[0m",
            "\u001b[0;31mKeyboardInterrupt\u001b[0m                         Traceback (most recent call last)",
            "\u001b[0;32m<ipython-input-21-c53c562a2daf>\u001b[0m in \u001b[0;36m<cell line: 0>\u001b[0;34m()\u001b[0m\n\u001b[1;32m     28\u001b[0m             \u001b[0mtrack_loss\u001b[0m \u001b[0;34m=\u001b[0m \u001b[0mloss\u001b[0m\u001b[0;34m.\u001b[0m\u001b[0mitem\u001b[0m\u001b[0;34m(\u001b[0m\u001b[0;34m)\u001b[0m\u001b[0;34m\u001b[0m\u001b[0;34m\u001b[0m\u001b[0m\n\u001b[1;32m     29\u001b[0m         \u001b[0;32melse\u001b[0m\u001b[0;34m:\u001b[0m\u001b[0;34m\u001b[0m\u001b[0;34m\u001b[0m\u001b[0m\n\u001b[0;32m---> 30\u001b[0;31m             \u001b[0mtrack_loss\u001b[0m \u001b[0;34m=\u001b[0m \u001b[0;36m0.9\u001b[0m \u001b[0;34m*\u001b[0m \u001b[0mtrack_loss\u001b[0m \u001b[0;34m+\u001b[0m \u001b[0;36m0.1\u001b[0m \u001b[0;34m*\u001b[0m \u001b[0mloss\u001b[0m\u001b[0;34m.\u001b[0m\u001b[0mitem\u001b[0m\u001b[0;34m(\u001b[0m\u001b[0;34m)\u001b[0m\u001b[0;34m\u001b[0m\u001b[0;34m\u001b[0m\u001b[0m\n\u001b[0m\u001b[1;32m     31\u001b[0m         \u001b[0mprint\u001b[0m\u001b[0;34m(\u001b[0m\u001b[0;34mf\"Epoch {epoch + 1}, loss: {track_loss}\"\u001b[0m\u001b[0;34m)\u001b[0m\u001b[0;34m\u001b[0m\u001b[0;34m\u001b[0m\u001b[0m\n",
            "\u001b[0;31mKeyboardInterrupt\u001b[0m: "
          ]
        }
      ],
      "source": [
        "for epoch in range(epochs):\n",
        "    model.train()\n",
        "    track_loss = None\n",
        "\n",
        "    for batch in tqdm(dataloader):\n",
        "        chosen_input_ids = batch['chosen_input_ids'].to(device)\n",
        "        chosen_attention_mask = batch['chosen_attention_mask'].to(device)\n",
        "        rejected_input_ids = batch['rejected_input_ids'].to(device)\n",
        "        rejected_attention_mask = batch['rejected_attention_mask'].to(device)\n",
        "\n",
        "        # ваш код здсь\n",
        "        optimizer.zero_grad()\n",
        "        chosen_reward = model(\n",
        "            input_ids=chosen_input_ids, attention_mask=chosen_attention_mask\n",
        "        )\n",
        "        rejected_reward = model(\n",
        "            input_ids=rejected_input_ids, attention_mask=rejected_attention_mask\n",
        "        )\n",
        "\n",
        "        loss = calc_loss(\n",
        "          chosen_reward=chosen_reward,\n",
        "          rejected_reward=rejected_reward\n",
        "        )\n",
        "        loss.backward()\n",
        "        optimizer.step()\n",
        "        # Накопление потерь\n",
        "        if track_loss is None:\n",
        "            track_loss = loss.item()\n",
        "        else:\n",
        "            track_loss = 0.9 * track_loss + 0.1 * loss.item()\n",
        "        print(f\"Epoch {epoch + 1}, loss: {track_loss}\")\n"
      ]
    },
    {
      "cell_type": "markdown",
      "metadata": {
        "id": "8U8ZGLNQtfoY"
      },
      "source": [
        "### Тесты"
      ]
    },
    {
      "cell_type": "code",
      "execution_count": null,
      "metadata": {
        "id": "MJbXTdbzsqh_"
      },
      "outputs": [],
      "source": [
        "def assert_comparison(chosen_text, rejected_text, model, tokenizer, max_length=512):\n",
        "    encoding1 = tokenizer(\n",
        "        chosen_text,\n",
        "        truncation=True,\n",
        "        max_length=max_length,\n",
        "        padding='max_length',\n",
        "        return_tensors='pt'\n",
        "    )\n",
        "\n",
        "    encoding2 = tokenizer(\n",
        "        rejected_text,\n",
        "        truncation=True,\n",
        "        max_length=max_length,\n",
        "        padding='max_length',\n",
        "        return_tensors='pt'\n",
        "    )\n",
        "\n",
        "\n",
        "    model.to(device)\n",
        "    input_ids1 = encoding1['input_ids'].to(device)\n",
        "    attention_mask1 = encoding1['attention_mask'].to(device)\n",
        "    input_ids2 = encoding2['input_ids'].to(device)\n",
        "    attention_mask2 = encoding2['attention_mask'].to(device)\n",
        "\n",
        "    with torch.no_grad():\n",
        "        reward1 = model(input_ids1, attention_mask1)\n",
        "        reward2 = model(input_ids2, attention_mask2)\n",
        "\n",
        "    score1 = reward1.item()\n",
        "    score2 = reward2.item()\n",
        "    print(f\"{score1=}\", f\"{score2=}\")\n",
        "\n",
        "    assert score1 > score2, f\"{score1}, {score2}\""
      ]
    },
    {
      "cell_type": "code",
      "execution_count": null,
      "metadata": {
        "colab": {
          "base_uri": "https://localhost:8080/"
        },
        "id": "iX90T8hftch4",
        "outputId": "adefa7f8-db26-4cf5-d5c5-bb2dd82fce62"
      },
      "outputs": [
        {
          "name": "stdout",
          "output_type": "stream",
          "text": [
            "score1=7.476419925689697 score2=-6.76176118850708\n",
            "score1=7.214720249176025 score2=-6.620340347290039\n",
            "score1=7.34284782409668 score2=3.487534999847412\n",
            "score1=7.4915900230407715 score2=-6.654075622558594\n"
          ]
        }
      ],
      "source": [
        "TEST_CASES = [\n",
        "    {\n",
        "        \"prompt\": \"Why do cats always knock stuff off tables?\",\n",
        "        \"chosen\": \"Honestly, cats just be on their own vibe 😹 they knockin' stuff just ‘cause they can. Pure chaotic energy 💥💯\",\n",
        "        \"rejected\": \"Cats often knock objects off tables due to their natural curiosity, playfulness, and sometimes as a way to get attention from their owners. It can also be an instinctual behavior linked to their hunting skills.\"\n",
        "    },\n",
        "    {\n",
        "        \"prompt\": \"Why do avocados turn brown so fast?\",\n",
        "        \"chosen\": \"Avocados be on a timer ⏲️, like they just can’t chill 🥑💀. You blink, and they’re already brown, no cap.\",\n",
        "        \"rejected\": \"Avocados turn brown quickly because of oxidation, a process where exposure to air causes the flesh to react and change color. You can slow it down by adding lemon juice or covering it tightly.\"\n",
        "    },\n",
        "    {\n",
        "        \"prompt\": \"Why do some songs get stuck in your head?\",\n",
        "        \"chosen\": \"Some songs just hit different 🎶💀, they loop in your brain on repeat like it’s free rent 🧠🔥.\",\n",
        "        \"rejected\": \"Songs often get stuck in your head due to a phenomenon called 'earworms.' This happens because certain melodies or lyrics are catchy and repetitive, making them easy for your brain to recall involuntarily.\"\n",
        "    },\n",
        "\n",
        "    {\n",
        "        \"prompt\": \"Why do people love coffee so much?\",\n",
        "        \"chosen\": \"Bruh, coffee is basically liquid energy 🔋☕. Like, one sip and it’s like you’re powered up for the day, ready to take on anything 💯. It just hits different—especially when you’re running on zero sleep 💤. Plus, let’s be real, coffee shops are basically the spot for chillin’, studying, or just feeling like you got your life together 😎📚.\",\n",
        "        \"rejected\": \"People enjoy coffee due to its caffeine content, which provides an energy boost. The taste, aroma, and social aspect of coffee also contribute to its popularity.\"\n",
        "    }\n",
        "]\n",
        "\n",
        "\n",
        "for test_case in TEST_CASES:\n",
        "    assert_comparison(\n",
        "        test_case['prompt'] + \" \" + test_case['chosen'],\n",
        "        test_case['prompt'] + \" \" + test_case['rejected'],\n",
        "        model,\n",
        "        tokenizer,\n",
        "    )\n"
      ]
    },
    {
      "cell_type": "markdown",
      "metadata": {
        "id": "WIWLRgGYiivX"
      },
      "source": [
        "## Часть 3. DPO - 20 баллов"
      ]
    },
    {
      "cell_type": "markdown",
      "metadata": {
        "id": "OP3sjgKpJ0az"
      },
      "source": [
        "## DPO Loss 5"
      ]
    },
    {
      "cell_type": "markdown",
      "metadata": {
        "id": "S3PnpTaMWVqF"
      },
      "source": [
        "В этой части вам нужно реализовать 2 важных функции в DPO дообучении.\n",
        "\n",
        "- [7 баллов] `get_log_probs` - возвращает среднюю лог-ввероятность текста по всем токенам\n",
        "- [8 баллов] `dpo_loss` - считает DPO лосс и accuracy события, что награда chosen текста выше награды rejected текста\n",
        "\n",
        "\n",
        "![image.png](data:image/png;base64,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)"
      ]
    },
    {
      "cell_type": "code",
      "execution_count": 4,
      "metadata": {
        "id": "AanG3bcijDF1"
      },
      "outputs": [],
      "source": [
        "import torch\n",
        "import torch.nn.functional as F\n",
        "\n",
        "\n",
        "def get_log_prob(logits: torch.Tensor, labels: torch.Tensor) -> torch.Tensor:\n",
        "    \"\"\"Возвращает среднюю лог-ввероятность текста по всем токенам.\"\"\"\n",
        "    # logits: (batch_size, seq_len, vocab_size)\n",
        "    # labels: (batch_size, seq_len)\n",
        "    # returns (batch_size)\n",
        "\n",
        "    # ваш код здесь\n",
        "    return F.log_softmax(logits, dim=-1).gather(\n",
        "        index=labels.unsqueeze(-1),\n",
        "        dim=-1,\n",
        "    ).squeeze(-1).mean(dim=-1)\n"
      ]
    },
    {
      "cell_type": "code",
      "execution_count": 5,
      "metadata": {
        "colab": {
          "base_uri": "https://localhost:8080/"
        },
        "id": "BF1KmfDY-8Rq",
        "outputId": "a8440464-246a-4b66-b41e-6b773b1a4bbf"
      },
      "outputs": [
        {
          "output_type": "execute_result",
          "data": {
            "text/plain": [
              "tensor([-1.3708, -2.0023])"
            ]
          },
          "metadata": {},
          "execution_count": 5
        }
      ],
      "source": [
        "get_log_prob(\n",
        "    torch.Tensor([[[-2.7054,  0.0867,  0.1686,  0.1584],\n",
        "         [-0.9548, -0.4562, -0.2700, -0.0865],\n",
        "         [ 0.3822,  0.8500, -0.8196,  0.1957],\n",
        "         [ 0.8570,  1.0611,  0.4546,  0.8677]],\n",
        "\n",
        "        [[-0.2468, -1.3499, -0.0137,  1.0448],\n",
        "         [-0.3271,  1.0209, -1.4851,  0.2751],\n",
        "         [-0.0643, -0.3057,  1.4396,  0.2432],\n",
        "         [-0.2092,  1.2529, -0.7603, -0.4862]]]),\n",
        "      torch.LongTensor([[1, 1, 3, 0],\n",
        "        [1, 1, 0, 2]])\n",
        "      )"
      ]
    },
    {
      "cell_type": "markdown",
      "metadata": {
        "id": "-x-fBIQX_Ds3"
      },
      "source": [
        "### Тесты"
      ]
    },
    {
      "cell_type": "code",
      "execution_count": 6,
      "metadata": {
        "id": "Vo-ShZ0s_Eq0"
      },
      "outputs": [],
      "source": [
        "assert torch.allclose(\n",
        "  torch.Tensor([-1.3708, -2.0023]), get_log_prob(\n",
        "    torch.Tensor([[[-2.7054,  0.0867,  0.1686,  0.1584],\n",
        "         [-0.9548, -0.4562, -0.2700, -0.0865],\n",
        "         [ 0.3822,  0.8500, -0.8196,  0.1957],\n",
        "         [ 0.8570,  1.0611,  0.4546,  0.8677]],\n",
        "\n",
        "        [[-0.2468, -1.3499, -0.0137,  1.0448],\n",
        "         [-0.3271,  1.0209, -1.4851,  0.2751],\n",
        "         [-0.0643, -0.3057,  1.4396,  0.2432],\n",
        "         [-0.2092,  1.2529, -0.7603, -0.4862]]]),\n",
        "      torch.LongTensor([[1, 1, 3, 0],\n",
        "        [1, 1, 0, 2]])\n",
        "      ),\n",
        "    rtol=1e-4\n",
        ")\n",
        "\n",
        "\n",
        "assert torch.allclose(\n",
        "  torch.Tensor([-1.4632]), get_log_prob(\n",
        "    torch.Tensor([[[ 0.2743,  0.9203,  0.0347,  0.5378],\n",
        "         [-0.1536, -0.2817, -0.7711,  0.0901],\n",
        "         [ 2.0664,  0.8373,  1.3288,  1.2660],\n",
        "         [-0.2940, -1.0327,  1.3188,  0.8796]]]),\n",
        "      torch.LongTensor([[3, 1, 0, 0]])\n",
        "      ),\n",
        "    rtol=1e-4\n",
        ")"
      ]
    },
    {
      "cell_type": "code",
      "execution_count": 7,
      "metadata": {
        "id": "rgPQn7nBWS-J"
      },
      "outputs": [],
      "source": [
        "def dpo_loss(\n",
        "    model_chosen_logprob: torch.Tensor,\n",
        "    model_rejected_logprob: torch.Tensor,\n",
        "    ref_chosen_logprob: torch.Tensor,\n",
        "    ref_rejected_logprob: torch.Tensor,\n",
        "    beta: float = 0.1\n",
        "):\n",
        "    # должен вернуться tuple с 2 числами:\n",
        "    # - dpo лосс по формуле выше\n",
        "    # - accuracy того, что неявная награда модели для chosen выше, чем для rejected\n",
        "\n",
        "    # ваш код здесь\n",
        "    chosen_reward = model_chosen_logprob - ref_chosen_logprob\n",
        "    rejected_reward = model_rejected_logprob - ref_rejected_logprob\n",
        "    loss = calc_loss(\n",
        "        chosen_reward=chosen_reward,\n",
        "        rejected_reward=rejected_reward,\n",
        "        beta=beta\n",
        "    )\n",
        "    accuracy = (chosen_reward > rejected_reward).float().mean()\n",
        "    return loss, accuracy"
      ]
    },
    {
      "cell_type": "code",
      "execution_count": 10,
      "metadata": {
        "id": "VCGU_LgZAOzy"
      },
      "outputs": [],
      "source": [
        "actual_output = dpo_loss(\n",
        "    torch.Tensor([-1.0]),\n",
        "    torch.Tensor([-3.0]),\n",
        "    torch.Tensor([-5.0]),\n",
        "    torch.Tensor([-6.0]),\n",
        ")\n",
        "\n",
        "assert abs(actual_output[0].item() - 0.6444) < 1e-4\n",
        "assert abs(actual_output[1].item() - 1.0) < 1e-4"
      ]
    },
    {
      "cell_type": "code",
      "execution_count": null,
      "metadata": {
        "id": "FRd-f_K-B3QJ"
      },
      "outputs": [],
      "source": [
        "actual_output = dpo_loss(\n",
        "    torch.Tensor([-12, -2]),\n",
        "    torch.Tensor([-1, 4]),\n",
        "    torch.Tensor([-5, 8]),\n",
        "    torch.Tensor([-4, 2]),\n",
        ")\n",
        "\n",
        "assert abs(actual_output[0].item() - 1.3883) < 1e-4\n",
        "assert abs(actual_output[1].item() - 0) < 1e-4"
      ]
    },
    {
      "cell_type": "code",
      "execution_count": null,
      "metadata": {
        "id": "1PpZ_2SzjcOV"
      },
      "outputs": [],
      "source": [
        "actual_output = dpo_loss(\n",
        "    torch.Tensor([-3, -1]),\n",
        "    torch.Tensor([-4, -1]),\n",
        "    torch.Tensor([-5, 8]),\n",
        "    torch.Tensor([-4, 2]),\n",
        ")\n",
        "\n",
        "assert abs(actual_output[0].item() - 0.8178) < 1e-4\n",
        "assert abs(actual_output[1].item() - 0.5) < 1e-4"
      ]
    },
    {
      "cell_type": "markdown",
      "metadata": {
        "id": "uhIOGB43J0a1"
      },
      "source": [
        "# DPO - 10 баллов\n",
        "Давайте обучим модель с помощью DPO. Для этого нам нужен датасет прфеернций - нам нужен некий префикс (задача) и хороший и плохие ответы.\n",
        "\n",
        "В качесве примера возьмем простую модель - SmolLM от huggingface."
      ]
    },
    {
      "cell_type": "code",
      "execution_count": 11,
      "metadata": {
        "id": "glHS9IhpJ0a1",
        "colab": {
          "base_uri": "https://localhost:8080/",
          "height": 616,
          "referenced_widgets": [
            "7ebe9f3002e044b88783561706075982",
            "41835b3473884218bb32ade68c72a051",
            "d77f35c1f6d7439da4216ba70e5dff90",
            "1b090943c6ad43188925dce82101da8c",
            "fa6aaf5038a1498488f4279ad3ce80b7",
            "c62622c968f04128844b8fa118e32055",
            "6575a64a5742414da9c5081c420b14e1",
            "10b8882d29754d4fb52b7024c1c7e6a8",
            "145002cc5d6b4149958309af0a5c750a",
            "8fe111b1e012443497c575cb6eec7bda",
            "a1b618e10b964849b323527d64ce35dc",
            "e0841139458e4ee4ae7d83621ca7c6f9",
            "6dbc04fba49549eca500dd03aedd28d6",
            "cea59ccba77f49d8b784e740d40d2620",
            "326fd8220c4b4e2aab513649dc0d8b06",
            "d67ade99988a4c18839db1e0cf0881d8",
            "20edcbd8d0564e988d3996d90b7a6972",
            "fbe5abef7e044a8b971645d5c9d0eb35",
            "0023cb60ddf448b3b61529c9d0b16ab3",
            "d57a0060a576491dbea734e74d096330",
            "6eb67584e8824d4dba45f1948dfed169",
            "c1cb570513da4482bb8169c21594dae9",
            "25a9b28487444248b0180cb86fb429d7",
            "6675e2e34c444a72941b97804bb06bee",
            "fe5c78d1463d4083ae47706e58992589",
            "54823c3f4c9349aa92e06ce661ba3260",
            "35cb691483f949e6942e5a8198dde1ce",
            "7cc0dcffe91f4345b71689fed3588ffb",
            "68201da93d6348d3a26fdc57dcc990eb",
            "7ab7fb3a389b4babb085cd288ed0fce6",
            "2f71fa0a77084659a3781b6ae18c534c",
            "4fefa676f4e24aafaa4c0fa924b9ae1c",
            "75131ac4098e4eebbd6aed9815f86267",
            "cc2d850265a54024bb3c2743c3728e00",
            "a248b92de111463cb60104a3d1016215",
            "013fcfcf5a844318a684ae8ceb9cd1dd",
            "4b81fbfa56b842c5bf00ddf90aa60733",
            "727a3648f3004f76ae27e98485a260c9",
            "3a1c57fb9a1a4a4495debb4e83e0938e",
            "1f1d4aad4c704086b87bd111e5b55bb9",
            "d473d4fb0a6e45ff8b66079ab4bc641f",
            "259c7fa0d83644bf9f13f9834ba88674",
            "fe117ecdd8a647c7a0248a23d7b7ef3a",
            "e786927fe6b047b28c89e88c14089715",
            "89fc1434626a410b9b7efd8dafd463a6",
            "270c7168db0d497e8191b4d066cc3cc3",
            "a92c64b08b3747918e2309ec276e2605",
            "6b7968e76c2b4171926960ff41996e23",
            "f6b56148a12a4c7681859dd63b055b1f",
            "0fc822896d8a498383e4b40e024d2c42",
            "f2081c218ae44f64b6c181febf06aeee",
            "da8d8e057a874d72a0ce7305149d7fa3",
            "90f005ef009f44a09e8e04b8f23dda70",
            "21bd2c37e9824c4899572a832256ea1a",
            "38924504b4044b10bcf9a9d30d8e222a",
            "ad71a21a74094d4690f80dd15df5a30c",
            "920100d2678a4c86b45bf9a564b568fb",
            "ff1e478f87094aa1b962df4e0678136c",
            "06adb61eca2844d9b91229c2cef29e1b",
            "9fa571160696445e92881257ce838740",
            "d4b73f1997124521be7469a86d7e87e6",
            "b3f3fff6c40a45489b870dda828b6db1",
            "572b8ae3bba74250a6ff9f0284cbfeab",
            "8ac455d0f01648bdae01930d5b738050",
            "bf8956228fdf468f901c413381c76a7a",
            "6d69533bf550475bacb932d356240d80",
            "958d692b72554289890a82c3f8a1c581",
            "a90c14bfed614d86ac169fcd80622b16",
            "29b0cb0cc1194904b59c150c5cb04034",
            "126318fb5b374994932b010d946c7dd3",
            "d075cab365ad4f4db4294ae38a211ad9",
            "4934511e5ce248d1823083a6cbccc063",
            "69f983c831d349ee8eb37162b4b15e62",
            "256e4366e10b40ef8c5cb464985835a8",
            "7761e977d1a04ac7a3f2c4ca2b5b8e94",
            "7b65d6cd883144eeb3be4795af8f1971",
            "c1397df7023e49989984e06e95bca95d",
            "bddaa9882c7f4d12ba83eae4da0297f1",
            "6fc947e50d6a43c4905fa3be2e5e17a1",
            "b3a89327d8f744f7b89953a61f7acc42",
            "52df3a7c6c3a4e3e8de35b4b98120e78",
            "a6ceb16d56974dfa8192d113160ec858",
            "b765fff8f8254e5a825d8f009e87ab24",
            "311bfd891ccc40ba876f6a2add7642b6",
            "c2e2a02542e14037aaac555777a8d99c",
            "9d6299a554d04db6b6dd32dc0d9ab8f3",
            "e71d1c2437d44909a7e4c31751319836",
            "08936dadc243476bb8f92f30482a77b9"
          ]
        },
        "outputId": "1957072d-9897-4e14-dbba-ea79ed703a60"
      },
      "outputs": [
        {
          "output_type": "stream",
          "name": "stderr",
          "text": [
            "/usr/local/lib/python3.11/dist-packages/huggingface_hub/utils/_auth.py:94: UserWarning: \n",
            "The secret `HF_TOKEN` does not exist in your Colab secrets.\n",
            "To authenticate with the Hugging Face Hub, create a token in your settings tab (https://huggingface.co/settings/tokens), set it as secret in your Google Colab and restart your session.\n",
            "You will be able to reuse this secret in all of your notebooks.\n",
            "Please note that authentication is recommended but still optional to access public models or datasets.\n",
            "  warnings.warn(\n"
          ]
        },
        {
          "output_type": "display_data",
          "data": {
            "text/plain": [
              "tokenizer_config.json:   0%|          | 0.00/3.59k [00:00<?, ?B/s]"
            ],
            "application/vnd.jupyter.widget-view+json": {
              "version_major": 2,
              "version_minor": 0,
              "model_id": "7ebe9f3002e044b88783561706075982"
            }
          },
          "metadata": {}
        },
        {
          "output_type": "display_data",
          "data": {
            "text/plain": [
              "vocab.json:   0%|          | 0.00/801k [00:00<?, ?B/s]"
            ],
            "application/vnd.jupyter.widget-view+json": {
              "version_major": 2,
              "version_minor": 0,
              "model_id": "e0841139458e4ee4ae7d83621ca7c6f9"
            }
          },
          "metadata": {}
        },
        {
          "output_type": "display_data",
          "data": {
            "text/plain": [
              "merges.txt:   0%|          | 0.00/466k [00:00<?, ?B/s]"
            ],
            "application/vnd.jupyter.widget-view+json": {
              "version_major": 2,
              "version_minor": 0,
              "model_id": "25a9b28487444248b0180cb86fb429d7"
            }
          },
          "metadata": {}
        },
        {
          "output_type": "display_data",
          "data": {
            "text/plain": [
              "tokenizer.json:   0%|          | 0.00/2.10M [00:00<?, ?B/s]"
            ],
            "application/vnd.jupyter.widget-view+json": {
              "version_major": 2,
              "version_minor": 0,
              "model_id": "cc2d850265a54024bb3c2743c3728e00"
            }
          },
          "metadata": {}
        },
        {
          "output_type": "display_data",
          "data": {
            "text/plain": [
              "special_tokens_map.json:   0%|          | 0.00/565 [00:00<?, ?B/s]"
            ],
            "application/vnd.jupyter.widget-view+json": {
              "version_major": 2,
              "version_minor": 0,
              "model_id": "89fc1434626a410b9b7efd8dafd463a6"
            }
          },
          "metadata": {}
        },
        {
          "output_type": "display_data",
          "data": {
            "text/plain": [
              "config.json:   0%|          | 0.00/724 [00:00<?, ?B/s]"
            ],
            "application/vnd.jupyter.widget-view+json": {
              "version_major": 2,
              "version_minor": 0,
              "model_id": "ad71a21a74094d4690f80dd15df5a30c"
            }
          },
          "metadata": {}
        },
        {
          "output_type": "stream",
          "name": "stderr",
          "text": [
            "Xet Storage is enabled for this repo, but the 'hf_xet' package is not installed. Falling back to regular HTTP download. For better performance, install the package with: `pip install huggingface_hub[hf_xet]` or `pip install hf_xet`\n",
            "WARNING:huggingface_hub.file_download:Xet Storage is enabled for this repo, but the 'hf_xet' package is not installed. Falling back to regular HTTP download. For better performance, install the package with: `pip install huggingface_hub[hf_xet]` or `pip install hf_xet`\n"
          ]
        },
        {
          "output_type": "display_data",
          "data": {
            "text/plain": [
              "model.safetensors:   0%|          | 0.00/724M [00:00<?, ?B/s]"
            ],
            "application/vnd.jupyter.widget-view+json": {
              "version_major": 2,
              "version_minor": 0,
              "model_id": "958d692b72554289890a82c3f8a1c581"
            }
          },
          "metadata": {}
        },
        {
          "output_type": "display_data",
          "data": {
            "text/plain": [
              "generation_config.json:   0%|          | 0.00/156 [00:00<?, ?B/s]"
            ],
            "application/vnd.jupyter.widget-view+json": {
              "version_major": 2,
              "version_minor": 0,
              "model_id": "bddaa9882c7f4d12ba83eae4da0297f1"
            }
          },
          "metadata": {}
        },
        {
          "output_type": "stream",
          "name": "stdout",
          "text": [
            "PROMPT\n",
            "<|im_start|>user\n",
            "what is the weather like today<|im_end|>\n",
            "<|im_start|>assistant\n",
            "\n",
            "Generated answer\n",
            "What a great question! Today's weather is a fascinating topic. Here's a summary of the current weather conditions:\n",
            "\n",
            "**Temperature:**\n",
            "\n",
            "* The temperature is currently around 22°\n"
          ]
        }
      ],
      "source": [
        "import torch\n",
        "from transformers import AutoTokenizer, AutoModelForCausalLM\n",
        "checkpoint = \"HuggingFaceTB/SmolLM-360M-Instruct\"\n",
        "\n",
        "device = torch.device(\"cuda\")\n",
        "tokenizer = AutoTokenizer.from_pretrained(checkpoint)\n",
        "model = AutoModelForCausalLM.from_pretrained(checkpoint).to(device)\n",
        "\n",
        "messages = [{\"role\": \"user\", \"content\": \"what is the weather like today\"}]\n",
        "prompt_text = tokenizer.apply_chat_template(messages, add_generation_prompt=True, tokenize=False)\n",
        "print(\"PROMPT\")\n",
        "print(prompt_text)\n",
        "inputs = tokenizer(prompt_text, return_tensors=\"pt\")\n",
        "for k, v in inputs.items():\n",
        "    inputs[k] = v.to(device)\n",
        "\n",
        "gens = model.generate(**inputs)\n",
        "print(\"Generated answer\")\n",
        "print(tokenizer.decode(gens[0, inputs[\"input_ids\"].size(1):].tolist()))\n"
      ]
    },
    {
      "cell_type": "markdown",
      "metadata": {
        "id": "EXMtkztBJ0a1"
      },
      "source": [
        "Как мы видим у модели есть свой prompt_format и работает она как обычный ассистент - доброжелательно отвечает пользователю на поставленный вопрос.\n",
        "\n",
        "Представим, что наши пользователи имеют возможность регенерации сообщений в нашем приложении: если им не нравится ответ, они могут сгенерировать новый. Иногда мы даем пользователю два ответа и просим выбрать тот, который больше понравился. Такое можно зачастую встретить например у OpenAI.\n",
        "\n",
        "Рассмотрим датасет `HumanLLMs/Human-Like-DPO-Dataset` - это датасет пар ответов, в котором предпочтительный (chosen) ответ более \"человечный\", то есть содержит в себе смайлики, легкомыслие, а менее предпочтительный (rejected) ответ.\n",
        "Как вы помните датасеты для DPO именно так и строятся - есть некоторый промпт (возможно, история диалога из нескольких шагов) и 2 ответа, один из которых хороший, а другой - плохой."
      ]
    },
    {
      "cell_type": "code",
      "source": [
        "!pip install datasets"
      ],
      "metadata": {
        "colab": {
          "base_uri": "https://localhost:8080/"
        },
        "id": "KxAst_Hu_pfE",
        "outputId": "a2cd4b3f-1a12-46b1-f030-5ed0fa7faa6e"
      },
      "execution_count": 13,
      "outputs": [
        {
          "output_type": "stream",
          "name": "stdout",
          "text": [
            "Collecting datasets\n",
            "  Downloading datasets-3.5.1-py3-none-any.whl.metadata (19 kB)\n",
            "Requirement already satisfied: filelock in /usr/local/lib/python3.11/dist-packages (from datasets) (3.18.0)\n",
            "Requirement already satisfied: numpy>=1.17 in /usr/local/lib/python3.11/dist-packages (from datasets) (2.0.2)\n",
            "Requirement already satisfied: pyarrow>=15.0.0 in /usr/local/lib/python3.11/dist-packages (from datasets) (18.1.0)\n",
            "Collecting dill<0.3.9,>=0.3.0 (from datasets)\n",
            "  Downloading dill-0.3.8-py3-none-any.whl.metadata (10 kB)\n",
            "Requirement already satisfied: pandas in /usr/local/lib/python3.11/dist-packages (from datasets) (2.2.2)\n",
            "Requirement already satisfied: requests>=2.32.2 in /usr/local/lib/python3.11/dist-packages (from datasets) (2.32.3)\n",
            "Requirement already satisfied: tqdm>=4.66.3 in /usr/local/lib/python3.11/dist-packages (from datasets) (4.67.1)\n",
            "Collecting xxhash (from datasets)\n",
            "  Downloading xxhash-3.5.0-cp311-cp311-manylinux_2_17_x86_64.manylinux2014_x86_64.whl.metadata (12 kB)\n",
            "Collecting multiprocess<0.70.17 (from datasets)\n",
            "  Downloading multiprocess-0.70.16-py311-none-any.whl.metadata (7.2 kB)\n",
            "Collecting fsspec<=2025.3.0,>=2023.1.0 (from fsspec[http]<=2025.3.0,>=2023.1.0->datasets)\n",
            "  Downloading fsspec-2025.3.0-py3-none-any.whl.metadata (11 kB)\n",
            "Requirement already satisfied: aiohttp in /usr/local/lib/python3.11/dist-packages (from datasets) (3.11.15)\n",
            "Requirement already satisfied: huggingface-hub>=0.24.0 in /usr/local/lib/python3.11/dist-packages (from datasets) (0.30.2)\n",
            "Requirement already satisfied: packaging in /usr/local/lib/python3.11/dist-packages (from datasets) (24.2)\n",
            "Requirement already satisfied: pyyaml>=5.1 in /usr/local/lib/python3.11/dist-packages (from datasets) (6.0.2)\n",
            "Requirement already satisfied: aiohappyeyeballs>=2.3.0 in /usr/local/lib/python3.11/dist-packages (from aiohttp->datasets) (2.6.1)\n",
            "Requirement already satisfied: aiosignal>=1.1.2 in /usr/local/lib/python3.11/dist-packages (from aiohttp->datasets) (1.3.2)\n",
            "Requirement already satisfied: attrs>=17.3.0 in /usr/local/lib/python3.11/dist-packages (from aiohttp->datasets) (25.3.0)\n",
            "Requirement already satisfied: frozenlist>=1.1.1 in /usr/local/lib/python3.11/dist-packages (from aiohttp->datasets) (1.6.0)\n",
            "Requirement already satisfied: multidict<7.0,>=4.5 in /usr/local/lib/python3.11/dist-packages (from aiohttp->datasets) (6.4.3)\n",
            "Requirement already satisfied: propcache>=0.2.0 in /usr/local/lib/python3.11/dist-packages (from aiohttp->datasets) (0.3.1)\n",
            "Requirement already satisfied: yarl<2.0,>=1.17.0 in /usr/local/lib/python3.11/dist-packages (from aiohttp->datasets) (1.20.0)\n",
            "Requirement already satisfied: typing-extensions>=3.7.4.3 in /usr/local/lib/python3.11/dist-packages (from huggingface-hub>=0.24.0->datasets) (4.13.2)\n",
            "Requirement already satisfied: charset-normalizer<4,>=2 in /usr/local/lib/python3.11/dist-packages (from requests>=2.32.2->datasets) (3.4.1)\n",
            "Requirement already satisfied: idna<4,>=2.5 in /usr/local/lib/python3.11/dist-packages (from requests>=2.32.2->datasets) (3.10)\n",
            "Requirement already satisfied: urllib3<3,>=1.21.1 in /usr/local/lib/python3.11/dist-packages (from requests>=2.32.2->datasets) (2.4.0)\n",
            "Requirement already satisfied: certifi>=2017.4.17 in /usr/local/lib/python3.11/dist-packages (from requests>=2.32.2->datasets) (2025.4.26)\n",
            "Requirement already satisfied: python-dateutil>=2.8.2 in /usr/local/lib/python3.11/dist-packages (from pandas->datasets) (2.9.0.post0)\n",
            "Requirement already satisfied: pytz>=2020.1 in /usr/local/lib/python3.11/dist-packages (from pandas->datasets) (2025.2)\n",
            "Requirement already satisfied: tzdata>=2022.7 in /usr/local/lib/python3.11/dist-packages (from pandas->datasets) (2025.2)\n",
            "Requirement already satisfied: six>=1.5 in /usr/local/lib/python3.11/dist-packages (from python-dateutil>=2.8.2->pandas->datasets) (1.17.0)\n",
            "Downloading datasets-3.5.1-py3-none-any.whl (491 kB)\n",
            "\u001b[2K   \u001b[90m━━━━━━━━━━━━━━━━━━━━━━━━━━━━━━━━━━━━━━━━\u001b[0m \u001b[32m491.4/491.4 kB\u001b[0m \u001b[31m11.9 MB/s\u001b[0m eta \u001b[36m0:00:00\u001b[0m\n",
            "\u001b[?25hDownloading dill-0.3.8-py3-none-any.whl (116 kB)\n",
            "\u001b[2K   \u001b[90m━━━━━━━━━━━━━━━━━━━━━━━━━━━━━━━━━━━━━━━━\u001b[0m \u001b[32m116.3/116.3 kB\u001b[0m \u001b[31m12.6 MB/s\u001b[0m eta \u001b[36m0:00:00\u001b[0m\n",
            "\u001b[?25hDownloading fsspec-2025.3.0-py3-none-any.whl (193 kB)\n",
            "\u001b[2K   \u001b[90m━━━━━━━━━━━━━━━━━━━━━━━━━━━━━━━━━━━━━━━━\u001b[0m \u001b[32m193.6/193.6 kB\u001b[0m \u001b[31m18.0 MB/s\u001b[0m eta \u001b[36m0:00:00\u001b[0m\n",
            "\u001b[?25hDownloading multiprocess-0.70.16-py311-none-any.whl (143 kB)\n",
            "\u001b[2K   \u001b[90m━━━━━━━━━━━━━━━━━━━━━━━━━━━━━━━━━━━━━━━━\u001b[0m \u001b[32m143.5/143.5 kB\u001b[0m \u001b[31m13.6 MB/s\u001b[0m eta \u001b[36m0:00:00\u001b[0m\n",
            "\u001b[?25hDownloading xxhash-3.5.0-cp311-cp311-manylinux_2_17_x86_64.manylinux2014_x86_64.whl (194 kB)\n",
            "\u001b[2K   \u001b[90m━━━━━━━━━━━━━━━━━━━━━━━━━━━━━━━━━━━━━━━━\u001b[0m \u001b[32m194.8/194.8 kB\u001b[0m \u001b[31m20.3 MB/s\u001b[0m eta \u001b[36m0:00:00\u001b[0m\n",
            "\u001b[?25hInstalling collected packages: xxhash, fsspec, dill, multiprocess, datasets\n",
            "  Attempting uninstall: fsspec\n",
            "    Found existing installation: fsspec 2025.3.2\n",
            "    Uninstalling fsspec-2025.3.2:\n",
            "      Successfully uninstalled fsspec-2025.3.2\n",
            "\u001b[31mERROR: pip's dependency resolver does not currently take into account all the packages that are installed. This behaviour is the source of the following dependency conflicts.\n",
            "torch 2.6.0+cu124 requires nvidia-cublas-cu12==12.4.5.8; platform_system == \"Linux\" and platform_machine == \"x86_64\", but you have nvidia-cublas-cu12 12.5.3.2 which is incompatible.\n",
            "torch 2.6.0+cu124 requires nvidia-cuda-cupti-cu12==12.4.127; platform_system == \"Linux\" and platform_machine == \"x86_64\", but you have nvidia-cuda-cupti-cu12 12.5.82 which is incompatible.\n",
            "torch 2.6.0+cu124 requires nvidia-cuda-nvrtc-cu12==12.4.127; platform_system == \"Linux\" and platform_machine == \"x86_64\", but you have nvidia-cuda-nvrtc-cu12 12.5.82 which is incompatible.\n",
            "torch 2.6.0+cu124 requires nvidia-cuda-runtime-cu12==12.4.127; platform_system == \"Linux\" and platform_machine == \"x86_64\", but you have nvidia-cuda-runtime-cu12 12.5.82 which is incompatible.\n",
            "torch 2.6.0+cu124 requires nvidia-cudnn-cu12==9.1.0.70; platform_system == \"Linux\" and platform_machine == \"x86_64\", but you have nvidia-cudnn-cu12 9.3.0.75 which is incompatible.\n",
            "torch 2.6.0+cu124 requires nvidia-cufft-cu12==11.2.1.3; platform_system == \"Linux\" and platform_machine == \"x86_64\", but you have nvidia-cufft-cu12 11.2.3.61 which is incompatible.\n",
            "torch 2.6.0+cu124 requires nvidia-curand-cu12==10.3.5.147; platform_system == \"Linux\" and platform_machine == \"x86_64\", but you have nvidia-curand-cu12 10.3.6.82 which is incompatible.\n",
            "torch 2.6.0+cu124 requires nvidia-cusolver-cu12==11.6.1.9; platform_system == \"Linux\" and platform_machine == \"x86_64\", but you have nvidia-cusolver-cu12 11.6.3.83 which is incompatible.\n",
            "torch 2.6.0+cu124 requires nvidia-cusparse-cu12==12.3.1.170; platform_system == \"Linux\" and platform_machine == \"x86_64\", but you have nvidia-cusparse-cu12 12.5.1.3 which is incompatible.\n",
            "torch 2.6.0+cu124 requires nvidia-nvjitlink-cu12==12.4.127; platform_system == \"Linux\" and platform_machine == \"x86_64\", but you have nvidia-nvjitlink-cu12 12.5.82 which is incompatible.\n",
            "gcsfs 2025.3.2 requires fsspec==2025.3.2, but you have fsspec 2025.3.0 which is incompatible.\u001b[0m\u001b[31m\n",
            "\u001b[0mSuccessfully installed datasets-3.5.1 dill-0.3.8 fsspec-2025.3.0 multiprocess-0.70.16 xxhash-3.5.0\n"
          ]
        }
      ]
    },
    {
      "cell_type": "code",
      "execution_count": 16,
      "metadata": {
        "id": "AQ5izEfqJ0a1",
        "colab": {
          "base_uri": "https://localhost:8080/"
        },
        "outputId": "9800c271-4aa5-4d27-b5ef-71e17bd8c6be"
      },
      "outputs": [
        {
          "output_type": "stream",
          "name": "stdout",
          "text": [
            "{'chosen': \"😂 Ah, no I haven't! I'm dying to know, what's the meme about? Is \"\n",
            "           'it a funny cat or a ridiculous situation? Spill the beans! 🤣',\n",
            " 'prompt': 'Oh, I just saw the best meme - have you seen it?',\n",
            " 'rejected': \"I'm an artificial intelligence language model, I don't have \"\n",
            "             'personal experiences or opinions. However, I can provide you '\n",
            "             'with information on highly-rated and critically acclaimed films, '\n",
            "             'as well as recommendations based on specific genres or themes. '\n",
            "             'Would you like me to suggest some notable movies or discuss a '\n",
            "             'particular genre of interest?'}\n"
          ]
        }
      ],
      "source": [
        "import json\n",
        "from datasets import load_dataset\n",
        "from pprint import pprint\n",
        "dataset = load_dataset(\"HumanLLMs/Human-Like-DPO-Dataset\")\n",
        "\n",
        "pprint(dataset[\"train\"][0])"
      ]
    },
    {
      "cell_type": "code",
      "execution_count": 15,
      "metadata": {
        "id": "KHdlWAFPJ0a1",
        "colab": {
          "base_uri": "https://localhost:8080/"
        },
        "outputId": "3f85c94d-a13c-40b6-978e-5dbb615a604a"
      },
      "outputs": [
        {
          "output_type": "stream",
          "name": "stdout",
          "text": [
            "{'chosen': \"You know, I think I'm a little bit of both, to be honest! I love \"\n",
            "           \"the energy and anonymity of a big city – there's always something \"\n",
            "           'going on, and you can find pretty much anything you need at any '\n",
            "           'hour. But at the same time, I appreciate the charm and sense of '\n",
            "           \"community that comes with a small town. There's something really \"\n",
            "           'cozy about knowing your neighbors and being able to walk down Main '\n",
            "           'Street and run into friends.\\n'\n",
            "           '\\n'\n",
            "           \"That being said, if I'm being completely honest, I'm a bit of a \"\n",
            "           'sucker for a good mountain town. You know, the kind of place with '\n",
            "           \"a cute downtown area, surrounded by trails and mountains? That's \"\n",
            "           'my happy place! What about you, do you have a preference?',\n",
            " 'prompt': 'Are you more of a city person or a small-town fan?',\n",
            " 'rejected': \"As a professional AI, I don't possess personal preferences or \"\n",
            "             'engage in leisure activities. My purpose is to provide accurate '\n",
            "             'and informative responses to your inquiries, and I do not '\n",
            "             'experience downtime or personal experiences. My focus is solely '\n",
            "             'on assisting users with their queries to the best of my '\n",
            "             \"abilities. If you have any specific questions or topics you'd \"\n",
            "             \"like to discuss, I'm here to provide information and insights.\"}\n"
          ]
        }
      ],
      "source": [
        "train_dataset = load_dataset(\"HumanLLMs/Human-Like-DPO-Dataset\", split=\"train[:10%]\")\n",
        "eval_dataset = load_dataset(\"HumanLLMs/Human-Like-DPO-Dataset\", split=\"train[10%:12%]\")\n",
        "\n",
        "pprint(eval_dataset[0])\n"
      ]
    },
    {
      "cell_type": "code",
      "source": [
        "pprint(eval_dataset[1])"
      ],
      "metadata": {
        "colab": {
          "base_uri": "https://localhost:8080/"
        },
        "id": "aDC8yiy9Fusr",
        "outputId": "3e6786a5-d9b9-4ba1-a7d4-c37d2073f4d9"
      },
      "execution_count": 30,
      "outputs": [
        {
          "output_type": "stream",
          "name": "stdout",
          "text": [
            "{'chosen': \"You know, I've been meaning to catch up on some new releases, but \"\n",
            "           \"I just haven't had the time 😅. I did binge-watch that new season \"\n",
            "           'of \"Stranger Things\" though, and oh man, it was so good! I loved '\n",
            "           'seeing the gang back together again. Have you watched it? What did '\n",
            "           \"you think? 🎥 And by the way, do you have any recommendations? I'm \"\n",
            "           'always up for something new! 🤔',\n",
            " 'prompt': 'Oh, have you seen any good movies or TV shows lately?',\n",
            " 'rejected': \"I'm afraid I don't have personal preferences or emotions, nor do \"\n",
            "             'I have the capacity to enjoy music or any other form of '\n",
            "             'entertainment. My purpose is to provide accurate and informative '\n",
            "             'responses to assist with inquiries and tasks. However, I can '\n",
            "             'provide information on the effects of different music genres on '\n",
            "             'mood and productivity if that would be helpful. Please let me '\n",
            "             \"know if there's anything else I can assist you with.\"}\n"
          ]
        }
      ]
    },
    {
      "cell_type": "markdown",
      "metadata": {
        "id": "VCLiZd_8J0a1"
      },
      "source": [
        "Представим, что наши аналитики прислали нам такие данные и мы хотим сделать нашу модель лучше. Мы можем напрямую произвести обучениа на хороших сэмплах, но мы попробуем подать на обучение более богатый сигнал: мы не только хотим максимизировать вероятность chosen текста, но и дополнительно хотим минимизировать вероятность rejected текста. Чтобы еще сильнее разделить примеры, давайте оставим только те, где в chosen есть смайлик, а в rejected его нет."
      ]
    },
    {
      "cell_type": "code",
      "source": [
        "import re\n",
        "emoji_pattern = re.compile(\n",
        "    '['\n",
        "    '\\U0001F600-\\U0001F64F'  # Emoticons\n",
        "    '\\U0001F300-\\U0001F5FF'  # Symbols & Pictographs\n",
        "    '\\U0001F680-\\U0001F6FF'  # Transport & Map Symbols\n",
        "    '\\U0001F700-\\U0001F77F'  # Alchemical Symbols\n",
        "    '\\U0001F780-\\U0001F7FF'  # Geometric Shapes Extended\n",
        "    '\\U0001F800-\\U0001F8FF'  # Supplemental Arrows-C\n",
        "    '\\U0001F900-\\U0001F9FF'  # Supplemental Symbols and Pictographs\n",
        "    '\\U0001FA00-\\U0001FA6F'  # Chess Symbols\n",
        "    '\\U0001FA70-\\U0001FAFF'  # Symbols and Pictographs Extended-A\n",
        "    '\\U00002702-\\U000027B0'  # Dingbats\n",
        "    '\\U000024C2-\\U0001F251'  # Enclosed characters\n",
        "    '\\U0000200D'             # Zero Width Joiner\n",
        "    '\\U0001F1E0-\\U0001F1FF'  # Flags\n",
        "    ']+',\n",
        "    re.UNICODE\n",
        ")\n",
        "sample = \"I love 🍕 and 🚀 and 😂!\"\n",
        "bool(emoji_pattern.search(sample))"
      ],
      "metadata": {
        "colab": {
          "base_uri": "https://localhost:8080/"
        },
        "id": "oIwgpZkpBMWN",
        "outputId": "8005c019-e8f4-4771-f8a3-e15eef1c48f8"
      },
      "execution_count": 28,
      "outputs": [
        {
          "output_type": "execute_result",
          "data": {
            "text/plain": [
              "True"
            ]
          },
          "metadata": {},
          "execution_count": 28
        }
      ]
    },
    {
      "cell_type": "code",
      "source": [
        "train_dataset"
      ],
      "metadata": {
        "colab": {
          "base_uri": "https://localhost:8080/"
        },
        "id": "5PaiAQGAC00_",
        "outputId": "bf385888-54ca-44b3-fca8-b47f2261be82"
      },
      "execution_count": 26,
      "outputs": [
        {
          "output_type": "execute_result",
          "data": {
            "text/plain": [
              "Dataset({\n",
              "    features: ['prompt', 'chosen', 'rejected'],\n",
              "    num_rows: 1088\n",
              "})"
            ]
          },
          "metadata": {},
          "execution_count": 26
        }
      ]
    },
    {
      "cell_type": "code",
      "execution_count": 36,
      "metadata": {
        "id": "JhtzrW1uJ0a1",
        "colab": {
          "base_uri": "https://localhost:8080/",
          "height": 49,
          "referenced_widgets": [
            "e44a0e0efdd34471a5e08e0911e97d08",
            "2f60f78614cd44c0860672427d45b9cc",
            "55baddd729b647f2bf09c0f84d1dff9a",
            "cf13bc72825048978a6690748361f987",
            "59991f8894f44bca992810564a897853",
            "4eef5678115d463fb513d7a55e938a46",
            "78a6824a511546b2a3c036e939c5df4a",
            "b80ea51544f04e1eae5195fd3d6a4226",
            "a2f39cbb940b43f8996459f57e038d30",
            "a254c4315f8a479ea6cddcc9d8a7416e",
            "89ceda3362464fd9850a3e3287d9b477"
          ]
        },
        "outputId": "2f18d185-a778-477b-e335-ca35ddeea036"
      },
      "outputs": [
        {
          "output_type": "display_data",
          "data": {
            "text/plain": [
              "Filter:   0%|          | 0/1061 [00:00<?, ? examples/s]"
            ],
            "application/vnd.jupyter.widget-view+json": {
              "version_major": 2,
              "version_minor": 0,
              "model_id": "e44a0e0efdd34471a5e08e0911e97d08"
            }
          },
          "metadata": {}
        }
      ],
      "source": [
        "import re\n",
        "emoji_pattern = re.compile(\n",
        "    '['\n",
        "    '\\U0001F600-\\U0001F64F'  # Emoticons\n",
        "    '\\U0001F300-\\U0001F5FF'  # Symbols & Pictographs\n",
        "    '\\U0001F680-\\U0001F6FF'  # Transport & Map Symbols\n",
        "    '\\U0001F700-\\U0001F77F'  # Alchemical Symbols\n",
        "    '\\U0001F780-\\U0001F7FF'  # Geometric Shapes Extended\n",
        "    '\\U0001F800-\\U0001F8FF'  # Supplemental Arrows-C\n",
        "    '\\U0001F900-\\U0001F9FF'  # Supplemental Symbols and Pictographs\n",
        "    '\\U0001FA00-\\U0001FA6F'  # Chess Symbols\n",
        "    '\\U0001FA70-\\U0001FAFF'  # Symbols and Pictographs Extended-A\n",
        "    '\\U00002702-\\U000027B0'  # Dingbats\n",
        "    '\\U000024C2-\\U0001F251'  # Enclosed characters\n",
        "    '\\U0000200D'             # Zero Width Joiner\n",
        "    '\\U0001F1E0-\\U0001F1FF'  # Flags\n",
        "    ']+',\n",
        "    re.UNICODE\n",
        ")\n",
        "\n",
        "def find_emojis(sample):\n",
        "    # ВАШ КОД ЗДЕСЬ\n",
        "    return bool(emoji_pattern.search(sample[\"chosen\"]))\n",
        "\n",
        "train_dataset = train_dataset.filter(find_emojis)\n",
        "assert len(train_dataset) == 1061\n"
      ]
    },
    {
      "cell_type": "markdown",
      "metadata": {
        "id": "7A_taHBcJ0a2"
      },
      "source": [
        "Наш тренер DPOTrainer будет собирать примеры из полей prompt, chosen и rejected. Чтобы все корректно обрабатывалось, нам нужно применить chat_template к нашим примерам. Так как у нас довольно простой случай с диалогом из одного шага (одна пара вопрос-ответ), мы можем применить chat_template к prompt. Добавлять EOS токен в chosen/rejected не нужно, это делает за нас DPOTrainer"
      ]
    },
    {
      "cell_type": "code",
      "execution_count": 63,
      "metadata": {
        "id": "orwi956GJ0a2"
      },
      "outputs": [],
      "source": [
        "def apply_chat_template(sample, tokenizer):\n",
        "    # ВАШ КОД ЗДЕСЬ\n",
        "    return {\n",
        "        'prompt': tokenizer.apply_chat_template([{'role': 'user', 'content': sample['prompt']}],\n",
        "                                                tokenize=False,\n",
        "                                                add_generation_prompt=True),\n",
        "        'chosen': sample['chosen'],\n",
        "        'rejected': sample['rejected']\n",
        "        }\n",
        "\n",
        "reference = \"\"\"<|im_start|>user\\nOh, I just saw the best meme - have you seen it?<|im_end|>\\n<|im_start|>assistant\\n\"\"\"\n",
        "sample = train_dataset[0]\n",
        "new_sample = apply_chat_template(sample, tokenizer)\n",
        "assert new_sample[\"chosen\"] == sample[\"chosen\"]\n",
        "assert new_sample[\"rejected\"] == sample[\"rejected\"]\n",
        "assert new_sample[\"prompt\"] == reference\n"
      ]
    },
    {
      "cell_type": "markdown",
      "metadata": {
        "id": "f8AHWFzkJ0a2"
      },
      "source": [
        "Давайте применим препроцессинг к нашему датасету"
      ]
    },
    {
      "cell_type": "code",
      "execution_count": 64,
      "metadata": {
        "id": "TVLYdOHZJ0a2",
        "colab": {
          "base_uri": "https://localhost:8080/",
          "height": 81,
          "referenced_widgets": [
            "3da5447e5a33453f9b099d50572d2ea9",
            "9896509402314d089ac417e8e067ce8a",
            "44dda813a09341e0b3d075010075120d",
            "ebb74ea2f8a147f98b8e541c29a7dc60",
            "380ba6909e414b119c1d71c2f9636a72",
            "2bf0cb9248e0470a998aeff18e75758e",
            "0e7ea55572a44fe7b283e9b7b695ead1",
            "2ac21e9d3b3e4e688538de894cca082f",
            "ff2fdeef60e046cba35f8b6257230793",
            "20e3368af052484383e05d9895606369",
            "ed76c7a0ed884139bb2dcf5c55543151",
            "1213bfee61f34de0be9ff84d975aca6e",
            "708429c628144a6a8ad0ea254fb117a3",
            "80374c4c54e64e8cab80a73a56fa82e0",
            "34717b28a6b04acfb192a86793933119",
            "809462c33cab47d481579e7f14277b43",
            "91801ae1243a40c4b4f03c24bf99f3a4",
            "83870f62d88944f1a3ddfb8740d5f6cd",
            "e3dcd89443084e29a7758f8e7f0234fe",
            "1dda87cdb6d641499de3d4db16ccb397",
            "ce4a7c0bda22480f885a1b8582ef7deb",
            "b4264267644b46f492a0cf4f7665858a"
          ]
        },
        "outputId": "6f770f74-fc76-46c6-a6f0-6e9360d1afa8"
      },
      "outputs": [
        {
          "output_type": "display_data",
          "data": {
            "text/plain": [
              "Map:   0%|          | 0/1061 [00:00<?, ? examples/s]"
            ],
            "application/vnd.jupyter.widget-view+json": {
              "version_major": 2,
              "version_minor": 0,
              "model_id": "3da5447e5a33453f9b099d50572d2ea9"
            }
          },
          "metadata": {}
        },
        {
          "output_type": "display_data",
          "data": {
            "text/plain": [
              "Map:   0%|          | 0/218 [00:00<?, ? examples/s]"
            ],
            "application/vnd.jupyter.widget-view+json": {
              "version_major": 2,
              "version_minor": 0,
              "model_id": "1213bfee61f34de0be9ff84d975aca6e"
            }
          },
          "metadata": {}
        }
      ],
      "source": [
        "from functools import partial\n",
        "partial_template = partial(apply_chat_template, tokenizer=tokenizer)\n",
        "train_dataset = train_dataset.map(partial_template)\n",
        "eval_dataset = eval_dataset.map(partial_template)\n"
      ]
    },
    {
      "cell_type": "markdown",
      "metadata": {
        "id": "0Ocmz4GyJ0a2"
      },
      "source": [
        "Теперь нужно создать LoRA модель. Учить DPO можно и без нее, но как вы помните в формуле DPO учавствуют вероятности от референсной модели - мы не хотим, чтобы наша модель далеко уходила от референса.\n",
        "Если учить все веса модели, то нам потребуется хранить референсную модель в памяти, а это еще гигабайты видеопамяти, которые нам очень нужны, т.к. каждый батч в DPO обучении в два раза больше обычных батчей, так как мы считаем выходы и по chosen и по rejected.\n",
        "Есть несколько вариантов с этим бороться:\n",
        "1. Предпосчитать все выходы референсной модели и подгружать эти выходы с жесткого диска. Этот вариант хороший, но в этот раз мы поступим интереснее.\n",
        "2. Можно использовать LoRA - тогда, чтобы получить референсную модель, нам достаточно не применять LoRA слои, которые мы обучаем. Таким образом мы не дублируем референсную модель, т.к. она содержится в нашей базовой модели. Эту логику поддерживает DPOTrainer и в этой задаче мы воспользуемся именно таким подходом.\n",
        "\n",
        "Для создания модели используйте метод [get_peft_model](https://huggingface.co/docs/peft/v0.14.0/en/package_reference/peft_model#peft.get_peft_model)"
      ]
    },
    {
      "cell_type": "code",
      "execution_count": null,
      "metadata": {
        "id": "4rcfC_MJJ0a2"
      },
      "outputs": [],
      "source": [
        "from trl import DPOTrainer, DPOConfig\n",
        "from peft import LoraConfig, get_peft_model\n",
        "\n",
        "peft_config = LoraConfig(\n",
        "    r=...,\n",
        "    lora_alpha=...,\n",
        "    target_modules=\"all-linear\",\n",
        "    bias=\"none\",\n",
        "    task_type=\"CAUSAL_LM\",\n",
        ")\n",
        "\n",
        "# для чекпоинтинга\n",
        "model.enable_input_require_grads()\n",
        "peft_model = ...\n"
      ]
    },
    {
      "cell_type": "markdown",
      "metadata": {
        "id": "1T7JEwEiJ0a2"
      },
      "source": [
        "Заполним аргументы для обучения. Рекомендую поставить эффективный батч сайз 16 (с помощью аккумуляции), обычный батч сайз 4, одну эпоху обучения. Для удобства давайте поставим агрессивный lr = 1e-3, но обычно он в 10 раз меньше"
      ]
    },
    {
      "cell_type": "code",
      "execution_count": null,
      "metadata": {
        "id": "HaM5DNthJ0a2"
      },
      "outputs": [],
      "source": [
        "\n",
        "training_args = DPOConfig(\n",
        "    output_dir=\"checkpoint\",\n",
        "    bf16=True,\n",
        "    gradient_checkpointing=...,\n",
        "    per_device_train_batch_size=...,\n",
        "    per_device_eval_batch_size=...,\n",
        "    gradient_accumulation_steps=...,\n",
        "    gradient_checkpointing_kwargs={'use_reentrant':False},\n",
        "    num_train_epochs=1,\n",
        "    dataset_num_proc=1,\n",
        "    dataloader_num_workers=1,\n",
        "    logging_steps=10,\n",
        "    report_to=\"none\",\n",
        "    save_strategy=\"steps\",\n",
        "    save_steps=100,\n",
        "    save_total_limit=1,\n",
        "    eval_steps=20,\n",
        "    eval_strategy=\"steps\",\n",
        "    learning_rate=...,\n",
        "    beta=0.1,\n",
        ")\n",
        "trainer = DPOTrainer(\n",
        "    model=peft_model,\n",
        "    ref_model=None,\n",
        "    args=training_args,\n",
        "    train_dataset=train_dataset,\n",
        "    eval_dataset=eval_dataset,\n",
        "    processing_class=tokenizer,\n",
        ")\n",
        "trainer.train()\n",
        "\n",
        "\n",
        "for i in range(10):\n",
        "    gens = peft_model.generate(**inputs, do_sample=True, temperature=0.8)\n",
        "    print(\"Generated answer\")\n",
        "    print(tokenizer.decode(gens[0, inputs[\"input_ids\"].size(1):].tolist()))\n"
      ]
    },
    {
      "cell_type": "markdown",
      "metadata": {
        "id": "_GQBMjCbJ0a2"
      },
      "source": [
        "Как видим, у нас получилась новая модель, которая активнее ставит смайлики. Давайте разберем, какие метрики нам доступны в рамках обучения:\n",
        "\n",
        "* loss - dpo функция потерь\n",
        "* logps/chosen - логвероятности chosen ответа. Чем они ближе к 0, тем вероятнее мы оцениваем этот ответ. Эта метрика должна расти и приближаться к 0\n",
        "* logps/rejected - логвероятности rejected ответа. Чем они ближе к 0, тем вероятнее мы оцениваем этот ответ. Эта метрика должна падать и приближаться к -inf\n",
        "* rewards/chosen - `self.beta * (chosen_logps.to(device) - ref_chosen_logps.to(device))` - логарифм отношения вероятностей chosen ответа нашей модели к референсной модели, метрика должна расти\n",
        "* rewards/rejected - `self.beta * (rejected_logps.to(device) - ref_rejected_logps.to(device))` - логарифм отношения вероятностей chosrejectedета нашей модели к референсной модели, метрика должна падать\n",
        "* rewards/margins - разница между logps/chosen и logps/rejected, показывает насколько вероятнее мы сгенерируем chosen ответ, чем rejected\n",
        "* rewards/accuracies - доля сэмплов в батче, где chosen ответу мы ставим вероятность выше, чем rejected\n",
        "\n",
        "\n",
        "LoRA можно замерджить в модель, после чего сохранить полный чекпоинт по желанию. Для этого нам нужен метод [merge_and_unload](https://huggingface.co/docs/peft/main/en/package_reference/lora#peft.LoraModel.merge_and_unload), после чего можно вызвать [save_pretrained](https://huggingface.co/docs/transformers/v4.49.0/en/main_classes/feature_extractor#transformers.FeatureExtractionMixin.save_pretrained)\n"
      ]
    },
    {
      "cell_type": "code",
      "execution_count": null,
      "metadata": {
        "id": "nmgp0WupJ0a2"
      },
      "outputs": [],
      "source": [
        "\n",
        "# объединяем веса с LoRA\n",
        "model = ...\n",
        "# сохраняем модель\n",
        "..."
      ]
    }
  ],
  "metadata": {
    "accelerator": "GPU",
    "colab": {
      "gpuType": "T4",
      "provenance": []
    },
    "kernelspec": {
      "display_name": "multi_train",
      "language": "python",
      "name": "multi_train"
    },
    "language_info": {
      "codemirror_mode": {
        "name": "ipython",
        "version": 3
      },
      "file_extension": ".py",
      "mimetype": "text/x-python",
      "name": "python",
      "nbconvert_exporter": "python",
      "pygments_lexer": "ipython3",
      "version": "3.10.9"
    },
    "widgets": {
      "application/vnd.jupyter.widget-state+json": {
        "0021391a7c0c41b88b4b3e1d77729f55": {
          "model_module": "@jupyter-widgets/base",
          "model_module_version": "1.2.0",
          "model_name": "LayoutModel",
          "state": {
            "_model_module": "@jupyter-widgets/base",
            "_model_module_version": "1.2.0",
            "_model_name": "LayoutModel",
            "_view_count": null,
            "_view_module": "@jupyter-widgets/base",
            "_view_module_version": "1.2.0",
            "_view_name": "LayoutView",
            "align_content": null,
            "align_items": null,
            "align_self": null,
            "border": null,
            "bottom": null,
            "display": null,
            "flex": null,
            "flex_flow": null,
            "grid_area": null,
            "grid_auto_columns": null,
            "grid_auto_flow": null,
            "grid_auto_rows": null,
            "grid_column": null,
            "grid_gap": null,
            "grid_row": null,
            "grid_template_areas": null,
            "grid_template_columns": null,
            "grid_template_rows": null,
            "height": null,
            "justify_content": null,
            "justify_items": null,
            "left": null,
            "margin": null,
            "max_height": null,
            "max_width": null,
            "min_height": null,
            "min_width": null,
            "object_fit": null,
            "object_position": null,
            "order": null,
            "overflow": null,
            "overflow_x": null,
            "overflow_y": null,
            "padding": null,
            "right": null,
            "top": null,
            "visibility": null,
            "width": null
          }
        },
        "00b958eea97b449f9bfa0709566f4210": {
          "model_module": "@jupyter-widgets/base",
          "model_module_version": "1.2.0",
          "model_name": "LayoutModel",
          "state": {
            "_model_module": "@jupyter-widgets/base",
            "_model_module_version": "1.2.0",
            "_model_name": "LayoutModel",
            "_view_count": null,
            "_view_module": "@jupyter-widgets/base",
            "_view_module_version": "1.2.0",
            "_view_name": "LayoutView",
            "align_content": null,
            "align_items": null,
            "align_self": null,
            "border": null,
            "bottom": null,
            "display": null,
            "flex": null,
            "flex_flow": null,
            "grid_area": null,
            "grid_auto_columns": null,
            "grid_auto_flow": null,
            "grid_auto_rows": null,
            "grid_column": null,
            "grid_gap": null,
            "grid_row": null,
            "grid_template_areas": null,
            "grid_template_columns": null,
            "grid_template_rows": null,
            "height": null,
            "justify_content": null,
            "justify_items": null,
            "left": null,
            "margin": null,
            "max_height": null,
            "max_width": null,
            "min_height": null,
            "min_width": null,
            "object_fit": null,
            "object_position": null,
            "order": null,
            "overflow": null,
            "overflow_x": null,
            "overflow_y": null,
            "padding": null,
            "right": null,
            "top": null,
            "visibility": null,
            "width": null
          }
        },
        "05082a3b300f44f5a020c5f34fb4ad5e": {
          "model_module": "@jupyter-widgets/controls",
          "model_module_version": "1.5.0",
          "model_name": "DescriptionStyleModel",
          "state": {
            "_model_module": "@jupyter-widgets/controls",
            "_model_module_version": "1.5.0",
            "_model_name": "DescriptionStyleModel",
            "_view_count": null,
            "_view_module": "@jupyter-widgets/base",
            "_view_module_version": "1.2.0",
            "_view_name": "StyleView",
            "description_width": ""
          }
        },
        "0969a6e409d04f9c9653e938e6b42d07": {
          "model_module": "@jupyter-widgets/base",
          "model_module_version": "1.2.0",
          "model_name": "LayoutModel",
          "state": {
            "_model_module": "@jupyter-widgets/base",
            "_model_module_version": "1.2.0",
            "_model_name": "LayoutModel",
            "_view_count": null,
            "_view_module": "@jupyter-widgets/base",
            "_view_module_version": "1.2.0",
            "_view_name": "LayoutView",
            "align_content": null,
            "align_items": null,
            "align_self": null,
            "border": null,
            "bottom": null,
            "display": null,
            "flex": null,
            "flex_flow": null,
            "grid_area": null,
            "grid_auto_columns": null,
            "grid_auto_flow": null,
            "grid_auto_rows": null,
            "grid_column": null,
            "grid_gap": null,
            "grid_row": null,
            "grid_template_areas": null,
            "grid_template_columns": null,
            "grid_template_rows": null,
            "height": null,
            "justify_content": null,
            "justify_items": null,
            "left": null,
            "margin": null,
            "max_height": null,
            "max_width": null,
            "min_height": null,
            "min_width": null,
            "object_fit": null,
            "object_position": null,
            "order": null,
            "overflow": null,
            "overflow_x": null,
            "overflow_y": null,
            "padding": null,
            "right": null,
            "top": null,
            "visibility": null,
            "width": null
          }
        },
        "0b834963ed8e461abad7d61d9b3a99f9": {
          "model_module": "@jupyter-widgets/controls",
          "model_module_version": "1.5.0",
          "model_name": "ProgressStyleModel",
          "state": {
            "_model_module": "@jupyter-widgets/controls",
            "_model_module_version": "1.5.0",
            "_model_name": "ProgressStyleModel",
            "_view_count": null,
            "_view_module": "@jupyter-widgets/base",
            "_view_module_version": "1.2.0",
            "_view_name": "StyleView",
            "bar_color": null,
            "description_width": ""
          }
        },
        "0b8c37bbe23e4fc786ebd75549370c95": {
          "model_module": "@jupyter-widgets/controls",
          "model_module_version": "1.5.0",
          "model_name": "HBoxModel",
          "state": {
            "_dom_classes": [],
            "_model_module": "@jupyter-widgets/controls",
            "_model_module_version": "1.5.0",
            "_model_name": "HBoxModel",
            "_view_count": null,
            "_view_module": "@jupyter-widgets/controls",
            "_view_module_version": "1.5.0",
            "_view_name": "HBoxView",
            "box_style": "",
            "children": [
              "IPY_MODEL_1646a6dabd794fffb96d3203b33564b8",
              "IPY_MODEL_1ea6d72bb09e4713951f88f57a74472b",
              "IPY_MODEL_465d5a93d8b442eea04669cdb110a536"
            ],
            "layout": "IPY_MODEL_357576a1033f45e79ccc681ff5412fa2"
          }
        },
        "0dc0bad9111f4f8bbef74bdf8274e66a": {
          "model_module": "@jupyter-widgets/base",
          "model_module_version": "1.2.0",
          "model_name": "LayoutModel",
          "state": {
            "_model_module": "@jupyter-widgets/base",
            "_model_module_version": "1.2.0",
            "_model_name": "LayoutModel",
            "_view_count": null,
            "_view_module": "@jupyter-widgets/base",
            "_view_module_version": "1.2.0",
            "_view_name": "LayoutView",
            "align_content": null,
            "align_items": null,
            "align_self": null,
            "border": null,
            "bottom": null,
            "display": null,
            "flex": null,
            "flex_flow": null,
            "grid_area": null,
            "grid_auto_columns": null,
            "grid_auto_flow": null,
            "grid_auto_rows": null,
            "grid_column": null,
            "grid_gap": null,
            "grid_row": null,
            "grid_template_areas": null,
            "grid_template_columns": null,
            "grid_template_rows": null,
            "height": null,
            "justify_content": null,
            "justify_items": null,
            "left": null,
            "margin": null,
            "max_height": null,
            "max_width": null,
            "min_height": null,
            "min_width": null,
            "object_fit": null,
            "object_position": null,
            "order": null,
            "overflow": null,
            "overflow_x": null,
            "overflow_y": null,
            "padding": null,
            "right": null,
            "top": null,
            "visibility": null,
            "width": null
          }
        },
        "0e2431b8a8c34701b021dac40e501c9c": {
          "model_module": "@jupyter-widgets/controls",
          "model_module_version": "1.5.0",
          "model_name": "FloatProgressModel",
          "state": {
            "_dom_classes": [],
            "_model_module": "@jupyter-widgets/controls",
            "_model_module_version": "1.5.0",
            "_model_name": "FloatProgressModel",
            "_view_count": null,
            "_view_module": "@jupyter-widgets/controls",
            "_view_module_version": "1.5.0",
            "_view_name": "ProgressView",
            "bar_style": "success",
            "description": "",
            "description_tooltip": null,
            "layout": "IPY_MODEL_f832a77d69784ba09786b250ca939496",
            "max": 231508,
            "min": 0,
            "orientation": "horizontal",
            "style": "IPY_MODEL_f3a5e2f3db6d4cfdbc84581ea0b04b22",
            "value": 231508
          }
        },
        "128ae0d49f0648b38b7eea511889ba75": {
          "model_module": "@jupyter-widgets/controls",
          "model_module_version": "1.5.0",
          "model_name": "HTMLModel",
          "state": {
            "_dom_classes": [],
            "_model_module": "@jupyter-widgets/controls",
            "_model_module_version": "1.5.0",
            "_model_name": "HTMLModel",
            "_view_count": null,
            "_view_module": "@jupyter-widgets/controls",
            "_view_module_version": "1.5.0",
            "_view_name": "HTMLView",
            "description": "",
            "description_tooltip": null,
            "layout": "IPY_MODEL_4bea87c8fc6c428db2e8c9058be8bb25",
            "placeholder": "​",
            "style": "IPY_MODEL_70e01c1415ba48e89902424df80ac324",
            "value": "tokenizer.json: 100%"
          }
        },
        "1646a6dabd794fffb96d3203b33564b8": {
          "model_module": "@jupyter-widgets/controls",
          "model_module_version": "1.5.0",
          "model_name": "HTMLModel",
          "state": {
            "_dom_classes": [],
            "_model_module": "@jupyter-widgets/controls",
            "_model_module_version": "1.5.0",
            "_model_name": "HTMLModel",
            "_view_count": null,
            "_view_module": "@jupyter-widgets/controls",
            "_view_module_version": "1.5.0",
            "_view_name": "HTMLView",
            "description": "",
            "description_tooltip": null,
            "layout": "IPY_MODEL_7adda25ac5a54b60a0005d587a077d26",
            "placeholder": "​",
            "style": "IPY_MODEL_5d8b275245ed41198da10a7673e0aaaf",
            "value": "model.safetensors: 100%"
          }
        },
        "1aecd022da574155a82608b58869c6f6": {
          "model_module": "@jupyter-widgets/controls",
          "model_module_version": "1.5.0",
          "model_name": "DescriptionStyleModel",
          "state": {
            "_model_module": "@jupyter-widgets/controls",
            "_model_module_version": "1.5.0",
            "_model_name": "DescriptionStyleModel",
            "_view_count": null,
            "_view_module": "@jupyter-widgets/base",
            "_view_module_version": "1.2.0",
            "_view_name": "StyleView",
            "description_width": ""
          }
        },
        "1dc0476769074b908c2a7b7c069a4037": {
          "model_module": "@jupyter-widgets/controls",
          "model_module_version": "1.5.0",
          "model_name": "HTMLModel",
          "state": {
            "_dom_classes": [],
            "_model_module": "@jupyter-widgets/controls",
            "_model_module_version": "1.5.0",
            "_model_name": "HTMLModel",
            "_view_count": null,
            "_view_module": "@jupyter-widgets/controls",
            "_view_module_version": "1.5.0",
            "_view_name": "HTMLView",
            "description": "",
            "description_tooltip": null,
            "layout": "IPY_MODEL_9b5f76053f7f43698c67b5ea240c6cc6",
            "placeholder": "​",
            "style": "IPY_MODEL_1aecd022da574155a82608b58869c6f6",
            "value": "model.safetensors: 100%"
          }
        },
        "1ea6d72bb09e4713951f88f57a74472b": {
          "model_module": "@jupyter-widgets/controls",
          "model_module_version": "1.5.0",
          "model_name": "FloatProgressModel",
          "state": {
            "_dom_classes": [],
            "_model_module": "@jupyter-widgets/controls",
            "_model_module_version": "1.5.0",
            "_model_name": "FloatProgressModel",
            "_view_count": null,
            "_view_module": "@jupyter-widgets/controls",
            "_view_module_version": "1.5.0",
            "_view_name": "ProgressView",
            "bar_style": "success",
            "description": "",
            "description_tooltip": null,
            "layout": "IPY_MODEL_33fdc5eab0a64bd5935f0faddd1f5852",
            "max": 440449768,
            "min": 0,
            "orientation": "horizontal",
            "style": "IPY_MODEL_e1676cc0c2cb4eca84c078b23bd64496",
            "value": 440449768
          }
        },
        "1f247f705c6042e089e05abae1c8d9d5": {
          "model_module": "@jupyter-widgets/controls",
          "model_module_version": "1.5.0",
          "model_name": "DescriptionStyleModel",
          "state": {
            "_model_module": "@jupyter-widgets/controls",
            "_model_module_version": "1.5.0",
            "_model_name": "DescriptionStyleModel",
            "_view_count": null,
            "_view_module": "@jupyter-widgets/base",
            "_view_module_version": "1.2.0",
            "_view_name": "StyleView",
            "description_width": ""
          }
        },
        "215b4b3547364064aa115e92f57af071": {
          "model_module": "@jupyter-widgets/controls",
          "model_module_version": "1.5.0",
          "model_name": "FloatProgressModel",
          "state": {
            "_dom_classes": [],
            "_model_module": "@jupyter-widgets/controls",
            "_model_module_version": "1.5.0",
            "_model_name": "FloatProgressModel",
            "_view_count": null,
            "_view_module": "@jupyter-widgets/controls",
            "_view_module_version": "1.5.0",
            "_view_name": "ProgressView",
            "bar_style": "success",
            "description": "",
            "description_tooltip": null,
            "layout": "IPY_MODEL_2eb368b8c8524e70b0aa351fb76ac5f6",
            "max": 889,
            "min": 0,
            "orientation": "horizontal",
            "style": "IPY_MODEL_456e28aeeeec43b280693e5e0834954f",
            "value": 889
          }
        },
        "2566d2a383f94cc99b9d58c2a75ea3dc": {
          "model_module": "@jupyter-widgets/base",
          "model_module_version": "1.2.0",
          "model_name": "LayoutModel",
          "state": {
            "_model_module": "@jupyter-widgets/base",
            "_model_module_version": "1.2.0",
            "_model_name": "LayoutModel",
            "_view_count": null,
            "_view_module": "@jupyter-widgets/base",
            "_view_module_version": "1.2.0",
            "_view_name": "LayoutView",
            "align_content": null,
            "align_items": null,
            "align_self": null,
            "border": null,
            "bottom": null,
            "display": null,
            "flex": null,
            "flex_flow": null,
            "grid_area": null,
            "grid_auto_columns": null,
            "grid_auto_flow": null,
            "grid_auto_rows": null,
            "grid_column": null,
            "grid_gap": null,
            "grid_row": null,
            "grid_template_areas": null,
            "grid_template_columns": null,
            "grid_template_rows": null,
            "height": null,
            "justify_content": null,
            "justify_items": null,
            "left": null,
            "margin": null,
            "max_height": null,
            "max_width": null,
            "min_height": null,
            "min_width": null,
            "object_fit": null,
            "object_position": null,
            "order": null,
            "overflow": null,
            "overflow_x": null,
            "overflow_y": null,
            "padding": null,
            "right": null,
            "top": null,
            "visibility": null,
            "width": null
          }
        },
        "2b750d1877d740539579b819d133388a": {
          "model_module": "@jupyter-widgets/base",
          "model_module_version": "1.2.0",
          "model_name": "LayoutModel",
          "state": {
            "_model_module": "@jupyter-widgets/base",
            "_model_module_version": "1.2.0",
            "_model_name": "LayoutModel",
            "_view_count": null,
            "_view_module": "@jupyter-widgets/base",
            "_view_module_version": "1.2.0",
            "_view_name": "LayoutView",
            "align_content": null,
            "align_items": null,
            "align_self": null,
            "border": null,
            "bottom": null,
            "display": null,
            "flex": null,
            "flex_flow": null,
            "grid_area": null,
            "grid_auto_columns": null,
            "grid_auto_flow": null,
            "grid_auto_rows": null,
            "grid_column": null,
            "grid_gap": null,
            "grid_row": null,
            "grid_template_areas": null,
            "grid_template_columns": null,
            "grid_template_rows": null,
            "height": null,
            "justify_content": null,
            "justify_items": null,
            "left": null,
            "margin": null,
            "max_height": null,
            "max_width": null,
            "min_height": null,
            "min_width": null,
            "object_fit": null,
            "object_position": null,
            "order": null,
            "overflow": null,
            "overflow_x": null,
            "overflow_y": null,
            "padding": null,
            "right": null,
            "top": null,
            "visibility": null,
            "width": null
          }
        },
        "2eb368b8c8524e70b0aa351fb76ac5f6": {
          "model_module": "@jupyter-widgets/base",
          "model_module_version": "1.2.0",
          "model_name": "LayoutModel",
          "state": {
            "_model_module": "@jupyter-widgets/base",
            "_model_module_version": "1.2.0",
            "_model_name": "LayoutModel",
            "_view_count": null,
            "_view_module": "@jupyter-widgets/base",
            "_view_module_version": "1.2.0",
            "_view_name": "LayoutView",
            "align_content": null,
            "align_items": null,
            "align_self": null,
            "border": null,
            "bottom": null,
            "display": null,
            "flex": null,
            "flex_flow": null,
            "grid_area": null,
            "grid_auto_columns": null,
            "grid_auto_flow": null,
            "grid_auto_rows": null,
            "grid_column": null,
            "grid_gap": null,
            "grid_row": null,
            "grid_template_areas": null,
            "grid_template_columns": null,
            "grid_template_rows": null,
            "height": null,
            "justify_content": null,
            "justify_items": null,
            "left": null,
            "margin": null,
            "max_height": null,
            "max_width": null,
            "min_height": null,
            "min_width": null,
            "object_fit": null,
            "object_position": null,
            "order": null,
            "overflow": null,
            "overflow_x": null,
            "overflow_y": null,
            "padding": null,
            "right": null,
            "top": null,
            "visibility": null,
            "width": null
          }
        },
        "2eb583d45ac14ae58de9fcfde3e2e213": {
          "model_module": "@jupyter-widgets/controls",
          "model_module_version": "1.5.0",
          "model_name": "HTMLModel",
          "state": {
            "_dom_classes": [],
            "_model_module": "@jupyter-widgets/controls",
            "_model_module_version": "1.5.0",
            "_model_name": "HTMLModel",
            "_view_count": null,
            "_view_module": "@jupyter-widgets/controls",
            "_view_module_version": "1.5.0",
            "_view_name": "HTMLView",
            "description": "",
            "description_tooltip": null,
            "layout": "IPY_MODEL_0dc0bad9111f4f8bbef74bdf8274e66a",
            "placeholder": "​",
            "style": "IPY_MODEL_81851a441eeb4a33bea2f0bfa54b1de8",
            "value": " 466k/466k [00:00&lt;00:00, 2.13MB/s]"
          }
        },
        "33fdc5eab0a64bd5935f0faddd1f5852": {
          "model_module": "@jupyter-widgets/base",
          "model_module_version": "1.2.0",
          "model_name": "LayoutModel",
          "state": {
            "_model_module": "@jupyter-widgets/base",
            "_model_module_version": "1.2.0",
            "_model_name": "LayoutModel",
            "_view_count": null,
            "_view_module": "@jupyter-widgets/base",
            "_view_module_version": "1.2.0",
            "_view_name": "LayoutView",
            "align_content": null,
            "align_items": null,
            "align_self": null,
            "border": null,
            "bottom": null,
            "display": null,
            "flex": null,
            "flex_flow": null,
            "grid_area": null,
            "grid_auto_columns": null,
            "grid_auto_flow": null,
            "grid_auto_rows": null,
            "grid_column": null,
            "grid_gap": null,
            "grid_row": null,
            "grid_template_areas": null,
            "grid_template_columns": null,
            "grid_template_rows": null,
            "height": null,
            "justify_content": null,
            "justify_items": null,
            "left": null,
            "margin": null,
            "max_height": null,
            "max_width": null,
            "min_height": null,
            "min_width": null,
            "object_fit": null,
            "object_position": null,
            "order": null,
            "overflow": null,
            "overflow_x": null,
            "overflow_y": null,
            "padding": null,
            "right": null,
            "top": null,
            "visibility": null,
            "width": null
          }
        },
        "357576a1033f45e79ccc681ff5412fa2": {
          "model_module": "@jupyter-widgets/base",
          "model_module_version": "1.2.0",
          "model_name": "LayoutModel",
          "state": {
            "_model_module": "@jupyter-widgets/base",
            "_model_module_version": "1.2.0",
            "_model_name": "LayoutModel",
            "_view_count": null,
            "_view_module": "@jupyter-widgets/base",
            "_view_module_version": "1.2.0",
            "_view_name": "LayoutView",
            "align_content": null,
            "align_items": null,
            "align_self": null,
            "border": null,
            "bottom": null,
            "display": null,
            "flex": null,
            "flex_flow": null,
            "grid_area": null,
            "grid_auto_columns": null,
            "grid_auto_flow": null,
            "grid_auto_rows": null,
            "grid_column": null,
            "grid_gap": null,
            "grid_row": null,
            "grid_template_areas": null,
            "grid_template_columns": null,
            "grid_template_rows": null,
            "height": null,
            "justify_content": null,
            "justify_items": null,
            "left": null,
            "margin": null,
            "max_height": null,
            "max_width": null,
            "min_height": null,
            "min_width": null,
            "object_fit": null,
            "object_position": null,
            "order": null,
            "overflow": null,
            "overflow_x": null,
            "overflow_y": null,
            "padding": null,
            "right": null,
            "top": null,
            "visibility": null,
            "width": null
          }
        },
        "360d6c3c25374a9db900cc4398c255b8": {
          "model_module": "@jupyter-widgets/controls",
          "model_module_version": "1.5.0",
          "model_name": "HTMLModel",
          "state": {
            "_dom_classes": [],
            "_model_module": "@jupyter-widgets/controls",
            "_model_module_version": "1.5.0",
            "_model_name": "HTMLModel",
            "_view_count": null,
            "_view_module": "@jupyter-widgets/controls",
            "_view_module_version": "1.5.0",
            "_view_name": "HTMLView",
            "description": "",
            "description_tooltip": null,
            "layout": "IPY_MODEL_86889a02466f4ea889ab953d491a5b0a",
            "placeholder": "​",
            "style": "IPY_MODEL_70582c1c3fbf4667b15354c2f5779352",
            "value": "config.json: 100%"
          }
        },
        "3a70a066f19344b29566dba509f78034": {
          "model_module": "@jupyter-widgets/base",
          "model_module_version": "1.2.0",
          "model_name": "LayoutModel",
          "state": {
            "_model_module": "@jupyter-widgets/base",
            "_model_module_version": "1.2.0",
            "_model_name": "LayoutModel",
            "_view_count": null,
            "_view_module": "@jupyter-widgets/base",
            "_view_module_version": "1.2.0",
            "_view_name": "LayoutView",
            "align_content": null,
            "align_items": null,
            "align_self": null,
            "border": null,
            "bottom": null,
            "display": null,
            "flex": null,
            "flex_flow": null,
            "grid_area": null,
            "grid_auto_columns": null,
            "grid_auto_flow": null,
            "grid_auto_rows": null,
            "grid_column": null,
            "grid_gap": null,
            "grid_row": null,
            "grid_template_areas": null,
            "grid_template_columns": null,
            "grid_template_rows": null,
            "height": null,
            "justify_content": null,
            "justify_items": null,
            "left": null,
            "margin": null,
            "max_height": null,
            "max_width": null,
            "min_height": null,
            "min_width": null,
            "object_fit": null,
            "object_position": null,
            "order": null,
            "overflow": null,
            "overflow_x": null,
            "overflow_y": null,
            "padding": null,
            "right": null,
            "top": null,
            "visibility": null,
            "width": null
          }
        },
        "3c31fc74b30745b393cbb184946f2de4": {
          "model_module": "@jupyter-widgets/controls",
          "model_module_version": "1.5.0",
          "model_name": "DescriptionStyleModel",
          "state": {
            "_model_module": "@jupyter-widgets/controls",
            "_model_module_version": "1.5.0",
            "_model_name": "DescriptionStyleModel",
            "_view_count": null,
            "_view_module": "@jupyter-widgets/base",
            "_view_module_version": "1.2.0",
            "_view_name": "StyleView",
            "description_width": ""
          }
        },
        "3f0c88e6a1584a4699e46474ee634f7d": {
          "model_module": "@jupyter-widgets/controls",
          "model_module_version": "1.5.0",
          "model_name": "HTMLModel",
          "state": {
            "_dom_classes": [],
            "_model_module": "@jupyter-widgets/controls",
            "_model_module_version": "1.5.0",
            "_model_name": "HTMLModel",
            "_view_count": null,
            "_view_module": "@jupyter-widgets/controls",
            "_view_module_version": "1.5.0",
            "_view_name": "HTMLView",
            "description": "",
            "description_tooltip": null,
            "layout": "IPY_MODEL_a2db9bd8ae084071af5a77516012ab31",
            "placeholder": "​",
            "style": "IPY_MODEL_4ac3e88a38ec427aa33b59f7290a2475",
            "value": "config.json: 100%"
          }
        },
        "41955527c30742aa96b35d80609a171f": {
          "model_module": "@jupyter-widgets/controls",
          "model_module_version": "1.5.0",
          "model_name": "DescriptionStyleModel",
          "state": {
            "_model_module": "@jupyter-widgets/controls",
            "_model_module_version": "1.5.0",
            "_model_name": "DescriptionStyleModel",
            "_view_count": null,
            "_view_module": "@jupyter-widgets/base",
            "_view_module_version": "1.2.0",
            "_view_name": "StyleView",
            "description_width": ""
          }
        },
        "41b2f82ee10448a4af633f9056ffe43e": {
          "model_module": "@jupyter-widgets/base",
          "model_module_version": "1.2.0",
          "model_name": "LayoutModel",
          "state": {
            "_model_module": "@jupyter-widgets/base",
            "_model_module_version": "1.2.0",
            "_model_name": "LayoutModel",
            "_view_count": null,
            "_view_module": "@jupyter-widgets/base",
            "_view_module_version": "1.2.0",
            "_view_name": "LayoutView",
            "align_content": null,
            "align_items": null,
            "align_self": null,
            "border": null,
            "bottom": null,
            "display": null,
            "flex": null,
            "flex_flow": null,
            "grid_area": null,
            "grid_auto_columns": null,
            "grid_auto_flow": null,
            "grid_auto_rows": null,
            "grid_column": null,
            "grid_gap": null,
            "grid_row": null,
            "grid_template_areas": null,
            "grid_template_columns": null,
            "grid_template_rows": null,
            "height": null,
            "justify_content": null,
            "justify_items": null,
            "left": null,
            "margin": null,
            "max_height": null,
            "max_width": null,
            "min_height": null,
            "min_width": null,
            "object_fit": null,
            "object_position": null,
            "order": null,
            "overflow": null,
            "overflow_x": null,
            "overflow_y": null,
            "padding": null,
            "right": null,
            "top": null,
            "visibility": null,
            "width": null
          }
        },
        "423d37978dfd44edac6ac6b1dcf6ffe1": {
          "model_module": "@jupyter-widgets/base",
          "model_module_version": "1.2.0",
          "model_name": "LayoutModel",
          "state": {
            "_model_module": "@jupyter-widgets/base",
            "_model_module_version": "1.2.0",
            "_model_name": "LayoutModel",
            "_view_count": null,
            "_view_module": "@jupyter-widgets/base",
            "_view_module_version": "1.2.0",
            "_view_name": "LayoutView",
            "align_content": null,
            "align_items": null,
            "align_self": null,
            "border": null,
            "bottom": null,
            "display": null,
            "flex": null,
            "flex_flow": null,
            "grid_area": null,
            "grid_auto_columns": null,
            "grid_auto_flow": null,
            "grid_auto_rows": null,
            "grid_column": null,
            "grid_gap": null,
            "grid_row": null,
            "grid_template_areas": null,
            "grid_template_columns": null,
            "grid_template_rows": null,
            "height": null,
            "justify_content": null,
            "justify_items": null,
            "left": null,
            "margin": null,
            "max_height": null,
            "max_width": null,
            "min_height": null,
            "min_width": null,
            "object_fit": null,
            "object_position": null,
            "order": null,
            "overflow": null,
            "overflow_x": null,
            "overflow_y": null,
            "padding": null,
            "right": null,
            "top": null,
            "visibility": null,
            "width": null
          }
        },
        "456e28aeeeec43b280693e5e0834954f": {
          "model_module": "@jupyter-widgets/controls",
          "model_module_version": "1.5.0",
          "model_name": "ProgressStyleModel",
          "state": {
            "_model_module": "@jupyter-widgets/controls",
            "_model_module_version": "1.5.0",
            "_model_name": "ProgressStyleModel",
            "_view_count": null,
            "_view_module": "@jupyter-widgets/base",
            "_view_module_version": "1.2.0",
            "_view_name": "StyleView",
            "bar_color": null,
            "description_width": ""
          }
        },
        "45969ba171ce4d19a68772cf09b4104e": {
          "model_module": "@jupyter-widgets/controls",
          "model_module_version": "1.5.0",
          "model_name": "HTMLModel",
          "state": {
            "_dom_classes": [],
            "_model_module": "@jupyter-widgets/controls",
            "_model_module_version": "1.5.0",
            "_model_name": "HTMLModel",
            "_view_count": null,
            "_view_module": "@jupyter-widgets/controls",
            "_view_module_version": "1.5.0",
            "_view_name": "HTMLView",
            "description": "",
            "description_tooltip": null,
            "layout": "IPY_MODEL_8154c124016a4182a4001a82918cbc3d",
            "placeholder": "​",
            "style": "IPY_MODEL_bb50ea56bfbf416a82a442b2b06c1ca5",
            "value": "tokenizer_config.json: 100%"
          }
        },
        "465d5a93d8b442eea04669cdb110a536": {
          "model_module": "@jupyter-widgets/controls",
          "model_module_version": "1.5.0",
          "model_name": "HTMLModel",
          "state": {
            "_dom_classes": [],
            "_model_module": "@jupyter-widgets/controls",
            "_model_module_version": "1.5.0",
            "_model_name": "HTMLModel",
            "_view_count": null,
            "_view_module": "@jupyter-widgets/controls",
            "_view_module_version": "1.5.0",
            "_view_name": "HTMLView",
            "description": "",
            "description_tooltip": null,
            "layout": "IPY_MODEL_d08ada2ede9145088da3dc7cd43983a6",
            "placeholder": "​",
            "style": "IPY_MODEL_eb9aa61ef2a24403b8f79de8bb87c371",
            "value": " 440M/440M [00:01&lt;00:00, 352MB/s]"
          }
        },
        "481996e9fe144b898eafe2ee8dffec9d": {
          "model_module": "@jupyter-widgets/controls",
          "model_module_version": "1.5.0",
          "model_name": "HTMLModel",
          "state": {
            "_dom_classes": [],
            "_model_module": "@jupyter-widgets/controls",
            "_model_module_version": "1.5.0",
            "_model_name": "HTMLModel",
            "_view_count": null,
            "_view_module": "@jupyter-widgets/controls",
            "_view_module_version": "1.5.0",
            "_view_name": "HTMLView",
            "description": "",
            "description_tooltip": null,
            "layout": "IPY_MODEL_b565214287534965b8067c8b1229b465",
            "placeholder": "​",
            "style": "IPY_MODEL_f1c8306a6b254b8a818d3c827e87f5c6",
            "value": " 54.7k/54.7k [00:00&lt;00:00, 3.71MB/s]"
          }
        },
        "4892ce4288f4433e9984b47fbd9e00b3": {
          "model_module": "@jupyter-widgets/controls",
          "model_module_version": "1.5.0",
          "model_name": "HTMLModel",
          "state": {
            "_dom_classes": [],
            "_model_module": "@jupyter-widgets/controls",
            "_model_module_version": "1.5.0",
            "_model_name": "HTMLModel",
            "_view_count": null,
            "_view_module": "@jupyter-widgets/controls",
            "_view_module_version": "1.5.0",
            "_view_name": "HTMLView",
            "description": "",
            "description_tooltip": null,
            "layout": "IPY_MODEL_f338ebaf59df499ea70f7a735f8c09ba",
            "placeholder": "​",
            "style": "IPY_MODEL_a0c541b4070a4b16b207d7c68a07bf7a",
            "value": " 232k/232k [00:00&lt;00:00, 1.09MB/s]"
          }
        },
        "4ac3e88a38ec427aa33b59f7290a2475": {
          "model_module": "@jupyter-widgets/controls",
          "model_module_version": "1.5.0",
          "model_name": "DescriptionStyleModel",
          "state": {
            "_model_module": "@jupyter-widgets/controls",
            "_model_module_version": "1.5.0",
            "_model_name": "DescriptionStyleModel",
            "_view_count": null,
            "_view_module": "@jupyter-widgets/base",
            "_view_module_version": "1.2.0",
            "_view_name": "StyleView",
            "description_width": ""
          }
        },
        "4bea87c8fc6c428db2e8c9058be8bb25": {
          "model_module": "@jupyter-widgets/base",
          "model_module_version": "1.2.0",
          "model_name": "LayoutModel",
          "state": {
            "_model_module": "@jupyter-widgets/base",
            "_model_module_version": "1.2.0",
            "_model_name": "LayoutModel",
            "_view_count": null,
            "_view_module": "@jupyter-widgets/base",
            "_view_module_version": "1.2.0",
            "_view_name": "LayoutView",
            "align_content": null,
            "align_items": null,
            "align_self": null,
            "border": null,
            "bottom": null,
            "display": null,
            "flex": null,
            "flex_flow": null,
            "grid_area": null,
            "grid_auto_columns": null,
            "grid_auto_flow": null,
            "grid_auto_rows": null,
            "grid_column": null,
            "grid_gap": null,
            "grid_row": null,
            "grid_template_areas": null,
            "grid_template_columns": null,
            "grid_template_rows": null,
            "height": null,
            "justify_content": null,
            "justify_items": null,
            "left": null,
            "margin": null,
            "max_height": null,
            "max_width": null,
            "min_height": null,
            "min_width": null,
            "object_fit": null,
            "object_position": null,
            "order": null,
            "overflow": null,
            "overflow_x": null,
            "overflow_y": null,
            "padding": null,
            "right": null,
            "top": null,
            "visibility": null,
            "width": null
          }
        },
        "4d33e645302645cba1796cdf926ddadc": {
          "model_module": "@jupyter-widgets/controls",
          "model_module_version": "1.5.0",
          "model_name": "FloatProgressModel",
          "state": {
            "_dom_classes": [],
            "_model_module": "@jupyter-widgets/controls",
            "_model_module_version": "1.5.0",
            "_model_name": "FloatProgressModel",
            "_view_count": null,
            "_view_module": "@jupyter-widgets/controls",
            "_view_module_version": "1.5.0",
            "_view_name": "ProgressView",
            "bar_style": "success",
            "description": "",
            "description_tooltip": null,
            "layout": "IPY_MODEL_c521a9b117bb43bba00754a377efbb17",
            "max": 48,
            "min": 0,
            "orientation": "horizontal",
            "style": "IPY_MODEL_de7ad5f7bbae405da3fbc7870d0a32e0",
            "value": 48
          }
        },
        "4edd005c06644583ab9da45fdb327657": {
          "model_module": "@jupyter-widgets/base",
          "model_module_version": "1.2.0",
          "model_name": "LayoutModel",
          "state": {
            "_model_module": "@jupyter-widgets/base",
            "_model_module_version": "1.2.0",
            "_model_name": "LayoutModel",
            "_view_count": null,
            "_view_module": "@jupyter-widgets/base",
            "_view_module_version": "1.2.0",
            "_view_name": "LayoutView",
            "align_content": null,
            "align_items": null,
            "align_self": null,
            "border": null,
            "bottom": null,
            "display": null,
            "flex": null,
            "flex_flow": null,
            "grid_area": null,
            "grid_auto_columns": null,
            "grid_auto_flow": null,
            "grid_auto_rows": null,
            "grid_column": null,
            "grid_gap": null,
            "grid_row": null,
            "grid_template_areas": null,
            "grid_template_columns": null,
            "grid_template_rows": null,
            "height": null,
            "justify_content": null,
            "justify_items": null,
            "left": null,
            "margin": null,
            "max_height": null,
            "max_width": null,
            "min_height": null,
            "min_width": null,
            "object_fit": null,
            "object_position": null,
            "order": null,
            "overflow": null,
            "overflow_x": null,
            "overflow_y": null,
            "padding": null,
            "right": null,
            "top": null,
            "visibility": null,
            "width": null
          }
        },
        "4f5bdeb34d674a13ab58e4cefba8660a": {
          "model_module": "@jupyter-widgets/base",
          "model_module_version": "1.2.0",
          "model_name": "LayoutModel",
          "state": {
            "_model_module": "@jupyter-widgets/base",
            "_model_module_version": "1.2.0",
            "_model_name": "LayoutModel",
            "_view_count": null,
            "_view_module": "@jupyter-widgets/base",
            "_view_module_version": "1.2.0",
            "_view_name": "LayoutView",
            "align_content": null,
            "align_items": null,
            "align_self": null,
            "border": null,
            "bottom": null,
            "display": null,
            "flex": null,
            "flex_flow": null,
            "grid_area": null,
            "grid_auto_columns": null,
            "grid_auto_flow": null,
            "grid_auto_rows": null,
            "grid_column": null,
            "grid_gap": null,
            "grid_row": null,
            "grid_template_areas": null,
            "grid_template_columns": null,
            "grid_template_rows": null,
            "height": null,
            "justify_content": null,
            "justify_items": null,
            "left": null,
            "margin": null,
            "max_height": null,
            "max_width": null,
            "min_height": null,
            "min_width": null,
            "object_fit": null,
            "object_position": null,
            "order": null,
            "overflow": null,
            "overflow_x": null,
            "overflow_y": null,
            "padding": null,
            "right": null,
            "top": null,
            "visibility": null,
            "width": null
          }
        },
        "553cb05bb2994369adba3fc4c71adc5d": {
          "model_module": "@jupyter-widgets/controls",
          "model_module_version": "1.5.0",
          "model_name": "HBoxModel",
          "state": {
            "_dom_classes": [],
            "_model_module": "@jupyter-widgets/controls",
            "_model_module_version": "1.5.0",
            "_model_name": "HBoxModel",
            "_view_count": null,
            "_view_module": "@jupyter-widgets/controls",
            "_view_module_version": "1.5.0",
            "_view_name": "HBoxView",
            "box_style": "",
            "children": [
              "IPY_MODEL_360d6c3c25374a9db900cc4398c255b8",
              "IPY_MODEL_215b4b3547364064aa115e92f57af071",
              "IPY_MODEL_c5d7f2d84a6442f087814ff3340f4134"
            ],
            "layout": "IPY_MODEL_4f5bdeb34d674a13ab58e4cefba8660a"
          }
        },
        "5918b07d9a9241ff8d9954ba6ddc492c": {
          "model_module": "@jupyter-widgets/base",
          "model_module_version": "1.2.0",
          "model_name": "LayoutModel",
          "state": {
            "_model_module": "@jupyter-widgets/base",
            "_model_module_version": "1.2.0",
            "_model_name": "LayoutModel",
            "_view_count": null,
            "_view_module": "@jupyter-widgets/base",
            "_view_module_version": "1.2.0",
            "_view_name": "LayoutView",
            "align_content": null,
            "align_items": null,
            "align_self": null,
            "border": null,
            "bottom": null,
            "display": null,
            "flex": null,
            "flex_flow": null,
            "grid_area": null,
            "grid_auto_columns": null,
            "grid_auto_flow": null,
            "grid_auto_rows": null,
            "grid_column": null,
            "grid_gap": null,
            "grid_row": null,
            "grid_template_areas": null,
            "grid_template_columns": null,
            "grid_template_rows": null,
            "height": null,
            "justify_content": null,
            "justify_items": null,
            "left": null,
            "margin": null,
            "max_height": null,
            "max_width": null,
            "min_height": null,
            "min_width": null,
            "object_fit": null,
            "object_position": null,
            "order": null,
            "overflow": null,
            "overflow_x": null,
            "overflow_y": null,
            "padding": null,
            "right": null,
            "top": null,
            "visibility": null,
            "width": null
          }
        },
        "59a480f553054fb3af7ddb974ef3fe7e": {
          "model_module": "@jupyter-widgets/controls",
          "model_module_version": "1.5.0",
          "model_name": "HTMLModel",
          "state": {
            "_dom_classes": [],
            "_model_module": "@jupyter-widgets/controls",
            "_model_module_version": "1.5.0",
            "_model_name": "HTMLModel",
            "_view_count": null,
            "_view_module": "@jupyter-widgets/controls",
            "_view_module_version": "1.5.0",
            "_view_name": "HTMLView",
            "description": "",
            "description_tooltip": null,
            "layout": "IPY_MODEL_a380b4825f3544df905572be74ac5a20",
            "placeholder": "​",
            "style": "IPY_MODEL_41955527c30742aa96b35d80609a171f",
            "value": "special_tokens_map.json: 100%"
          }
        },
        "5d583c46b04845cb8276ee58a79d4590": {
          "model_module": "@jupyter-widgets/controls",
          "model_module_version": "1.5.0",
          "model_name": "HBoxModel",
          "state": {
            "_dom_classes": [],
            "_model_module": "@jupyter-widgets/controls",
            "_model_module_version": "1.5.0",
            "_model_name": "HBoxModel",
            "_view_count": null,
            "_view_module": "@jupyter-widgets/controls",
            "_view_module_version": "1.5.0",
            "_view_name": "HBoxView",
            "box_style": "",
            "children": [
              "IPY_MODEL_3f0c88e6a1584a4699e46474ee634f7d",
              "IPY_MODEL_970033ca56e24d4cbead16d8310187bf",
              "IPY_MODEL_cab1c8fef97a43c39f7874295c6a90dc"
            ],
            "layout": "IPY_MODEL_cc849df9cb4046c5ab6ffdf9bbeac766"
          }
        },
        "5d8b275245ed41198da10a7673e0aaaf": {
          "model_module": "@jupyter-widgets/controls",
          "model_module_version": "1.5.0",
          "model_name": "DescriptionStyleModel",
          "state": {
            "_model_module": "@jupyter-widgets/controls",
            "_model_module_version": "1.5.0",
            "_model_name": "DescriptionStyleModel",
            "_view_count": null,
            "_view_module": "@jupyter-widgets/base",
            "_view_module_version": "1.2.0",
            "_view_name": "StyleView",
            "description_width": ""
          }
        },
        "5dcb9b8a3e7f47aba6c1ba33778fa499": {
          "model_module": "@jupyter-widgets/base",
          "model_module_version": "1.2.0",
          "model_name": "LayoutModel",
          "state": {
            "_model_module": "@jupyter-widgets/base",
            "_model_module_version": "1.2.0",
            "_model_name": "LayoutModel",
            "_view_count": null,
            "_view_module": "@jupyter-widgets/base",
            "_view_module_version": "1.2.0",
            "_view_name": "LayoutView",
            "align_content": null,
            "align_items": null,
            "align_self": null,
            "border": null,
            "bottom": null,
            "display": null,
            "flex": null,
            "flex_flow": null,
            "grid_area": null,
            "grid_auto_columns": null,
            "grid_auto_flow": null,
            "grid_auto_rows": null,
            "grid_column": null,
            "grid_gap": null,
            "grid_row": null,
            "grid_template_areas": null,
            "grid_template_columns": null,
            "grid_template_rows": null,
            "height": null,
            "justify_content": null,
            "justify_items": null,
            "left": null,
            "margin": null,
            "max_height": null,
            "max_width": null,
            "min_height": null,
            "min_width": null,
            "object_fit": null,
            "object_position": null,
            "order": null,
            "overflow": null,
            "overflow_x": null,
            "overflow_y": null,
            "padding": null,
            "right": null,
            "top": null,
            "visibility": null,
            "width": null
          }
        },
        "60016e089a8e4afdb2912cb4f2f41332": {
          "model_module": "@jupyter-widgets/controls",
          "model_module_version": "1.5.0",
          "model_name": "DescriptionStyleModel",
          "state": {
            "_model_module": "@jupyter-widgets/controls",
            "_model_module_version": "1.5.0",
            "_model_name": "DescriptionStyleModel",
            "_view_count": null,
            "_view_module": "@jupyter-widgets/base",
            "_view_module_version": "1.2.0",
            "_view_name": "StyleView",
            "description_width": ""
          }
        },
        "60d6101aaf6f420b8aff7da171862b20": {
          "model_module": "@jupyter-widgets/controls",
          "model_module_version": "1.5.0",
          "model_name": "ProgressStyleModel",
          "state": {
            "_model_module": "@jupyter-widgets/controls",
            "_model_module_version": "1.5.0",
            "_model_name": "ProgressStyleModel",
            "_view_count": null,
            "_view_module": "@jupyter-widgets/base",
            "_view_module_version": "1.2.0",
            "_view_name": "StyleView",
            "bar_color": null,
            "description_width": ""
          }
        },
        "6111aa298ac84b7da06bf7fd5abecbf0": {
          "model_module": "@jupyter-widgets/controls",
          "model_module_version": "1.5.0",
          "model_name": "HTMLModel",
          "state": {
            "_dom_classes": [],
            "_model_module": "@jupyter-widgets/controls",
            "_model_module_version": "1.5.0",
            "_model_name": "HTMLModel",
            "_view_count": null,
            "_view_module": "@jupyter-widgets/controls",
            "_view_module_version": "1.5.0",
            "_view_name": "HTMLView",
            "description": "",
            "description_tooltip": null,
            "layout": "IPY_MODEL_423d37978dfd44edac6ac6b1dcf6ffe1",
            "placeholder": "​",
            "style": "IPY_MODEL_05082a3b300f44f5a020c5f34fb4ad5e",
            "value": " 2.47G/2.47G [00:14&lt;00:00, 187MB/s]"
          }
        },
        "623e139bccc84587b4a098b32e50526f": {
          "model_module": "@jupyter-widgets/base",
          "model_module_version": "1.2.0",
          "model_name": "LayoutModel",
          "state": {
            "_model_module": "@jupyter-widgets/base",
            "_model_module_version": "1.2.0",
            "_model_name": "LayoutModel",
            "_view_count": null,
            "_view_module": "@jupyter-widgets/base",
            "_view_module_version": "1.2.0",
            "_view_name": "LayoutView",
            "align_content": null,
            "align_items": null,
            "align_self": null,
            "border": null,
            "bottom": null,
            "display": null,
            "flex": null,
            "flex_flow": null,
            "grid_area": null,
            "grid_auto_columns": null,
            "grid_auto_flow": null,
            "grid_auto_rows": null,
            "grid_column": null,
            "grid_gap": null,
            "grid_row": null,
            "grid_template_areas": null,
            "grid_template_columns": null,
            "grid_template_rows": null,
            "height": null,
            "justify_content": null,
            "justify_items": null,
            "left": null,
            "margin": null,
            "max_height": null,
            "max_width": null,
            "min_height": null,
            "min_width": null,
            "object_fit": null,
            "object_position": null,
            "order": null,
            "overflow": null,
            "overflow_x": null,
            "overflow_y": null,
            "padding": null,
            "right": null,
            "top": null,
            "visibility": null,
            "width": null
          }
        },
        "649dc3eea9f3451da8688da535342ebc": {
          "model_module": "@jupyter-widgets/controls",
          "model_module_version": "1.5.0",
          "model_name": "DescriptionStyleModel",
          "state": {
            "_model_module": "@jupyter-widgets/controls",
            "_model_module_version": "1.5.0",
            "_model_name": "DescriptionStyleModel",
            "_view_count": null,
            "_view_module": "@jupyter-widgets/base",
            "_view_module_version": "1.2.0",
            "_view_name": "StyleView",
            "description_width": ""
          }
        },
        "64e25fd3d6974b28aece81b0480c88f0": {
          "model_module": "@jupyter-widgets/base",
          "model_module_version": "1.2.0",
          "model_name": "LayoutModel",
          "state": {
            "_model_module": "@jupyter-widgets/base",
            "_model_module_version": "1.2.0",
            "_model_name": "LayoutModel",
            "_view_count": null,
            "_view_module": "@jupyter-widgets/base",
            "_view_module_version": "1.2.0",
            "_view_name": "LayoutView",
            "align_content": null,
            "align_items": null,
            "align_self": null,
            "border": null,
            "bottom": null,
            "display": null,
            "flex": null,
            "flex_flow": null,
            "grid_area": null,
            "grid_auto_columns": null,
            "grid_auto_flow": null,
            "grid_auto_rows": null,
            "grid_column": null,
            "grid_gap": null,
            "grid_row": null,
            "grid_template_areas": null,
            "grid_template_columns": null,
            "grid_template_rows": null,
            "height": null,
            "justify_content": null,
            "justify_items": null,
            "left": null,
            "margin": null,
            "max_height": null,
            "max_width": null,
            "min_height": null,
            "min_width": null,
            "object_fit": null,
            "object_position": null,
            "order": null,
            "overflow": null,
            "overflow_x": null,
            "overflow_y": null,
            "padding": null,
            "right": null,
            "top": null,
            "visibility": null,
            "width": null
          }
        },
        "67a4da3b34d5491eb00cf1548327b085": {
          "model_module": "@jupyter-widgets/controls",
          "model_module_version": "1.5.0",
          "model_name": "HTMLModel",
          "state": {
            "_dom_classes": [],
            "_model_module": "@jupyter-widgets/controls",
            "_model_module_version": "1.5.0",
            "_model_name": "HTMLModel",
            "_view_count": null,
            "_view_module": "@jupyter-widgets/controls",
            "_view_module_version": "1.5.0",
            "_view_name": "HTMLView",
            "description": "",
            "description_tooltip": null,
            "layout": "IPY_MODEL_858b1485abce44ed9251c778d30010f5",
            "placeholder": "​",
            "style": "IPY_MODEL_3c31fc74b30745b393cbb184946f2de4",
            "value": "tokenizer_config.json: 100%"
          }
        },
        "69fa35748e304fb0ab7bf4a7e0d105c2": {
          "model_module": "@jupyter-widgets/base",
          "model_module_version": "1.2.0",
          "model_name": "LayoutModel",
          "state": {
            "_model_module": "@jupyter-widgets/base",
            "_model_module_version": "1.2.0",
            "_model_name": "LayoutModel",
            "_view_count": null,
            "_view_module": "@jupyter-widgets/base",
            "_view_module_version": "1.2.0",
            "_view_name": "LayoutView",
            "align_content": null,
            "align_items": null,
            "align_self": null,
            "border": null,
            "bottom": null,
            "display": null,
            "flex": null,
            "flex_flow": null,
            "grid_area": null,
            "grid_auto_columns": null,
            "grid_auto_flow": null,
            "grid_auto_rows": null,
            "grid_column": null,
            "grid_gap": null,
            "grid_row": null,
            "grid_template_areas": null,
            "grid_template_columns": null,
            "grid_template_rows": null,
            "height": null,
            "justify_content": null,
            "justify_items": null,
            "left": null,
            "margin": null,
            "max_height": null,
            "max_width": null,
            "min_height": null,
            "min_width": null,
            "object_fit": null,
            "object_position": null,
            "order": null,
            "overflow": null,
            "overflow_x": null,
            "overflow_y": null,
            "padding": null,
            "right": null,
            "top": null,
            "visibility": null,
            "width": null
          }
        },
        "6badf7c4cb1a4aad8bad8cd253758484": {
          "model_module": "@jupyter-widgets/controls",
          "model_module_version": "1.5.0",
          "model_name": "DescriptionStyleModel",
          "state": {
            "_model_module": "@jupyter-widgets/controls",
            "_model_module_version": "1.5.0",
            "_model_name": "DescriptionStyleModel",
            "_view_count": null,
            "_view_module": "@jupyter-widgets/base",
            "_view_module_version": "1.2.0",
            "_view_name": "StyleView",
            "description_width": ""
          }
        },
        "6c51534d291646dfb55d1e50044aaf45": {
          "model_module": "@jupyter-widgets/controls",
          "model_module_version": "1.5.0",
          "model_name": "HBoxModel",
          "state": {
            "_dom_classes": [],
            "_model_module": "@jupyter-widgets/controls",
            "_model_module_version": "1.5.0",
            "_model_name": "HBoxModel",
            "_view_count": null,
            "_view_module": "@jupyter-widgets/controls",
            "_view_module_version": "1.5.0",
            "_view_name": "HBoxView",
            "box_style": "",
            "children": [
              "IPY_MODEL_1dc0476769074b908c2a7b7c069a4037",
              "IPY_MODEL_a3207fc2f33e49c0a85ea16222e38d8e",
              "IPY_MODEL_6111aa298ac84b7da06bf7fd5abecbf0"
            ],
            "layout": "IPY_MODEL_2b750d1877d740539579b819d133388a"
          }
        },
        "6cf658d891d34fd1a89625f8ac8f7229": {
          "model_module": "@jupyter-widgets/controls",
          "model_module_version": "1.5.0",
          "model_name": "DescriptionStyleModel",
          "state": {
            "_model_module": "@jupyter-widgets/controls",
            "_model_module_version": "1.5.0",
            "_model_name": "DescriptionStyleModel",
            "_view_count": null,
            "_view_module": "@jupyter-widgets/base",
            "_view_module_version": "1.2.0",
            "_view_name": "StyleView",
            "description_width": ""
          }
        },
        "6d5a0c5e34864ef6843fca5eb765f7a4": {
          "model_module": "@jupyter-widgets/controls",
          "model_module_version": "1.5.0",
          "model_name": "HBoxModel",
          "state": {
            "_dom_classes": [],
            "_model_module": "@jupyter-widgets/controls",
            "_model_module_version": "1.5.0",
            "_model_name": "HBoxModel",
            "_view_count": null,
            "_view_module": "@jupyter-widgets/controls",
            "_view_module_version": "1.5.0",
            "_view_name": "HBoxView",
            "box_style": "",
            "children": [
              "IPY_MODEL_ae46672279794c59924b487e58895b7f",
              "IPY_MODEL_78e8be3fea8148de9ea8d6969e19babb",
              "IPY_MODEL_9e4f0e4435fe455d8bf8cdafc1a75fb0"
            ],
            "layout": "IPY_MODEL_4edd005c06644583ab9da45fdb327657"
          }
        },
        "70582c1c3fbf4667b15354c2f5779352": {
          "model_module": "@jupyter-widgets/controls",
          "model_module_version": "1.5.0",
          "model_name": "DescriptionStyleModel",
          "state": {
            "_model_module": "@jupyter-widgets/controls",
            "_model_module_version": "1.5.0",
            "_model_name": "DescriptionStyleModel",
            "_view_count": null,
            "_view_module": "@jupyter-widgets/base",
            "_view_module_version": "1.2.0",
            "_view_name": "StyleView",
            "description_width": ""
          }
        },
        "70e01c1415ba48e89902424df80ac324": {
          "model_module": "@jupyter-widgets/controls",
          "model_module_version": "1.5.0",
          "model_name": "DescriptionStyleModel",
          "state": {
            "_model_module": "@jupyter-widgets/controls",
            "_model_module_version": "1.5.0",
            "_model_name": "DescriptionStyleModel",
            "_view_count": null,
            "_view_module": "@jupyter-widgets/base",
            "_view_module_version": "1.2.0",
            "_view_name": "StyleView",
            "description_width": ""
          }
        },
        "771f1bdac5e440d7a5d093164eba135c": {
          "model_module": "@jupyter-widgets/controls",
          "model_module_version": "1.5.0",
          "model_name": "ProgressStyleModel",
          "state": {
            "_model_module": "@jupyter-widgets/controls",
            "_model_module_version": "1.5.0",
            "_model_name": "ProgressStyleModel",
            "_view_count": null,
            "_view_module": "@jupyter-widgets/base",
            "_view_module_version": "1.2.0",
            "_view_name": "StyleView",
            "bar_color": null,
            "description_width": ""
          }
        },
        "7763eedbc69440d7bdbbc25ea24d0302": {
          "model_module": "@jupyter-widgets/base",
          "model_module_version": "1.2.0",
          "model_name": "LayoutModel",
          "state": {
            "_model_module": "@jupyter-widgets/base",
            "_model_module_version": "1.2.0",
            "_model_name": "LayoutModel",
            "_view_count": null,
            "_view_module": "@jupyter-widgets/base",
            "_view_module_version": "1.2.0",
            "_view_name": "LayoutView",
            "align_content": null,
            "align_items": null,
            "align_self": null,
            "border": null,
            "bottom": null,
            "display": null,
            "flex": null,
            "flex_flow": null,
            "grid_area": null,
            "grid_auto_columns": null,
            "grid_auto_flow": null,
            "grid_auto_rows": null,
            "grid_column": null,
            "grid_gap": null,
            "grid_row": null,
            "grid_template_areas": null,
            "grid_template_columns": null,
            "grid_template_rows": null,
            "height": null,
            "justify_content": null,
            "justify_items": null,
            "left": null,
            "margin": null,
            "max_height": null,
            "max_width": null,
            "min_height": null,
            "min_width": null,
            "object_fit": null,
            "object_position": null,
            "order": null,
            "overflow": null,
            "overflow_x": null,
            "overflow_y": null,
            "padding": null,
            "right": null,
            "top": null,
            "visibility": null,
            "width": null
          }
        },
        "78ad6c2b055542bda373302077ae6f4a": {
          "model_module": "@jupyter-widgets/controls",
          "model_module_version": "1.5.0",
          "model_name": "HBoxModel",
          "state": {
            "_dom_classes": [],
            "_model_module": "@jupyter-widgets/controls",
            "_model_module_version": "1.5.0",
            "_model_name": "HBoxModel",
            "_view_count": null,
            "_view_module": "@jupyter-widgets/controls",
            "_view_module_version": "1.5.0",
            "_view_name": "HBoxView",
            "box_style": "",
            "children": [
              "IPY_MODEL_67a4da3b34d5491eb00cf1548327b085",
              "IPY_MODEL_87889be0868c430095e41265530b359b",
              "IPY_MODEL_481996e9fe144b898eafe2ee8dffec9d"
            ],
            "layout": "IPY_MODEL_dd17b26f02304b6bb17cc9b982305629"
          }
        },
        "78e8be3fea8148de9ea8d6969e19babb": {
          "model_module": "@jupyter-widgets/controls",
          "model_module_version": "1.5.0",
          "model_name": "FloatProgressModel",
          "state": {
            "_dom_classes": [],
            "_model_module": "@jupyter-widgets/controls",
            "_model_module_version": "1.5.0",
            "_model_name": "FloatProgressModel",
            "_view_count": null,
            "_view_module": "@jupyter-widgets/controls",
            "_view_module_version": "1.5.0",
            "_view_name": "ProgressView",
            "bar_style": "success",
            "description": "",
            "description_tooltip": null,
            "layout": "IPY_MODEL_2566d2a383f94cc99b9d58c2a75ea3dc",
            "max": 17209920,
            "min": 0,
            "orientation": "horizontal",
            "style": "IPY_MODEL_771f1bdac5e440d7a5d093164eba135c",
            "value": 17209920
          }
        },
        "79ce0c214291426d9007857e96320678": {
          "model_module": "@jupyter-widgets/base",
          "model_module_version": "1.2.0",
          "model_name": "LayoutModel",
          "state": {
            "_model_module": "@jupyter-widgets/base",
            "_model_module_version": "1.2.0",
            "_model_name": "LayoutModel",
            "_view_count": null,
            "_view_module": "@jupyter-widgets/base",
            "_view_module_version": "1.2.0",
            "_view_name": "LayoutView",
            "align_content": null,
            "align_items": null,
            "align_self": null,
            "border": null,
            "bottom": null,
            "display": null,
            "flex": null,
            "flex_flow": null,
            "grid_area": null,
            "grid_auto_columns": null,
            "grid_auto_flow": null,
            "grid_auto_rows": null,
            "grid_column": null,
            "grid_gap": null,
            "grid_row": null,
            "grid_template_areas": null,
            "grid_template_columns": null,
            "grid_template_rows": null,
            "height": null,
            "justify_content": null,
            "justify_items": null,
            "left": null,
            "margin": null,
            "max_height": null,
            "max_width": null,
            "min_height": null,
            "min_width": null,
            "object_fit": null,
            "object_position": null,
            "order": null,
            "overflow": null,
            "overflow_x": null,
            "overflow_y": null,
            "padding": null,
            "right": null,
            "top": null,
            "visibility": null,
            "width": null
          }
        },
        "7adda25ac5a54b60a0005d587a077d26": {
          "model_module": "@jupyter-widgets/base",
          "model_module_version": "1.2.0",
          "model_name": "LayoutModel",
          "state": {
            "_model_module": "@jupyter-widgets/base",
            "_model_module_version": "1.2.0",
            "_model_name": "LayoutModel",
            "_view_count": null,
            "_view_module": "@jupyter-widgets/base",
            "_view_module_version": "1.2.0",
            "_view_name": "LayoutView",
            "align_content": null,
            "align_items": null,
            "align_self": null,
            "border": null,
            "bottom": null,
            "display": null,
            "flex": null,
            "flex_flow": null,
            "grid_area": null,
            "grid_auto_columns": null,
            "grid_auto_flow": null,
            "grid_auto_rows": null,
            "grid_column": null,
            "grid_gap": null,
            "grid_row": null,
            "grid_template_areas": null,
            "grid_template_columns": null,
            "grid_template_rows": null,
            "height": null,
            "justify_content": null,
            "justify_items": null,
            "left": null,
            "margin": null,
            "max_height": null,
            "max_width": null,
            "min_height": null,
            "min_width": null,
            "object_fit": null,
            "object_position": null,
            "order": null,
            "overflow": null,
            "overflow_x": null,
            "overflow_y": null,
            "padding": null,
            "right": null,
            "top": null,
            "visibility": null,
            "width": null
          }
        },
        "7b78292e94534a9383099ea58678bd2b": {
          "model_module": "@jupyter-widgets/controls",
          "model_module_version": "1.5.0",
          "model_name": "DescriptionStyleModel",
          "state": {
            "_model_module": "@jupyter-widgets/controls",
            "_model_module_version": "1.5.0",
            "_model_name": "DescriptionStyleModel",
            "_view_count": null,
            "_view_module": "@jupyter-widgets/base",
            "_view_module_version": "1.2.0",
            "_view_name": "StyleView",
            "description_width": ""
          }
        },
        "80288df12be94a4699147300ddde9eeb": {
          "model_module": "@jupyter-widgets/controls",
          "model_module_version": "1.5.0",
          "model_name": "ProgressStyleModel",
          "state": {
            "_model_module": "@jupyter-widgets/controls",
            "_model_module_version": "1.5.0",
            "_model_name": "ProgressStyleModel",
            "_view_count": null,
            "_view_module": "@jupyter-widgets/base",
            "_view_module_version": "1.2.0",
            "_view_name": "StyleView",
            "bar_color": null,
            "description_width": ""
          }
        },
        "8154c124016a4182a4001a82918cbc3d": {
          "model_module": "@jupyter-widgets/base",
          "model_module_version": "1.2.0",
          "model_name": "LayoutModel",
          "state": {
            "_model_module": "@jupyter-widgets/base",
            "_model_module_version": "1.2.0",
            "_model_name": "LayoutModel",
            "_view_count": null,
            "_view_module": "@jupyter-widgets/base",
            "_view_module_version": "1.2.0",
            "_view_name": "LayoutView",
            "align_content": null,
            "align_items": null,
            "align_self": null,
            "border": null,
            "bottom": null,
            "display": null,
            "flex": null,
            "flex_flow": null,
            "grid_area": null,
            "grid_auto_columns": null,
            "grid_auto_flow": null,
            "grid_auto_rows": null,
            "grid_column": null,
            "grid_gap": null,
            "grid_row": null,
            "grid_template_areas": null,
            "grid_template_columns": null,
            "grid_template_rows": null,
            "height": null,
            "justify_content": null,
            "justify_items": null,
            "left": null,
            "margin": null,
            "max_height": null,
            "max_width": null,
            "min_height": null,
            "min_width": null,
            "object_fit": null,
            "object_position": null,
            "order": null,
            "overflow": null,
            "overflow_x": null,
            "overflow_y": null,
            "padding": null,
            "right": null,
            "top": null,
            "visibility": null,
            "width": null
          }
        },
        "81851a441eeb4a33bea2f0bfa54b1de8": {
          "model_module": "@jupyter-widgets/controls",
          "model_module_version": "1.5.0",
          "model_name": "DescriptionStyleModel",
          "state": {
            "_model_module": "@jupyter-widgets/controls",
            "_model_module_version": "1.5.0",
            "_model_name": "DescriptionStyleModel",
            "_view_count": null,
            "_view_module": "@jupyter-widgets/base",
            "_view_module_version": "1.2.0",
            "_view_name": "StyleView",
            "description_width": ""
          }
        },
        "858b1485abce44ed9251c778d30010f5": {
          "model_module": "@jupyter-widgets/base",
          "model_module_version": "1.2.0",
          "model_name": "LayoutModel",
          "state": {
            "_model_module": "@jupyter-widgets/base",
            "_model_module_version": "1.2.0",
            "_model_name": "LayoutModel",
            "_view_count": null,
            "_view_module": "@jupyter-widgets/base",
            "_view_module_version": "1.2.0",
            "_view_name": "LayoutView",
            "align_content": null,
            "align_items": null,
            "align_self": null,
            "border": null,
            "bottom": null,
            "display": null,
            "flex": null,
            "flex_flow": null,
            "grid_area": null,
            "grid_auto_columns": null,
            "grid_auto_flow": null,
            "grid_auto_rows": null,
            "grid_column": null,
            "grid_gap": null,
            "grid_row": null,
            "grid_template_areas": null,
            "grid_template_columns": null,
            "grid_template_rows": null,
            "height": null,
            "justify_content": null,
            "justify_items": null,
            "left": null,
            "margin": null,
            "max_height": null,
            "max_width": null,
            "min_height": null,
            "min_width": null,
            "object_fit": null,
            "object_position": null,
            "order": null,
            "overflow": null,
            "overflow_x": null,
            "overflow_y": null,
            "padding": null,
            "right": null,
            "top": null,
            "visibility": null,
            "width": null
          }
        },
        "86889a02466f4ea889ab953d491a5b0a": {
          "model_module": "@jupyter-widgets/base",
          "model_module_version": "1.2.0",
          "model_name": "LayoutModel",
          "state": {
            "_model_module": "@jupyter-widgets/base",
            "_model_module_version": "1.2.0",
            "_model_name": "LayoutModel",
            "_view_count": null,
            "_view_module": "@jupyter-widgets/base",
            "_view_module_version": "1.2.0",
            "_view_name": "LayoutView",
            "align_content": null,
            "align_items": null,
            "align_self": null,
            "border": null,
            "bottom": null,
            "display": null,
            "flex": null,
            "flex_flow": null,
            "grid_area": null,
            "grid_auto_columns": null,
            "grid_auto_flow": null,
            "grid_auto_rows": null,
            "grid_column": null,
            "grid_gap": null,
            "grid_row": null,
            "grid_template_areas": null,
            "grid_template_columns": null,
            "grid_template_rows": null,
            "height": null,
            "justify_content": null,
            "justify_items": null,
            "left": null,
            "margin": null,
            "max_height": null,
            "max_width": null,
            "min_height": null,
            "min_width": null,
            "object_fit": null,
            "object_position": null,
            "order": null,
            "overflow": null,
            "overflow_x": null,
            "overflow_y": null,
            "padding": null,
            "right": null,
            "top": null,
            "visibility": null,
            "width": null
          }
        },
        "87889be0868c430095e41265530b359b": {
          "model_module": "@jupyter-widgets/controls",
          "model_module_version": "1.5.0",
          "model_name": "FloatProgressModel",
          "state": {
            "_dom_classes": [],
            "_model_module": "@jupyter-widgets/controls",
            "_model_module_version": "1.5.0",
            "_model_name": "FloatProgressModel",
            "_view_count": null,
            "_view_module": "@jupyter-widgets/controls",
            "_view_module_version": "1.5.0",
            "_view_name": "ProgressView",
            "bar_style": "success",
            "description": "",
            "description_tooltip": null,
            "layout": "IPY_MODEL_00b958eea97b449f9bfa0709566f4210",
            "max": 54670,
            "min": 0,
            "orientation": "horizontal",
            "style": "IPY_MODEL_0b834963ed8e461abad7d61d9b3a99f9",
            "value": 54670
          }
        },
        "88c4578d9a024750a08bc956934a64e6": {
          "model_module": "@jupyter-widgets/controls",
          "model_module_version": "1.5.0",
          "model_name": "HBoxModel",
          "state": {
            "_dom_classes": [],
            "_model_module": "@jupyter-widgets/controls",
            "_model_module_version": "1.5.0",
            "_model_name": "HBoxModel",
            "_view_count": null,
            "_view_module": "@jupyter-widgets/controls",
            "_view_module_version": "1.5.0",
            "_view_name": "HBoxView",
            "box_style": "",
            "children": [
              "IPY_MODEL_8ed1cd1bfcd7475bb6ed17d14cddcef9",
              "IPY_MODEL_0e2431b8a8c34701b021dac40e501c9c",
              "IPY_MODEL_4892ce4288f4433e9984b47fbd9e00b3"
            ],
            "layout": "IPY_MODEL_69fa35748e304fb0ab7bf4a7e0d105c2"
          }
        },
        "8e0e8fa6e60f4d24a4e89684c986b27b": {
          "model_module": "@jupyter-widgets/base",
          "model_module_version": "1.2.0",
          "model_name": "LayoutModel",
          "state": {
            "_model_module": "@jupyter-widgets/base",
            "_model_module_version": "1.2.0",
            "_model_name": "LayoutModel",
            "_view_count": null,
            "_view_module": "@jupyter-widgets/base",
            "_view_module_version": "1.2.0",
            "_view_name": "LayoutView",
            "align_content": null,
            "align_items": null,
            "align_self": null,
            "border": null,
            "bottom": null,
            "display": null,
            "flex": null,
            "flex_flow": null,
            "grid_area": null,
            "grid_auto_columns": null,
            "grid_auto_flow": null,
            "grid_auto_rows": null,
            "grid_column": null,
            "grid_gap": null,
            "grid_row": null,
            "grid_template_areas": null,
            "grid_template_columns": null,
            "grid_template_rows": null,
            "height": null,
            "justify_content": null,
            "justify_items": null,
            "left": null,
            "margin": null,
            "max_height": null,
            "max_width": null,
            "min_height": null,
            "min_width": null,
            "object_fit": null,
            "object_position": null,
            "order": null,
            "overflow": null,
            "overflow_x": null,
            "overflow_y": null,
            "padding": null,
            "right": null,
            "top": null,
            "visibility": null,
            "width": null
          }
        },
        "8ed1cd1bfcd7475bb6ed17d14cddcef9": {
          "model_module": "@jupyter-widgets/controls",
          "model_module_version": "1.5.0",
          "model_name": "HTMLModel",
          "state": {
            "_dom_classes": [],
            "_model_module": "@jupyter-widgets/controls",
            "_model_module_version": "1.5.0",
            "_model_name": "HTMLModel",
            "_view_count": null,
            "_view_module": "@jupyter-widgets/controls",
            "_view_module_version": "1.5.0",
            "_view_name": "HTMLView",
            "description": "",
            "description_tooltip": null,
            "layout": "IPY_MODEL_a894fe6288114089ba35c91c06f289f9",
            "placeholder": "​",
            "style": "IPY_MODEL_a8e87e27d1914617bf75592bafc54e38",
            "value": "vocab.txt: 100%"
          }
        },
        "970033ca56e24d4cbead16d8310187bf": {
          "model_module": "@jupyter-widgets/controls",
          "model_module_version": "1.5.0",
          "model_name": "FloatProgressModel",
          "state": {
            "_dom_classes": [],
            "_model_module": "@jupyter-widgets/controls",
            "_model_module_version": "1.5.0",
            "_model_name": "FloatProgressModel",
            "_view_count": null,
            "_view_module": "@jupyter-widgets/controls",
            "_view_module_version": "1.5.0",
            "_view_name": "ProgressView",
            "bar_style": "success",
            "description": "",
            "description_tooltip": null,
            "layout": "IPY_MODEL_623e139bccc84587b4a098b32e50526f",
            "max": 570,
            "min": 0,
            "orientation": "horizontal",
            "style": "IPY_MODEL_60d6101aaf6f420b8aff7da171862b20",
            "value": 570
          }
        },
        "97fe02222be94ce687015b58c3ac0381": {
          "model_module": "@jupyter-widgets/base",
          "model_module_version": "1.2.0",
          "model_name": "LayoutModel",
          "state": {
            "_model_module": "@jupyter-widgets/base",
            "_model_module_version": "1.2.0",
            "_model_name": "LayoutModel",
            "_view_count": null,
            "_view_module": "@jupyter-widgets/base",
            "_view_module_version": "1.2.0",
            "_view_name": "LayoutView",
            "align_content": null,
            "align_items": null,
            "align_self": null,
            "border": null,
            "bottom": null,
            "display": null,
            "flex": null,
            "flex_flow": null,
            "grid_area": null,
            "grid_auto_columns": null,
            "grid_auto_flow": null,
            "grid_auto_rows": null,
            "grid_column": null,
            "grid_gap": null,
            "grid_row": null,
            "grid_template_areas": null,
            "grid_template_columns": null,
            "grid_template_rows": null,
            "height": null,
            "justify_content": null,
            "justify_items": null,
            "left": null,
            "margin": null,
            "max_height": null,
            "max_width": null,
            "min_height": null,
            "min_width": null,
            "object_fit": null,
            "object_position": null,
            "order": null,
            "overflow": null,
            "overflow_x": null,
            "overflow_y": null,
            "padding": null,
            "right": null,
            "top": null,
            "visibility": null,
            "width": null
          }
        },
        "991382cdfc8a4e02b711c0dc0d8ad8ef": {
          "model_module": "@jupyter-widgets/controls",
          "model_module_version": "1.5.0",
          "model_name": "ProgressStyleModel",
          "state": {
            "_model_module": "@jupyter-widgets/controls",
            "_model_module_version": "1.5.0",
            "_model_name": "ProgressStyleModel",
            "_view_count": null,
            "_view_module": "@jupyter-widgets/base",
            "_view_module_version": "1.2.0",
            "_view_name": "StyleView",
            "bar_color": null,
            "description_width": ""
          }
        },
        "992545dedf2c42e5a312a78ab1a42998": {
          "model_module": "@jupyter-widgets/controls",
          "model_module_version": "1.5.0",
          "model_name": "HBoxModel",
          "state": {
            "_dom_classes": [],
            "_model_module": "@jupyter-widgets/controls",
            "_model_module_version": "1.5.0",
            "_model_name": "HBoxModel",
            "_view_count": null,
            "_view_module": "@jupyter-widgets/controls",
            "_view_module_version": "1.5.0",
            "_view_name": "HBoxView",
            "box_style": "",
            "children": [
              "IPY_MODEL_af583f473ea14940b5b25909cc4b59fd",
              "IPY_MODEL_e381210e5f5f40d694a420ce221c00b6",
              "IPY_MODEL_fffadeb56a0247299212a355c2c866cc"
            ],
            "layout": "IPY_MODEL_79ce0c214291426d9007857e96320678"
          }
        },
        "9a17d9cbe8ae43e69469f24ec4f32d61": {
          "model_module": "@jupyter-widgets/controls",
          "model_module_version": "1.5.0",
          "model_name": "HBoxModel",
          "state": {
            "_dom_classes": [],
            "_model_module": "@jupyter-widgets/controls",
            "_model_module_version": "1.5.0",
            "_model_name": "HBoxModel",
            "_view_count": null,
            "_view_module": "@jupyter-widgets/controls",
            "_view_module_version": "1.5.0",
            "_view_name": "HBoxView",
            "box_style": "",
            "children": [
              "IPY_MODEL_45969ba171ce4d19a68772cf09b4104e",
              "IPY_MODEL_4d33e645302645cba1796cdf926ddadc",
              "IPY_MODEL_e35c7a04e0ee4079aaa96c066eb07fc4"
            ],
            "layout": "IPY_MODEL_c7548e7d90e04da18b26601697baa056"
          }
        },
        "9b5f76053f7f43698c67b5ea240c6cc6": {
          "model_module": "@jupyter-widgets/base",
          "model_module_version": "1.2.0",
          "model_name": "LayoutModel",
          "state": {
            "_model_module": "@jupyter-widgets/base",
            "_model_module_version": "1.2.0",
            "_model_name": "LayoutModel",
            "_view_count": null,
            "_view_module": "@jupyter-widgets/base",
            "_view_module_version": "1.2.0",
            "_view_name": "LayoutView",
            "align_content": null,
            "align_items": null,
            "align_self": null,
            "border": null,
            "bottom": null,
            "display": null,
            "flex": null,
            "flex_flow": null,
            "grid_area": null,
            "grid_auto_columns": null,
            "grid_auto_flow": null,
            "grid_auto_rows": null,
            "grid_column": null,
            "grid_gap": null,
            "grid_row": null,
            "grid_template_areas": null,
            "grid_template_columns": null,
            "grid_template_rows": null,
            "height": null,
            "justify_content": null,
            "justify_items": null,
            "left": null,
            "margin": null,
            "max_height": null,
            "max_width": null,
            "min_height": null,
            "min_width": null,
            "object_fit": null,
            "object_position": null,
            "order": null,
            "overflow": null,
            "overflow_x": null,
            "overflow_y": null,
            "padding": null,
            "right": null,
            "top": null,
            "visibility": null,
            "width": null
          }
        },
        "9bc30f6f225f4cb1b37be6b97e296b49": {
          "model_module": "@jupyter-widgets/controls",
          "model_module_version": "1.5.0",
          "model_name": "DescriptionStyleModel",
          "state": {
            "_model_module": "@jupyter-widgets/controls",
            "_model_module_version": "1.5.0",
            "_model_name": "DescriptionStyleModel",
            "_view_count": null,
            "_view_module": "@jupyter-widgets/base",
            "_view_module_version": "1.2.0",
            "_view_name": "StyleView",
            "description_width": ""
          }
        },
        "9e4f0e4435fe455d8bf8cdafc1a75fb0": {
          "model_module": "@jupyter-widgets/controls",
          "model_module_version": "1.5.0",
          "model_name": "HTMLModel",
          "state": {
            "_dom_classes": [],
            "_model_module": "@jupyter-widgets/controls",
            "_model_module_version": "1.5.0",
            "_model_name": "HTMLModel",
            "_view_count": null,
            "_view_module": "@jupyter-widgets/controls",
            "_view_module_version": "1.5.0",
            "_view_name": "HTMLView",
            "description": "",
            "description_tooltip": null,
            "layout": "IPY_MODEL_41b2f82ee10448a4af633f9056ffe43e",
            "placeholder": "​",
            "style": "IPY_MODEL_6cf658d891d34fd1a89625f8ac8f7229",
            "value": " 17.2M/17.2M [00:00&lt;00:00, 96.7MB/s]"
          }
        },
        "a0c541b4070a4b16b207d7c68a07bf7a": {
          "model_module": "@jupyter-widgets/controls",
          "model_module_version": "1.5.0",
          "model_name": "DescriptionStyleModel",
          "state": {
            "_model_module": "@jupyter-widgets/controls",
            "_model_module_version": "1.5.0",
            "_model_name": "DescriptionStyleModel",
            "_view_count": null,
            "_view_module": "@jupyter-widgets/base",
            "_view_module_version": "1.2.0",
            "_view_name": "StyleView",
            "description_width": ""
          }
        },
        "a2db9bd8ae084071af5a77516012ab31": {
          "model_module": "@jupyter-widgets/base",
          "model_module_version": "1.2.0",
          "model_name": "LayoutModel",
          "state": {
            "_model_module": "@jupyter-widgets/base",
            "_model_module_version": "1.2.0",
            "_model_name": "LayoutModel",
            "_view_count": null,
            "_view_module": "@jupyter-widgets/base",
            "_view_module_version": "1.2.0",
            "_view_name": "LayoutView",
            "align_content": null,
            "align_items": null,
            "align_self": null,
            "border": null,
            "bottom": null,
            "display": null,
            "flex": null,
            "flex_flow": null,
            "grid_area": null,
            "grid_auto_columns": null,
            "grid_auto_flow": null,
            "grid_auto_rows": null,
            "grid_column": null,
            "grid_gap": null,
            "grid_row": null,
            "grid_template_areas": null,
            "grid_template_columns": null,
            "grid_template_rows": null,
            "height": null,
            "justify_content": null,
            "justify_items": null,
            "left": null,
            "margin": null,
            "max_height": null,
            "max_width": null,
            "min_height": null,
            "min_width": null,
            "object_fit": null,
            "object_position": null,
            "order": null,
            "overflow": null,
            "overflow_x": null,
            "overflow_y": null,
            "padding": null,
            "right": null,
            "top": null,
            "visibility": null,
            "width": null
          }
        },
        "a3207fc2f33e49c0a85ea16222e38d8e": {
          "model_module": "@jupyter-widgets/controls",
          "model_module_version": "1.5.0",
          "model_name": "FloatProgressModel",
          "state": {
            "_dom_classes": [],
            "_model_module": "@jupyter-widgets/controls",
            "_model_module_version": "1.5.0",
            "_model_name": "FloatProgressModel",
            "_view_count": null,
            "_view_module": "@jupyter-widgets/controls",
            "_view_module_version": "1.5.0",
            "_view_name": "ProgressView",
            "bar_style": "success",
            "description": "",
            "description_tooltip": null,
            "layout": "IPY_MODEL_fd750a47631c48f6abc038ad95f780bd",
            "max": 2471645608,
            "min": 0,
            "orientation": "horizontal",
            "style": "IPY_MODEL_e6ea19d10f914c629f7c192ffda21edd",
            "value": 2471645608
          }
        },
        "a380b4825f3544df905572be74ac5a20": {
          "model_module": "@jupyter-widgets/base",
          "model_module_version": "1.2.0",
          "model_name": "LayoutModel",
          "state": {
            "_model_module": "@jupyter-widgets/base",
            "_model_module_version": "1.2.0",
            "_model_name": "LayoutModel",
            "_view_count": null,
            "_view_module": "@jupyter-widgets/base",
            "_view_module_version": "1.2.0",
            "_view_name": "LayoutView",
            "align_content": null,
            "align_items": null,
            "align_self": null,
            "border": null,
            "bottom": null,
            "display": null,
            "flex": null,
            "flex_flow": null,
            "grid_area": null,
            "grid_auto_columns": null,
            "grid_auto_flow": null,
            "grid_auto_rows": null,
            "grid_column": null,
            "grid_gap": null,
            "grid_row": null,
            "grid_template_areas": null,
            "grid_template_columns": null,
            "grid_template_rows": null,
            "height": null,
            "justify_content": null,
            "justify_items": null,
            "left": null,
            "margin": null,
            "max_height": null,
            "max_width": null,
            "min_height": null,
            "min_width": null,
            "object_fit": null,
            "object_position": null,
            "order": null,
            "overflow": null,
            "overflow_x": null,
            "overflow_y": null,
            "padding": null,
            "right": null,
            "top": null,
            "visibility": null,
            "width": null
          }
        },
        "a894fe6288114089ba35c91c06f289f9": {
          "model_module": "@jupyter-widgets/base",
          "model_module_version": "1.2.0",
          "model_name": "LayoutModel",
          "state": {
            "_model_module": "@jupyter-widgets/base",
            "_model_module_version": "1.2.0",
            "_model_name": "LayoutModel",
            "_view_count": null,
            "_view_module": "@jupyter-widgets/base",
            "_view_module_version": "1.2.0",
            "_view_name": "LayoutView",
            "align_content": null,
            "align_items": null,
            "align_self": null,
            "border": null,
            "bottom": null,
            "display": null,
            "flex": null,
            "flex_flow": null,
            "grid_area": null,
            "grid_auto_columns": null,
            "grid_auto_flow": null,
            "grid_auto_rows": null,
            "grid_column": null,
            "grid_gap": null,
            "grid_row": null,
            "grid_template_areas": null,
            "grid_template_columns": null,
            "grid_template_rows": null,
            "height": null,
            "justify_content": null,
            "justify_items": null,
            "left": null,
            "margin": null,
            "max_height": null,
            "max_width": null,
            "min_height": null,
            "min_width": null,
            "object_fit": null,
            "object_position": null,
            "order": null,
            "overflow": null,
            "overflow_x": null,
            "overflow_y": null,
            "padding": null,
            "right": null,
            "top": null,
            "visibility": null,
            "width": null
          }
        },
        "a8e87e27d1914617bf75592bafc54e38": {
          "model_module": "@jupyter-widgets/controls",
          "model_module_version": "1.5.0",
          "model_name": "DescriptionStyleModel",
          "state": {
            "_model_module": "@jupyter-widgets/controls",
            "_model_module_version": "1.5.0",
            "_model_name": "DescriptionStyleModel",
            "_view_count": null,
            "_view_module": "@jupyter-widgets/base",
            "_view_module_version": "1.2.0",
            "_view_name": "StyleView",
            "description_width": ""
          }
        },
        "ae46672279794c59924b487e58895b7f": {
          "model_module": "@jupyter-widgets/controls",
          "model_module_version": "1.5.0",
          "model_name": "HTMLModel",
          "state": {
            "_dom_classes": [],
            "_model_module": "@jupyter-widgets/controls",
            "_model_module_version": "1.5.0",
            "_model_name": "HTMLModel",
            "_view_count": null,
            "_view_module": "@jupyter-widgets/controls",
            "_view_module_version": "1.5.0",
            "_view_name": "HTMLView",
            "description": "",
            "description_tooltip": null,
            "layout": "IPY_MODEL_8e0e8fa6e60f4d24a4e89684c986b27b",
            "placeholder": "​",
            "style": "IPY_MODEL_ead5461dadcf42b38fb760d63c413068",
            "value": "tokenizer.json: 100%"
          }
        },
        "aea0669a754147b69a5e3441a6bd6dc3": {
          "model_module": "@jupyter-widgets/controls",
          "model_module_version": "1.5.0",
          "model_name": "HBoxModel",
          "state": {
            "_dom_classes": [],
            "_model_module": "@jupyter-widgets/controls",
            "_model_module_version": "1.5.0",
            "_model_name": "HBoxModel",
            "_view_count": null,
            "_view_module": "@jupyter-widgets/controls",
            "_view_module_version": "1.5.0",
            "_view_name": "HBoxView",
            "box_style": "",
            "children": [
              "IPY_MODEL_59a480f553054fb3af7ddb974ef3fe7e",
              "IPY_MODEL_be6b350d5b05424e8bd647d24a8708b2",
              "IPY_MODEL_d52a7a147fcc4a7dbc23a614934426a9"
            ],
            "layout": "IPY_MODEL_3a70a066f19344b29566dba509f78034"
          }
        },
        "af583f473ea14940b5b25909cc4b59fd": {
          "model_module": "@jupyter-widgets/controls",
          "model_module_version": "1.5.0",
          "model_name": "HTMLModel",
          "state": {
            "_dom_classes": [],
            "_model_module": "@jupyter-widgets/controls",
            "_model_module_version": "1.5.0",
            "_model_name": "HTMLModel",
            "_view_count": null,
            "_view_module": "@jupyter-widgets/controls",
            "_view_module_version": "1.5.0",
            "_view_name": "HTMLView",
            "description": "",
            "description_tooltip": null,
            "layout": "IPY_MODEL_7763eedbc69440d7bdbbc25ea24d0302",
            "placeholder": "​",
            "style": "IPY_MODEL_7b78292e94534a9383099ea58678bd2b",
            "value": "generation_config.json: 100%"
          }
        },
        "b565214287534965b8067c8b1229b465": {
          "model_module": "@jupyter-widgets/base",
          "model_module_version": "1.2.0",
          "model_name": "LayoutModel",
          "state": {
            "_model_module": "@jupyter-widgets/base",
            "_model_module_version": "1.2.0",
            "_model_name": "LayoutModel",
            "_view_count": null,
            "_view_module": "@jupyter-widgets/base",
            "_view_module_version": "1.2.0",
            "_view_name": "LayoutView",
            "align_content": null,
            "align_items": null,
            "align_self": null,
            "border": null,
            "bottom": null,
            "display": null,
            "flex": null,
            "flex_flow": null,
            "grid_area": null,
            "grid_auto_columns": null,
            "grid_auto_flow": null,
            "grid_auto_rows": null,
            "grid_column": null,
            "grid_gap": null,
            "grid_row": null,
            "grid_template_areas": null,
            "grid_template_columns": null,
            "grid_template_rows": null,
            "height": null,
            "justify_content": null,
            "justify_items": null,
            "left": null,
            "margin": null,
            "max_height": null,
            "max_width": null,
            "min_height": null,
            "min_width": null,
            "object_fit": null,
            "object_position": null,
            "order": null,
            "overflow": null,
            "overflow_x": null,
            "overflow_y": null,
            "padding": null,
            "right": null,
            "top": null,
            "visibility": null,
            "width": null
          }
        },
        "bb50ea56bfbf416a82a442b2b06c1ca5": {
          "model_module": "@jupyter-widgets/controls",
          "model_module_version": "1.5.0",
          "model_name": "DescriptionStyleModel",
          "state": {
            "_model_module": "@jupyter-widgets/controls",
            "_model_module_version": "1.5.0",
            "_model_name": "DescriptionStyleModel",
            "_view_count": null,
            "_view_module": "@jupyter-widgets/base",
            "_view_module_version": "1.2.0",
            "_view_name": "StyleView",
            "description_width": ""
          }
        },
        "be6b350d5b05424e8bd647d24a8708b2": {
          "model_module": "@jupyter-widgets/controls",
          "model_module_version": "1.5.0",
          "model_name": "FloatProgressModel",
          "state": {
            "_dom_classes": [],
            "_model_module": "@jupyter-widgets/controls",
            "_model_module_version": "1.5.0",
            "_model_name": "FloatProgressModel",
            "_view_count": null,
            "_view_module": "@jupyter-widgets/controls",
            "_view_module_version": "1.5.0",
            "_view_name": "ProgressView",
            "bar_style": "success",
            "description": "",
            "description_tooltip": null,
            "layout": "IPY_MODEL_edaa2b6e70784398894290a5774c08ec",
            "max": 454,
            "min": 0,
            "orientation": "horizontal",
            "style": "IPY_MODEL_80288df12be94a4699147300ddde9eeb",
            "value": 454
          }
        },
        "c19af35de8d94e0994b7020fc2a7481e": {
          "model_module": "@jupyter-widgets/controls",
          "model_module_version": "1.5.0",
          "model_name": "HBoxModel",
          "state": {
            "_dom_classes": [],
            "_model_module": "@jupyter-widgets/controls",
            "_model_module_version": "1.5.0",
            "_model_name": "HBoxModel",
            "_view_count": null,
            "_view_module": "@jupyter-widgets/controls",
            "_view_module_version": "1.5.0",
            "_view_name": "HBoxView",
            "box_style": "",
            "children": [
              "IPY_MODEL_128ae0d49f0648b38b7eea511889ba75",
              "IPY_MODEL_f3df8d2601bf4c41b6e6325f88dc9475",
              "IPY_MODEL_2eb583d45ac14ae58de9fcfde3e2e213"
            ],
            "layout": "IPY_MODEL_ddbc54831f294f5e9e99183af3521a22"
          }
        },
        "c521a9b117bb43bba00754a377efbb17": {
          "model_module": "@jupyter-widgets/base",
          "model_module_version": "1.2.0",
          "model_name": "LayoutModel",
          "state": {
            "_model_module": "@jupyter-widgets/base",
            "_model_module_version": "1.2.0",
            "_model_name": "LayoutModel",
            "_view_count": null,
            "_view_module": "@jupyter-widgets/base",
            "_view_module_version": "1.2.0",
            "_view_name": "LayoutView",
            "align_content": null,
            "align_items": null,
            "align_self": null,
            "border": null,
            "bottom": null,
            "display": null,
            "flex": null,
            "flex_flow": null,
            "grid_area": null,
            "grid_auto_columns": null,
            "grid_auto_flow": null,
            "grid_auto_rows": null,
            "grid_column": null,
            "grid_gap": null,
            "grid_row": null,
            "grid_template_areas": null,
            "grid_template_columns": null,
            "grid_template_rows": null,
            "height": null,
            "justify_content": null,
            "justify_items": null,
            "left": null,
            "margin": null,
            "max_height": null,
            "max_width": null,
            "min_height": null,
            "min_width": null,
            "object_fit": null,
            "object_position": null,
            "order": null,
            "overflow": null,
            "overflow_x": null,
            "overflow_y": null,
            "padding": null,
            "right": null,
            "top": null,
            "visibility": null,
            "width": null
          }
        },
        "c5d7f2d84a6442f087814ff3340f4134": {
          "model_module": "@jupyter-widgets/controls",
          "model_module_version": "1.5.0",
          "model_name": "HTMLModel",
          "state": {
            "_dom_classes": [],
            "_model_module": "@jupyter-widgets/controls",
            "_model_module_version": "1.5.0",
            "_model_name": "HTMLModel",
            "_view_count": null,
            "_view_module": "@jupyter-widgets/controls",
            "_view_module_version": "1.5.0",
            "_view_name": "HTMLView",
            "description": "",
            "description_tooltip": null,
            "layout": "IPY_MODEL_5918b07d9a9241ff8d9954ba6ddc492c",
            "placeholder": "​",
            "style": "IPY_MODEL_60016e089a8e4afdb2912cb4f2f41332",
            "value": " 889/889 [00:00&lt;00:00, 87.9kB/s]"
          }
        },
        "c7548e7d90e04da18b26601697baa056": {
          "model_module": "@jupyter-widgets/base",
          "model_module_version": "1.2.0",
          "model_name": "LayoutModel",
          "state": {
            "_model_module": "@jupyter-widgets/base",
            "_model_module_version": "1.2.0",
            "_model_name": "LayoutModel",
            "_view_count": null,
            "_view_module": "@jupyter-widgets/base",
            "_view_module_version": "1.2.0",
            "_view_name": "LayoutView",
            "align_content": null,
            "align_items": null,
            "align_self": null,
            "border": null,
            "bottom": null,
            "display": null,
            "flex": null,
            "flex_flow": null,
            "grid_area": null,
            "grid_auto_columns": null,
            "grid_auto_flow": null,
            "grid_auto_rows": null,
            "grid_column": null,
            "grid_gap": null,
            "grid_row": null,
            "grid_template_areas": null,
            "grid_template_columns": null,
            "grid_template_rows": null,
            "height": null,
            "justify_content": null,
            "justify_items": null,
            "left": null,
            "margin": null,
            "max_height": null,
            "max_width": null,
            "min_height": null,
            "min_width": null,
            "object_fit": null,
            "object_position": null,
            "order": null,
            "overflow": null,
            "overflow_x": null,
            "overflow_y": null,
            "padding": null,
            "right": null,
            "top": null,
            "visibility": null,
            "width": null
          }
        },
        "cab1c8fef97a43c39f7874295c6a90dc": {
          "model_module": "@jupyter-widgets/controls",
          "model_module_version": "1.5.0",
          "model_name": "HTMLModel",
          "state": {
            "_dom_classes": [],
            "_model_module": "@jupyter-widgets/controls",
            "_model_module_version": "1.5.0",
            "_model_name": "HTMLModel",
            "_view_count": null,
            "_view_module": "@jupyter-widgets/controls",
            "_view_module_version": "1.5.0",
            "_view_name": "HTMLView",
            "description": "",
            "description_tooltip": null,
            "layout": "IPY_MODEL_0969a6e409d04f9c9653e938e6b42d07",
            "placeholder": "​",
            "style": "IPY_MODEL_1f247f705c6042e089e05abae1c8d9d5",
            "value": " 570/570 [00:00&lt;00:00, 62.8kB/s]"
          }
        },
        "cc849df9cb4046c5ab6ffdf9bbeac766": {
          "model_module": "@jupyter-widgets/base",
          "model_module_version": "1.2.0",
          "model_name": "LayoutModel",
          "state": {
            "_model_module": "@jupyter-widgets/base",
            "_model_module_version": "1.2.0",
            "_model_name": "LayoutModel",
            "_view_count": null,
            "_view_module": "@jupyter-widgets/base",
            "_view_module_version": "1.2.0",
            "_view_name": "LayoutView",
            "align_content": null,
            "align_items": null,
            "align_self": null,
            "border": null,
            "bottom": null,
            "display": null,
            "flex": null,
            "flex_flow": null,
            "grid_area": null,
            "grid_auto_columns": null,
            "grid_auto_flow": null,
            "grid_auto_rows": null,
            "grid_column": null,
            "grid_gap": null,
            "grid_row": null,
            "grid_template_areas": null,
            "grid_template_columns": null,
            "grid_template_rows": null,
            "height": null,
            "justify_content": null,
            "justify_items": null,
            "left": null,
            "margin": null,
            "max_height": null,
            "max_width": null,
            "min_height": null,
            "min_width": null,
            "object_fit": null,
            "object_position": null,
            "order": null,
            "overflow": null,
            "overflow_x": null,
            "overflow_y": null,
            "padding": null,
            "right": null,
            "top": null,
            "visibility": null,
            "width": null
          }
        },
        "d08ada2ede9145088da3dc7cd43983a6": {
          "model_module": "@jupyter-widgets/base",
          "model_module_version": "1.2.0",
          "model_name": "LayoutModel",
          "state": {
            "_model_module": "@jupyter-widgets/base",
            "_model_module_version": "1.2.0",
            "_model_name": "LayoutModel",
            "_view_count": null,
            "_view_module": "@jupyter-widgets/base",
            "_view_module_version": "1.2.0",
            "_view_name": "LayoutView",
            "align_content": null,
            "align_items": null,
            "align_self": null,
            "border": null,
            "bottom": null,
            "display": null,
            "flex": null,
            "flex_flow": null,
            "grid_area": null,
            "grid_auto_columns": null,
            "grid_auto_flow": null,
            "grid_auto_rows": null,
            "grid_column": null,
            "grid_gap": null,
            "grid_row": null,
            "grid_template_areas": null,
            "grid_template_columns": null,
            "grid_template_rows": null,
            "height": null,
            "justify_content": null,
            "justify_items": null,
            "left": null,
            "margin": null,
            "max_height": null,
            "max_width": null,
            "min_height": null,
            "min_width": null,
            "object_fit": null,
            "object_position": null,
            "order": null,
            "overflow": null,
            "overflow_x": null,
            "overflow_y": null,
            "padding": null,
            "right": null,
            "top": null,
            "visibility": null,
            "width": null
          }
        },
        "d52a7a147fcc4a7dbc23a614934426a9": {
          "model_module": "@jupyter-widgets/controls",
          "model_module_version": "1.5.0",
          "model_name": "HTMLModel",
          "state": {
            "_dom_classes": [],
            "_model_module": "@jupyter-widgets/controls",
            "_model_module_version": "1.5.0",
            "_model_name": "HTMLModel",
            "_view_count": null,
            "_view_module": "@jupyter-widgets/controls",
            "_view_module_version": "1.5.0",
            "_view_name": "HTMLView",
            "description": "",
            "description_tooltip": null,
            "layout": "IPY_MODEL_5dcb9b8a3e7f47aba6c1ba33778fa499",
            "placeholder": "​",
            "style": "IPY_MODEL_649dc3eea9f3451da8688da535342ebc",
            "value": " 454/454 [00:00&lt;00:00, 53.6kB/s]"
          }
        },
        "d912cf4a1a9b4f4d81b71a5f1f94075f": {
          "model_module": "@jupyter-widgets/base",
          "model_module_version": "1.2.0",
          "model_name": "LayoutModel",
          "state": {
            "_model_module": "@jupyter-widgets/base",
            "_model_module_version": "1.2.0",
            "_model_name": "LayoutModel",
            "_view_count": null,
            "_view_module": "@jupyter-widgets/base",
            "_view_module_version": "1.2.0",
            "_view_name": "LayoutView",
            "align_content": null,
            "align_items": null,
            "align_self": null,
            "border": null,
            "bottom": null,
            "display": null,
            "flex": null,
            "flex_flow": null,
            "grid_area": null,
            "grid_auto_columns": null,
            "grid_auto_flow": null,
            "grid_auto_rows": null,
            "grid_column": null,
            "grid_gap": null,
            "grid_row": null,
            "grid_template_areas": null,
            "grid_template_columns": null,
            "grid_template_rows": null,
            "height": null,
            "justify_content": null,
            "justify_items": null,
            "left": null,
            "margin": null,
            "max_height": null,
            "max_width": null,
            "min_height": null,
            "min_width": null,
            "object_fit": null,
            "object_position": null,
            "order": null,
            "overflow": null,
            "overflow_x": null,
            "overflow_y": null,
            "padding": null,
            "right": null,
            "top": null,
            "visibility": null,
            "width": null
          }
        },
        "dd17b26f02304b6bb17cc9b982305629": {
          "model_module": "@jupyter-widgets/base",
          "model_module_version": "1.2.0",
          "model_name": "LayoutModel",
          "state": {
            "_model_module": "@jupyter-widgets/base",
            "_model_module_version": "1.2.0",
            "_model_name": "LayoutModel",
            "_view_count": null,
            "_view_module": "@jupyter-widgets/base",
            "_view_module_version": "1.2.0",
            "_view_name": "LayoutView",
            "align_content": null,
            "align_items": null,
            "align_self": null,
            "border": null,
            "bottom": null,
            "display": null,
            "flex": null,
            "flex_flow": null,
            "grid_area": null,
            "grid_auto_columns": null,
            "grid_auto_flow": null,
            "grid_auto_rows": null,
            "grid_column": null,
            "grid_gap": null,
            "grid_row": null,
            "grid_template_areas": null,
            "grid_template_columns": null,
            "grid_template_rows": null,
            "height": null,
            "justify_content": null,
            "justify_items": null,
            "left": null,
            "margin": null,
            "max_height": null,
            "max_width": null,
            "min_height": null,
            "min_width": null,
            "object_fit": null,
            "object_position": null,
            "order": null,
            "overflow": null,
            "overflow_x": null,
            "overflow_y": null,
            "padding": null,
            "right": null,
            "top": null,
            "visibility": null,
            "width": null
          }
        },
        "ddbc54831f294f5e9e99183af3521a22": {
          "model_module": "@jupyter-widgets/base",
          "model_module_version": "1.2.0",
          "model_name": "LayoutModel",
          "state": {
            "_model_module": "@jupyter-widgets/base",
            "_model_module_version": "1.2.0",
            "_model_name": "LayoutModel",
            "_view_count": null,
            "_view_module": "@jupyter-widgets/base",
            "_view_module_version": "1.2.0",
            "_view_name": "LayoutView",
            "align_content": null,
            "align_items": null,
            "align_self": null,
            "border": null,
            "bottom": null,
            "display": null,
            "flex": null,
            "flex_flow": null,
            "grid_area": null,
            "grid_auto_columns": null,
            "grid_auto_flow": null,
            "grid_auto_rows": null,
            "grid_column": null,
            "grid_gap": null,
            "grid_row": null,
            "grid_template_areas": null,
            "grid_template_columns": null,
            "grid_template_rows": null,
            "height": null,
            "justify_content": null,
            "justify_items": null,
            "left": null,
            "margin": null,
            "max_height": null,
            "max_width": null,
            "min_height": null,
            "min_width": null,
            "object_fit": null,
            "object_position": null,
            "order": null,
            "overflow": null,
            "overflow_x": null,
            "overflow_y": null,
            "padding": null,
            "right": null,
            "top": null,
            "visibility": null,
            "width": null
          }
        },
        "de7ad5f7bbae405da3fbc7870d0a32e0": {
          "model_module": "@jupyter-widgets/controls",
          "model_module_version": "1.5.0",
          "model_name": "ProgressStyleModel",
          "state": {
            "_model_module": "@jupyter-widgets/controls",
            "_model_module_version": "1.5.0",
            "_model_name": "ProgressStyleModel",
            "_view_count": null,
            "_view_module": "@jupyter-widgets/base",
            "_view_module_version": "1.2.0",
            "_view_name": "StyleView",
            "bar_color": null,
            "description_width": ""
          }
        },
        "e1676cc0c2cb4eca84c078b23bd64496": {
          "model_module": "@jupyter-widgets/controls",
          "model_module_version": "1.5.0",
          "model_name": "ProgressStyleModel",
          "state": {
            "_model_module": "@jupyter-widgets/controls",
            "_model_module_version": "1.5.0",
            "_model_name": "ProgressStyleModel",
            "_view_count": null,
            "_view_module": "@jupyter-widgets/base",
            "_view_module_version": "1.2.0",
            "_view_name": "StyleView",
            "bar_color": null,
            "description_width": ""
          }
        },
        "e35c7a04e0ee4079aaa96c066eb07fc4": {
          "model_module": "@jupyter-widgets/controls",
          "model_module_version": "1.5.0",
          "model_name": "HTMLModel",
          "state": {
            "_dom_classes": [],
            "_model_module": "@jupyter-widgets/controls",
            "_model_module_version": "1.5.0",
            "_model_name": "HTMLModel",
            "_view_count": null,
            "_view_module": "@jupyter-widgets/controls",
            "_view_module_version": "1.5.0",
            "_view_name": "HTMLView",
            "description": "",
            "description_tooltip": null,
            "layout": "IPY_MODEL_64e25fd3d6974b28aece81b0480c88f0",
            "placeholder": "​",
            "style": "IPY_MODEL_9bc30f6f225f4cb1b37be6b97e296b49",
            "value": " 48.0/48.0 [00:00&lt;00:00, 5.57kB/s]"
          }
        },
        "e381210e5f5f40d694a420ce221c00b6": {
          "model_module": "@jupyter-widgets/controls",
          "model_module_version": "1.5.0",
          "model_name": "FloatProgressModel",
          "state": {
            "_dom_classes": [],
            "_model_module": "@jupyter-widgets/controls",
            "_model_module_version": "1.5.0",
            "_model_name": "FloatProgressModel",
            "_view_count": null,
            "_view_module": "@jupyter-widgets/controls",
            "_view_module_version": "1.5.0",
            "_view_name": "ProgressView",
            "bar_style": "success",
            "description": "",
            "description_tooltip": null,
            "layout": "IPY_MODEL_d912cf4a1a9b4f4d81b71a5f1f94075f",
            "max": 234,
            "min": 0,
            "orientation": "horizontal",
            "style": "IPY_MODEL_ea7bb11253fd4c94b1349a90b43a642c",
            "value": 234
          }
        },
        "e6ea19d10f914c629f7c192ffda21edd": {
          "model_module": "@jupyter-widgets/controls",
          "model_module_version": "1.5.0",
          "model_name": "ProgressStyleModel",
          "state": {
            "_model_module": "@jupyter-widgets/controls",
            "_model_module_version": "1.5.0",
            "_model_name": "ProgressStyleModel",
            "_view_count": null,
            "_view_module": "@jupyter-widgets/base",
            "_view_module_version": "1.2.0",
            "_view_name": "StyleView",
            "bar_color": null,
            "description_width": ""
          }
        },
        "ea7bb11253fd4c94b1349a90b43a642c": {
          "model_module": "@jupyter-widgets/controls",
          "model_module_version": "1.5.0",
          "model_name": "ProgressStyleModel",
          "state": {
            "_model_module": "@jupyter-widgets/controls",
            "_model_module_version": "1.5.0",
            "_model_name": "ProgressStyleModel",
            "_view_count": null,
            "_view_module": "@jupyter-widgets/base",
            "_view_module_version": "1.2.0",
            "_view_name": "StyleView",
            "bar_color": null,
            "description_width": ""
          }
        },
        "ead5461dadcf42b38fb760d63c413068": {
          "model_module": "@jupyter-widgets/controls",
          "model_module_version": "1.5.0",
          "model_name": "DescriptionStyleModel",
          "state": {
            "_model_module": "@jupyter-widgets/controls",
            "_model_module_version": "1.5.0",
            "_model_name": "DescriptionStyleModel",
            "_view_count": null,
            "_view_module": "@jupyter-widgets/base",
            "_view_module_version": "1.2.0",
            "_view_name": "StyleView",
            "description_width": ""
          }
        },
        "eb9aa61ef2a24403b8f79de8bb87c371": {
          "model_module": "@jupyter-widgets/controls",
          "model_module_version": "1.5.0",
          "model_name": "DescriptionStyleModel",
          "state": {
            "_model_module": "@jupyter-widgets/controls",
            "_model_module_version": "1.5.0",
            "_model_name": "DescriptionStyleModel",
            "_view_count": null,
            "_view_module": "@jupyter-widgets/base",
            "_view_module_version": "1.2.0",
            "_view_name": "StyleView",
            "description_width": ""
          }
        },
        "edaa2b6e70784398894290a5774c08ec": {
          "model_module": "@jupyter-widgets/base",
          "model_module_version": "1.2.0",
          "model_name": "LayoutModel",
          "state": {
            "_model_module": "@jupyter-widgets/base",
            "_model_module_version": "1.2.0",
            "_model_name": "LayoutModel",
            "_view_count": null,
            "_view_module": "@jupyter-widgets/base",
            "_view_module_version": "1.2.0",
            "_view_name": "LayoutView",
            "align_content": null,
            "align_items": null,
            "align_self": null,
            "border": null,
            "bottom": null,
            "display": null,
            "flex": null,
            "flex_flow": null,
            "grid_area": null,
            "grid_auto_columns": null,
            "grid_auto_flow": null,
            "grid_auto_rows": null,
            "grid_column": null,
            "grid_gap": null,
            "grid_row": null,
            "grid_template_areas": null,
            "grid_template_columns": null,
            "grid_template_rows": null,
            "height": null,
            "justify_content": null,
            "justify_items": null,
            "left": null,
            "margin": null,
            "max_height": null,
            "max_width": null,
            "min_height": null,
            "min_width": null,
            "object_fit": null,
            "object_position": null,
            "order": null,
            "overflow": null,
            "overflow_x": null,
            "overflow_y": null,
            "padding": null,
            "right": null,
            "top": null,
            "visibility": null,
            "width": null
          }
        },
        "f1c8306a6b254b8a818d3c827e87f5c6": {
          "model_module": "@jupyter-widgets/controls",
          "model_module_version": "1.5.0",
          "model_name": "DescriptionStyleModel",
          "state": {
            "_model_module": "@jupyter-widgets/controls",
            "_model_module_version": "1.5.0",
            "_model_name": "DescriptionStyleModel",
            "_view_count": null,
            "_view_module": "@jupyter-widgets/base",
            "_view_module_version": "1.2.0",
            "_view_name": "StyleView",
            "description_width": ""
          }
        },
        "f338ebaf59df499ea70f7a735f8c09ba": {
          "model_module": "@jupyter-widgets/base",
          "model_module_version": "1.2.0",
          "model_name": "LayoutModel",
          "state": {
            "_model_module": "@jupyter-widgets/base",
            "_model_module_version": "1.2.0",
            "_model_name": "LayoutModel",
            "_view_count": null,
            "_view_module": "@jupyter-widgets/base",
            "_view_module_version": "1.2.0",
            "_view_name": "LayoutView",
            "align_content": null,
            "align_items": null,
            "align_self": null,
            "border": null,
            "bottom": null,
            "display": null,
            "flex": null,
            "flex_flow": null,
            "grid_area": null,
            "grid_auto_columns": null,
            "grid_auto_flow": null,
            "grid_auto_rows": null,
            "grid_column": null,
            "grid_gap": null,
            "grid_row": null,
            "grid_template_areas": null,
            "grid_template_columns": null,
            "grid_template_rows": null,
            "height": null,
            "justify_content": null,
            "justify_items": null,
            "left": null,
            "margin": null,
            "max_height": null,
            "max_width": null,
            "min_height": null,
            "min_width": null,
            "object_fit": null,
            "object_position": null,
            "order": null,
            "overflow": null,
            "overflow_x": null,
            "overflow_y": null,
            "padding": null,
            "right": null,
            "top": null,
            "visibility": null,
            "width": null
          }
        },
        "f3a5e2f3db6d4cfdbc84581ea0b04b22": {
          "model_module": "@jupyter-widgets/controls",
          "model_module_version": "1.5.0",
          "model_name": "ProgressStyleModel",
          "state": {
            "_model_module": "@jupyter-widgets/controls",
            "_model_module_version": "1.5.0",
            "_model_name": "ProgressStyleModel",
            "_view_count": null,
            "_view_module": "@jupyter-widgets/base",
            "_view_module_version": "1.2.0",
            "_view_name": "StyleView",
            "bar_color": null,
            "description_width": ""
          }
        },
        "f3df8d2601bf4c41b6e6325f88dc9475": {
          "model_module": "@jupyter-widgets/controls",
          "model_module_version": "1.5.0",
          "model_name": "FloatProgressModel",
          "state": {
            "_dom_classes": [],
            "_model_module": "@jupyter-widgets/controls",
            "_model_module_version": "1.5.0",
            "_model_name": "FloatProgressModel",
            "_view_count": null,
            "_view_module": "@jupyter-widgets/controls",
            "_view_module_version": "1.5.0",
            "_view_name": "ProgressView",
            "bar_style": "success",
            "description": "",
            "description_tooltip": null,
            "layout": "IPY_MODEL_97fe02222be94ce687015b58c3ac0381",
            "max": 466062,
            "min": 0,
            "orientation": "horizontal",
            "style": "IPY_MODEL_991382cdfc8a4e02b711c0dc0d8ad8ef",
            "value": 466062
          }
        },
        "f832a77d69784ba09786b250ca939496": {
          "model_module": "@jupyter-widgets/base",
          "model_module_version": "1.2.0",
          "model_name": "LayoutModel",
          "state": {
            "_model_module": "@jupyter-widgets/base",
            "_model_module_version": "1.2.0",
            "_model_name": "LayoutModel",
            "_view_count": null,
            "_view_module": "@jupyter-widgets/base",
            "_view_module_version": "1.2.0",
            "_view_name": "LayoutView",
            "align_content": null,
            "align_items": null,
            "align_self": null,
            "border": null,
            "bottom": null,
            "display": null,
            "flex": null,
            "flex_flow": null,
            "grid_area": null,
            "grid_auto_columns": null,
            "grid_auto_flow": null,
            "grid_auto_rows": null,
            "grid_column": null,
            "grid_gap": null,
            "grid_row": null,
            "grid_template_areas": null,
            "grid_template_columns": null,
            "grid_template_rows": null,
            "height": null,
            "justify_content": null,
            "justify_items": null,
            "left": null,
            "margin": null,
            "max_height": null,
            "max_width": null,
            "min_height": null,
            "min_width": null,
            "object_fit": null,
            "object_position": null,
            "order": null,
            "overflow": null,
            "overflow_x": null,
            "overflow_y": null,
            "padding": null,
            "right": null,
            "top": null,
            "visibility": null,
            "width": null
          }
        },
        "fd750a47631c48f6abc038ad95f780bd": {
          "model_module": "@jupyter-widgets/base",
          "model_module_version": "1.2.0",
          "model_name": "LayoutModel",
          "state": {
            "_model_module": "@jupyter-widgets/base",
            "_model_module_version": "1.2.0",
            "_model_name": "LayoutModel",
            "_view_count": null,
            "_view_module": "@jupyter-widgets/base",
            "_view_module_version": "1.2.0",
            "_view_name": "LayoutView",
            "align_content": null,
            "align_items": null,
            "align_self": null,
            "border": null,
            "bottom": null,
            "display": null,
            "flex": null,
            "flex_flow": null,
            "grid_area": null,
            "grid_auto_columns": null,
            "grid_auto_flow": null,
            "grid_auto_rows": null,
            "grid_column": null,
            "grid_gap": null,
            "grid_row": null,
            "grid_template_areas": null,
            "grid_template_columns": null,
            "grid_template_rows": null,
            "height": null,
            "justify_content": null,
            "justify_items": null,
            "left": null,
            "margin": null,
            "max_height": null,
            "max_width": null,
            "min_height": null,
            "min_width": null,
            "object_fit": null,
            "object_position": null,
            "order": null,
            "overflow": null,
            "overflow_x": null,
            "overflow_y": null,
            "padding": null,
            "right": null,
            "top": null,
            "visibility": null,
            "width": null
          }
        },
        "fffadeb56a0247299212a355c2c866cc": {
          "model_module": "@jupyter-widgets/controls",
          "model_module_version": "1.5.0",
          "model_name": "HTMLModel",
          "state": {
            "_dom_classes": [],
            "_model_module": "@jupyter-widgets/controls",
            "_model_module_version": "1.5.0",
            "_model_name": "HTMLModel",
            "_view_count": null,
            "_view_module": "@jupyter-widgets/controls",
            "_view_module_version": "1.5.0",
            "_view_name": "HTMLView",
            "description": "",
            "description_tooltip": null,
            "layout": "IPY_MODEL_0021391a7c0c41b88b4b3e1d77729f55",
            "placeholder": "​",
            "style": "IPY_MODEL_6badf7c4cb1a4aad8bad8cd253758484",
            "value": " 234/234 [00:00&lt;00:00, 10.3kB/s]"
          }
        },
        "7ebe9f3002e044b88783561706075982": {
          "model_module": "@jupyter-widgets/controls",
          "model_name": "HBoxModel",
          "model_module_version": "1.5.0",
          "state": {
            "_dom_classes": [],
            "_model_module": "@jupyter-widgets/controls",
            "_model_module_version": "1.5.0",
            "_model_name": "HBoxModel",
            "_view_count": null,
            "_view_module": "@jupyter-widgets/controls",
            "_view_module_version": "1.5.0",
            "_view_name": "HBoxView",
            "box_style": "",
            "children": [
              "IPY_MODEL_41835b3473884218bb32ade68c72a051",
              "IPY_MODEL_d77f35c1f6d7439da4216ba70e5dff90",
              "IPY_MODEL_1b090943c6ad43188925dce82101da8c"
            ],
            "layout": "IPY_MODEL_fa6aaf5038a1498488f4279ad3ce80b7"
          }
        },
        "41835b3473884218bb32ade68c72a051": {
          "model_module": "@jupyter-widgets/controls",
          "model_name": "HTMLModel",
          "model_module_version": "1.5.0",
          "state": {
            "_dom_classes": [],
            "_model_module": "@jupyter-widgets/controls",
            "_model_module_version": "1.5.0",
            "_model_name": "HTMLModel",
            "_view_count": null,
            "_view_module": "@jupyter-widgets/controls",
            "_view_module_version": "1.5.0",
            "_view_name": "HTMLView",
            "description": "",
            "description_tooltip": null,
            "layout": "IPY_MODEL_c62622c968f04128844b8fa118e32055",
            "placeholder": "​",
            "style": "IPY_MODEL_6575a64a5742414da9c5081c420b14e1",
            "value": "tokenizer_config.json: 100%"
          }
        },
        "d77f35c1f6d7439da4216ba70e5dff90": {
          "model_module": "@jupyter-widgets/controls",
          "model_name": "FloatProgressModel",
          "model_module_version": "1.5.0",
          "state": {
            "_dom_classes": [],
            "_model_module": "@jupyter-widgets/controls",
            "_model_module_version": "1.5.0",
            "_model_name": "FloatProgressModel",
            "_view_count": null,
            "_view_module": "@jupyter-widgets/controls",
            "_view_module_version": "1.5.0",
            "_view_name": "ProgressView",
            "bar_style": "success",
            "description": "",
            "description_tooltip": null,
            "layout": "IPY_MODEL_10b8882d29754d4fb52b7024c1c7e6a8",
            "max": 3590,
            "min": 0,
            "orientation": "horizontal",
            "style": "IPY_MODEL_145002cc5d6b4149958309af0a5c750a",
            "value": 3590
          }
        },
        "1b090943c6ad43188925dce82101da8c": {
          "model_module": "@jupyter-widgets/controls",
          "model_name": "HTMLModel",
          "model_module_version": "1.5.0",
          "state": {
            "_dom_classes": [],
            "_model_module": "@jupyter-widgets/controls",
            "_model_module_version": "1.5.0",
            "_model_name": "HTMLModel",
            "_view_count": null,
            "_view_module": "@jupyter-widgets/controls",
            "_view_module_version": "1.5.0",
            "_view_name": "HTMLView",
            "description": "",
            "description_tooltip": null,
            "layout": "IPY_MODEL_8fe111b1e012443497c575cb6eec7bda",
            "placeholder": "​",
            "style": "IPY_MODEL_a1b618e10b964849b323527d64ce35dc",
            "value": " 3.59k/3.59k [00:00&lt;00:00, 80.8kB/s]"
          }
        },
        "fa6aaf5038a1498488f4279ad3ce80b7": {
          "model_module": "@jupyter-widgets/base",
          "model_name": "LayoutModel",
          "model_module_version": "1.2.0",
          "state": {
            "_model_module": "@jupyter-widgets/base",
            "_model_module_version": "1.2.0",
            "_model_name": "LayoutModel",
            "_view_count": null,
            "_view_module": "@jupyter-widgets/base",
            "_view_module_version": "1.2.0",
            "_view_name": "LayoutView",
            "align_content": null,
            "align_items": null,
            "align_self": null,
            "border": null,
            "bottom": null,
            "display": null,
            "flex": null,
            "flex_flow": null,
            "grid_area": null,
            "grid_auto_columns": null,
            "grid_auto_flow": null,
            "grid_auto_rows": null,
            "grid_column": null,
            "grid_gap": null,
            "grid_row": null,
            "grid_template_areas": null,
            "grid_template_columns": null,
            "grid_template_rows": null,
            "height": null,
            "justify_content": null,
            "justify_items": null,
            "left": null,
            "margin": null,
            "max_height": null,
            "max_width": null,
            "min_height": null,
            "min_width": null,
            "object_fit": null,
            "object_position": null,
            "order": null,
            "overflow": null,
            "overflow_x": null,
            "overflow_y": null,
            "padding": null,
            "right": null,
            "top": null,
            "visibility": null,
            "width": null
          }
        },
        "c62622c968f04128844b8fa118e32055": {
          "model_module": "@jupyter-widgets/base",
          "model_name": "LayoutModel",
          "model_module_version": "1.2.0",
          "state": {
            "_model_module": "@jupyter-widgets/base",
            "_model_module_version": "1.2.0",
            "_model_name": "LayoutModel",
            "_view_count": null,
            "_view_module": "@jupyter-widgets/base",
            "_view_module_version": "1.2.0",
            "_view_name": "LayoutView",
            "align_content": null,
            "align_items": null,
            "align_self": null,
            "border": null,
            "bottom": null,
            "display": null,
            "flex": null,
            "flex_flow": null,
            "grid_area": null,
            "grid_auto_columns": null,
            "grid_auto_flow": null,
            "grid_auto_rows": null,
            "grid_column": null,
            "grid_gap": null,
            "grid_row": null,
            "grid_template_areas": null,
            "grid_template_columns": null,
            "grid_template_rows": null,
            "height": null,
            "justify_content": null,
            "justify_items": null,
            "left": null,
            "margin": null,
            "max_height": null,
            "max_width": null,
            "min_height": null,
            "min_width": null,
            "object_fit": null,
            "object_position": null,
            "order": null,
            "overflow": null,
            "overflow_x": null,
            "overflow_y": null,
            "padding": null,
            "right": null,
            "top": null,
            "visibility": null,
            "width": null
          }
        },
        "6575a64a5742414da9c5081c420b14e1": {
          "model_module": "@jupyter-widgets/controls",
          "model_name": "DescriptionStyleModel",
          "model_module_version": "1.5.0",
          "state": {
            "_model_module": "@jupyter-widgets/controls",
            "_model_module_version": "1.5.0",
            "_model_name": "DescriptionStyleModel",
            "_view_count": null,
            "_view_module": "@jupyter-widgets/base",
            "_view_module_version": "1.2.0",
            "_view_name": "StyleView",
            "description_width": ""
          }
        },
        "10b8882d29754d4fb52b7024c1c7e6a8": {
          "model_module": "@jupyter-widgets/base",
          "model_name": "LayoutModel",
          "model_module_version": "1.2.0",
          "state": {
            "_model_module": "@jupyter-widgets/base",
            "_model_module_version": "1.2.0",
            "_model_name": "LayoutModel",
            "_view_count": null,
            "_view_module": "@jupyter-widgets/base",
            "_view_module_version": "1.2.0",
            "_view_name": "LayoutView",
            "align_content": null,
            "align_items": null,
            "align_self": null,
            "border": null,
            "bottom": null,
            "display": null,
            "flex": null,
            "flex_flow": null,
            "grid_area": null,
            "grid_auto_columns": null,
            "grid_auto_flow": null,
            "grid_auto_rows": null,
            "grid_column": null,
            "grid_gap": null,
            "grid_row": null,
            "grid_template_areas": null,
            "grid_template_columns": null,
            "grid_template_rows": null,
            "height": null,
            "justify_content": null,
            "justify_items": null,
            "left": null,
            "margin": null,
            "max_height": null,
            "max_width": null,
            "min_height": null,
            "min_width": null,
            "object_fit": null,
            "object_position": null,
            "order": null,
            "overflow": null,
            "overflow_x": null,
            "overflow_y": null,
            "padding": null,
            "right": null,
            "top": null,
            "visibility": null,
            "width": null
          }
        },
        "145002cc5d6b4149958309af0a5c750a": {
          "model_module": "@jupyter-widgets/controls",
          "model_name": "ProgressStyleModel",
          "model_module_version": "1.5.0",
          "state": {
            "_model_module": "@jupyter-widgets/controls",
            "_model_module_version": "1.5.0",
            "_model_name": "ProgressStyleModel",
            "_view_count": null,
            "_view_module": "@jupyter-widgets/base",
            "_view_module_version": "1.2.0",
            "_view_name": "StyleView",
            "bar_color": null,
            "description_width": ""
          }
        },
        "8fe111b1e012443497c575cb6eec7bda": {
          "model_module": "@jupyter-widgets/base",
          "model_name": "LayoutModel",
          "model_module_version": "1.2.0",
          "state": {
            "_model_module": "@jupyter-widgets/base",
            "_model_module_version": "1.2.0",
            "_model_name": "LayoutModel",
            "_view_count": null,
            "_view_module": "@jupyter-widgets/base",
            "_view_module_version": "1.2.0",
            "_view_name": "LayoutView",
            "align_content": null,
            "align_items": null,
            "align_self": null,
            "border": null,
            "bottom": null,
            "display": null,
            "flex": null,
            "flex_flow": null,
            "grid_area": null,
            "grid_auto_columns": null,
            "grid_auto_flow": null,
            "grid_auto_rows": null,
            "grid_column": null,
            "grid_gap": null,
            "grid_row": null,
            "grid_template_areas": null,
            "grid_template_columns": null,
            "grid_template_rows": null,
            "height": null,
            "justify_content": null,
            "justify_items": null,
            "left": null,
            "margin": null,
            "max_height": null,
            "max_width": null,
            "min_height": null,
            "min_width": null,
            "object_fit": null,
            "object_position": null,
            "order": null,
            "overflow": null,
            "overflow_x": null,
            "overflow_y": null,
            "padding": null,
            "right": null,
            "top": null,
            "visibility": null,
            "width": null
          }
        },
        "a1b618e10b964849b323527d64ce35dc": {
          "model_module": "@jupyter-widgets/controls",
          "model_name": "DescriptionStyleModel",
          "model_module_version": "1.5.0",
          "state": {
            "_model_module": "@jupyter-widgets/controls",
            "_model_module_version": "1.5.0",
            "_model_name": "DescriptionStyleModel",
            "_view_count": null,
            "_view_module": "@jupyter-widgets/base",
            "_view_module_version": "1.2.0",
            "_view_name": "StyleView",
            "description_width": ""
          }
        },
        "e0841139458e4ee4ae7d83621ca7c6f9": {
          "model_module": "@jupyter-widgets/controls",
          "model_name": "HBoxModel",
          "model_module_version": "1.5.0",
          "state": {
            "_dom_classes": [],
            "_model_module": "@jupyter-widgets/controls",
            "_model_module_version": "1.5.0",
            "_model_name": "HBoxModel",
            "_view_count": null,
            "_view_module": "@jupyter-widgets/controls",
            "_view_module_version": "1.5.0",
            "_view_name": "HBoxView",
            "box_style": "",
            "children": [
              "IPY_MODEL_6dbc04fba49549eca500dd03aedd28d6",
              "IPY_MODEL_cea59ccba77f49d8b784e740d40d2620",
              "IPY_MODEL_326fd8220c4b4e2aab513649dc0d8b06"
            ],
            "layout": "IPY_MODEL_d67ade99988a4c18839db1e0cf0881d8"
          }
        },
        "6dbc04fba49549eca500dd03aedd28d6": {
          "model_module": "@jupyter-widgets/controls",
          "model_name": "HTMLModel",
          "model_module_version": "1.5.0",
          "state": {
            "_dom_classes": [],
            "_model_module": "@jupyter-widgets/controls",
            "_model_module_version": "1.5.0",
            "_model_name": "HTMLModel",
            "_view_count": null,
            "_view_module": "@jupyter-widgets/controls",
            "_view_module_version": "1.5.0",
            "_view_name": "HTMLView",
            "description": "",
            "description_tooltip": null,
            "layout": "IPY_MODEL_20edcbd8d0564e988d3996d90b7a6972",
            "placeholder": "​",
            "style": "IPY_MODEL_fbe5abef7e044a8b971645d5c9d0eb35",
            "value": "vocab.json: 100%"
          }
        },
        "cea59ccba77f49d8b784e740d40d2620": {
          "model_module": "@jupyter-widgets/controls",
          "model_name": "FloatProgressModel",
          "model_module_version": "1.5.0",
          "state": {
            "_dom_classes": [],
            "_model_module": "@jupyter-widgets/controls",
            "_model_module_version": "1.5.0",
            "_model_name": "FloatProgressModel",
            "_view_count": null,
            "_view_module": "@jupyter-widgets/controls",
            "_view_module_version": "1.5.0",
            "_view_name": "ProgressView",
            "bar_style": "success",
            "description": "",
            "description_tooltip": null,
            "layout": "IPY_MODEL_0023cb60ddf448b3b61529c9d0b16ab3",
            "max": 800662,
            "min": 0,
            "orientation": "horizontal",
            "style": "IPY_MODEL_d57a0060a576491dbea734e74d096330",
            "value": 800662
          }
        },
        "326fd8220c4b4e2aab513649dc0d8b06": {
          "model_module": "@jupyter-widgets/controls",
          "model_name": "HTMLModel",
          "model_module_version": "1.5.0",
          "state": {
            "_dom_classes": [],
            "_model_module": "@jupyter-widgets/controls",
            "_model_module_version": "1.5.0",
            "_model_name": "HTMLModel",
            "_view_count": null,
            "_view_module": "@jupyter-widgets/controls",
            "_view_module_version": "1.5.0",
            "_view_name": "HTMLView",
            "description": "",
            "description_tooltip": null,
            "layout": "IPY_MODEL_6eb67584e8824d4dba45f1948dfed169",
            "placeholder": "​",
            "style": "IPY_MODEL_c1cb570513da4482bb8169c21594dae9",
            "value": " 801k/801k [00:00&lt;00:00, 2.86MB/s]"
          }
        },
        "d67ade99988a4c18839db1e0cf0881d8": {
          "model_module": "@jupyter-widgets/base",
          "model_name": "LayoutModel",
          "model_module_version": "1.2.0",
          "state": {
            "_model_module": "@jupyter-widgets/base",
            "_model_module_version": "1.2.0",
            "_model_name": "LayoutModel",
            "_view_count": null,
            "_view_module": "@jupyter-widgets/base",
            "_view_module_version": "1.2.0",
            "_view_name": "LayoutView",
            "align_content": null,
            "align_items": null,
            "align_self": null,
            "border": null,
            "bottom": null,
            "display": null,
            "flex": null,
            "flex_flow": null,
            "grid_area": null,
            "grid_auto_columns": null,
            "grid_auto_flow": null,
            "grid_auto_rows": null,
            "grid_column": null,
            "grid_gap": null,
            "grid_row": null,
            "grid_template_areas": null,
            "grid_template_columns": null,
            "grid_template_rows": null,
            "height": null,
            "justify_content": null,
            "justify_items": null,
            "left": null,
            "margin": null,
            "max_height": null,
            "max_width": null,
            "min_height": null,
            "min_width": null,
            "object_fit": null,
            "object_position": null,
            "order": null,
            "overflow": null,
            "overflow_x": null,
            "overflow_y": null,
            "padding": null,
            "right": null,
            "top": null,
            "visibility": null,
            "width": null
          }
        },
        "20edcbd8d0564e988d3996d90b7a6972": {
          "model_module": "@jupyter-widgets/base",
          "model_name": "LayoutModel",
          "model_module_version": "1.2.0",
          "state": {
            "_model_module": "@jupyter-widgets/base",
            "_model_module_version": "1.2.0",
            "_model_name": "LayoutModel",
            "_view_count": null,
            "_view_module": "@jupyter-widgets/base",
            "_view_module_version": "1.2.0",
            "_view_name": "LayoutView",
            "align_content": null,
            "align_items": null,
            "align_self": null,
            "border": null,
            "bottom": null,
            "display": null,
            "flex": null,
            "flex_flow": null,
            "grid_area": null,
            "grid_auto_columns": null,
            "grid_auto_flow": null,
            "grid_auto_rows": null,
            "grid_column": null,
            "grid_gap": null,
            "grid_row": null,
            "grid_template_areas": null,
            "grid_template_columns": null,
            "grid_template_rows": null,
            "height": null,
            "justify_content": null,
            "justify_items": null,
            "left": null,
            "margin": null,
            "max_height": null,
            "max_width": null,
            "min_height": null,
            "min_width": null,
            "object_fit": null,
            "object_position": null,
            "order": null,
            "overflow": null,
            "overflow_x": null,
            "overflow_y": null,
            "padding": null,
            "right": null,
            "top": null,
            "visibility": null,
            "width": null
          }
        },
        "fbe5abef7e044a8b971645d5c9d0eb35": {
          "model_module": "@jupyter-widgets/controls",
          "model_name": "DescriptionStyleModel",
          "model_module_version": "1.5.0",
          "state": {
            "_model_module": "@jupyter-widgets/controls",
            "_model_module_version": "1.5.0",
            "_model_name": "DescriptionStyleModel",
            "_view_count": null,
            "_view_module": "@jupyter-widgets/base",
            "_view_module_version": "1.2.0",
            "_view_name": "StyleView",
            "description_width": ""
          }
        },
        "0023cb60ddf448b3b61529c9d0b16ab3": {
          "model_module": "@jupyter-widgets/base",
          "model_name": "LayoutModel",
          "model_module_version": "1.2.0",
          "state": {
            "_model_module": "@jupyter-widgets/base",
            "_model_module_version": "1.2.0",
            "_model_name": "LayoutModel",
            "_view_count": null,
            "_view_module": "@jupyter-widgets/base",
            "_view_module_version": "1.2.0",
            "_view_name": "LayoutView",
            "align_content": null,
            "align_items": null,
            "align_self": null,
            "border": null,
            "bottom": null,
            "display": null,
            "flex": null,
            "flex_flow": null,
            "grid_area": null,
            "grid_auto_columns": null,
            "grid_auto_flow": null,
            "grid_auto_rows": null,
            "grid_column": null,
            "grid_gap": null,
            "grid_row": null,
            "grid_template_areas": null,
            "grid_template_columns": null,
            "grid_template_rows": null,
            "height": null,
            "justify_content": null,
            "justify_items": null,
            "left": null,
            "margin": null,
            "max_height": null,
            "max_width": null,
            "min_height": null,
            "min_width": null,
            "object_fit": null,
            "object_position": null,
            "order": null,
            "overflow": null,
            "overflow_x": null,
            "overflow_y": null,
            "padding": null,
            "right": null,
            "top": null,
            "visibility": null,
            "width": null
          }
        },
        "d57a0060a576491dbea734e74d096330": {
          "model_module": "@jupyter-widgets/controls",
          "model_name": "ProgressStyleModel",
          "model_module_version": "1.5.0",
          "state": {
            "_model_module": "@jupyter-widgets/controls",
            "_model_module_version": "1.5.0",
            "_model_name": "ProgressStyleModel",
            "_view_count": null,
            "_view_module": "@jupyter-widgets/base",
            "_view_module_version": "1.2.0",
            "_view_name": "StyleView",
            "bar_color": null,
            "description_width": ""
          }
        },
        "6eb67584e8824d4dba45f1948dfed169": {
          "model_module": "@jupyter-widgets/base",
          "model_name": "LayoutModel",
          "model_module_version": "1.2.0",
          "state": {
            "_model_module": "@jupyter-widgets/base",
            "_model_module_version": "1.2.0",
            "_model_name": "LayoutModel",
            "_view_count": null,
            "_view_module": "@jupyter-widgets/base",
            "_view_module_version": "1.2.0",
            "_view_name": "LayoutView",
            "align_content": null,
            "align_items": null,
            "align_self": null,
            "border": null,
            "bottom": null,
            "display": null,
            "flex": null,
            "flex_flow": null,
            "grid_area": null,
            "grid_auto_columns": null,
            "grid_auto_flow": null,
            "grid_auto_rows": null,
            "grid_column": null,
            "grid_gap": null,
            "grid_row": null,
            "grid_template_areas": null,
            "grid_template_columns": null,
            "grid_template_rows": null,
            "height": null,
            "justify_content": null,
            "justify_items": null,
            "left": null,
            "margin": null,
            "max_height": null,
            "max_width": null,
            "min_height": null,
            "min_width": null,
            "object_fit": null,
            "object_position": null,
            "order": null,
            "overflow": null,
            "overflow_x": null,
            "overflow_y": null,
            "padding": null,
            "right": null,
            "top": null,
            "visibility": null,
            "width": null
          }
        },
        "c1cb570513da4482bb8169c21594dae9": {
          "model_module": "@jupyter-widgets/controls",
          "model_name": "DescriptionStyleModel",
          "model_module_version": "1.5.0",
          "state": {
            "_model_module": "@jupyter-widgets/controls",
            "_model_module_version": "1.5.0",
            "_model_name": "DescriptionStyleModel",
            "_view_count": null,
            "_view_module": "@jupyter-widgets/base",
            "_view_module_version": "1.2.0",
            "_view_name": "StyleView",
            "description_width": ""
          }
        },
        "25a9b28487444248b0180cb86fb429d7": {
          "model_module": "@jupyter-widgets/controls",
          "model_name": "HBoxModel",
          "model_module_version": "1.5.0",
          "state": {
            "_dom_classes": [],
            "_model_module": "@jupyter-widgets/controls",
            "_model_module_version": "1.5.0",
            "_model_name": "HBoxModel",
            "_view_count": null,
            "_view_module": "@jupyter-widgets/controls",
            "_view_module_version": "1.5.0",
            "_view_name": "HBoxView",
            "box_style": "",
            "children": [
              "IPY_MODEL_6675e2e34c444a72941b97804bb06bee",
              "IPY_MODEL_fe5c78d1463d4083ae47706e58992589",
              "IPY_MODEL_54823c3f4c9349aa92e06ce661ba3260"
            ],
            "layout": "IPY_MODEL_35cb691483f949e6942e5a8198dde1ce"
          }
        },
        "6675e2e34c444a72941b97804bb06bee": {
          "model_module": "@jupyter-widgets/controls",
          "model_name": "HTMLModel",
          "model_module_version": "1.5.0",
          "state": {
            "_dom_classes": [],
            "_model_module": "@jupyter-widgets/controls",
            "_model_module_version": "1.5.0",
            "_model_name": "HTMLModel",
            "_view_count": null,
            "_view_module": "@jupyter-widgets/controls",
            "_view_module_version": "1.5.0",
            "_view_name": "HTMLView",
            "description": "",
            "description_tooltip": null,
            "layout": "IPY_MODEL_7cc0dcffe91f4345b71689fed3588ffb",
            "placeholder": "​",
            "style": "IPY_MODEL_68201da93d6348d3a26fdc57dcc990eb",
            "value": "merges.txt: 100%"
          }
        },
        "fe5c78d1463d4083ae47706e58992589": {
          "model_module": "@jupyter-widgets/controls",
          "model_name": "FloatProgressModel",
          "model_module_version": "1.5.0",
          "state": {
            "_dom_classes": [],
            "_model_module": "@jupyter-widgets/controls",
            "_model_module_version": "1.5.0",
            "_model_name": "FloatProgressModel",
            "_view_count": null,
            "_view_module": "@jupyter-widgets/controls",
            "_view_module_version": "1.5.0",
            "_view_name": "ProgressView",
            "bar_style": "success",
            "description": "",
            "description_tooltip": null,
            "layout": "IPY_MODEL_7ab7fb3a389b4babb085cd288ed0fce6",
            "max": 466391,
            "min": 0,
            "orientation": "horizontal",
            "style": "IPY_MODEL_2f71fa0a77084659a3781b6ae18c534c",
            "value": 466391
          }
        },
        "54823c3f4c9349aa92e06ce661ba3260": {
          "model_module": "@jupyter-widgets/controls",
          "model_name": "HTMLModel",
          "model_module_version": "1.5.0",
          "state": {
            "_dom_classes": [],
            "_model_module": "@jupyter-widgets/controls",
            "_model_module_version": "1.5.0",
            "_model_name": "HTMLModel",
            "_view_count": null,
            "_view_module": "@jupyter-widgets/controls",
            "_view_module_version": "1.5.0",
            "_view_name": "HTMLView",
            "description": "",
            "description_tooltip": null,
            "layout": "IPY_MODEL_4fefa676f4e24aafaa4c0fa924b9ae1c",
            "placeholder": "​",
            "style": "IPY_MODEL_75131ac4098e4eebbd6aed9815f86267",
            "value": " 466k/466k [00:00&lt;00:00, 6.86MB/s]"
          }
        },
        "35cb691483f949e6942e5a8198dde1ce": {
          "model_module": "@jupyter-widgets/base",
          "model_name": "LayoutModel",
          "model_module_version": "1.2.0",
          "state": {
            "_model_module": "@jupyter-widgets/base",
            "_model_module_version": "1.2.0",
            "_model_name": "LayoutModel",
            "_view_count": null,
            "_view_module": "@jupyter-widgets/base",
            "_view_module_version": "1.2.0",
            "_view_name": "LayoutView",
            "align_content": null,
            "align_items": null,
            "align_self": null,
            "border": null,
            "bottom": null,
            "display": null,
            "flex": null,
            "flex_flow": null,
            "grid_area": null,
            "grid_auto_columns": null,
            "grid_auto_flow": null,
            "grid_auto_rows": null,
            "grid_column": null,
            "grid_gap": null,
            "grid_row": null,
            "grid_template_areas": null,
            "grid_template_columns": null,
            "grid_template_rows": null,
            "height": null,
            "justify_content": null,
            "justify_items": null,
            "left": null,
            "margin": null,
            "max_height": null,
            "max_width": null,
            "min_height": null,
            "min_width": null,
            "object_fit": null,
            "object_position": null,
            "order": null,
            "overflow": null,
            "overflow_x": null,
            "overflow_y": null,
            "padding": null,
            "right": null,
            "top": null,
            "visibility": null,
            "width": null
          }
        },
        "7cc0dcffe91f4345b71689fed3588ffb": {
          "model_module": "@jupyter-widgets/base",
          "model_name": "LayoutModel",
          "model_module_version": "1.2.0",
          "state": {
            "_model_module": "@jupyter-widgets/base",
            "_model_module_version": "1.2.0",
            "_model_name": "LayoutModel",
            "_view_count": null,
            "_view_module": "@jupyter-widgets/base",
            "_view_module_version": "1.2.0",
            "_view_name": "LayoutView",
            "align_content": null,
            "align_items": null,
            "align_self": null,
            "border": null,
            "bottom": null,
            "display": null,
            "flex": null,
            "flex_flow": null,
            "grid_area": null,
            "grid_auto_columns": null,
            "grid_auto_flow": null,
            "grid_auto_rows": null,
            "grid_column": null,
            "grid_gap": null,
            "grid_row": null,
            "grid_template_areas": null,
            "grid_template_columns": null,
            "grid_template_rows": null,
            "height": null,
            "justify_content": null,
            "justify_items": null,
            "left": null,
            "margin": null,
            "max_height": null,
            "max_width": null,
            "min_height": null,
            "min_width": null,
            "object_fit": null,
            "object_position": null,
            "order": null,
            "overflow": null,
            "overflow_x": null,
            "overflow_y": null,
            "padding": null,
            "right": null,
            "top": null,
            "visibility": null,
            "width": null
          }
        },
        "68201da93d6348d3a26fdc57dcc990eb": {
          "model_module": "@jupyter-widgets/controls",
          "model_name": "DescriptionStyleModel",
          "model_module_version": "1.5.0",
          "state": {
            "_model_module": "@jupyter-widgets/controls",
            "_model_module_version": "1.5.0",
            "_model_name": "DescriptionStyleModel",
            "_view_count": null,
            "_view_module": "@jupyter-widgets/base",
            "_view_module_version": "1.2.0",
            "_view_name": "StyleView",
            "description_width": ""
          }
        },
        "7ab7fb3a389b4babb085cd288ed0fce6": {
          "model_module": "@jupyter-widgets/base",
          "model_name": "LayoutModel",
          "model_module_version": "1.2.0",
          "state": {
            "_model_module": "@jupyter-widgets/base",
            "_model_module_version": "1.2.0",
            "_model_name": "LayoutModel",
            "_view_count": null,
            "_view_module": "@jupyter-widgets/base",
            "_view_module_version": "1.2.0",
            "_view_name": "LayoutView",
            "align_content": null,
            "align_items": null,
            "align_self": null,
            "border": null,
            "bottom": null,
            "display": null,
            "flex": null,
            "flex_flow": null,
            "grid_area": null,
            "grid_auto_columns": null,
            "grid_auto_flow": null,
            "grid_auto_rows": null,
            "grid_column": null,
            "grid_gap": null,
            "grid_row": null,
            "grid_template_areas": null,
            "grid_template_columns": null,
            "grid_template_rows": null,
            "height": null,
            "justify_content": null,
            "justify_items": null,
            "left": null,
            "margin": null,
            "max_height": null,
            "max_width": null,
            "min_height": null,
            "min_width": null,
            "object_fit": null,
            "object_position": null,
            "order": null,
            "overflow": null,
            "overflow_x": null,
            "overflow_y": null,
            "padding": null,
            "right": null,
            "top": null,
            "visibility": null,
            "width": null
          }
        },
        "2f71fa0a77084659a3781b6ae18c534c": {
          "model_module": "@jupyter-widgets/controls",
          "model_name": "ProgressStyleModel",
          "model_module_version": "1.5.0",
          "state": {
            "_model_module": "@jupyter-widgets/controls",
            "_model_module_version": "1.5.0",
            "_model_name": "ProgressStyleModel",
            "_view_count": null,
            "_view_module": "@jupyter-widgets/base",
            "_view_module_version": "1.2.0",
            "_view_name": "StyleView",
            "bar_color": null,
            "description_width": ""
          }
        },
        "4fefa676f4e24aafaa4c0fa924b9ae1c": {
          "model_module": "@jupyter-widgets/base",
          "model_name": "LayoutModel",
          "model_module_version": "1.2.0",
          "state": {
            "_model_module": "@jupyter-widgets/base",
            "_model_module_version": "1.2.0",
            "_model_name": "LayoutModel",
            "_view_count": null,
            "_view_module": "@jupyter-widgets/base",
            "_view_module_version": "1.2.0",
            "_view_name": "LayoutView",
            "align_content": null,
            "align_items": null,
            "align_self": null,
            "border": null,
            "bottom": null,
            "display": null,
            "flex": null,
            "flex_flow": null,
            "grid_area": null,
            "grid_auto_columns": null,
            "grid_auto_flow": null,
            "grid_auto_rows": null,
            "grid_column": null,
            "grid_gap": null,
            "grid_row": null,
            "grid_template_areas": null,
            "grid_template_columns": null,
            "grid_template_rows": null,
            "height": null,
            "justify_content": null,
            "justify_items": null,
            "left": null,
            "margin": null,
            "max_height": null,
            "max_width": null,
            "min_height": null,
            "min_width": null,
            "object_fit": null,
            "object_position": null,
            "order": null,
            "overflow": null,
            "overflow_x": null,
            "overflow_y": null,
            "padding": null,
            "right": null,
            "top": null,
            "visibility": null,
            "width": null
          }
        },
        "75131ac4098e4eebbd6aed9815f86267": {
          "model_module": "@jupyter-widgets/controls",
          "model_name": "DescriptionStyleModel",
          "model_module_version": "1.5.0",
          "state": {
            "_model_module": "@jupyter-widgets/controls",
            "_model_module_version": "1.5.0",
            "_model_name": "DescriptionStyleModel",
            "_view_count": null,
            "_view_module": "@jupyter-widgets/base",
            "_view_module_version": "1.2.0",
            "_view_name": "StyleView",
            "description_width": ""
          }
        },
        "cc2d850265a54024bb3c2743c3728e00": {
          "model_module": "@jupyter-widgets/controls",
          "model_name": "HBoxModel",
          "model_module_version": "1.5.0",
          "state": {
            "_dom_classes": [],
            "_model_module": "@jupyter-widgets/controls",
            "_model_module_version": "1.5.0",
            "_model_name": "HBoxModel",
            "_view_count": null,
            "_view_module": "@jupyter-widgets/controls",
            "_view_module_version": "1.5.0",
            "_view_name": "HBoxView",
            "box_style": "",
            "children": [
              "IPY_MODEL_a248b92de111463cb60104a3d1016215",
              "IPY_MODEL_013fcfcf5a844318a684ae8ceb9cd1dd",
              "IPY_MODEL_4b81fbfa56b842c5bf00ddf90aa60733"
            ],
            "layout": "IPY_MODEL_727a3648f3004f76ae27e98485a260c9"
          }
        },
        "a248b92de111463cb60104a3d1016215": {
          "model_module": "@jupyter-widgets/controls",
          "model_name": "HTMLModel",
          "model_module_version": "1.5.0",
          "state": {
            "_dom_classes": [],
            "_model_module": "@jupyter-widgets/controls",
            "_model_module_version": "1.5.0",
            "_model_name": "HTMLModel",
            "_view_count": null,
            "_view_module": "@jupyter-widgets/controls",
            "_view_module_version": "1.5.0",
            "_view_name": "HTMLView",
            "description": "",
            "description_tooltip": null,
            "layout": "IPY_MODEL_3a1c57fb9a1a4a4495debb4e83e0938e",
            "placeholder": "​",
            "style": "IPY_MODEL_1f1d4aad4c704086b87bd111e5b55bb9",
            "value": "tokenizer.json: 100%"
          }
        },
        "013fcfcf5a844318a684ae8ceb9cd1dd": {
          "model_module": "@jupyter-widgets/controls",
          "model_name": "FloatProgressModel",
          "model_module_version": "1.5.0",
          "state": {
            "_dom_classes": [],
            "_model_module": "@jupyter-widgets/controls",
            "_model_module_version": "1.5.0",
            "_model_name": "FloatProgressModel",
            "_view_count": null,
            "_view_module": "@jupyter-widgets/controls",
            "_view_module_version": "1.5.0",
            "_view_name": "ProgressView",
            "bar_style": "success",
            "description": "",
            "description_tooltip": null,
            "layout": "IPY_MODEL_d473d4fb0a6e45ff8b66079ab4bc641f",
            "max": 2104556,
            "min": 0,
            "orientation": "horizontal",
            "style": "IPY_MODEL_259c7fa0d83644bf9f13f9834ba88674",
            "value": 2104556
          }
        },
        "4b81fbfa56b842c5bf00ddf90aa60733": {
          "model_module": "@jupyter-widgets/controls",
          "model_name": "HTMLModel",
          "model_module_version": "1.5.0",
          "state": {
            "_dom_classes": [],
            "_model_module": "@jupyter-widgets/controls",
            "_model_module_version": "1.5.0",
            "_model_name": "HTMLModel",
            "_view_count": null,
            "_view_module": "@jupyter-widgets/controls",
            "_view_module_version": "1.5.0",
            "_view_name": "HTMLView",
            "description": "",
            "description_tooltip": null,
            "layout": "IPY_MODEL_fe117ecdd8a647c7a0248a23d7b7ef3a",
            "placeholder": "​",
            "style": "IPY_MODEL_e786927fe6b047b28c89e88c14089715",
            "value": " 2.10M/2.10M [00:00&lt;00:00, 8.28MB/s]"
          }
        },
        "727a3648f3004f76ae27e98485a260c9": {
          "model_module": "@jupyter-widgets/base",
          "model_name": "LayoutModel",
          "model_module_version": "1.2.0",
          "state": {
            "_model_module": "@jupyter-widgets/base",
            "_model_module_version": "1.2.0",
            "_model_name": "LayoutModel",
            "_view_count": null,
            "_view_module": "@jupyter-widgets/base",
            "_view_module_version": "1.2.0",
            "_view_name": "LayoutView",
            "align_content": null,
            "align_items": null,
            "align_self": null,
            "border": null,
            "bottom": null,
            "display": null,
            "flex": null,
            "flex_flow": null,
            "grid_area": null,
            "grid_auto_columns": null,
            "grid_auto_flow": null,
            "grid_auto_rows": null,
            "grid_column": null,
            "grid_gap": null,
            "grid_row": null,
            "grid_template_areas": null,
            "grid_template_columns": null,
            "grid_template_rows": null,
            "height": null,
            "justify_content": null,
            "justify_items": null,
            "left": null,
            "margin": null,
            "max_height": null,
            "max_width": null,
            "min_height": null,
            "min_width": null,
            "object_fit": null,
            "object_position": null,
            "order": null,
            "overflow": null,
            "overflow_x": null,
            "overflow_y": null,
            "padding": null,
            "right": null,
            "top": null,
            "visibility": null,
            "width": null
          }
        },
        "3a1c57fb9a1a4a4495debb4e83e0938e": {
          "model_module": "@jupyter-widgets/base",
          "model_name": "LayoutModel",
          "model_module_version": "1.2.0",
          "state": {
            "_model_module": "@jupyter-widgets/base",
            "_model_module_version": "1.2.0",
            "_model_name": "LayoutModel",
            "_view_count": null,
            "_view_module": "@jupyter-widgets/base",
            "_view_module_version": "1.2.0",
            "_view_name": "LayoutView",
            "align_content": null,
            "align_items": null,
            "align_self": null,
            "border": null,
            "bottom": null,
            "display": null,
            "flex": null,
            "flex_flow": null,
            "grid_area": null,
            "grid_auto_columns": null,
            "grid_auto_flow": null,
            "grid_auto_rows": null,
            "grid_column": null,
            "grid_gap": null,
            "grid_row": null,
            "grid_template_areas": null,
            "grid_template_columns": null,
            "grid_template_rows": null,
            "height": null,
            "justify_content": null,
            "justify_items": null,
            "left": null,
            "margin": null,
            "max_height": null,
            "max_width": null,
            "min_height": null,
            "min_width": null,
            "object_fit": null,
            "object_position": null,
            "order": null,
            "overflow": null,
            "overflow_x": null,
            "overflow_y": null,
            "padding": null,
            "right": null,
            "top": null,
            "visibility": null,
            "width": null
          }
        },
        "1f1d4aad4c704086b87bd111e5b55bb9": {
          "model_module": "@jupyter-widgets/controls",
          "model_name": "DescriptionStyleModel",
          "model_module_version": "1.5.0",
          "state": {
            "_model_module": "@jupyter-widgets/controls",
            "_model_module_version": "1.5.0",
            "_model_name": "DescriptionStyleModel",
            "_view_count": null,
            "_view_module": "@jupyter-widgets/base",
            "_view_module_version": "1.2.0",
            "_view_name": "StyleView",
            "description_width": ""
          }
        },
        "d473d4fb0a6e45ff8b66079ab4bc641f": {
          "model_module": "@jupyter-widgets/base",
          "model_name": "LayoutModel",
          "model_module_version": "1.2.0",
          "state": {
            "_model_module": "@jupyter-widgets/base",
            "_model_module_version": "1.2.0",
            "_model_name": "LayoutModel",
            "_view_count": null,
            "_view_module": "@jupyter-widgets/base",
            "_view_module_version": "1.2.0",
            "_view_name": "LayoutView",
            "align_content": null,
            "align_items": null,
            "align_self": null,
            "border": null,
            "bottom": null,
            "display": null,
            "flex": null,
            "flex_flow": null,
            "grid_area": null,
            "grid_auto_columns": null,
            "grid_auto_flow": null,
            "grid_auto_rows": null,
            "grid_column": null,
            "grid_gap": null,
            "grid_row": null,
            "grid_template_areas": null,
            "grid_template_columns": null,
            "grid_template_rows": null,
            "height": null,
            "justify_content": null,
            "justify_items": null,
            "left": null,
            "margin": null,
            "max_height": null,
            "max_width": null,
            "min_height": null,
            "min_width": null,
            "object_fit": null,
            "object_position": null,
            "order": null,
            "overflow": null,
            "overflow_x": null,
            "overflow_y": null,
            "padding": null,
            "right": null,
            "top": null,
            "visibility": null,
            "width": null
          }
        },
        "259c7fa0d83644bf9f13f9834ba88674": {
          "model_module": "@jupyter-widgets/controls",
          "model_name": "ProgressStyleModel",
          "model_module_version": "1.5.0",
          "state": {
            "_model_module": "@jupyter-widgets/controls",
            "_model_module_version": "1.5.0",
            "_model_name": "ProgressStyleModel",
            "_view_count": null,
            "_view_module": "@jupyter-widgets/base",
            "_view_module_version": "1.2.0",
            "_view_name": "StyleView",
            "bar_color": null,
            "description_width": ""
          }
        },
        "fe117ecdd8a647c7a0248a23d7b7ef3a": {
          "model_module": "@jupyter-widgets/base",
          "model_name": "LayoutModel",
          "model_module_version": "1.2.0",
          "state": {
            "_model_module": "@jupyter-widgets/base",
            "_model_module_version": "1.2.0",
            "_model_name": "LayoutModel",
            "_view_count": null,
            "_view_module": "@jupyter-widgets/base",
            "_view_module_version": "1.2.0",
            "_view_name": "LayoutView",
            "align_content": null,
            "align_items": null,
            "align_self": null,
            "border": null,
            "bottom": null,
            "display": null,
            "flex": null,
            "flex_flow": null,
            "grid_area": null,
            "grid_auto_columns": null,
            "grid_auto_flow": null,
            "grid_auto_rows": null,
            "grid_column": null,
            "grid_gap": null,
            "grid_row": null,
            "grid_template_areas": null,
            "grid_template_columns": null,
            "grid_template_rows": null,
            "height": null,
            "justify_content": null,
            "justify_items": null,
            "left": null,
            "margin": null,
            "max_height": null,
            "max_width": null,
            "min_height": null,
            "min_width": null,
            "object_fit": null,
            "object_position": null,
            "order": null,
            "overflow": null,
            "overflow_x": null,
            "overflow_y": null,
            "padding": null,
            "right": null,
            "top": null,
            "visibility": null,
            "width": null
          }
        },
        "e786927fe6b047b28c89e88c14089715": {
          "model_module": "@jupyter-widgets/controls",
          "model_name": "DescriptionStyleModel",
          "model_module_version": "1.5.0",
          "state": {
            "_model_module": "@jupyter-widgets/controls",
            "_model_module_version": "1.5.0",
            "_model_name": "DescriptionStyleModel",
            "_view_count": null,
            "_view_module": "@jupyter-widgets/base",
            "_view_module_version": "1.2.0",
            "_view_name": "StyleView",
            "description_width": ""
          }
        },
        "89fc1434626a410b9b7efd8dafd463a6": {
          "model_module": "@jupyter-widgets/controls",
          "model_name": "HBoxModel",
          "model_module_version": "1.5.0",
          "state": {
            "_dom_classes": [],
            "_model_module": "@jupyter-widgets/controls",
            "_model_module_version": "1.5.0",
            "_model_name": "HBoxModel",
            "_view_count": null,
            "_view_module": "@jupyter-widgets/controls",
            "_view_module_version": "1.5.0",
            "_view_name": "HBoxView",
            "box_style": "",
            "children": [
              "IPY_MODEL_270c7168db0d497e8191b4d066cc3cc3",
              "IPY_MODEL_a92c64b08b3747918e2309ec276e2605",
              "IPY_MODEL_6b7968e76c2b4171926960ff41996e23"
            ],
            "layout": "IPY_MODEL_f6b56148a12a4c7681859dd63b055b1f"
          }
        },
        "270c7168db0d497e8191b4d066cc3cc3": {
          "model_module": "@jupyter-widgets/controls",
          "model_name": "HTMLModel",
          "model_module_version": "1.5.0",
          "state": {
            "_dom_classes": [],
            "_model_module": "@jupyter-widgets/controls",
            "_model_module_version": "1.5.0",
            "_model_name": "HTMLModel",
            "_view_count": null,
            "_view_module": "@jupyter-widgets/controls",
            "_view_module_version": "1.5.0",
            "_view_name": "HTMLView",
            "description": "",
            "description_tooltip": null,
            "layout": "IPY_MODEL_0fc822896d8a498383e4b40e024d2c42",
            "placeholder": "​",
            "style": "IPY_MODEL_f2081c218ae44f64b6c181febf06aeee",
            "value": "special_tokens_map.json: 100%"
          }
        },
        "a92c64b08b3747918e2309ec276e2605": {
          "model_module": "@jupyter-widgets/controls",
          "model_name": "FloatProgressModel",
          "model_module_version": "1.5.0",
          "state": {
            "_dom_classes": [],
            "_model_module": "@jupyter-widgets/controls",
            "_model_module_version": "1.5.0",
            "_model_name": "FloatProgressModel",
            "_view_count": null,
            "_view_module": "@jupyter-widgets/controls",
            "_view_module_version": "1.5.0",
            "_view_name": "ProgressView",
            "bar_style": "success",
            "description": "",
            "description_tooltip": null,
            "layout": "IPY_MODEL_da8d8e057a874d72a0ce7305149d7fa3",
            "max": 565,
            "min": 0,
            "orientation": "horizontal",
            "style": "IPY_MODEL_90f005ef009f44a09e8e04b8f23dda70",
            "value": 565
          }
        },
        "6b7968e76c2b4171926960ff41996e23": {
          "model_module": "@jupyter-widgets/controls",
          "model_name": "HTMLModel",
          "model_module_version": "1.5.0",
          "state": {
            "_dom_classes": [],
            "_model_module": "@jupyter-widgets/controls",
            "_model_module_version": "1.5.0",
            "_model_name": "HTMLModel",
            "_view_count": null,
            "_view_module": "@jupyter-widgets/controls",
            "_view_module_version": "1.5.0",
            "_view_name": "HTMLView",
            "description": "",
            "description_tooltip": null,
            "layout": "IPY_MODEL_21bd2c37e9824c4899572a832256ea1a",
            "placeholder": "​",
            "style": "IPY_MODEL_38924504b4044b10bcf9a9d30d8e222a",
            "value": " 565/565 [00:00&lt;00:00, 63.9kB/s]"
          }
        },
        "f6b56148a12a4c7681859dd63b055b1f": {
          "model_module": "@jupyter-widgets/base",
          "model_name": "LayoutModel",
          "model_module_version": "1.2.0",
          "state": {
            "_model_module": "@jupyter-widgets/base",
            "_model_module_version": "1.2.0",
            "_model_name": "LayoutModel",
            "_view_count": null,
            "_view_module": "@jupyter-widgets/base",
            "_view_module_version": "1.2.0",
            "_view_name": "LayoutView",
            "align_content": null,
            "align_items": null,
            "align_self": null,
            "border": null,
            "bottom": null,
            "display": null,
            "flex": null,
            "flex_flow": null,
            "grid_area": null,
            "grid_auto_columns": null,
            "grid_auto_flow": null,
            "grid_auto_rows": null,
            "grid_column": null,
            "grid_gap": null,
            "grid_row": null,
            "grid_template_areas": null,
            "grid_template_columns": null,
            "grid_template_rows": null,
            "height": null,
            "justify_content": null,
            "justify_items": null,
            "left": null,
            "margin": null,
            "max_height": null,
            "max_width": null,
            "min_height": null,
            "min_width": null,
            "object_fit": null,
            "object_position": null,
            "order": null,
            "overflow": null,
            "overflow_x": null,
            "overflow_y": null,
            "padding": null,
            "right": null,
            "top": null,
            "visibility": null,
            "width": null
          }
        },
        "0fc822896d8a498383e4b40e024d2c42": {
          "model_module": "@jupyter-widgets/base",
          "model_name": "LayoutModel",
          "model_module_version": "1.2.0",
          "state": {
            "_model_module": "@jupyter-widgets/base",
            "_model_module_version": "1.2.0",
            "_model_name": "LayoutModel",
            "_view_count": null,
            "_view_module": "@jupyter-widgets/base",
            "_view_module_version": "1.2.0",
            "_view_name": "LayoutView",
            "align_content": null,
            "align_items": null,
            "align_self": null,
            "border": null,
            "bottom": null,
            "display": null,
            "flex": null,
            "flex_flow": null,
            "grid_area": null,
            "grid_auto_columns": null,
            "grid_auto_flow": null,
            "grid_auto_rows": null,
            "grid_column": null,
            "grid_gap": null,
            "grid_row": null,
            "grid_template_areas": null,
            "grid_template_columns": null,
            "grid_template_rows": null,
            "height": null,
            "justify_content": null,
            "justify_items": null,
            "left": null,
            "margin": null,
            "max_height": null,
            "max_width": null,
            "min_height": null,
            "min_width": null,
            "object_fit": null,
            "object_position": null,
            "order": null,
            "overflow": null,
            "overflow_x": null,
            "overflow_y": null,
            "padding": null,
            "right": null,
            "top": null,
            "visibility": null,
            "width": null
          }
        },
        "f2081c218ae44f64b6c181febf06aeee": {
          "model_module": "@jupyter-widgets/controls",
          "model_name": "DescriptionStyleModel",
          "model_module_version": "1.5.0",
          "state": {
            "_model_module": "@jupyter-widgets/controls",
            "_model_module_version": "1.5.0",
            "_model_name": "DescriptionStyleModel",
            "_view_count": null,
            "_view_module": "@jupyter-widgets/base",
            "_view_module_version": "1.2.0",
            "_view_name": "StyleView",
            "description_width": ""
          }
        },
        "da8d8e057a874d72a0ce7305149d7fa3": {
          "model_module": "@jupyter-widgets/base",
          "model_name": "LayoutModel",
          "model_module_version": "1.2.0",
          "state": {
            "_model_module": "@jupyter-widgets/base",
            "_model_module_version": "1.2.0",
            "_model_name": "LayoutModel",
            "_view_count": null,
            "_view_module": "@jupyter-widgets/base",
            "_view_module_version": "1.2.0",
            "_view_name": "LayoutView",
            "align_content": null,
            "align_items": null,
            "align_self": null,
            "border": null,
            "bottom": null,
            "display": null,
            "flex": null,
            "flex_flow": null,
            "grid_area": null,
            "grid_auto_columns": null,
            "grid_auto_flow": null,
            "grid_auto_rows": null,
            "grid_column": null,
            "grid_gap": null,
            "grid_row": null,
            "grid_template_areas": null,
            "grid_template_columns": null,
            "grid_template_rows": null,
            "height": null,
            "justify_content": null,
            "justify_items": null,
            "left": null,
            "margin": null,
            "max_height": null,
            "max_width": null,
            "min_height": null,
            "min_width": null,
            "object_fit": null,
            "object_position": null,
            "order": null,
            "overflow": null,
            "overflow_x": null,
            "overflow_y": null,
            "padding": null,
            "right": null,
            "top": null,
            "visibility": null,
            "width": null
          }
        },
        "90f005ef009f44a09e8e04b8f23dda70": {
          "model_module": "@jupyter-widgets/controls",
          "model_name": "ProgressStyleModel",
          "model_module_version": "1.5.0",
          "state": {
            "_model_module": "@jupyter-widgets/controls",
            "_model_module_version": "1.5.0",
            "_model_name": "ProgressStyleModel",
            "_view_count": null,
            "_view_module": "@jupyter-widgets/base",
            "_view_module_version": "1.2.0",
            "_view_name": "StyleView",
            "bar_color": null,
            "description_width": ""
          }
        },
        "21bd2c37e9824c4899572a832256ea1a": {
          "model_module": "@jupyter-widgets/base",
          "model_name": "LayoutModel",
          "model_module_version": "1.2.0",
          "state": {
            "_model_module": "@jupyter-widgets/base",
            "_model_module_version": "1.2.0",
            "_model_name": "LayoutModel",
            "_view_count": null,
            "_view_module": "@jupyter-widgets/base",
            "_view_module_version": "1.2.0",
            "_view_name": "LayoutView",
            "align_content": null,
            "align_items": null,
            "align_self": null,
            "border": null,
            "bottom": null,
            "display": null,
            "flex": null,
            "flex_flow": null,
            "grid_area": null,
            "grid_auto_columns": null,
            "grid_auto_flow": null,
            "grid_auto_rows": null,
            "grid_column": null,
            "grid_gap": null,
            "grid_row": null,
            "grid_template_areas": null,
            "grid_template_columns": null,
            "grid_template_rows": null,
            "height": null,
            "justify_content": null,
            "justify_items": null,
            "left": null,
            "margin": null,
            "max_height": null,
            "max_width": null,
            "min_height": null,
            "min_width": null,
            "object_fit": null,
            "object_position": null,
            "order": null,
            "overflow": null,
            "overflow_x": null,
            "overflow_y": null,
            "padding": null,
            "right": null,
            "top": null,
            "visibility": null,
            "width": null
          }
        },
        "38924504b4044b10bcf9a9d30d8e222a": {
          "model_module": "@jupyter-widgets/controls",
          "model_name": "DescriptionStyleModel",
          "model_module_version": "1.5.0",
          "state": {
            "_model_module": "@jupyter-widgets/controls",
            "_model_module_version": "1.5.0",
            "_model_name": "DescriptionStyleModel",
            "_view_count": null,
            "_view_module": "@jupyter-widgets/base",
            "_view_module_version": "1.2.0",
            "_view_name": "StyleView",
            "description_width": ""
          }
        },
        "ad71a21a74094d4690f80dd15df5a30c": {
          "model_module": "@jupyter-widgets/controls",
          "model_name": "HBoxModel",
          "model_module_version": "1.5.0",
          "state": {
            "_dom_classes": [],
            "_model_module": "@jupyter-widgets/controls",
            "_model_module_version": "1.5.0",
            "_model_name": "HBoxModel",
            "_view_count": null,
            "_view_module": "@jupyter-widgets/controls",
            "_view_module_version": "1.5.0",
            "_view_name": "HBoxView",
            "box_style": "",
            "children": [
              "IPY_MODEL_920100d2678a4c86b45bf9a564b568fb",
              "IPY_MODEL_ff1e478f87094aa1b962df4e0678136c",
              "IPY_MODEL_06adb61eca2844d9b91229c2cef29e1b"
            ],
            "layout": "IPY_MODEL_9fa571160696445e92881257ce838740"
          }
        },
        "920100d2678a4c86b45bf9a564b568fb": {
          "model_module": "@jupyter-widgets/controls",
          "model_name": "HTMLModel",
          "model_module_version": "1.5.0",
          "state": {
            "_dom_classes": [],
            "_model_module": "@jupyter-widgets/controls",
            "_model_module_version": "1.5.0",
            "_model_name": "HTMLModel",
            "_view_count": null,
            "_view_module": "@jupyter-widgets/controls",
            "_view_module_version": "1.5.0",
            "_view_name": "HTMLView",
            "description": "",
            "description_tooltip": null,
            "layout": "IPY_MODEL_d4b73f1997124521be7469a86d7e87e6",
            "placeholder": "​",
            "style": "IPY_MODEL_b3f3fff6c40a45489b870dda828b6db1",
            "value": "config.json: 100%"
          }
        },
        "ff1e478f87094aa1b962df4e0678136c": {
          "model_module": "@jupyter-widgets/controls",
          "model_name": "FloatProgressModel",
          "model_module_version": "1.5.0",
          "state": {
            "_dom_classes": [],
            "_model_module": "@jupyter-widgets/controls",
            "_model_module_version": "1.5.0",
            "_model_name": "FloatProgressModel",
            "_view_count": null,
            "_view_module": "@jupyter-widgets/controls",
            "_view_module_version": "1.5.0",
            "_view_name": "ProgressView",
            "bar_style": "success",
            "description": "",
            "description_tooltip": null,
            "layout": "IPY_MODEL_572b8ae3bba74250a6ff9f0284cbfeab",
            "max": 724,
            "min": 0,
            "orientation": "horizontal",
            "style": "IPY_MODEL_8ac455d0f01648bdae01930d5b738050",
            "value": 724
          }
        },
        "06adb61eca2844d9b91229c2cef29e1b": {
          "model_module": "@jupyter-widgets/controls",
          "model_name": "HTMLModel",
          "model_module_version": "1.5.0",
          "state": {
            "_dom_classes": [],
            "_model_module": "@jupyter-widgets/controls",
            "_model_module_version": "1.5.0",
            "_model_name": "HTMLModel",
            "_view_count": null,
            "_view_module": "@jupyter-widgets/controls",
            "_view_module_version": "1.5.0",
            "_view_name": "HTMLView",
            "description": "",
            "description_tooltip": null,
            "layout": "IPY_MODEL_bf8956228fdf468f901c413381c76a7a",
            "placeholder": "​",
            "style": "IPY_MODEL_6d69533bf550475bacb932d356240d80",
            "value": " 724/724 [00:00&lt;00:00, 37.1kB/s]"
          }
        },
        "9fa571160696445e92881257ce838740": {
          "model_module": "@jupyter-widgets/base",
          "model_name": "LayoutModel",
          "model_module_version": "1.2.0",
          "state": {
            "_model_module": "@jupyter-widgets/base",
            "_model_module_version": "1.2.0",
            "_model_name": "LayoutModel",
            "_view_count": null,
            "_view_module": "@jupyter-widgets/base",
            "_view_module_version": "1.2.0",
            "_view_name": "LayoutView",
            "align_content": null,
            "align_items": null,
            "align_self": null,
            "border": null,
            "bottom": null,
            "display": null,
            "flex": null,
            "flex_flow": null,
            "grid_area": null,
            "grid_auto_columns": null,
            "grid_auto_flow": null,
            "grid_auto_rows": null,
            "grid_column": null,
            "grid_gap": null,
            "grid_row": null,
            "grid_template_areas": null,
            "grid_template_columns": null,
            "grid_template_rows": null,
            "height": null,
            "justify_content": null,
            "justify_items": null,
            "left": null,
            "margin": null,
            "max_height": null,
            "max_width": null,
            "min_height": null,
            "min_width": null,
            "object_fit": null,
            "object_position": null,
            "order": null,
            "overflow": null,
            "overflow_x": null,
            "overflow_y": null,
            "padding": null,
            "right": null,
            "top": null,
            "visibility": null,
            "width": null
          }
        },
        "d4b73f1997124521be7469a86d7e87e6": {
          "model_module": "@jupyter-widgets/base",
          "model_name": "LayoutModel",
          "model_module_version": "1.2.0",
          "state": {
            "_model_module": "@jupyter-widgets/base",
            "_model_module_version": "1.2.0",
            "_model_name": "LayoutModel",
            "_view_count": null,
            "_view_module": "@jupyter-widgets/base",
            "_view_module_version": "1.2.0",
            "_view_name": "LayoutView",
            "align_content": null,
            "align_items": null,
            "align_self": null,
            "border": null,
            "bottom": null,
            "display": null,
            "flex": null,
            "flex_flow": null,
            "grid_area": null,
            "grid_auto_columns": null,
            "grid_auto_flow": null,
            "grid_auto_rows": null,
            "grid_column": null,
            "grid_gap": null,
            "grid_row": null,
            "grid_template_areas": null,
            "grid_template_columns": null,
            "grid_template_rows": null,
            "height": null,
            "justify_content": null,
            "justify_items": null,
            "left": null,
            "margin": null,
            "max_height": null,
            "max_width": null,
            "min_height": null,
            "min_width": null,
            "object_fit": null,
            "object_position": null,
            "order": null,
            "overflow": null,
            "overflow_x": null,
            "overflow_y": null,
            "padding": null,
            "right": null,
            "top": null,
            "visibility": null,
            "width": null
          }
        },
        "b3f3fff6c40a45489b870dda828b6db1": {
          "model_module": "@jupyter-widgets/controls",
          "model_name": "DescriptionStyleModel",
          "model_module_version": "1.5.0",
          "state": {
            "_model_module": "@jupyter-widgets/controls",
            "_model_module_version": "1.5.0",
            "_model_name": "DescriptionStyleModel",
            "_view_count": null,
            "_view_module": "@jupyter-widgets/base",
            "_view_module_version": "1.2.0",
            "_view_name": "StyleView",
            "description_width": ""
          }
        },
        "572b8ae3bba74250a6ff9f0284cbfeab": {
          "model_module": "@jupyter-widgets/base",
          "model_name": "LayoutModel",
          "model_module_version": "1.2.0",
          "state": {
            "_model_module": "@jupyter-widgets/base",
            "_model_module_version": "1.2.0",
            "_model_name": "LayoutModel",
            "_view_count": null,
            "_view_module": "@jupyter-widgets/base",
            "_view_module_version": "1.2.0",
            "_view_name": "LayoutView",
            "align_content": null,
            "align_items": null,
            "align_self": null,
            "border": null,
            "bottom": null,
            "display": null,
            "flex": null,
            "flex_flow": null,
            "grid_area": null,
            "grid_auto_columns": null,
            "grid_auto_flow": null,
            "grid_auto_rows": null,
            "grid_column": null,
            "grid_gap": null,
            "grid_row": null,
            "grid_template_areas": null,
            "grid_template_columns": null,
            "grid_template_rows": null,
            "height": null,
            "justify_content": null,
            "justify_items": null,
            "left": null,
            "margin": null,
            "max_height": null,
            "max_width": null,
            "min_height": null,
            "min_width": null,
            "object_fit": null,
            "object_position": null,
            "order": null,
            "overflow": null,
            "overflow_x": null,
            "overflow_y": null,
            "padding": null,
            "right": null,
            "top": null,
            "visibility": null,
            "width": null
          }
        },
        "8ac455d0f01648bdae01930d5b738050": {
          "model_module": "@jupyter-widgets/controls",
          "model_name": "ProgressStyleModel",
          "model_module_version": "1.5.0",
          "state": {
            "_model_module": "@jupyter-widgets/controls",
            "_model_module_version": "1.5.0",
            "_model_name": "ProgressStyleModel",
            "_view_count": null,
            "_view_module": "@jupyter-widgets/base",
            "_view_module_version": "1.2.0",
            "_view_name": "StyleView",
            "bar_color": null,
            "description_width": ""
          }
        },
        "bf8956228fdf468f901c413381c76a7a": {
          "model_module": "@jupyter-widgets/base",
          "model_name": "LayoutModel",
          "model_module_version": "1.2.0",
          "state": {
            "_model_module": "@jupyter-widgets/base",
            "_model_module_version": "1.2.0",
            "_model_name": "LayoutModel",
            "_view_count": null,
            "_view_module": "@jupyter-widgets/base",
            "_view_module_version": "1.2.0",
            "_view_name": "LayoutView",
            "align_content": null,
            "align_items": null,
            "align_self": null,
            "border": null,
            "bottom": null,
            "display": null,
            "flex": null,
            "flex_flow": null,
            "grid_area": null,
            "grid_auto_columns": null,
            "grid_auto_flow": null,
            "grid_auto_rows": null,
            "grid_column": null,
            "grid_gap": null,
            "grid_row": null,
            "grid_template_areas": null,
            "grid_template_columns": null,
            "grid_template_rows": null,
            "height": null,
            "justify_content": null,
            "justify_items": null,
            "left": null,
            "margin": null,
            "max_height": null,
            "max_width": null,
            "min_height": null,
            "min_width": null,
            "object_fit": null,
            "object_position": null,
            "order": null,
            "overflow": null,
            "overflow_x": null,
            "overflow_y": null,
            "padding": null,
            "right": null,
            "top": null,
            "visibility": null,
            "width": null
          }
        },
        "6d69533bf550475bacb932d356240d80": {
          "model_module": "@jupyter-widgets/controls",
          "model_name": "DescriptionStyleModel",
          "model_module_version": "1.5.0",
          "state": {
            "_model_module": "@jupyter-widgets/controls",
            "_model_module_version": "1.5.0",
            "_model_name": "DescriptionStyleModel",
            "_view_count": null,
            "_view_module": "@jupyter-widgets/base",
            "_view_module_version": "1.2.0",
            "_view_name": "StyleView",
            "description_width": ""
          }
        },
        "958d692b72554289890a82c3f8a1c581": {
          "model_module": "@jupyter-widgets/controls",
          "model_name": "HBoxModel",
          "model_module_version": "1.5.0",
          "state": {
            "_dom_classes": [],
            "_model_module": "@jupyter-widgets/controls",
            "_model_module_version": "1.5.0",
            "_model_name": "HBoxModel",
            "_view_count": null,
            "_view_module": "@jupyter-widgets/controls",
            "_view_module_version": "1.5.0",
            "_view_name": "HBoxView",
            "box_style": "",
            "children": [
              "IPY_MODEL_a90c14bfed614d86ac169fcd80622b16",
              "IPY_MODEL_29b0cb0cc1194904b59c150c5cb04034",
              "IPY_MODEL_126318fb5b374994932b010d946c7dd3"
            ],
            "layout": "IPY_MODEL_d075cab365ad4f4db4294ae38a211ad9"
          }
        },
        "a90c14bfed614d86ac169fcd80622b16": {
          "model_module": "@jupyter-widgets/controls",
          "model_name": "HTMLModel",
          "model_module_version": "1.5.0",
          "state": {
            "_dom_classes": [],
            "_model_module": "@jupyter-widgets/controls",
            "_model_module_version": "1.5.0",
            "_model_name": "HTMLModel",
            "_view_count": null,
            "_view_module": "@jupyter-widgets/controls",
            "_view_module_version": "1.5.0",
            "_view_name": "HTMLView",
            "description": "",
            "description_tooltip": null,
            "layout": "IPY_MODEL_4934511e5ce248d1823083a6cbccc063",
            "placeholder": "​",
            "style": "IPY_MODEL_69f983c831d349ee8eb37162b4b15e62",
            "value": "model.safetensors: 100%"
          }
        },
        "29b0cb0cc1194904b59c150c5cb04034": {
          "model_module": "@jupyter-widgets/controls",
          "model_name": "FloatProgressModel",
          "model_module_version": "1.5.0",
          "state": {
            "_dom_classes": [],
            "_model_module": "@jupyter-widgets/controls",
            "_model_module_version": "1.5.0",
            "_model_name": "FloatProgressModel",
            "_view_count": null,
            "_view_module": "@jupyter-widgets/controls",
            "_view_module_version": "1.5.0",
            "_view_name": "ProgressView",
            "bar_style": "success",
            "description": "",
            "description_tooltip": null,
            "layout": "IPY_MODEL_256e4366e10b40ef8c5cb464985835a8",
            "max": 723674912,
            "min": 0,
            "orientation": "horizontal",
            "style": "IPY_MODEL_7761e977d1a04ac7a3f2c4ca2b5b8e94",
            "value": 723674912
          }
        },
        "126318fb5b374994932b010d946c7dd3": {
          "model_module": "@jupyter-widgets/controls",
          "model_name": "HTMLModel",
          "model_module_version": "1.5.0",
          "state": {
            "_dom_classes": [],
            "_model_module": "@jupyter-widgets/controls",
            "_model_module_version": "1.5.0",
            "_model_name": "HTMLModel",
            "_view_count": null,
            "_view_module": "@jupyter-widgets/controls",
            "_view_module_version": "1.5.0",
            "_view_name": "HTMLView",
            "description": "",
            "description_tooltip": null,
            "layout": "IPY_MODEL_7b65d6cd883144eeb3be4795af8f1971",
            "placeholder": "​",
            "style": "IPY_MODEL_c1397df7023e49989984e06e95bca95d",
            "value": " 724M/724M [00:05&lt;00:00, 229MB/s]"
          }
        },
        "d075cab365ad4f4db4294ae38a211ad9": {
          "model_module": "@jupyter-widgets/base",
          "model_name": "LayoutModel",
          "model_module_version": "1.2.0",
          "state": {
            "_model_module": "@jupyter-widgets/base",
            "_model_module_version": "1.2.0",
            "_model_name": "LayoutModel",
            "_view_count": null,
            "_view_module": "@jupyter-widgets/base",
            "_view_module_version": "1.2.0",
            "_view_name": "LayoutView",
            "align_content": null,
            "align_items": null,
            "align_self": null,
            "border": null,
            "bottom": null,
            "display": null,
            "flex": null,
            "flex_flow": null,
            "grid_area": null,
            "grid_auto_columns": null,
            "grid_auto_flow": null,
            "grid_auto_rows": null,
            "grid_column": null,
            "grid_gap": null,
            "grid_row": null,
            "grid_template_areas": null,
            "grid_template_columns": null,
            "grid_template_rows": null,
            "height": null,
            "justify_content": null,
            "justify_items": null,
            "left": null,
            "margin": null,
            "max_height": null,
            "max_width": null,
            "min_height": null,
            "min_width": null,
            "object_fit": null,
            "object_position": null,
            "order": null,
            "overflow": null,
            "overflow_x": null,
            "overflow_y": null,
            "padding": null,
            "right": null,
            "top": null,
            "visibility": null,
            "width": null
          }
        },
        "4934511e5ce248d1823083a6cbccc063": {
          "model_module": "@jupyter-widgets/base",
          "model_name": "LayoutModel",
          "model_module_version": "1.2.0",
          "state": {
            "_model_module": "@jupyter-widgets/base",
            "_model_module_version": "1.2.0",
            "_model_name": "LayoutModel",
            "_view_count": null,
            "_view_module": "@jupyter-widgets/base",
            "_view_module_version": "1.2.0",
            "_view_name": "LayoutView",
            "align_content": null,
            "align_items": null,
            "align_self": null,
            "border": null,
            "bottom": null,
            "display": null,
            "flex": null,
            "flex_flow": null,
            "grid_area": null,
            "grid_auto_columns": null,
            "grid_auto_flow": null,
            "grid_auto_rows": null,
            "grid_column": null,
            "grid_gap": null,
            "grid_row": null,
            "grid_template_areas": null,
            "grid_template_columns": null,
            "grid_template_rows": null,
            "height": null,
            "justify_content": null,
            "justify_items": null,
            "left": null,
            "margin": null,
            "max_height": null,
            "max_width": null,
            "min_height": null,
            "min_width": null,
            "object_fit": null,
            "object_position": null,
            "order": null,
            "overflow": null,
            "overflow_x": null,
            "overflow_y": null,
            "padding": null,
            "right": null,
            "top": null,
            "visibility": null,
            "width": null
          }
        },
        "69f983c831d349ee8eb37162b4b15e62": {
          "model_module": "@jupyter-widgets/controls",
          "model_name": "DescriptionStyleModel",
          "model_module_version": "1.5.0",
          "state": {
            "_model_module": "@jupyter-widgets/controls",
            "_model_module_version": "1.5.0",
            "_model_name": "DescriptionStyleModel",
            "_view_count": null,
            "_view_module": "@jupyter-widgets/base",
            "_view_module_version": "1.2.0",
            "_view_name": "StyleView",
            "description_width": ""
          }
        },
        "256e4366e10b40ef8c5cb464985835a8": {
          "model_module": "@jupyter-widgets/base",
          "model_name": "LayoutModel",
          "model_module_version": "1.2.0",
          "state": {
            "_model_module": "@jupyter-widgets/base",
            "_model_module_version": "1.2.0",
            "_model_name": "LayoutModel",
            "_view_count": null,
            "_view_module": "@jupyter-widgets/base",
            "_view_module_version": "1.2.0",
            "_view_name": "LayoutView",
            "align_content": null,
            "align_items": null,
            "align_self": null,
            "border": null,
            "bottom": null,
            "display": null,
            "flex": null,
            "flex_flow": null,
            "grid_area": null,
            "grid_auto_columns": null,
            "grid_auto_flow": null,
            "grid_auto_rows": null,
            "grid_column": null,
            "grid_gap": null,
            "grid_row": null,
            "grid_template_areas": null,
            "grid_template_columns": null,
            "grid_template_rows": null,
            "height": null,
            "justify_content": null,
            "justify_items": null,
            "left": null,
            "margin": null,
            "max_height": null,
            "max_width": null,
            "min_height": null,
            "min_width": null,
            "object_fit": null,
            "object_position": null,
            "order": null,
            "overflow": null,
            "overflow_x": null,
            "overflow_y": null,
            "padding": null,
            "right": null,
            "top": null,
            "visibility": null,
            "width": null
          }
        },
        "7761e977d1a04ac7a3f2c4ca2b5b8e94": {
          "model_module": "@jupyter-widgets/controls",
          "model_name": "ProgressStyleModel",
          "model_module_version": "1.5.0",
          "state": {
            "_model_module": "@jupyter-widgets/controls",
            "_model_module_version": "1.5.0",
            "_model_name": "ProgressStyleModel",
            "_view_count": null,
            "_view_module": "@jupyter-widgets/base",
            "_view_module_version": "1.2.0",
            "_view_name": "StyleView",
            "bar_color": null,
            "description_width": ""
          }
        },
        "7b65d6cd883144eeb3be4795af8f1971": {
          "model_module": "@jupyter-widgets/base",
          "model_name": "LayoutModel",
          "model_module_version": "1.2.0",
          "state": {
            "_model_module": "@jupyter-widgets/base",
            "_model_module_version": "1.2.0",
            "_model_name": "LayoutModel",
            "_view_count": null,
            "_view_module": "@jupyter-widgets/base",
            "_view_module_version": "1.2.0",
            "_view_name": "LayoutView",
            "align_content": null,
            "align_items": null,
            "align_self": null,
            "border": null,
            "bottom": null,
            "display": null,
            "flex": null,
            "flex_flow": null,
            "grid_area": null,
            "grid_auto_columns": null,
            "grid_auto_flow": null,
            "grid_auto_rows": null,
            "grid_column": null,
            "grid_gap": null,
            "grid_row": null,
            "grid_template_areas": null,
            "grid_template_columns": null,
            "grid_template_rows": null,
            "height": null,
            "justify_content": null,
            "justify_items": null,
            "left": null,
            "margin": null,
            "max_height": null,
            "max_width": null,
            "min_height": null,
            "min_width": null,
            "object_fit": null,
            "object_position": null,
            "order": null,
            "overflow": null,
            "overflow_x": null,
            "overflow_y": null,
            "padding": null,
            "right": null,
            "top": null,
            "visibility": null,
            "width": null
          }
        },
        "c1397df7023e49989984e06e95bca95d": {
          "model_module": "@jupyter-widgets/controls",
          "model_name": "DescriptionStyleModel",
          "model_module_version": "1.5.0",
          "state": {
            "_model_module": "@jupyter-widgets/controls",
            "_model_module_version": "1.5.0",
            "_model_name": "DescriptionStyleModel",
            "_view_count": null,
            "_view_module": "@jupyter-widgets/base",
            "_view_module_version": "1.2.0",
            "_view_name": "StyleView",
            "description_width": ""
          }
        },
        "bddaa9882c7f4d12ba83eae4da0297f1": {
          "model_module": "@jupyter-widgets/controls",
          "model_name": "HBoxModel",
          "model_module_version": "1.5.0",
          "state": {
            "_dom_classes": [],
            "_model_module": "@jupyter-widgets/controls",
            "_model_module_version": "1.5.0",
            "_model_name": "HBoxModel",
            "_view_count": null,
            "_view_module": "@jupyter-widgets/controls",
            "_view_module_version": "1.5.0",
            "_view_name": "HBoxView",
            "box_style": "",
            "children": [
              "IPY_MODEL_6fc947e50d6a43c4905fa3be2e5e17a1",
              "IPY_MODEL_b3a89327d8f744f7b89953a61f7acc42",
              "IPY_MODEL_52df3a7c6c3a4e3e8de35b4b98120e78"
            ],
            "layout": "IPY_MODEL_a6ceb16d56974dfa8192d113160ec858"
          }
        },
        "6fc947e50d6a43c4905fa3be2e5e17a1": {
          "model_module": "@jupyter-widgets/controls",
          "model_name": "HTMLModel",
          "model_module_version": "1.5.0",
          "state": {
            "_dom_classes": [],
            "_model_module": "@jupyter-widgets/controls",
            "_model_module_version": "1.5.0",
            "_model_name": "HTMLModel",
            "_view_count": null,
            "_view_module": "@jupyter-widgets/controls",
            "_view_module_version": "1.5.0",
            "_view_name": "HTMLView",
            "description": "",
            "description_tooltip": null,
            "layout": "IPY_MODEL_b765fff8f8254e5a825d8f009e87ab24",
            "placeholder": "​",
            "style": "IPY_MODEL_311bfd891ccc40ba876f6a2add7642b6",
            "value": "generation_config.json: 100%"
          }
        },
        "b3a89327d8f744f7b89953a61f7acc42": {
          "model_module": "@jupyter-widgets/controls",
          "model_name": "FloatProgressModel",
          "model_module_version": "1.5.0",
          "state": {
            "_dom_classes": [],
            "_model_module": "@jupyter-widgets/controls",
            "_model_module_version": "1.5.0",
            "_model_name": "FloatProgressModel",
            "_view_count": null,
            "_view_module": "@jupyter-widgets/controls",
            "_view_module_version": "1.5.0",
            "_view_name": "ProgressView",
            "bar_style": "success",
            "description": "",
            "description_tooltip": null,
            "layout": "IPY_MODEL_c2e2a02542e14037aaac555777a8d99c",
            "max": 156,
            "min": 0,
            "orientation": "horizontal",
            "style": "IPY_MODEL_9d6299a554d04db6b6dd32dc0d9ab8f3",
            "value": 156
          }
        },
        "52df3a7c6c3a4e3e8de35b4b98120e78": {
          "model_module": "@jupyter-widgets/controls",
          "model_name": "HTMLModel",
          "model_module_version": "1.5.0",
          "state": {
            "_dom_classes": [],
            "_model_module": "@jupyter-widgets/controls",
            "_model_module_version": "1.5.0",
            "_model_name": "HTMLModel",
            "_view_count": null,
            "_view_module": "@jupyter-widgets/controls",
            "_view_module_version": "1.5.0",
            "_view_name": "HTMLView",
            "description": "",
            "description_tooltip": null,
            "layout": "IPY_MODEL_e71d1c2437d44909a7e4c31751319836",
            "placeholder": "​",
            "style": "IPY_MODEL_08936dadc243476bb8f92f30482a77b9",
            "value": " 156/156 [00:00&lt;00:00, 17.5kB/s]"
          }
        },
        "a6ceb16d56974dfa8192d113160ec858": {
          "model_module": "@jupyter-widgets/base",
          "model_name": "LayoutModel",
          "model_module_version": "1.2.0",
          "state": {
            "_model_module": "@jupyter-widgets/base",
            "_model_module_version": "1.2.0",
            "_model_name": "LayoutModel",
            "_view_count": null,
            "_view_module": "@jupyter-widgets/base",
            "_view_module_version": "1.2.0",
            "_view_name": "LayoutView",
            "align_content": null,
            "align_items": null,
            "align_self": null,
            "border": null,
            "bottom": null,
            "display": null,
            "flex": null,
            "flex_flow": null,
            "grid_area": null,
            "grid_auto_columns": null,
            "grid_auto_flow": null,
            "grid_auto_rows": null,
            "grid_column": null,
            "grid_gap": null,
            "grid_row": null,
            "grid_template_areas": null,
            "grid_template_columns": null,
            "grid_template_rows": null,
            "height": null,
            "justify_content": null,
            "justify_items": null,
            "left": null,
            "margin": null,
            "max_height": null,
            "max_width": null,
            "min_height": null,
            "min_width": null,
            "object_fit": null,
            "object_position": null,
            "order": null,
            "overflow": null,
            "overflow_x": null,
            "overflow_y": null,
            "padding": null,
            "right": null,
            "top": null,
            "visibility": null,
            "width": null
          }
        },
        "b765fff8f8254e5a825d8f009e87ab24": {
          "model_module": "@jupyter-widgets/base",
          "model_name": "LayoutModel",
          "model_module_version": "1.2.0",
          "state": {
            "_model_module": "@jupyter-widgets/base",
            "_model_module_version": "1.2.0",
            "_model_name": "LayoutModel",
            "_view_count": null,
            "_view_module": "@jupyter-widgets/base",
            "_view_module_version": "1.2.0",
            "_view_name": "LayoutView",
            "align_content": null,
            "align_items": null,
            "align_self": null,
            "border": null,
            "bottom": null,
            "display": null,
            "flex": null,
            "flex_flow": null,
            "grid_area": null,
            "grid_auto_columns": null,
            "grid_auto_flow": null,
            "grid_auto_rows": null,
            "grid_column": null,
            "grid_gap": null,
            "grid_row": null,
            "grid_template_areas": null,
            "grid_template_columns": null,
            "grid_template_rows": null,
            "height": null,
            "justify_content": null,
            "justify_items": null,
            "left": null,
            "margin": null,
            "max_height": null,
            "max_width": null,
            "min_height": null,
            "min_width": null,
            "object_fit": null,
            "object_position": null,
            "order": null,
            "overflow": null,
            "overflow_x": null,
            "overflow_y": null,
            "padding": null,
            "right": null,
            "top": null,
            "visibility": null,
            "width": null
          }
        },
        "311bfd891ccc40ba876f6a2add7642b6": {
          "model_module": "@jupyter-widgets/controls",
          "model_name": "DescriptionStyleModel",
          "model_module_version": "1.5.0",
          "state": {
            "_model_module": "@jupyter-widgets/controls",
            "_model_module_version": "1.5.0",
            "_model_name": "DescriptionStyleModel",
            "_view_count": null,
            "_view_module": "@jupyter-widgets/base",
            "_view_module_version": "1.2.0",
            "_view_name": "StyleView",
            "description_width": ""
          }
        },
        "c2e2a02542e14037aaac555777a8d99c": {
          "model_module": "@jupyter-widgets/base",
          "model_name": "LayoutModel",
          "model_module_version": "1.2.0",
          "state": {
            "_model_module": "@jupyter-widgets/base",
            "_model_module_version": "1.2.0",
            "_model_name": "LayoutModel",
            "_view_count": null,
            "_view_module": "@jupyter-widgets/base",
            "_view_module_version": "1.2.0",
            "_view_name": "LayoutView",
            "align_content": null,
            "align_items": null,
            "align_self": null,
            "border": null,
            "bottom": null,
            "display": null,
            "flex": null,
            "flex_flow": null,
            "grid_area": null,
            "grid_auto_columns": null,
            "grid_auto_flow": null,
            "grid_auto_rows": null,
            "grid_column": null,
            "grid_gap": null,
            "grid_row": null,
            "grid_template_areas": null,
            "grid_template_columns": null,
            "grid_template_rows": null,
            "height": null,
            "justify_content": null,
            "justify_items": null,
            "left": null,
            "margin": null,
            "max_height": null,
            "max_width": null,
            "min_height": null,
            "min_width": null,
            "object_fit": null,
            "object_position": null,
            "order": null,
            "overflow": null,
            "overflow_x": null,
            "overflow_y": null,
            "padding": null,
            "right": null,
            "top": null,
            "visibility": null,
            "width": null
          }
        },
        "9d6299a554d04db6b6dd32dc0d9ab8f3": {
          "model_module": "@jupyter-widgets/controls",
          "model_name": "ProgressStyleModel",
          "model_module_version": "1.5.0",
          "state": {
            "_model_module": "@jupyter-widgets/controls",
            "_model_module_version": "1.5.0",
            "_model_name": "ProgressStyleModel",
            "_view_count": null,
            "_view_module": "@jupyter-widgets/base",
            "_view_module_version": "1.2.0",
            "_view_name": "StyleView",
            "bar_color": null,
            "description_width": ""
          }
        },
        "e71d1c2437d44909a7e4c31751319836": {
          "model_module": "@jupyter-widgets/base",
          "model_name": "LayoutModel",
          "model_module_version": "1.2.0",
          "state": {
            "_model_module": "@jupyter-widgets/base",
            "_model_module_version": "1.2.0",
            "_model_name": "LayoutModel",
            "_view_count": null,
            "_view_module": "@jupyter-widgets/base",
            "_view_module_version": "1.2.0",
            "_view_name": "LayoutView",
            "align_content": null,
            "align_items": null,
            "align_self": null,
            "border": null,
            "bottom": null,
            "display": null,
            "flex": null,
            "flex_flow": null,
            "grid_area": null,
            "grid_auto_columns": null,
            "grid_auto_flow": null,
            "grid_auto_rows": null,
            "grid_column": null,
            "grid_gap": null,
            "grid_row": null,
            "grid_template_areas": null,
            "grid_template_columns": null,
            "grid_template_rows": null,
            "height": null,
            "justify_content": null,
            "justify_items": null,
            "left": null,
            "margin": null,
            "max_height": null,
            "max_width": null,
            "min_height": null,
            "min_width": null,
            "object_fit": null,
            "object_position": null,
            "order": null,
            "overflow": null,
            "overflow_x": null,
            "overflow_y": null,
            "padding": null,
            "right": null,
            "top": null,
            "visibility": null,
            "width": null
          }
        },
        "08936dadc243476bb8f92f30482a77b9": {
          "model_module": "@jupyter-widgets/controls",
          "model_name": "DescriptionStyleModel",
          "model_module_version": "1.5.0",
          "state": {
            "_model_module": "@jupyter-widgets/controls",
            "_model_module_version": "1.5.0",
            "_model_name": "DescriptionStyleModel",
            "_view_count": null,
            "_view_module": "@jupyter-widgets/base",
            "_view_module_version": "1.2.0",
            "_view_name": "StyleView",
            "description_width": ""
          }
        },
        "e44a0e0efdd34471a5e08e0911e97d08": {
          "model_module": "@jupyter-widgets/controls",
          "model_name": "HBoxModel",
          "model_module_version": "1.5.0",
          "state": {
            "_dom_classes": [],
            "_model_module": "@jupyter-widgets/controls",
            "_model_module_version": "1.5.0",
            "_model_name": "HBoxModel",
            "_view_count": null,
            "_view_module": "@jupyter-widgets/controls",
            "_view_module_version": "1.5.0",
            "_view_name": "HBoxView",
            "box_style": "",
            "children": [
              "IPY_MODEL_2f60f78614cd44c0860672427d45b9cc",
              "IPY_MODEL_55baddd729b647f2bf09c0f84d1dff9a",
              "IPY_MODEL_cf13bc72825048978a6690748361f987"
            ],
            "layout": "IPY_MODEL_59991f8894f44bca992810564a897853"
          }
        },
        "2f60f78614cd44c0860672427d45b9cc": {
          "model_module": "@jupyter-widgets/controls",
          "model_name": "HTMLModel",
          "model_module_version": "1.5.0",
          "state": {
            "_dom_classes": [],
            "_model_module": "@jupyter-widgets/controls",
            "_model_module_version": "1.5.0",
            "_model_name": "HTMLModel",
            "_view_count": null,
            "_view_module": "@jupyter-widgets/controls",
            "_view_module_version": "1.5.0",
            "_view_name": "HTMLView",
            "description": "",
            "description_tooltip": null,
            "layout": "IPY_MODEL_4eef5678115d463fb513d7a55e938a46",
            "placeholder": "​",
            "style": "IPY_MODEL_78a6824a511546b2a3c036e939c5df4a",
            "value": "Filter: 100%"
          }
        },
        "55baddd729b647f2bf09c0f84d1dff9a": {
          "model_module": "@jupyter-widgets/controls",
          "model_name": "FloatProgressModel",
          "model_module_version": "1.5.0",
          "state": {
            "_dom_classes": [],
            "_model_module": "@jupyter-widgets/controls",
            "_model_module_version": "1.5.0",
            "_model_name": "FloatProgressModel",
            "_view_count": null,
            "_view_module": "@jupyter-widgets/controls",
            "_view_module_version": "1.5.0",
            "_view_name": "ProgressView",
            "bar_style": "success",
            "description": "",
            "description_tooltip": null,
            "layout": "IPY_MODEL_b80ea51544f04e1eae5195fd3d6a4226",
            "max": 1061,
            "min": 0,
            "orientation": "horizontal",
            "style": "IPY_MODEL_a2f39cbb940b43f8996459f57e038d30",
            "value": 1061
          }
        },
        "cf13bc72825048978a6690748361f987": {
          "model_module": "@jupyter-widgets/controls",
          "model_name": "HTMLModel",
          "model_module_version": "1.5.0",
          "state": {
            "_dom_classes": [],
            "_model_module": "@jupyter-widgets/controls",
            "_model_module_version": "1.5.0",
            "_model_name": "HTMLModel",
            "_view_count": null,
            "_view_module": "@jupyter-widgets/controls",
            "_view_module_version": "1.5.0",
            "_view_name": "HTMLView",
            "description": "",
            "description_tooltip": null,
            "layout": "IPY_MODEL_a254c4315f8a479ea6cddcc9d8a7416e",
            "placeholder": "​",
            "style": "IPY_MODEL_89ceda3362464fd9850a3e3287d9b477",
            "value": " 1061/1061 [00:00&lt;00:00, 22156.73 examples/s]"
          }
        },
        "59991f8894f44bca992810564a897853": {
          "model_module": "@jupyter-widgets/base",
          "model_name": "LayoutModel",
          "model_module_version": "1.2.0",
          "state": {
            "_model_module": "@jupyter-widgets/base",
            "_model_module_version": "1.2.0",
            "_model_name": "LayoutModel",
            "_view_count": null,
            "_view_module": "@jupyter-widgets/base",
            "_view_module_version": "1.2.0",
            "_view_name": "LayoutView",
            "align_content": null,
            "align_items": null,
            "align_self": null,
            "border": null,
            "bottom": null,
            "display": null,
            "flex": null,
            "flex_flow": null,
            "grid_area": null,
            "grid_auto_columns": null,
            "grid_auto_flow": null,
            "grid_auto_rows": null,
            "grid_column": null,
            "grid_gap": null,
            "grid_row": null,
            "grid_template_areas": null,
            "grid_template_columns": null,
            "grid_template_rows": null,
            "height": null,
            "justify_content": null,
            "justify_items": null,
            "left": null,
            "margin": null,
            "max_height": null,
            "max_width": null,
            "min_height": null,
            "min_width": null,
            "object_fit": null,
            "object_position": null,
            "order": null,
            "overflow": null,
            "overflow_x": null,
            "overflow_y": null,
            "padding": null,
            "right": null,
            "top": null,
            "visibility": null,
            "width": null
          }
        },
        "4eef5678115d463fb513d7a55e938a46": {
          "model_module": "@jupyter-widgets/base",
          "model_name": "LayoutModel",
          "model_module_version": "1.2.0",
          "state": {
            "_model_module": "@jupyter-widgets/base",
            "_model_module_version": "1.2.0",
            "_model_name": "LayoutModel",
            "_view_count": null,
            "_view_module": "@jupyter-widgets/base",
            "_view_module_version": "1.2.0",
            "_view_name": "LayoutView",
            "align_content": null,
            "align_items": null,
            "align_self": null,
            "border": null,
            "bottom": null,
            "display": null,
            "flex": null,
            "flex_flow": null,
            "grid_area": null,
            "grid_auto_columns": null,
            "grid_auto_flow": null,
            "grid_auto_rows": null,
            "grid_column": null,
            "grid_gap": null,
            "grid_row": null,
            "grid_template_areas": null,
            "grid_template_columns": null,
            "grid_template_rows": null,
            "height": null,
            "justify_content": null,
            "justify_items": null,
            "left": null,
            "margin": null,
            "max_height": null,
            "max_width": null,
            "min_height": null,
            "min_width": null,
            "object_fit": null,
            "object_position": null,
            "order": null,
            "overflow": null,
            "overflow_x": null,
            "overflow_y": null,
            "padding": null,
            "right": null,
            "top": null,
            "visibility": null,
            "width": null
          }
        },
        "78a6824a511546b2a3c036e939c5df4a": {
          "model_module": "@jupyter-widgets/controls",
          "model_name": "DescriptionStyleModel",
          "model_module_version": "1.5.0",
          "state": {
            "_model_module": "@jupyter-widgets/controls",
            "_model_module_version": "1.5.0",
            "_model_name": "DescriptionStyleModel",
            "_view_count": null,
            "_view_module": "@jupyter-widgets/base",
            "_view_module_version": "1.2.0",
            "_view_name": "StyleView",
            "description_width": ""
          }
        },
        "b80ea51544f04e1eae5195fd3d6a4226": {
          "model_module": "@jupyter-widgets/base",
          "model_name": "LayoutModel",
          "model_module_version": "1.2.0",
          "state": {
            "_model_module": "@jupyter-widgets/base",
            "_model_module_version": "1.2.0",
            "_model_name": "LayoutModel",
            "_view_count": null,
            "_view_module": "@jupyter-widgets/base",
            "_view_module_version": "1.2.0",
            "_view_name": "LayoutView",
            "align_content": null,
            "align_items": null,
            "align_self": null,
            "border": null,
            "bottom": null,
            "display": null,
            "flex": null,
            "flex_flow": null,
            "grid_area": null,
            "grid_auto_columns": null,
            "grid_auto_flow": null,
            "grid_auto_rows": null,
            "grid_column": null,
            "grid_gap": null,
            "grid_row": null,
            "grid_template_areas": null,
            "grid_template_columns": null,
            "grid_template_rows": null,
            "height": null,
            "justify_content": null,
            "justify_items": null,
            "left": null,
            "margin": null,
            "max_height": null,
            "max_width": null,
            "min_height": null,
            "min_width": null,
            "object_fit": null,
            "object_position": null,
            "order": null,
            "overflow": null,
            "overflow_x": null,
            "overflow_y": null,
            "padding": null,
            "right": null,
            "top": null,
            "visibility": null,
            "width": null
          }
        },
        "a2f39cbb940b43f8996459f57e038d30": {
          "model_module": "@jupyter-widgets/controls",
          "model_name": "ProgressStyleModel",
          "model_module_version": "1.5.0",
          "state": {
            "_model_module": "@jupyter-widgets/controls",
            "_model_module_version": "1.5.0",
            "_model_name": "ProgressStyleModel",
            "_view_count": null,
            "_view_module": "@jupyter-widgets/base",
            "_view_module_version": "1.2.0",
            "_view_name": "StyleView",
            "bar_color": null,
            "description_width": ""
          }
        },
        "a254c4315f8a479ea6cddcc9d8a7416e": {
          "model_module": "@jupyter-widgets/base",
          "model_name": "LayoutModel",
          "model_module_version": "1.2.0",
          "state": {
            "_model_module": "@jupyter-widgets/base",
            "_model_module_version": "1.2.0",
            "_model_name": "LayoutModel",
            "_view_count": null,
            "_view_module": "@jupyter-widgets/base",
            "_view_module_version": "1.2.0",
            "_view_name": "LayoutView",
            "align_content": null,
            "align_items": null,
            "align_self": null,
            "border": null,
            "bottom": null,
            "display": null,
            "flex": null,
            "flex_flow": null,
            "grid_area": null,
            "grid_auto_columns": null,
            "grid_auto_flow": null,
            "grid_auto_rows": null,
            "grid_column": null,
            "grid_gap": null,
            "grid_row": null,
            "grid_template_areas": null,
            "grid_template_columns": null,
            "grid_template_rows": null,
            "height": null,
            "justify_content": null,
            "justify_items": null,
            "left": null,
            "margin": null,
            "max_height": null,
            "max_width": null,
            "min_height": null,
            "min_width": null,
            "object_fit": null,
            "object_position": null,
            "order": null,
            "overflow": null,
            "overflow_x": null,
            "overflow_y": null,
            "padding": null,
            "right": null,
            "top": null,
            "visibility": null,
            "width": null
          }
        },
        "89ceda3362464fd9850a3e3287d9b477": {
          "model_module": "@jupyter-widgets/controls",
          "model_name": "DescriptionStyleModel",
          "model_module_version": "1.5.0",
          "state": {
            "_model_module": "@jupyter-widgets/controls",
            "_model_module_version": "1.5.0",
            "_model_name": "DescriptionStyleModel",
            "_view_count": null,
            "_view_module": "@jupyter-widgets/base",
            "_view_module_version": "1.2.0",
            "_view_name": "StyleView",
            "description_width": ""
          }
        },
        "3da5447e5a33453f9b099d50572d2ea9": {
          "model_module": "@jupyter-widgets/controls",
          "model_name": "HBoxModel",
          "model_module_version": "1.5.0",
          "state": {
            "_dom_classes": [],
            "_model_module": "@jupyter-widgets/controls",
            "_model_module_version": "1.5.0",
            "_model_name": "HBoxModel",
            "_view_count": null,
            "_view_module": "@jupyter-widgets/controls",
            "_view_module_version": "1.5.0",
            "_view_name": "HBoxView",
            "box_style": "",
            "children": [
              "IPY_MODEL_9896509402314d089ac417e8e067ce8a",
              "IPY_MODEL_44dda813a09341e0b3d075010075120d",
              "IPY_MODEL_ebb74ea2f8a147f98b8e541c29a7dc60"
            ],
            "layout": "IPY_MODEL_380ba6909e414b119c1d71c2f9636a72"
          }
        },
        "9896509402314d089ac417e8e067ce8a": {
          "model_module": "@jupyter-widgets/controls",
          "model_name": "HTMLModel",
          "model_module_version": "1.5.0",
          "state": {
            "_dom_classes": [],
            "_model_module": "@jupyter-widgets/controls",
            "_model_module_version": "1.5.0",
            "_model_name": "HTMLModel",
            "_view_count": null,
            "_view_module": "@jupyter-widgets/controls",
            "_view_module_version": "1.5.0",
            "_view_name": "HTMLView",
            "description": "",
            "description_tooltip": null,
            "layout": "IPY_MODEL_2bf0cb9248e0470a998aeff18e75758e",
            "placeholder": "​",
            "style": "IPY_MODEL_0e7ea55572a44fe7b283e9b7b695ead1",
            "value": "Map: 100%"
          }
        },
        "44dda813a09341e0b3d075010075120d": {
          "model_module": "@jupyter-widgets/controls",
          "model_name": "FloatProgressModel",
          "model_module_version": "1.5.0",
          "state": {
            "_dom_classes": [],
            "_model_module": "@jupyter-widgets/controls",
            "_model_module_version": "1.5.0",
            "_model_name": "FloatProgressModel",
            "_view_count": null,
            "_view_module": "@jupyter-widgets/controls",
            "_view_module_version": "1.5.0",
            "_view_name": "ProgressView",
            "bar_style": "success",
            "description": "",
            "description_tooltip": null,
            "layout": "IPY_MODEL_2ac21e9d3b3e4e688538de894cca082f",
            "max": 1061,
            "min": 0,
            "orientation": "horizontal",
            "style": "IPY_MODEL_ff2fdeef60e046cba35f8b6257230793",
            "value": 1061
          }
        },
        "ebb74ea2f8a147f98b8e541c29a7dc60": {
          "model_module": "@jupyter-widgets/controls",
          "model_name": "HTMLModel",
          "model_module_version": "1.5.0",
          "state": {
            "_dom_classes": [],
            "_model_module": "@jupyter-widgets/controls",
            "_model_module_version": "1.5.0",
            "_model_name": "HTMLModel",
            "_view_count": null,
            "_view_module": "@jupyter-widgets/controls",
            "_view_module_version": "1.5.0",
            "_view_name": "HTMLView",
            "description": "",
            "description_tooltip": null,
            "layout": "IPY_MODEL_20e3368af052484383e05d9895606369",
            "placeholder": "​",
            "style": "IPY_MODEL_ed76c7a0ed884139bb2dcf5c55543151",
            "value": " 1061/1061 [00:00&lt;00:00, 3906.05 examples/s]"
          }
        },
        "380ba6909e414b119c1d71c2f9636a72": {
          "model_module": "@jupyter-widgets/base",
          "model_name": "LayoutModel",
          "model_module_version": "1.2.0",
          "state": {
            "_model_module": "@jupyter-widgets/base",
            "_model_module_version": "1.2.0",
            "_model_name": "LayoutModel",
            "_view_count": null,
            "_view_module": "@jupyter-widgets/base",
            "_view_module_version": "1.2.0",
            "_view_name": "LayoutView",
            "align_content": null,
            "align_items": null,
            "align_self": null,
            "border": null,
            "bottom": null,
            "display": null,
            "flex": null,
            "flex_flow": null,
            "grid_area": null,
            "grid_auto_columns": null,
            "grid_auto_flow": null,
            "grid_auto_rows": null,
            "grid_column": null,
            "grid_gap": null,
            "grid_row": null,
            "grid_template_areas": null,
            "grid_template_columns": null,
            "grid_template_rows": null,
            "height": null,
            "justify_content": null,
            "justify_items": null,
            "left": null,
            "margin": null,
            "max_height": null,
            "max_width": null,
            "min_height": null,
            "min_width": null,
            "object_fit": null,
            "object_position": null,
            "order": null,
            "overflow": null,
            "overflow_x": null,
            "overflow_y": null,
            "padding": null,
            "right": null,
            "top": null,
            "visibility": null,
            "width": null
          }
        },
        "2bf0cb9248e0470a998aeff18e75758e": {
          "model_module": "@jupyter-widgets/base",
          "model_name": "LayoutModel",
          "model_module_version": "1.2.0",
          "state": {
            "_model_module": "@jupyter-widgets/base",
            "_model_module_version": "1.2.0",
            "_model_name": "LayoutModel",
            "_view_count": null,
            "_view_module": "@jupyter-widgets/base",
            "_view_module_version": "1.2.0",
            "_view_name": "LayoutView",
            "align_content": null,
            "align_items": null,
            "align_self": null,
            "border": null,
            "bottom": null,
            "display": null,
            "flex": null,
            "flex_flow": null,
            "grid_area": null,
            "grid_auto_columns": null,
            "grid_auto_flow": null,
            "grid_auto_rows": null,
            "grid_column": null,
            "grid_gap": null,
            "grid_row": null,
            "grid_template_areas": null,
            "grid_template_columns": null,
            "grid_template_rows": null,
            "height": null,
            "justify_content": null,
            "justify_items": null,
            "left": null,
            "margin": null,
            "max_height": null,
            "max_width": null,
            "min_height": null,
            "min_width": null,
            "object_fit": null,
            "object_position": null,
            "order": null,
            "overflow": null,
            "overflow_x": null,
            "overflow_y": null,
            "padding": null,
            "right": null,
            "top": null,
            "visibility": null,
            "width": null
          }
        },
        "0e7ea55572a44fe7b283e9b7b695ead1": {
          "model_module": "@jupyter-widgets/controls",
          "model_name": "DescriptionStyleModel",
          "model_module_version": "1.5.0",
          "state": {
            "_model_module": "@jupyter-widgets/controls",
            "_model_module_version": "1.5.0",
            "_model_name": "DescriptionStyleModel",
            "_view_count": null,
            "_view_module": "@jupyter-widgets/base",
            "_view_module_version": "1.2.0",
            "_view_name": "StyleView",
            "description_width": ""
          }
        },
        "2ac21e9d3b3e4e688538de894cca082f": {
          "model_module": "@jupyter-widgets/base",
          "model_name": "LayoutModel",
          "model_module_version": "1.2.0",
          "state": {
            "_model_module": "@jupyter-widgets/base",
            "_model_module_version": "1.2.0",
            "_model_name": "LayoutModel",
            "_view_count": null,
            "_view_module": "@jupyter-widgets/base",
            "_view_module_version": "1.2.0",
            "_view_name": "LayoutView",
            "align_content": null,
            "align_items": null,
            "align_self": null,
            "border": null,
            "bottom": null,
            "display": null,
            "flex": null,
            "flex_flow": null,
            "grid_area": null,
            "grid_auto_columns": null,
            "grid_auto_flow": null,
            "grid_auto_rows": null,
            "grid_column": null,
            "grid_gap": null,
            "grid_row": null,
            "grid_template_areas": null,
            "grid_template_columns": null,
            "grid_template_rows": null,
            "height": null,
            "justify_content": null,
            "justify_items": null,
            "left": null,
            "margin": null,
            "max_height": null,
            "max_width": null,
            "min_height": null,
            "min_width": null,
            "object_fit": null,
            "object_position": null,
            "order": null,
            "overflow": null,
            "overflow_x": null,
            "overflow_y": null,
            "padding": null,
            "right": null,
            "top": null,
            "visibility": null,
            "width": null
          }
        },
        "ff2fdeef60e046cba35f8b6257230793": {
          "model_module": "@jupyter-widgets/controls",
          "model_name": "ProgressStyleModel",
          "model_module_version": "1.5.0",
          "state": {
            "_model_module": "@jupyter-widgets/controls",
            "_model_module_version": "1.5.0",
            "_model_name": "ProgressStyleModel",
            "_view_count": null,
            "_view_module": "@jupyter-widgets/base",
            "_view_module_version": "1.2.0",
            "_view_name": "StyleView",
            "bar_color": null,
            "description_width": ""
          }
        },
        "20e3368af052484383e05d9895606369": {
          "model_module": "@jupyter-widgets/base",
          "model_name": "LayoutModel",
          "model_module_version": "1.2.0",
          "state": {
            "_model_module": "@jupyter-widgets/base",
            "_model_module_version": "1.2.0",
            "_model_name": "LayoutModel",
            "_view_count": null,
            "_view_module": "@jupyter-widgets/base",
            "_view_module_version": "1.2.0",
            "_view_name": "LayoutView",
            "align_content": null,
            "align_items": null,
            "align_self": null,
            "border": null,
            "bottom": null,
            "display": null,
            "flex": null,
            "flex_flow": null,
            "grid_area": null,
            "grid_auto_columns": null,
            "grid_auto_flow": null,
            "grid_auto_rows": null,
            "grid_column": null,
            "grid_gap": null,
            "grid_row": null,
            "grid_template_areas": null,
            "grid_template_columns": null,
            "grid_template_rows": null,
            "height": null,
            "justify_content": null,
            "justify_items": null,
            "left": null,
            "margin": null,
            "max_height": null,
            "max_width": null,
            "min_height": null,
            "min_width": null,
            "object_fit": null,
            "object_position": null,
            "order": null,
            "overflow": null,
            "overflow_x": null,
            "overflow_y": null,
            "padding": null,
            "right": null,
            "top": null,
            "visibility": null,
            "width": null
          }
        },
        "ed76c7a0ed884139bb2dcf5c55543151": {
          "model_module": "@jupyter-widgets/controls",
          "model_name": "DescriptionStyleModel",
          "model_module_version": "1.5.0",
          "state": {
            "_model_module": "@jupyter-widgets/controls",
            "_model_module_version": "1.5.0",
            "_model_name": "DescriptionStyleModel",
            "_view_count": null,
            "_view_module": "@jupyter-widgets/base",
            "_view_module_version": "1.2.0",
            "_view_name": "StyleView",
            "description_width": ""
          }
        },
        "1213bfee61f34de0be9ff84d975aca6e": {
          "model_module": "@jupyter-widgets/controls",
          "model_name": "HBoxModel",
          "model_module_version": "1.5.0",
          "state": {
            "_dom_classes": [],
            "_model_module": "@jupyter-widgets/controls",
            "_model_module_version": "1.5.0",
            "_model_name": "HBoxModel",
            "_view_count": null,
            "_view_module": "@jupyter-widgets/controls",
            "_view_module_version": "1.5.0",
            "_view_name": "HBoxView",
            "box_style": "",
            "children": [
              "IPY_MODEL_708429c628144a6a8ad0ea254fb117a3",
              "IPY_MODEL_80374c4c54e64e8cab80a73a56fa82e0",
              "IPY_MODEL_34717b28a6b04acfb192a86793933119"
            ],
            "layout": "IPY_MODEL_809462c33cab47d481579e7f14277b43"
          }
        },
        "708429c628144a6a8ad0ea254fb117a3": {
          "model_module": "@jupyter-widgets/controls",
          "model_name": "HTMLModel",
          "model_module_version": "1.5.0",
          "state": {
            "_dom_classes": [],
            "_model_module": "@jupyter-widgets/controls",
            "_model_module_version": "1.5.0",
            "_model_name": "HTMLModel",
            "_view_count": null,
            "_view_module": "@jupyter-widgets/controls",
            "_view_module_version": "1.5.0",
            "_view_name": "HTMLView",
            "description": "",
            "description_tooltip": null,
            "layout": "IPY_MODEL_91801ae1243a40c4b4f03c24bf99f3a4",
            "placeholder": "​",
            "style": "IPY_MODEL_83870f62d88944f1a3ddfb8740d5f6cd",
            "value": "Map: 100%"
          }
        },
        "80374c4c54e64e8cab80a73a56fa82e0": {
          "model_module": "@jupyter-widgets/controls",
          "model_name": "FloatProgressModel",
          "model_module_version": "1.5.0",
          "state": {
            "_dom_classes": [],
            "_model_module": "@jupyter-widgets/controls",
            "_model_module_version": "1.5.0",
            "_model_name": "FloatProgressModel",
            "_view_count": null,
            "_view_module": "@jupyter-widgets/controls",
            "_view_module_version": "1.5.0",
            "_view_name": "ProgressView",
            "bar_style": "success",
            "description": "",
            "description_tooltip": null,
            "layout": "IPY_MODEL_e3dcd89443084e29a7758f8e7f0234fe",
            "max": 218,
            "min": 0,
            "orientation": "horizontal",
            "style": "IPY_MODEL_1dda87cdb6d641499de3d4db16ccb397",
            "value": 218
          }
        },
        "34717b28a6b04acfb192a86793933119": {
          "model_module": "@jupyter-widgets/controls",
          "model_name": "HTMLModel",
          "model_module_version": "1.5.0",
          "state": {
            "_dom_classes": [],
            "_model_module": "@jupyter-widgets/controls",
            "_model_module_version": "1.5.0",
            "_model_name": "HTMLModel",
            "_view_count": null,
            "_view_module": "@jupyter-widgets/controls",
            "_view_module_version": "1.5.0",
            "_view_name": "HTMLView",
            "description": "",
            "description_tooltip": null,
            "layout": "IPY_MODEL_ce4a7c0bda22480f885a1b8582ef7deb",
            "placeholder": "​",
            "style": "IPY_MODEL_b4264267644b46f492a0cf4f7665858a",
            "value": " 218/218 [00:00&lt;00:00, 3669.20 examples/s]"
          }
        },
        "809462c33cab47d481579e7f14277b43": {
          "model_module": "@jupyter-widgets/base",
          "model_name": "LayoutModel",
          "model_module_version": "1.2.0",
          "state": {
            "_model_module": "@jupyter-widgets/base",
            "_model_module_version": "1.2.0",
            "_model_name": "LayoutModel",
            "_view_count": null,
            "_view_module": "@jupyter-widgets/base",
            "_view_module_version": "1.2.0",
            "_view_name": "LayoutView",
            "align_content": null,
            "align_items": null,
            "align_self": null,
            "border": null,
            "bottom": null,
            "display": null,
            "flex": null,
            "flex_flow": null,
            "grid_area": null,
            "grid_auto_columns": null,
            "grid_auto_flow": null,
            "grid_auto_rows": null,
            "grid_column": null,
            "grid_gap": null,
            "grid_row": null,
            "grid_template_areas": null,
            "grid_template_columns": null,
            "grid_template_rows": null,
            "height": null,
            "justify_content": null,
            "justify_items": null,
            "left": null,
            "margin": null,
            "max_height": null,
            "max_width": null,
            "min_height": null,
            "min_width": null,
            "object_fit": null,
            "object_position": null,
            "order": null,
            "overflow": null,
            "overflow_x": null,
            "overflow_y": null,
            "padding": null,
            "right": null,
            "top": null,
            "visibility": null,
            "width": null
          }
        },
        "91801ae1243a40c4b4f03c24bf99f3a4": {
          "model_module": "@jupyter-widgets/base",
          "model_name": "LayoutModel",
          "model_module_version": "1.2.0",
          "state": {
            "_model_module": "@jupyter-widgets/base",
            "_model_module_version": "1.2.0",
            "_model_name": "LayoutModel",
            "_view_count": null,
            "_view_module": "@jupyter-widgets/base",
            "_view_module_version": "1.2.0",
            "_view_name": "LayoutView",
            "align_content": null,
            "align_items": null,
            "align_self": null,
            "border": null,
            "bottom": null,
            "display": null,
            "flex": null,
            "flex_flow": null,
            "grid_area": null,
            "grid_auto_columns": null,
            "grid_auto_flow": null,
            "grid_auto_rows": null,
            "grid_column": null,
            "grid_gap": null,
            "grid_row": null,
            "grid_template_areas": null,
            "grid_template_columns": null,
            "grid_template_rows": null,
            "height": null,
            "justify_content": null,
            "justify_items": null,
            "left": null,
            "margin": null,
            "max_height": null,
            "max_width": null,
            "min_height": null,
            "min_width": null,
            "object_fit": null,
            "object_position": null,
            "order": null,
            "overflow": null,
            "overflow_x": null,
            "overflow_y": null,
            "padding": null,
            "right": null,
            "top": null,
            "visibility": null,
            "width": null
          }
        },
        "83870f62d88944f1a3ddfb8740d5f6cd": {
          "model_module": "@jupyter-widgets/controls",
          "model_name": "DescriptionStyleModel",
          "model_module_version": "1.5.0",
          "state": {
            "_model_module": "@jupyter-widgets/controls",
            "_model_module_version": "1.5.0",
            "_model_name": "DescriptionStyleModel",
            "_view_count": null,
            "_view_module": "@jupyter-widgets/base",
            "_view_module_version": "1.2.0",
            "_view_name": "StyleView",
            "description_width": ""
          }
        },
        "e3dcd89443084e29a7758f8e7f0234fe": {
          "model_module": "@jupyter-widgets/base",
          "model_name": "LayoutModel",
          "model_module_version": "1.2.0",
          "state": {
            "_model_module": "@jupyter-widgets/base",
            "_model_module_version": "1.2.0",
            "_model_name": "LayoutModel",
            "_view_count": null,
            "_view_module": "@jupyter-widgets/base",
            "_view_module_version": "1.2.0",
            "_view_name": "LayoutView",
            "align_content": null,
            "align_items": null,
            "align_self": null,
            "border": null,
            "bottom": null,
            "display": null,
            "flex": null,
            "flex_flow": null,
            "grid_area": null,
            "grid_auto_columns": null,
            "grid_auto_flow": null,
            "grid_auto_rows": null,
            "grid_column": null,
            "grid_gap": null,
            "grid_row": null,
            "grid_template_areas": null,
            "grid_template_columns": null,
            "grid_template_rows": null,
            "height": null,
            "justify_content": null,
            "justify_items": null,
            "left": null,
            "margin": null,
            "max_height": null,
            "max_width": null,
            "min_height": null,
            "min_width": null,
            "object_fit": null,
            "object_position": null,
            "order": null,
            "overflow": null,
            "overflow_x": null,
            "overflow_y": null,
            "padding": null,
            "right": null,
            "top": null,
            "visibility": null,
            "width": null
          }
        },
        "1dda87cdb6d641499de3d4db16ccb397": {
          "model_module": "@jupyter-widgets/controls",
          "model_name": "ProgressStyleModel",
          "model_module_version": "1.5.0",
          "state": {
            "_model_module": "@jupyter-widgets/controls",
            "_model_module_version": "1.5.0",
            "_model_name": "ProgressStyleModel",
            "_view_count": null,
            "_view_module": "@jupyter-widgets/base",
            "_view_module_version": "1.2.0",
            "_view_name": "StyleView",
            "bar_color": null,
            "description_width": ""
          }
        },
        "ce4a7c0bda22480f885a1b8582ef7deb": {
          "model_module": "@jupyter-widgets/base",
          "model_name": "LayoutModel",
          "model_module_version": "1.2.0",
          "state": {
            "_model_module": "@jupyter-widgets/base",
            "_model_module_version": "1.2.0",
            "_model_name": "LayoutModel",
            "_view_count": null,
            "_view_module": "@jupyter-widgets/base",
            "_view_module_version": "1.2.0",
            "_view_name": "LayoutView",
            "align_content": null,
            "align_items": null,
            "align_self": null,
            "border": null,
            "bottom": null,
            "display": null,
            "flex": null,
            "flex_flow": null,
            "grid_area": null,
            "grid_auto_columns": null,
            "grid_auto_flow": null,
            "grid_auto_rows": null,
            "grid_column": null,
            "grid_gap": null,
            "grid_row": null,
            "grid_template_areas": null,
            "grid_template_columns": null,
            "grid_template_rows": null,
            "height": null,
            "justify_content": null,
            "justify_items": null,
            "left": null,
            "margin": null,
            "max_height": null,
            "max_width": null,
            "min_height": null,
            "min_width": null,
            "object_fit": null,
            "object_position": null,
            "order": null,
            "overflow": null,
            "overflow_x": null,
            "overflow_y": null,
            "padding": null,
            "right": null,
            "top": null,
            "visibility": null,
            "width": null
          }
        },
        "b4264267644b46f492a0cf4f7665858a": {
          "model_module": "@jupyter-widgets/controls",
          "model_name": "DescriptionStyleModel",
          "model_module_version": "1.5.0",
          "state": {
            "_model_module": "@jupyter-widgets/controls",
            "_model_module_version": "1.5.0",
            "_model_name": "DescriptionStyleModel",
            "_view_count": null,
            "_view_module": "@jupyter-widgets/base",
            "_view_module_version": "1.2.0",
            "_view_name": "StyleView",
            "description_width": ""
          }
        }
      }
    }
  },
  "nbformat": 4,
  "nbformat_minor": 0
}