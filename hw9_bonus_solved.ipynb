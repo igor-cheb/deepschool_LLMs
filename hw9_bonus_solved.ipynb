{
  "cells": [
    {
      "cell_type": "code",
      "execution_count": null,
      "metadata": {},
      "outputs": [],
      "source": [
        "! pip install trl peft"
      ]
    },
    {
      "cell_type": "markdown",
      "metadata": {},
      "source": [
        "# DPO - 10 баллов\n",
        "Давайте обучим модель с помощью DPO. Для этого нам нужен датасет прфеернций - нам нужен некий префикс (задача) и хороший и плохие ответы.\n",
        "\n",
        "В качесве примера возьмем простую модель - SmolLM от huggingface."
      ]
    },
    {
      "cell_type": "code",
      "execution_count": 9,
      "metadata": {},
      "outputs": [
        {
          "name": "stdout",
          "output_type": "stream",
          "text": [
            "PROMPT\n",
            "<|im_start|>user\n",
            "what is the weather like today<|im_end|>\n",
            "<|im_start|>assistant\n",
            "\n",
            "Generated answer\n",
            "What a great question! Today's weather is a fascinating topic. Here's a summary of the current weather conditions:\n",
            "\n",
            "**Temperature:**\n",
            "\n",
            "* The temperature is currently around 22°\n"
          ]
        }
      ],
      "source": [
        "import torch\n",
        "from transformers import AutoTokenizer, AutoModelForCausalLM\n",
        "checkpoint = \"HuggingFaceTB/SmolLM-360M-Instruct\"\n",
        "\n",
        "device = torch.device(\"cuda\")\n",
        "tokenizer = AutoTokenizer.from_pretrained(checkpoint)\n",
        "model = AutoModelForCausalLM.from_pretrained(checkpoint).to(device)\n",
        "\n",
        "messages = [{\"role\": \"user\", \"content\": \"what is the weather like today\"}]\n",
        "prompt_text = tokenizer.apply_chat_template(messages, add_generation_prompt=True, tokenize=False)\n",
        "print(\"PROMPT\")\n",
        "print(prompt_text)\n",
        "inputs = tokenizer(prompt_text, return_tensors=\"pt\")\n",
        "for k, v in inputs.items():\n",
        "    inputs[k] = v.to(device)\n",
        "\n",
        "gens = model.generate(**inputs)\n",
        "print(\"Generated answer\")\n",
        "print(tokenizer.decode(gens[0, inputs[\"input_ids\"].size(1):].tolist()))\n"
      ]
    },
    {
      "cell_type": "markdown",
      "metadata": {},
      "source": [
        "Как мы видим у модели есть свой prompt_format и работает она как обычный ассистент - доброжелательно отвечает пользователю на поставленный вопрос.\n",
        "\n",
        "Представим, что наши пользователи имеют возможность регенерации сообщений в нашем приложении: если им не нравится ответ, они могут сгенерировать новый. Иногда мы даем пользователю два ответа и просим выбрать тот, который больше понравился. Такое можно зачастую встретить например у OpenAI.\n",
        "\n",
        "Рассмотрим датасет `HumanLLMs/Human-Like-DPO-Dataset` - это датасет пар ответов, в котором предпочтительный (chosen) ответ более \"человечный\", то есть содержит в себе смайлики, легкомыслие, а менее предпочтительный (rejected) ответ.\n",
        "Как вы помните датасеты для DPO именно так и строятся - есть некоторый промпт (возможно, история диалога из нескольких шагов) и 2 ответа, один из которых хороший, а другой - плохой."
      ]
    },
    {
      "cell_type": "code",
      "execution_count": 4,
      "metadata": {},
      "outputs": [
        {
          "name": "stderr",
          "output_type": "stream",
          "text": [
            "/usr/local/lib/python3.10/dist-packages/tqdm/auto.py:21: TqdmWarning: IProgress not found. Please update jupyter and ipywidgets. See https://ipywidgets.readthedocs.io/en/stable/user_install.html\n",
            "  from .autonotebook import tqdm as notebook_tqdm\n"
          ]
        },
        {
          "name": "stdout",
          "output_type": "stream",
          "text": [
            "{'chosen': \"😂 Ah, no I haven't! I'm dying to know, what's the meme about? Is \"\n",
            "           'it a funny cat or a ridiculous situation? Spill the beans! 🤣',\n",
            " 'prompt': 'Oh, I just saw the best meme - have you seen it?',\n",
            " 'rejected': \"I'm an artificial intelligence language model, I don't have \"\n",
            "             'personal experiences or opinions. However, I can provide you '\n",
            "             'with information on highly-rated and critically acclaimed films, '\n",
            "             'as well as recommendations based on specific genres or themes. '\n",
            "             'Would you like me to suggest some notable movies or discuss a '\n",
            "             'particular genre of interest?'}\n"
          ]
        }
      ],
      "source": [
        "import json\n",
        "from datasets import load_dataset\n",
        "from pprint import pprint\n",
        "dataset = load_dataset(\"HumanLLMs/Human-Like-DPO-Dataset\")\n",
        "\n",
        "pprint(dataset[\"train\"][0])\n"
      ]
    },
    {
      "cell_type": "code",
      "execution_count": 5,
      "metadata": {},
      "outputs": [
        {
          "name": "stdout",
          "output_type": "stream",
          "text": [
            "{'chosen': \"You know, I think I'm a little bit of both, to be honest! I love \"\n",
            "           \"the energy and anonymity of a big city – there's always something \"\n",
            "           'going on, and you can find pretty much anything you need at any '\n",
            "           'hour. But at the same time, I appreciate the charm and sense of '\n",
            "           \"community that comes with a small town. There's something really \"\n",
            "           'cozy about knowing your neighbors and being able to walk down Main '\n",
            "           'Street and run into friends.\\n'\n",
            "           '\\n'\n",
            "           \"That being said, if I'm being completely honest, I'm a bit of a \"\n",
            "           'sucker for a good mountain town. You know, the kind of place with '\n",
            "           \"a cute downtown area, surrounded by trails and mountains? That's \"\n",
            "           'my happy place! What about you, do you have a preference?',\n",
            " 'prompt': 'Are you more of a city person or a small-town fan?',\n",
            " 'rejected': \"As a professional AI, I don't possess personal preferences or \"\n",
            "             'engage in leisure activities. My purpose is to provide accurate '\n",
            "             'and informative responses to your inquiries, and I do not '\n",
            "             'experience downtime or personal experiences. My focus is solely '\n",
            "             'on assisting users with their queries to the best of my '\n",
            "             \"abilities. If you have any specific questions or topics you'd \"\n",
            "             \"like to discuss, I'm here to provide information and insights.\"}\n"
          ]
        }
      ],
      "source": [
        "train_dataset = load_dataset(\"HumanLLMs/Human-Like-DPO-Dataset\", split=\"train[:10%]\")\n",
        "eval_dataset = load_dataset(\"HumanLLMs/Human-Like-DPO-Dataset\", split=\"train[10%:12%]\")\n",
        "\n",
        "pprint(eval_dataset[0])\n"
      ]
    },
    {
      "cell_type": "markdown",
      "metadata": {},
      "source": [
        "Представим, что наши аналитики прислали нам такие данные и мы хотим сделать нашу модель лучше. Мы можем напрямую произвести обучениа на хороших сэмплах, но мы попробуем подать на обучение более богатый сигнал: мы не только хотим максимизировать вероятность chosen текста, но и дополнительно хотим минимизировать вероятность rejected текста. Чтобы еще сильнее разделить примеры, давайте оставим только те, где в chosen есть смайлик, а в rejected его нет."
      ]
    },
    {
      "cell_type": "code",
      "execution_count": 6,
      "metadata": {},
      "outputs": [],
      "source": [
        "import re\n",
        "emoji_pattern = re.compile(\n",
        "    '['\n",
        "    '\\U0001F600-\\U0001F64F'  # Emoticons\n",
        "    '\\U0001F300-\\U0001F5FF'  # Symbols & Pictographs\n",
        "    '\\U0001F680-\\U0001F6FF'  # Transport & Map Symbols\n",
        "    '\\U0001F700-\\U0001F77F'  # Alchemical Symbols\n",
        "    '\\U0001F780-\\U0001F7FF'  # Geometric Shapes Extended\n",
        "    '\\U0001F800-\\U0001F8FF'  # Supplemental Arrows-C\n",
        "    '\\U0001F900-\\U0001F9FF'  # Supplemental Symbols and Pictographs\n",
        "    '\\U0001FA00-\\U0001FA6F'  # Chess Symbols\n",
        "    '\\U0001FA70-\\U0001FAFF'  # Symbols and Pictographs Extended-A\n",
        "    '\\U00002702-\\U000027B0'  # Dingbats\n",
        "    '\\U000024C2-\\U0001F251'  # Enclosed characters\n",
        "    '\\U0000200D'             # Zero Width Joiner\n",
        "    '\\U0001F1E0-\\U0001F1FF'  # Flags\n",
        "    ']+', \n",
        "    re.UNICODE\n",
        ")\n",
        "\n",
        "def find_emojis(sample):\n",
        "    return bool(emoji_pattern.findall(sample[\"chosen\"])) and not bool(emoji_pattern.findall(sample[\"rejected\"]))\n",
        "\n",
        "train_dataset = train_dataset.filter(find_emojis)\n",
        "assert len(train_dataset) == 1061\n"
      ]
    },
    {
      "cell_type": "markdown",
      "metadata": {},
      "source": [
        "Наш тренер DPOTrainer будет собирать примеры из полей prompt, chosen и rejected. Чтобы все корректно обрабатывалось, нам нужно применить chat_template к нашим примерам. Так как у нас довольно простой случай с диалогом из одного шага (одна пара вопрос-ответ), мы можем применить chat_template к prompt. Добавлять EOS токен в chosen/rejected не нужно, это делает за нас DPOTrainer"
      ]
    },
    {
      "cell_type": "code",
      "execution_count": 16,
      "metadata": {},
      "outputs": [],
      "source": [
        "def apply_chat_template(sample, tokenizer):\n",
        "    messages = [{\"role\": \"user\", \"content\": sample[\"prompt\"]}]\n",
        "    prompt_new = tokenizer.apply_chat_template(messages, add_generation_prompt=True, tokenize=False)\n",
        "    sample[\"prompt\"] = prompt_new\n",
        "    return sample\n",
        "\n",
        "reference = \"\"\"<|im_start|>user\\nOh, I just saw the best meme - have you seen it?<|im_end|>\\n<|im_start|>assistant\\n\"\"\"\n",
        "sample = train_dataset[0]\n",
        "new_sample = apply_chat_template(sample, tokenizer)\n",
        "assert new_sample[\"chosen\"] == sample[\"chosen\"]\n",
        "assert new_sample[\"rejected\"] == sample[\"rejected\"]\n",
        "assert new_sample[\"prompt\"] == reference\n"
      ]
    },
    {
      "cell_type": "markdown",
      "metadata": {},
      "source": [
        "Давайте применим препроцессинг к нашему датасету"
      ]
    },
    {
      "cell_type": "code",
      "execution_count": 17,
      "metadata": {},
      "outputs": [
        {
          "name": "stderr",
          "output_type": "stream",
          "text": [
            "Map: 100%|██████████| 1061/1061 [00:00<00:00, 7725.63 examples/s]\n",
            "Map: 100%|██████████| 218/218 [00:00<00:00, 9260.54 examples/s]\n"
          ]
        }
      ],
      "source": [
        "from functools import partial\n",
        "partial_template = partial(apply_chat_template, tokenizer=tokenizer)\n",
        "train_dataset = train_dataset.map(partial_template)\n",
        "eval_dataset = eval_dataset.map(partial_template)\n"
      ]
    },
    {
      "cell_type": "markdown",
      "metadata": {},
      "source": [
        "Теперь нужно создать LoRA модель. Учить DPO можно и без нее, но как вы помните в формуле DPO учавствуют вероятности от референсной модели - мы не хотим, чтобы наша модель далеко уходила от референса.\n",
        "Если учить все веса модели, то нам потребуется хранить референсную модель в памяти, а это еще гигабайты видеопамяти, которые нам очень нужны, т.к. каждый батч в DPO обучении в два раза больше обычных батчей, так как мы считаем выходы и по chosen и по rejected.\n",
        "Есть несколько вариантов с этим бороться:\n",
        "1. Предпосчитать все выходы референсной модели и подгружать эти выходы с жесткого диска. Этот вариант хороший, но в этот раз мы поступим интереснее.\n",
        "2. Можно использовать LoRA - тогда, чтобы получить референсную модель, нам достаточно не применять LoRA слои, которые мы обучаем. Таким образом мы не дублируем референсную модель, т.к. она содержится в нашей базовой модели. Эту логику поддерживает DPOTrainer и в этой задаче мы воспользуемся именно таким подходом."
      ]
    },
    {
      "cell_type": "code",
      "execution_count": null,
      "metadata": {},
      "outputs": [],
      "source": [
        "from trl import DPOTrainer, DPOConfig\n",
        "from peft import LoraConfig, get_peft_model\n",
        "\n",
        "peft_config = LoraConfig(\n",
        "    r=8,\n",
        "    lora_alpha=8,\n",
        "    target_modules=\"all-linear\",\n",
        "    bias=\"none\",\n",
        "    task_type=\"CAUSAL_LM\",\n",
        ")\n",
        "\n",
        "# для чекпоинтинга\n",
        "model.enable_input_require_grads()\n",
        "peft_model = get_peft_model(model, peft_config)\n"
      ]
    },
    {
      "cell_type": "code",
      "execution_count": null,
      "metadata": {},
      "outputs": [],
      "source": []
    },
    {
      "cell_type": "markdown",
      "metadata": {},
      "source": [
        "Заполним аргументы для обучения. Рекомендую поставить эффективный батч сайз 16 (с помощью аккумуляции), обычный батч сайз 4, одну эпоху обучения. Для удобства давайте поставим агрессивный lr = 1e-3, но обычно он в 10 раз меньше"
      ]
    },
    {
      "cell_type": "code",
      "execution_count": null,
      "metadata": {},
      "outputs": [],
      "source": [
        "\n",
        "training_args = DPOConfig(\n",
        "    output_dir=\"checkpoint\",\n",
        "    bf16=True,\n",
        "    gradient_checkpointing=True,\n",
        "    per_device_train_batch_size=16,\n",
        "    per_device_eval_batch_size=16,\n",
        "    gradient_accumulation_steps=1,\n",
        "    gradient_checkpointing_kwargs={'use_reentrant':False},\n",
        "    num_train_epochs=1,\n",
        "    dataset_num_proc=1,\n",
        "    dataloader_num_workers=1,\n",
        "    logging_steps=10,\n",
        "    report_to=\"none\",\n",
        "    save_strategy=\"steps\",\n",
        "    save_steps=100,\n",
        "    save_total_limit=1,\n",
        "    eval_steps=20,\n",
        "    eval_strategy=\"steps\",\n",
        "    learning_rate=1e-3,\n",
        "    beta=0.1,\n",
        ")\n",
        "trainer = DPOTrainer(\n",
        "    model=peft_model,\n",
        "    ref_model=None,\n",
        "    args=training_args,\n",
        "    train_dataset=train_dataset,\n",
        "    eval_dataset=eval_dataset,\n",
        "    processing_class=tokenizer,\n",
        ")\n",
        "trainer.train()\n",
        "\n",
        "# пояснить метрики!!!\n",
        "\n",
        "\n",
        "for i in range(10):\n",
        "    gens = peft_model.generate(**inputs, do_sample=True, temperature=0.8)\n",
        "    print(\"Generated answer\")\n",
        "    print(tokenizer.decode(gens[0, inputs[\"input_ids\"].size(1):].tolist()))\n"
      ]
    },
    {
      "cell_type": "markdown",
      "metadata": {},
      "source": [
        "Как видим, у нас получилась новая модель, которая активнее ставит смайлики. Давайте разберем, какие метрики нам доступны в рамках обучения:\n",
        "\n",
        "* loss - dpo функция потерь\n",
        "* logps/chosen - логвероятности chosen ответа. Чем они ближе к 0, тем вероятнее мы оцениваем этот ответ. Эта метрика должна расти и приближаться к 0\n",
        "* logps/rejected - логвероятности rejected ответа. Чем они ближе к 0, тем вероятнее мы оцениваем этот ответ. Эта метрика должна падать и приближаться к -inf\n",
        "* rewards/chosen - `self.beta * (chosen_logps.to(device) - ref_chosen_logps.to(device))` - логарифм отношения вероятностей chosen ответа нашей модели к референсной модели, метрика должна расти\n",
        "* rewards/rejected - `self.beta * (rejected_logps.to(device) - ref_rejected_logps.to(device))` - логарифм отношения вероятностей chosrejectedета нашей модели к референсной модели, метрика должна падать\n",
        "* rewards/margins - разница между logps/chosen и logps/rejected, показывает насколько вероятнее мы сгенерируем chosen ответ, чем rejected\n",
        "* rewards/accuracies - доля сэмплов в батче, где chosen ответу мы ставим вероятность выше, чем rejected\n",
        "\n",
        "\n",
        "\n",
        "\n",
        "LoRA можно замерджить в модель, после чего сохранить полный чекпоинт по желанию.\n"
      ]
    },
    {
      "cell_type": "code",
      "execution_count": null,
      "metadata": {},
      "outputs": [],
      "source": [
        "\n",
        "model = peft_model.merge_and_unload()\n",
        "model.save_pretrained(\"model_ckpt\")\n",
        "tokenizer.save_pretrained(\"model_ckpt\")"
      ]
    }
  ],
  "metadata": {
    "colab": {
      "provenance": []
    },
    "kernelspec": {
      "display_name": "Python 3",
      "name": "python3"
    },
    "language_info": {
      "codemirror_mode": {
        "name": "ipython",
        "version": 3
      },
      "file_extension": ".py",
      "mimetype": "text/x-python",
      "name": "python",
      "nbconvert_exporter": "python",
      "pygments_lexer": "ipython3",
      "version": "3.10.12"
    }
  },
  "nbformat": 4,
  "nbformat_minor": 0
}
