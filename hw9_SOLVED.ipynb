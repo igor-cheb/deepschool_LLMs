{
  "nbformat": 4,
  "nbformat_minor": 0,
  "metadata": {
    "colab": {
      "provenance": []
    },
    "kernelspec": {
      "name": "python3",
      "display_name": "Python 3"
    },
    "language_info": {
      "name": "python"
    }
  },
  "cells": [
    {
      "cell_type": "code",
      "source": [
        "pip install vllm"
      ],
      "metadata": {
        "id": "-gZdJsJViLGp"
      },
      "execution_count": null,
      "outputs": []
    },
    {
      "cell_type": "markdown",
      "source": [
        "## Часть 1. Генерация синтетического датасета - 15 баллов"
      ],
      "metadata": {
        "id": "hicESYFviLWI"
      }
    },
    {
      "cell_type": "markdown",
      "source": [
        "В этой части вам нужно написать код для генерации синтетического датасета, и сгенерировать его. Датасет такого вида:\n",
        "- `prompt`: короткий вопрос на произвольную тему;\n",
        "- `chosen` - ответ в стиле зумера\n",
        "- `rejected` - обычный ответ\n",
        "\n",
        "Примеры:\n",
        "\n",
        "| Prompt                                         | Chosen                                                                                               | Rejected                                                                                                                                                                                                                                                                                                                                     |\n",
        "|------------------------------------------------|------------------------------------------------------------------------------------------------------|--------------------------------------------------------------------------------------------------------------------------------------------------------------------------------------------------------------------------------------------------------------------------------------------------------------------------------------------------------------------------------------------------------------------------------------------------------------------------------------------------------------------------------------------------------------------------------------------------------------------------------------------------------------------------------------------------------------------|\n",
        "| Is water necessary for human survival?         | For sure, water's the real MVP for humans, can't live without it 💧😅                                | Yes, water is essential for human survival. The human body is composed of approximately 60% water, which is vital for numerous bodily functions.                                                          |\n",
        "| Can a single tree produce enough oxygen for a human to breathe? | Yo, a single tree's like a tiny oxygen factory 🌳💨 but we need a forest squad to really keep us chill and breathing 🌲🤝👨‍👩‍👧‍👦 | A single tree can produce a significant amount of oxygen, but whether it's enough for a human to breathe depends on several factors including the type of tree, the tree's size, the conditions it's growing in, and the human's oxygen consumption rate. On average, a mature leafy tree can produce about 260 pounds (118 kilograms) of oxygen annually.                                                                                                                                     |\n",
        "| What is the speed of light in a vacuum?        | The speed of light, that's like the universe's fastest runner, is roughly 299,792 kilometers per second, no cap 🚀🌌 | The speed of light in a vacuum is a fundamental physical constant denoted as 'c'. Its value is approximately 299,792,458 meters per second.   |\n"
      ],
      "metadata": {
        "id": "62fevCbOcg82"
      }
    },
    {
      "cell_type": "code",
      "source": [
        "import torch\n",
        "from tqdm import tqdm\n",
        "\n",
        "from vllm import LLM, SamplingParams\n",
        "from transformers import AutoTokenizer"
      ],
      "metadata": {
        "id": "oJJCsqXJa_32"
      },
      "execution_count": null,
      "outputs": []
    },
    {
      "cell_type": "markdown",
      "source": [
        "### Функция генерации - 10 баллов"
      ],
      "metadata": {
        "id": "urP8LgBvext_"
      }
    },
    {
      "cell_type": "markdown",
      "source": [
        "Реализуйте функцию генерации, поддерживающую батч на вход. `meesages_list` - батч из списка диалоговых реплик в openai формате (`{\"role\": \"user\", \"content\": \"Hello\"}`)\n",
        "\n",
        "Вы получите 5 баллов за базовую реализвацию с использованием transformers и 10 баллов за реализацию с использованием [VLLM](https://github.com/vllm-project/vllm).\n",
        "\n",
        "Используйте `unsloth/Llama-3.2-1B-Instruct` для генерации синтетического датасета."
      ],
      "metadata": {
        "id": "6eS61Mooe3Dk"
      }
    },
    {
      "cell_type": "code",
      "source": [
        "def generate_responses_batch(tokenizer, model, messages_list, max_new_tokens=128, temperature=0.8):\n",
        "    input_texts = [\n",
        "        tokenizer.apply_chat_template(\n",
        "            messages,\n",
        "            add_generation_prompt=True,\n",
        "            tokenize=False\n",
        "        )\n",
        "        for messages in messages_list\n",
        "    ]\n",
        "\n",
        "    sampling_params = SamplingParams(\n",
        "        max_tokens=max_new_tokens,\n",
        "        temperature=temperature,\n",
        "        top_p=0.9,\n",
        "        presence_penalty=0.0,\n",
        "    )\n",
        "\n",
        "    outputs = model.generate(\n",
        "        prompts=input_texts,\n",
        "        sampling_params=sampling_params,\n",
        "        use_tqdm=False\n",
        "    )\n",
        "\n",
        "    generated_texts = [\n",
        "        output.outputs[0].text.strip()\n",
        "        for output in outputs\n",
        "    ]\n",
        "\n",
        "    return generated_texts\n"
      ],
      "metadata": {
        "id": "cBI0IgWpiK_Q"
      },
      "execution_count": null,
      "outputs": []
    },
    {
      "cell_type": "code",
      "source": [
        "model_name = \"unsloth/Llama-3.2-1B-Instruct\"\n",
        "\n",
        "device = torch.device('cuda' if torch.cuda.is_available() else 'cpu')\n",
        "assert device == torch.device(\"cuda\")\n",
        "\n",
        "tokenizer = AutoTokenizer.from_pretrained(model_name)\n",
        "\n",
        "model = LLM(\n",
        "    model=model_name,\n",
        "    tensor_parallel_size=1,\n",
        "    trust_remote_code=True,\n",
        "    dtype=\"float32\",\n",
        "    max_seq_len_to_capture=512,\n",
        "    max_model_len=512,\n",
        ")\n"
      ],
      "metadata": {
        "id": "aPo2iifIbOa2"
      },
      "execution_count": null,
      "outputs": []
    },
    {
      "cell_type": "code",
      "source": [
        "assert all(\n",
        "    \"London\" in candidate\n",
        "    for candidate in generate_responses_batch(\n",
        "        tokenizer,\n",
        "        model,\n",
        "        [[{\"role\": \"user\", \"content\": \"What is the capital of Great Britain?\"}]] * 4,\n",
        "  )\n",
        ")"
      ],
      "metadata": {
        "id": "uABq8kFabMTa"
      },
      "execution_count": null,
      "outputs": []
    },
    {
      "cell_type": "markdown",
      "source": [
        "### Генерируем обучающий датасет - 5 баллов"
      ],
      "metadata": {
        "id": "12Vr8mQ7cxoG"
      }
    },
    {
      "cell_type": "markdown",
      "source": [
        "Теперь вам надо написать `MESSAGES_FOR_REGULAR_RESPONSE` и `MESSAGES_FOR_STYLE_RESPONSE`, чтобы по ним генерировались соответствующие chosen и rejected ответы. Можете делать по аналогии с `MESSAGES_FOR_PROMPT_GENERATION`. Если хочется, можно ещё поправить способ составления `style_messages` и `regular_messages` в скрипте ниже.\n",
        "\n",
        "Затем просто вызывайте скрипт генерации датасета, задав batch_size. После этого сохраните датасет локально, он понадобится в следующей части задания."
      ],
      "metadata": {
        "id": "suwMdkbSf1jB"
      }
    },
    {
      "cell_type": "code",
      "source": [
        "data = []\n",
        "batch_size =\n",
        "num_samples = 1000"
      ],
      "metadata": {
        "id": "de9y6aAvc-wr"
      },
      "execution_count": null,
      "outputs": []
    },
    {
      "cell_type": "code",
      "source": [
        "MESSAGES_FOR_PROMPT_GENERATION = [\n",
        "    {\"role\": \"user\", \"content\": \"Write a question on any topic. It should have a short (1-2 sentences) answer.\"},\n",
        "    {\"role\": \"assistant\", \"content\": \"What is the largest planet in our solar system?\"},\n",
        "    {\"role\": \"user\", \"content\": \"Write one more question.\"},\n",
        "    {\"role\": \"assistant\", \"content\": \"Is the Earth round?\"},\n",
        "    {\"role\": \"user\", \"content\": \"Write one more question.\"},\n",
        "]\n",
        "\n",
        "MESSAGES_FOR_REGULAR_RESPONSE = [\n",
        "    {\"role\": \"system\", \"content\": \"You are helpful assistant.\"},\n",
        "]\n",
        "\n",
        "MESSAGES_FOR_STYLE_RESPONSE = [\n",
        "    {\n",
        "        \"role\": \"system\",\n",
        "        \"content\": (\n",
        "            \"You must reply in a style of gen-z. Use their slang, worldview, etc. Example sentence:\"\n",
        "            \" `I'm dead 💀💀 that meme just hit different 🤌 it's low-key my whole mood rn`\"\n",
        "        )\n",
        "    },\n",
        "    {\"role\": \"user\", \"content\": \"Can humans breathe in space?\"},\n",
        "    {\"role\": \"assistant\", \"content\": \"Nah, no air in space at all 🌌💀. You’d need a whole space suit to breathe, or it’s lights out real quick 👩‍🚀💨\"},\n",
        "    {\"role\": \"user\", \"content\": \"Is the Earth round?\"},\n",
        "    {\"role\": \"assistant\", \"content\": \"Big yes, Earth's round 🌍💯 science vibes only\"},\n",
        "]\n"
      ],
      "metadata": {
        "id": "ClP8UFHQdSEq"
      },
      "execution_count": null,
      "outputs": []
    },
    {
      "cell_type": "code",
      "source": [
        "\n",
        "for batch_start in tqdm(range(0, num_samples, batch_size), desc=\"Generating synthetic data\"):\n",
        "    batch_end = min(batch_start + batch_size, num_samples)\n",
        "    current_batch_size = batch_end - batch_start\n",
        "\n",
        "    # Генерируем вопросы\n",
        "    question_messages = [MESSAGES_FOR_PROMPT_GENERATION] * current_batch_size\n",
        "\n",
        "    user_prompts = generate_responses_batch(\n",
        "        tokenizer,\n",
        "        model,\n",
        "        question_messages,\n",
        "        max_new_tokens=64,\n",
        "        temperature=1.0\n",
        "    )\n",
        "\n",
        "    # Немного фильтров\n",
        "    user_prompts = [\n",
        "        prompt[:prompt.index(\"\\n\")] if \"\\n\" in prompt else prompt\n",
        "        for prompt in user_prompts\n",
        "    ]\n",
        "\n",
        "    valid_prompts = [p for p in user_prompts if p]\n",
        "\n",
        "    if not valid_prompts:\n",
        "        continue\n",
        "\n",
        "    # Генерируем ответы, в стиле зумеров\n",
        "    style_messages = [\n",
        "        MESSAGES_FOR_STYLE_RESPONSE + [{\"role\": \"user\", \"content\": prompt}]\n",
        "        for prompt in valid_prompts\n",
        "    ]\n",
        "\n",
        "    style_responses = generate_responses_batch(\n",
        "        tokenizer,\n",
        "        model,\n",
        "        style_messages,\n",
        "        max_new_tokens=128,\n",
        "        temperature=0.7\n",
        "    )\n",
        "\n",
        "    # Генерируем обычные ответы\n",
        "    regular_messages = [\n",
        "        MESSAGES_FOR_REGULAR_RESPONSE + [{\"role\": \"user\", \"content\": prompt}]\n",
        "        for prompt in valid_prompts\n",
        "    ]\n",
        "\n",
        "    regular_responses = generate_responses_batch(\n",
        "        tokenizer,\n",
        "        model,\n",
        "        regular_messages,\n",
        "        max_new_tokens=128,\n",
        "        temperature=0.7\n",
        "    )\n",
        "\n",
        "    # Добавляем в лист\n",
        "    for prompt, style, regular in zip(valid_prompts, style_responses, regular_responses):\n",
        "        data.append({\n",
        "            'prompt': prompt,\n",
        "            'chosen': style,\n",
        "            'rejected': regular,\n",
        "        })\n"
      ],
      "metadata": {
        "colab": {
          "base_uri": "https://localhost:8080/"
        },
        "id": "SEYtFn0O3le2",
        "outputId": "66d27fa1-603c-4259-9c45-2af33c12dc72"
      },
      "execution_count": null,
      "outputs": [
        {
          "output_type": "stream",
          "name": "stderr",
          "text": [
            "Generating synthetic data: 100%|██████████| 125/125 [18:23<00:00,  8.83s/it]\n"
          ]
        }
      ]
    },
    {
      "cell_type": "code",
      "source": [
        "data[0]"
      ],
      "metadata": {
        "colab": {
          "base_uri": "https://localhost:8080/"
        },
        "id": "upfkWaeasAbY",
        "outputId": "f1364534-2b59-4828-9f8a-ddf9cd107596"
      },
      "execution_count": null,
      "outputs": [
        {
          "output_type": "execute_result",
          "data": {
            "text/plain": [
              "{'prompt': 'Which artist painted the famous painting \"The Starry Night\"?',\n",
              " 'chosen': 'U mad at the artist? 🤔 Vincent van Gogh, fam! That painting is straight fire 🌠💫',\n",
              " 'rejected': 'The famous painting \"The Starry Night\" was painted by the Dutch post-impressionist artist Vincent van Gogh.'}"
            ]
          },
          "metadata": {},
          "execution_count": 9
        }
      ]
    },
    {
      "cell_type": "code",
      "source": [
        "import json\n",
        "\n",
        "with open(\"pairs.jsonl\", \"w\") as f:\n",
        "    for el in data:\n",
        "        f.write(json.dumps(el) + \"\\n\")\n"
      ],
      "metadata": {
        "id": "ZRG2Vq3bgo5J"
      },
      "execution_count": null,
      "outputs": []
    },
    {
      "cell_type": "markdown",
      "source": [
        "## Часть 2. Обучаем Reward Model - 20 баллов"
      ],
      "metadata": {
        "id": "g0zACyrsgaI9"
      }
    },
    {
      "cell_type": "markdown",
      "source": [
        "В этой части вы обучите Reward Model на только что сгенериррованном синтетическом датасете.\n",
        "\n",
        "Стоит рестартануть сессию в jupyter notebook, чтобы очистить GPU память с предыдущего шага\n",
        "\n",
        "Ниже реализовано 2 класса:\n",
        "- `RewardDataset` - датасет обертка над нашими парами, который выдает данные в нужно для дообучения ревард модели формате\n",
        "- `RewardModel` - простенькая ревард модель"
      ],
      "metadata": {
        "id": "jgIahL9c5ehQ"
      }
    },
    {
      "cell_type": "code",
      "source": [
        "import torch\n",
        "from torch.utils.data import Dataset, DataLoader\n",
        "from transformers import AutoTokenizer, AutoModel, AdamW\n",
        "import torch.nn as nn\n",
        "\n",
        "from tqdm import tqdm\n",
        "\n",
        "\n",
        "class RewardDataset(Dataset):\n",
        "    def __init__(self, data, tokenizer, max_length=512):\n",
        "        # Сохраняем данные и токенизатор\n",
        "        self.data = data\n",
        "        self.tokenizer = tokenizer\n",
        "        self.max_length = max_length\n",
        "\n",
        "    def __len__(self):\n",
        "        # Возвращаем длину датасета\n",
        "        return len(self.data)\n",
        "\n",
        "    def __getitem__(self, idx):\n",
        "        item = self.data[idx]\n",
        "        prompt = item['prompt']\n",
        "        chosen = item['chosen']\n",
        "        rejected = item['rejected']\n",
        "\n",
        "        # Токенизируем выбранный ответ\n",
        "        chosen_encoding = self.tokenizer(\n",
        "            prompt + \" \" + chosen,\n",
        "            truncation=True,\n",
        "            max_length=self.max_length,\n",
        "            padding='max_length',\n",
        "            return_tensors='pt'\n",
        "        )\n",
        "\n",
        "        # Токенизируем отклоненный ответ\n",
        "        rejected_encoding = self.tokenizer(\n",
        "            prompt + \" \" + rejected,\n",
        "            truncation=True,\n",
        "            max_length=self.max_length,\n",
        "            padding='max_length',\n",
        "            return_tensors='pt'\n",
        "        )\n",
        "\n",
        "        return {\n",
        "            'chosen_input_ids': chosen_encoding['input_ids'].squeeze(),\n",
        "            'chosen_attention_mask': chosen_encoding['attention_mask'].squeeze(),\n",
        "            'rejected_input_ids': rejected_encoding['input_ids'].squeeze(),\n",
        "            'rejected_attention_mask': rejected_encoding['attention_mask'].squeeze()\n",
        "        }\n",
        "\n",
        "\n",
        "class RewardModel(nn.Module):\n",
        "    def __init__(self, model_name):\n",
        "        super(RewardModel, self).__init__()\n",
        "        self.model = AutoModel.from_pretrained(model_name)\n",
        "        self.reward_head = nn.Linear(self.model.config.hidden_size, 1)\n",
        "\n",
        "    def forward(self, input_ids, attention_mask):\n",
        "        outputs = self.model(input_ids=input_ids, attention_mask=attention_mask)\n",
        "        last_hidden_state = outputs.last_hidden_state\n",
        "        cls_hidden_state = last_hidden_state[:, 0, :]\n",
        "        reward = self.reward_head(cls_hidden_state)\n",
        "        return reward"
      ],
      "metadata": {
        "id": "KMYztH2ejVMC"
      },
      "execution_count": null,
      "outputs": []
    },
    {
      "cell_type": "markdown",
      "source": [
        "Дальше считывается с диска датасет, инициализируются нужные для обучения классы.\n",
        "\n",
        "А потом в цикле вам нужно реализовать само обучение по формуле с лекции\n",
        "\n",
        "![image.png](data:image/png;base64,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)"
      ],
      "metadata": {
        "id": "cfyFAaip6LmK"
      }
    },
    {
      "cell_type": "code",
      "source": [
        "import json\n",
        "\n",
        "with open(\"pairs.jsonl\", \"r\") as f:\n",
        "    data = [json.loads(line) for line in f]"
      ],
      "metadata": {
        "id": "31N56Bndr9mu"
      },
      "execution_count": null,
      "outputs": []
    },
    {
      "cell_type": "code",
      "source": [
        "epochs = 2\n",
        "batch_size = 16\n",
        "learning_rate = 3e-4\n",
        "device = torch.device('cuda')"
      ],
      "metadata": {
        "id": "OKnOvRNssS4g"
      },
      "execution_count": null,
      "outputs": []
    },
    {
      "cell_type": "code",
      "source": [
        "model = RewardModel(\"bert-base-uncased\")\n",
        "tokenizer = AutoTokenizer.from_pretrained(\"bert-base-uncased\")\n",
        "\n",
        "dataloader = DataLoader(RewardDataset(data, tokenizer), batch_size=batch_size, shuffle=True)\n",
        "\n",
        "optimizer = AdamW(model.parameters(), lr=learning_rate)\n",
        "model.to(device);"
      ],
      "metadata": {
        "id": "FANj4pKUsTh4"
      },
      "execution_count": null,
      "outputs": []
    },
    {
      "cell_type": "markdown",
      "source": [
        "### Реализуйте функцию потерь. Тесты должы пройти - 7 баллов"
      ],
      "metadata": {
        "id": "cxdmAUzGVRqi"
      }
    },
    {
      "cell_type": "code",
      "source": [
        "def calc_loss(chosen_reward, rejected_reward):\n",
        "    # chosen_reward: (batch_size, 1)\n",
        "    # rejected_reward: (batch_size, 1)\n",
        "    return -torch.mean(torch.log(torch.sigmoid(chosen_reward - rejected_reward)))\n"
      ],
      "metadata": {
        "id": "F7Y8TWbCSjYa"
      },
      "execution_count": null,
      "outputs": []
    },
    {
      "cell_type": "code",
      "source": [
        "assert abs(calc_loss(torch.Tensor([[1], [2]]), torch.Tensor([[0], [1]])) - 0.3133) < 1e-3\n",
        "assert abs(calc_loss(torch.Tensor([[-5], [4]]), torch.Tensor([[2], [-13]])) - 3.5005) < 1e-3"
      ],
      "metadata": {
        "id": "39th9iDWTFw8"
      },
      "execution_count": null,
      "outputs": []
    },
    {
      "cell_type": "markdown",
      "source": [
        "### Реализуйте обучающий цикл, обучите модель и прогоните тесты - 8 баллов"
      ],
      "metadata": {
        "id": "X2uwdTbaVVud"
      }
    },
    {
      "cell_type": "code",
      "source": [
        "for epoch in range(epochs):\n",
        "    model.train()\n",
        "    track_loss = None\n",
        "\n",
        "    for batch in tqdm(dataloader):\n",
        "        chosen_input_ids = batch['chosen_input_ids'].to(device)\n",
        "        chosen_attention_mask = batch['chosen_attention_mask'].to(device)\n",
        "        rejected_input_ids = batch['rejected_input_ids'].to(device)\n",
        "        rejected_attention_mask = batch['rejected_attention_mask'].to(device)\n",
        "\n",
        "        loss = calc_loss(\n",
        "            model(chosen_input_ids, chosen_attention_mask),\n",
        "            model(rejected_input_ids, rejected_attention_mask)\n",
        "        )\n",
        "\n",
        "        optimizer.zero_grad()\n",
        "        loss.backward()\n",
        "        optimizer.step()\n",
        "\n",
        "        # Накопление потерь\n",
        "        if track_loss is None:\n",
        "            track_loss = loss.item()\n",
        "        else:\n",
        "            track_loss = 0.9 * track_loss + 0.1 * loss.item()\n",
        "        print(f\"Epoch {epoch + 1}, loss: {track_loss}\")\n"
      ],
      "metadata": {
        "id": "Lt0jTzSegZ51"
      },
      "execution_count": null,
      "outputs": []
    },
    {
      "cell_type": "markdown",
      "source": [
        "### Тесты"
      ],
      "metadata": {
        "id": "8U8ZGLNQtfoY"
      }
    },
    {
      "cell_type": "code",
      "source": [
        "def assert_comparison(chosen_text, rejected_text, model, tokenizer, max_length=512):\n",
        "    encoding1 = tokenizer(\n",
        "        chosen_text,\n",
        "        truncation=True,\n",
        "        max_length=max_length,\n",
        "        padding='max_length',\n",
        "        return_tensors='pt'\n",
        "    )\n",
        "\n",
        "    encoding2 = tokenizer(\n",
        "        rejected_text,\n",
        "        truncation=True,\n",
        "        max_length=max_length,\n",
        "        padding='max_length',\n",
        "        return_tensors='pt'\n",
        "    )\n",
        "\n",
        "\n",
        "    model.to(device)\n",
        "    input_ids1 = encoding1['input_ids'].to(device)\n",
        "    attention_mask1 = encoding1['attention_mask'].to(device)\n",
        "    input_ids2 = encoding2['input_ids'].to(device)\n",
        "    attention_mask2 = encoding2['attention_mask'].to(device)\n",
        "\n",
        "    with torch.no_grad():\n",
        "        reward1 = model(input_ids1, attention_mask1)\n",
        "        reward2 = model(input_ids2, attention_mask2)\n",
        "\n",
        "    score1 = reward1.item()\n",
        "    score2 = reward2.item()\n",
        "\n",
        "    assert score1 > score2, f\"{score1}, {score2}\""
      ],
      "metadata": {
        "id": "MJbXTdbzsqh_"
      },
      "execution_count": null,
      "outputs": []
    },
    {
      "cell_type": "code",
      "source": [
        "TEST_CASES = [\n",
        "    {\n",
        "        \"prompt\": \"Why do cats always knock stuff off tables?\",\n",
        "        \"chosen\": \"Honestly, cats just be on their own vibe 😹 they knockin' stuff just ‘cause they can. Pure chaotic energy 💥💯\",\n",
        "        \"rejected\": \"Cats often knock objects off tables due to their natural curiosity, playfulness, and sometimes as a way to get attention from their owners. It can also be an instinctual behavior linked to their hunting skills.\"\n",
        "    },\n",
        "    {\n",
        "        \"prompt\": \"Why do avocados turn brown so fast?\",\n",
        "        \"chosen\": \"Avocados be on a timer ⏲️, like they just can’t chill 🥑💀. You blink, and they’re already brown, no cap.\",\n",
        "        \"rejected\": \"Avocados turn brown quickly because of oxidation, a process where exposure to air causes the flesh to react and change color. You can slow it down by adding lemon juice or covering it tightly.\"\n",
        "    },\n",
        "    {\n",
        "        \"prompt\": \"Why do some songs get stuck in your head?\",\n",
        "        \"chosen\": \"Some songs just hit different 🎶💀, they loop in your brain on repeat like it’s free rent 🧠🔥.\",\n",
        "        \"rejected\": \"Songs often get stuck in your head due to a phenomenon called 'earworms.' This happens because certain melodies or lyrics are catchy and repetitive, making them easy for your brain to recall involuntarily.\"\n",
        "    },\n",
        "\n",
        "    {\n",
        "        \"prompt\": \"Why do people love coffee so much?\",\n",
        "        \"chosen\": \"Bruh, coffee is basically liquid energy 🔋☕. Like, one sip and it’s like you’re powered up for the day, ready to take on anything 💯. It just hits different—especially when you’re running on zero sleep 💤. Plus, let’s be real, coffee shops are basically the spot for chillin’, studying, or just feeling like you got your life together 😎📚.\",\n",
        "        \"rejected\": \"People enjoy coffee due to its caffeine content, which provides an energy boost. The taste, aroma, and social aspect of coffee also contribute to its popularity.\"\n",
        "    }\n",
        "]\n",
        "\n",
        "\n",
        "for test_case in TEST_CASES:\n",
        "    assert_comparison(\n",
        "        test_case['prompt'] + \" \" + test_case['chosen'],\n",
        "        test_case['prompt'] + \" \" + test_case['rejected'],\n",
        "        model,\n",
        "        tokenizer,\n",
        "    )"
      ],
      "metadata": {
        "id": "iX90T8hftch4"
      },
      "execution_count": null,
      "outputs": []
    },
    {
      "cell_type": "markdown",
      "source": [
        "## Часть 3. DPO loss - 15 баллов"
      ],
      "metadata": {
        "id": "WIWLRgGYiivX"
      }
    },
    {
      "cell_type": "markdown",
      "source": [
        "В этой части вам нужно реализовать 2 важных функции в DPO дообучении.\n",
        "\n",
        "- [7 баллов] `get_log_probs` - возвращает среднюю лог-ввероятность текста по всем токенам\n",
        "- [8 баллов] `dpo_loss` - считает DPO лосс и accuracy события, что награда chosen текста выше награды rejected текста"
      ],
      "metadata": {
        "id": "S3PnpTaMWVqF"
      }
    },
    {
      "cell_type": "code",
      "source": [
        "import torch\n",
        "import torch.nn.functional as F\n",
        "\n",
        "\n",
        "def get_log_prob(logits: torch.Tensor, labels: torch.Tensor) -> torch.Tensor:\n",
        "    # logits: (batch_size, seq_len, vocab_size)\n",
        "    # labels: (batch_size, seq_len)\n",
        "    # returns (batch_size)\n",
        "\n",
        "    log_probs = F.log_softmax(logits, dim=-1)\n",
        "    return torch.gather(log_probs, -1, labels.unsqueeze(-1)).squeeze(-1).mean(-1)\n"
      ],
      "metadata": {
        "id": "AanG3bcijDF1"
      },
      "execution_count": 1,
      "outputs": []
    },
    {
      "cell_type": "markdown",
      "source": [
        "### Тесты"
      ],
      "metadata": {
        "id": "-x-fBIQX_Ds3"
      }
    },
    {
      "cell_type": "code",
      "source": [
        "assert torch.allclose(\n",
        "  torch.Tensor([-1.3708, -2.0023]), get_log_prob(\n",
        "    torch.Tensor([[[-2.7054,  0.0867,  0.1686,  0.1584],\n",
        "         [-0.9548, -0.4562, -0.2700, -0.0865],\n",
        "         [ 0.3822,  0.8500, -0.8196,  0.1957],\n",
        "         [ 0.8570,  1.0611,  0.4546,  0.8677]],\n",
        "\n",
        "        [[-0.2468, -1.3499, -0.0137,  1.0448],\n",
        "         [-0.3271,  1.0209, -1.4851,  0.2751],\n",
        "         [-0.0643, -0.3057,  1.4396,  0.2432],\n",
        "         [-0.2092,  1.2529, -0.7603, -0.4862]]]),\n",
        "      torch.LongTensor([[1, 1, 3, 0],\n",
        "        [1, 1, 0, 2]])\n",
        "      ),\n",
        "    rtol=1e-4\n",
        ")\n",
        "\n",
        "\n",
        "assert torch.allclose(\n",
        "  torch.Tensor([-1.4632]), get_log_prob(\n",
        "    torch.Tensor([[[ 0.2743,  0.9203,  0.0347,  0.5378],\n",
        "         [-0.1536, -0.2817, -0.7711,  0.0901],\n",
        "         [ 2.0664,  0.8373,  1.3288,  1.2660],\n",
        "         [-0.2940, -1.0327,  1.3188,  0.8796]]]),\n",
        "      torch.LongTensor([[3, 1, 0, 0]])\n",
        "      ),\n",
        "    rtol=1e-4\n",
        ")"
      ],
      "metadata": {
        "id": "Vo-ShZ0s_Eq0"
      },
      "execution_count": null,
      "outputs": []
    },
    {
      "cell_type": "code",
      "source": [
        "def dpo_loss(\n",
        "    model_chosen_logprob: torch.Tensor,\n",
        "    model_rejected_logprob: torch.Tensor,\n",
        "    ref_chosen_logprob: torch.Tensor,\n",
        "    ref_rejected_logprob: torch.Tensor,\n",
        "    beta: float = 0.1\n",
        "):\n",
        "    chosen_relative_logprob = model_chosen_logprob - ref_chosen_logprob\n",
        "    rejected_relative_logprob = model_rejected_logprob - ref_rejected_logprob\n",
        "\n",
        "    reward_accuracies = (chosen_relative_logprob > rejected_relative_logprob).float().mean(dim=-1)\n",
        "\n",
        "    loss = -F.logsigmoid(beta * (chosen_relative_logprob - rejected_relative_logprob)).mean(dim=-1)\n",
        "\n",
        "    return loss, reward_accuracies\n"
      ],
      "metadata": {
        "id": "rgPQn7nBWS-J"
      },
      "execution_count": null,
      "outputs": []
    },
    {
      "cell_type": "code",
      "source": [
        "actual_output = dpo_loss(\n",
        "    torch.Tensor([-1.0]),\n",
        "    torch.Tensor([-3.0]),\n",
        "    torch.Tensor([-5.0]),\n",
        "    torch.Tensor([-6.0]),\n",
        ")\n",
        "\n",
        "assert abs(actual_output[0].item() - 0.6444) < 1e-4\n",
        "assert abs(actual_output[1].item() - 1.0) < 1e-4"
      ],
      "metadata": {
        "id": "VCGU_LgZAOzy"
      },
      "execution_count": null,
      "outputs": []
    },
    {
      "cell_type": "code",
      "source": [
        "actual_output = dpo_loss(\n",
        "    torch.Tensor([-12, -2]),\n",
        "    torch.Tensor([-1, 4]),\n",
        "    torch.Tensor([-5, 8]),\n",
        "    torch.Tensor([-4, 2]),\n",
        ")\n",
        "\n",
        "assert abs(actual_output[0].item() - 1.3883) < 1e-4\n",
        "assert abs(actual_output[1].item() - 0) < 1e-4"
      ],
      "metadata": {
        "id": "FRd-f_K-B3QJ"
      },
      "execution_count": null,
      "outputs": []
    }
  ]
}